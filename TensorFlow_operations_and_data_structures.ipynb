{
  "nbformat": 4,
  "nbformat_minor": 0,
  "metadata": {
    "colab": {
      "name": "TensorFlow operations and data structures.ipynb",
      "provenance": [],
      "collapsed_sections": [],
      "toc_visible": true,
      "authorship_tag": "ABX9TyNLNBg+MlGc2BBsRKVKflbl",
      "include_colab_link": true
    },
    "kernelspec": {
      "name": "python3",
      "display_name": "Python 3"
    }
  },
  "cells": [
    {
      "cell_type": "markdown",
      "metadata": {
        "id": "view-in-github",
        "colab_type": "text"
      },
      "source": [
        "<a href=\"https://colab.research.google.com/github/victorviro/Deep_learning_python/blob/master/TensorFlow_operations_and_data_structures.ipynb\" target=\"_parent\"><img src=\"https://colab.research.google.com/assets/colab-badge.svg\" alt=\"Open In Colab\"/></a>"
      ]
    },
    {
      "cell_type": "markdown",
      "metadata": {
        "id": "TLU4qT7udlOw",
        "colab_type": "text"
      },
      "source": [
        "## Introduction to TensorFlow"
      ]
    },
    {
      "cell_type": "markdown",
      "metadata": {
        "id": "JKTAB5DkeVuh",
        "colab_type": "text"
      },
      "source": [
        "TensorFlow is a powerful library for numerical computation, particularly well suited for large-scale Machine Learning. It was developed by the Google Brain team. It was open sourced in November 2015, and it is now the most popular deep learning library (in terms of citations in papers, adoption in companies, stars on github, etc.): countless projects use TensorFlow for all sorts of Machine Learning tasks, such as image classification, natural language\n",
        "processing (NLP), recommender systems, time series forecasting, and much more.\n",
        "\n",
        "So what does TensorFlow actually offer? Here’s a summary:\n",
        "\n",
        "- Its core is very similar to NumPy, but with GPU support.\n",
        "- It also supports distributed computing (across multiple devices and servers).\n",
        "- It includes a kind of just-in-time (JIT) compiler that allows it to optimize computations for speed and memory usage: it works by extracting the computation graph from a Python function, then optimizing it (e.g., by pruning unused nodes) and finally running it efficiently (e.g., by automatically running independent operations in parallel).\n",
        "- Computation graphs can be exported to a portable format, so you can train a TensorFlow model in one environment (e.g., using Python on Linux), and run it in another (e.g., using Java on an Android device).\n",
        "- It implements [autodiff](https://github.com/victorviro/Deep_learning_python/blob/master/TensorFlow%E2%80%99s_autodifferentiation.ipynb), and provides some excellent optimizers, such as RMSProp, Nadam and FTRL (notebook [optimizers](https://github.com/victorviro/Deep_learning_python/blob/master/Faster_optimizers_DNNs.ipynb)), so you can easily minimize all sorts of loss functions.\n",
        "- TensorFlow offers many more features, built on top of these core features: the most important is of course `tf.keras`, but it also has data loading & preprocessing operations (`tf.data`, `tf.io`, etc.), image processing operations (`tf.image`), signal processing operations (`tf.signal`), and more (see Figure 12-1 for an overview of TensorFlow’s Python API).\n",
        "\n",
        "![texto alternativo](https://i.ibb.co/Rv2CgRN/tensorfloe-api.png)"
      ]
    },
    {
      "cell_type": "markdown",
      "metadata": {
        "id": "1w7-E9CygNzY",
        "colab_type": "text"
      },
      "source": [
        "At the lowest level, each TensorFlow operation is implemented using efficient\n",
        "C++ code . Many operations have multiple implementations, called *kernels*: each kernel is dedicated to a specific device type, such as CPUs, GPUs, or\n",
        "even TPUs (*Tensor Processing Units*). As you may know, GPUs can dramatically speed up computations by splitting computations into many smaller chunks and running them in parallel across many GPU threads. TPUs are even faster.\n",
        "\n",
        "TensorFlow’s architecture is shown in Figure 12-2: most of the time your code will use the high level APIs (especially tf.keras and tf.data), but when you need more flexibility you will use the lower level Python API, handling tensors directly. In any case, TensorFlow’s execution engine will take care of running the operations efficiently, even across multiple devices and machines if you tell it to.\n",
        "\n",
        "![texto alternativo](https://i.ibb.co/vv6Cc3z/tensorflow-arquitecture.png)"
      ]
    },
    {
      "cell_type": "markdown",
      "metadata": {
        "id": "1ktVLw0hg74K",
        "colab_type": "text"
      },
      "source": [
        "TensorFlow can runs on Windows, Linux, and MacOS, but also on mobile devi‐\n",
        "ces (using *TensorFlow Lite*), including both iOS and Android. If you do not want to use the Python API, there are also C++, Java, Go and Swift APIs. There is even a Javascript implementation called *TensorFlow.js* that makes it possible to run your models directly in your browser.\n",
        "\n",
        "TensorFlow is more than just a library. TensorFlow is at the center of an\n",
        "extensive ecosystem of libraries. First, there’s TensorBoard for visualization . Next, there’s TensorFlow Extended ([TFX](https://www.tensorflow.org/tfx)), which is a set of libraries built by Google to productionize TensorFlow projects: it includes tools for data validation, preprocessing, model analysis and serving. Google also launched [*TensorFlow Hub*](https://tfhub.dev/), a way to easily download and reuse pretrained neural networks. You can also get many neural network architectures, some of them pretrained, in [TensorFlow’s model garden](https://github.com/tensorflow/models). You will find hundreds of TensorFlow projects on GitHub, so it is often easy to find existing code for whatever you are trying to do.\n",
        "\n",
        "Last but not least, TensorFlow has a dedicated team of passionate and helpful developers, and a large community contributing to improving it. To ask technical questions, you should use [stackoverflow](http://stackoverflow.com/)."
      ]
    },
    {
      "cell_type": "markdown",
      "metadata": {
        "id": "x9Lv4JsOjFwj",
        "colab_type": "text"
      },
      "source": [
        "TensorFlow’s API revolves around *tensors*, hence the name TensorFlow. A tensor is usually a multidimensional array (exactly like a NumPy `ndarray`), but it can also hold a scalar (a simple value, such as 42). These tensors will be important when we create custom cost functions, custom metrics, custom layers and more, so let’s see how to create and manipulate them."
      ]
    },
    {
      "cell_type": "markdown",
      "metadata": {
        "id": "2qf74qAGjTPi",
        "colab_type": "text"
      },
      "source": [
        "### Tensors and Operations"
      ]
    },
    {
      "cell_type": "markdown",
      "metadata": {
        "id": "HkFWk0WBjX23",
        "colab_type": "text"
      },
      "source": [
        "You can easily create a tensor, using `tf.constant()`. For example, here is a tensor representing a matrix with two rows and three columns of floats:"
      ]
    },
    {
      "cell_type": "code",
      "metadata": {
        "id": "U15R3YGKje3Y",
        "colab_type": "code",
        "colab": {
          "base_uri": "https://localhost:8080/",
          "height": 72
        },
        "outputId": "3dedca91-c303-4078-99b5-28e9a97621f7"
      },
      "source": [
        "import tensorflow as tf\n",
        "tf.constant([[1., 2., 3.], [4., 5., 6.]]) # matrix"
      ],
      "execution_count": 1,
      "outputs": [
        {
          "output_type": "execute_result",
          "data": {
            "text/plain": [
              "<tf.Tensor: shape=(2, 3), dtype=float32, numpy=\n",
              "array([[1., 2., 3.],\n",
              "       [4., 5., 6.]], dtype=float32)>"
            ]
          },
          "metadata": {
            "tags": []
          },
          "execution_count": 1
        }
      ]
    },
    {
      "cell_type": "code",
      "metadata": {
        "id": "u-tAwvmXjtjy",
        "colab_type": "code",
        "colab": {
          "base_uri": "https://localhost:8080/",
          "height": 35
        },
        "outputId": "1415b6e2-490c-47c6-a6b7-aa2ffc740813"
      },
      "source": [
        "tf.constant(42) # scalar"
      ],
      "execution_count": 2,
      "outputs": [
        {
          "output_type": "execute_result",
          "data": {
            "text/plain": [
              "<tf.Tensor: shape=(), dtype=int32, numpy=42>"
            ]
          },
          "metadata": {
            "tags": []
          },
          "execution_count": 2
        }
      ]
    },
    {
      "cell_type": "markdown",
      "metadata": {
        "id": "6WQU-HwRjzfP",
        "colab_type": "text"
      },
      "source": [
        "Just like an ndarray, a `tf.Tensor` has a shape and a data type (`dtype`):"
      ]
    },
    {
      "cell_type": "code",
      "metadata": {
        "id": "_Oh39ZMYj7O0",
        "colab_type": "code",
        "colab": {
          "base_uri": "https://localhost:8080/",
          "height": 54
        },
        "outputId": "fe579f25-1f32-4f88-f417-21c62a70d168"
      },
      "source": [
        "t = tf.constant([[1., 2., 3.], [4., 5., 6.]])\n",
        "print(t.shape)\n",
        "print(t.dtype)"
      ],
      "execution_count": 3,
      "outputs": [
        {
          "output_type": "stream",
          "text": [
            "(2, 3)\n",
            "<dtype: 'float32'>\n"
          ],
          "name": "stdout"
        }
      ]
    },
    {
      "cell_type": "markdown",
      "metadata": {
        "id": "IaVI7G2-kGb1",
        "colab_type": "text"
      },
      "source": [
        "Indexing works like in NumPy:"
      ]
    },
    {
      "cell_type": "code",
      "metadata": {
        "id": "t7tHRKtYkNFt",
        "colab_type": "code",
        "colab": {
          "base_uri": "https://localhost:8080/",
          "height": 72
        },
        "outputId": "249b1a84-d9fb-44ac-efaa-d77ad24c49f5"
      },
      "source": [
        "t[:, 1:]"
      ],
      "execution_count": 4,
      "outputs": [
        {
          "output_type": "execute_result",
          "data": {
            "text/plain": [
              "<tf.Tensor: shape=(2, 2), dtype=float32, numpy=\n",
              "array([[2., 3.],\n",
              "       [5., 6.]], dtype=float32)>"
            ]
          },
          "metadata": {
            "tags": []
          },
          "execution_count": 4
        }
      ]
    },
    {
      "cell_type": "code",
      "metadata": {
        "id": "If4oIICpkZ-v",
        "colab_type": "code",
        "colab": {
          "base_uri": "https://localhost:8080/",
          "height": 72
        },
        "outputId": "c62a0f24-bf83-4901-fe0b-6641a8495ddd"
      },
      "source": [
        "t[..., 1, tf.newaxis]"
      ],
      "execution_count": 5,
      "outputs": [
        {
          "output_type": "execute_result",
          "data": {
            "text/plain": [
              "<tf.Tensor: shape=(2, 1), dtype=float32, numpy=\n",
              "array([[2.],\n",
              "       [5.]], dtype=float32)>"
            ]
          },
          "metadata": {
            "tags": []
          },
          "execution_count": 5
        }
      ]
    },
    {
      "cell_type": "markdown",
      "metadata": {
        "id": "hwOsqsWCk3Gq",
        "colab_type": "text"
      },
      "source": [
        "All sorts of tensor operations are available:"
      ]
    },
    {
      "cell_type": "code",
      "metadata": {
        "id": "jWdqGD4PkpqZ",
        "colab_type": "code",
        "colab": {
          "base_uri": "https://localhost:8080/",
          "height": 199
        },
        "outputId": "036c0cf5-c994-4a98-82f2-6fa70ee260a3"
      },
      "source": [
        "print(t + 10)\n",
        "print(tf.square(t))\n",
        "print(tf.transpose(t))"
      ],
      "execution_count": 6,
      "outputs": [
        {
          "output_type": "stream",
          "text": [
            "tf.Tensor(\n",
            "[[11. 12. 13.]\n",
            " [14. 15. 16.]], shape=(2, 3), dtype=float32)\n",
            "tf.Tensor(\n",
            "[[ 1.  4.  9.]\n",
            " [16. 25. 36.]], shape=(2, 3), dtype=float32)\n",
            "tf.Tensor(\n",
            "[[1. 4.]\n",
            " [2. 5.]\n",
            " [3. 6.]], shape=(3, 2), dtype=float32)\n"
          ],
          "name": "stdout"
        }
      ]
    },
    {
      "cell_type": "markdown",
      "metadata": {
        "id": "nTSiiw6jdlMT",
        "colab_type": "text"
      },
      "source": [
        "Note that writing `t + 10` is equivalent to calling `tf.add(t, 10)`. Other operators (like - , * , etc.) are also supported. The `@` operator was added in Python 3.5, for matrix multiplication: it is equivalent to calling the `tf.matmul()` function.\n",
        "\n",
        "\n",
        "You will find all the basic math operations you need (e.g., `tf.add()` , `tf.multiply()` , `tf.square()`, `tf.exp()` , `tf.sqrt()`...), and more generally most operations that you can find in NumPy (e.g., `tf.reshape()`, `tf.squeeze()`, `tf.tile()`), but sometimes with a different name (e.g., `tf.reduce_mean()`, `tf.reduce_sum()`, `tf.reduce_max()`, `tf.math.log()` are the equivalent of `np.mean()`, `np.sum()`, `np.max()` and `np.log()`). When the name differs, there is often a reason for it: for example, in TensorFlow you must write `tf.transpose(t)`, you cannot just write `t.T` like in NumPy. The reason is that it does not do exactly the same thing: in TensorFlow, a new tensor is created with its own copy of the transposed data, while in NumPy, `t.T` is just a transposed view on the same data. Similarly, the `tf.reduce_sum()` operation is named this\n",
        "way because its GPU kernel (i.e., GPU implementation) uses a reduce algorithm that does not guarantee the order in which the elements are added: because 32-bit floats have limited precision, this means that the result may change ever so slightly every time you call this operation. The same is true of `tf.reduce_mean()` (but of course `tf.reduce_max()` is deterministic).\n",
        "\n",
        "**Note**: The Keras API actually has its own low-level API. However, they only cover a subset of all functions available in TensorFlow."
      ]
    },
    {
      "cell_type": "markdown",
      "metadata": {
        "id": "yj66kCzcnPPv",
        "colab_type": "text"
      },
      "source": [
        "### Tensors and NumPy"
      ]
    },
    {
      "cell_type": "markdown",
      "metadata": {
        "id": "JzoGHQH-nT_y",
        "colab_type": "text"
      },
      "source": [
        "Tensors play nice with NumPy: you can create a tensor from a NumPy array, and viceversa, and you can even apply TensorFlow operations to NumPy arrays and NumPy operations to tensors:"
      ]
    },
    {
      "cell_type": "code",
      "metadata": {
        "id": "pq-yfKLFnZ-5",
        "colab_type": "code",
        "colab": {
          "base_uri": "https://localhost:8080/",
          "height": 54
        },
        "outputId": "c704eea4-6357-4558-e432-de7eb7660e08"
      },
      "source": [
        "import numpy as np\n",
        "a = np.array([2., 4., 5.])\n",
        "print(tf.constant(a))\n",
        "print(tf.square(a))"
      ],
      "execution_count": 7,
      "outputs": [
        {
          "output_type": "stream",
          "text": [
            "tf.Tensor([2. 4. 5.], shape=(3,), dtype=float64)\n",
            "tf.Tensor([ 4. 16. 25.], shape=(3,), dtype=float64)\n"
          ],
          "name": "stdout"
        }
      ]
    },
    {
      "cell_type": "code",
      "metadata": {
        "id": "qBwPwpZhnwdA",
        "colab_type": "code",
        "colab": {
          "base_uri": "https://localhost:8080/",
          "height": 90
        },
        "outputId": "b9f67b98-3ef0-4f08-8afd-19608d6f55f3"
      },
      "source": [
        "print(np.array(t))\n",
        "print(np.square(t))"
      ],
      "execution_count": 8,
      "outputs": [
        {
          "output_type": "stream",
          "text": [
            "[[1. 2. 3.]\n",
            " [4. 5. 6.]]\n",
            "[[ 1.  4.  9.]\n",
            " [16. 25. 36.]]\n"
          ],
          "name": "stdout"
        }
      ]
    },
    {
      "cell_type": "markdown",
      "metadata": {
        "id": "hPbSY0gfn4Og",
        "colab_type": "text"
      },
      "source": [
        "**Note**: Notice that NumPy uses 64-bit precision by default, while TensorFlow uses 32-bit. This is because 32-bit precision is generally more than enough for neural networks, plus it runs faster and uses less RAM. So when you create a tensor from a NumPy array, make sure to set `dtype=tf.float32`."
      ]
    },
    {
      "cell_type": "markdown",
      "metadata": {
        "id": "fYW0AR0RoJEl",
        "colab_type": "text"
      },
      "source": [
        "### Type Conversions"
      ]
    },
    {
      "cell_type": "markdown",
      "metadata": {
        "id": "tDy824QLoNeR",
        "colab_type": "text"
      },
      "source": [
        "Type conversions can significantly hurt performance. TensorFlow does not perform any type conversions automatically: it just raises an error if you try to execute an operation on tensors with incompatible types. For example, you cannot add a float tensor and an integer tensor, and you cannot even add a 32-bit float and a 64-bit float:"
      ]
    },
    {
      "cell_type": "code",
      "metadata": {
        "id": "u1tRGcjGmaOb",
        "colab_type": "code",
        "colab": {
          "base_uri": "https://localhost:8080/",
          "height": 35
        },
        "outputId": "61ddce06-5f10-48ce-82a4-bf35ea0bfe71"
      },
      "source": [
        "try:\n",
        "    tf.constant(2.0) + tf.constant(40)\n",
        "except tf.errors.InvalidArgumentError as ex:\n",
        "    print(ex)"
      ],
      "execution_count": 9,
      "outputs": [
        {
          "output_type": "stream",
          "text": [
            "cannot compute AddV2 as input #1(zero-based) was expected to be a float tensor but is a int32 tensor [Op:AddV2]\n"
          ],
          "name": "stdout"
        }
      ]
    },
    {
      "cell_type": "code",
      "metadata": {
        "id": "YxrQq1FlobQ1",
        "colab_type": "code",
        "colab": {
          "base_uri": "https://localhost:8080/",
          "height": 35
        },
        "outputId": "4af40743-c221-43e0-8c41-f47e693bc346"
      },
      "source": [
        "try:\n",
        "    tf.constant(2.0) + tf.constant(40., dtype=tf.float64)\n",
        "except tf.errors.InvalidArgumentError as ex:\n",
        "    print(ex)"
      ],
      "execution_count": 10,
      "outputs": [
        {
          "output_type": "stream",
          "text": [
            "cannot compute AddV2 as input #1(zero-based) was expected to be a float tensor but is a double tensor [Op:AddV2]\n"
          ],
          "name": "stdout"
        }
      ]
    },
    {
      "cell_type": "markdown",
      "metadata": {
        "id": "FCUqrw6Sot0U",
        "colab_type": "text"
      },
      "source": [
        "This may be a bit annoying at first, but remember that it’s for a good cause! And of course you can use `tf.cast()` when you really need to convert types:"
      ]
    },
    {
      "cell_type": "code",
      "metadata": {
        "id": "bYfdFb09o5l5",
        "colab_type": "code",
        "colab": {
          "base_uri": "https://localhost:8080/",
          "height": 35
        },
        "outputId": "74aeb016-9f44-468f-c3af-e4e145ba701d"
      },
      "source": [
        "t2 = tf.constant(40., dtype=tf.float64)\n",
        "tf.constant(2.0) + tf.cast(t2, tf.float32)"
      ],
      "execution_count": 11,
      "outputs": [
        {
          "output_type": "execute_result",
          "data": {
            "text/plain": [
              "<tf.Tensor: shape=(), dtype=float32, numpy=42.0>"
            ]
          },
          "metadata": {
            "tags": []
          },
          "execution_count": 11
        }
      ]
    },
    {
      "cell_type": "markdown",
      "metadata": {
        "id": "ywDfVeSqo_Bu",
        "colab_type": "text"
      },
      "source": [
        "### Variables"
      ]
    },
    {
      "cell_type": "markdown",
      "metadata": {
        "id": "nsO3o3fnpAI-",
        "colab_type": "text"
      },
      "source": [
        "So far, we have used constant tensors: as their name suggests, you cannot modify\n",
        "them. However, the weights in a neural network need to be tweaked by backpropagation, and other parameters may also need to change over time (e.g., a momentum optimizer keeps track of past gradients). What we need is a `tf.Variable`:"
      ]
    },
    {
      "cell_type": "code",
      "metadata": {
        "id": "XQnVSRQMpMlU",
        "colab_type": "code",
        "colab": {
          "base_uri": "https://localhost:8080/",
          "height": 72
        },
        "outputId": "f70220c5-d84a-4b76-def9-d64fcd3c5af5"
      },
      "source": [
        "v = tf.Variable([[1., 2., 3.], [4., 5., 6.]])\n",
        "v"
      ],
      "execution_count": 12,
      "outputs": [
        {
          "output_type": "execute_result",
          "data": {
            "text/plain": [
              "<tf.Variable 'Variable:0' shape=(2, 3) dtype=float32, numpy=\n",
              "array([[1., 2., 3.],\n",
              "       [4., 5., 6.]], dtype=float32)>"
            ]
          },
          "metadata": {
            "tags": []
          },
          "execution_count": 12
        }
      ]
    },
    {
      "cell_type": "markdown",
      "metadata": {
        "id": "6mkEqvqfdlJV",
        "colab_type": "text"
      },
      "source": [
        "A `tf.Variable` acts much like a constant tensor: you can perform the same operations with it, it plays nicely with NumPy as well. But it can also be modified in place using the `assign()` method (or `assign_add()` or `assign_sub()` which increment or decrement the variable by the given value). You\n",
        "can also modify individual cells (or slices), using the cell’s (or slice’s) `assign()` method (direct item assignment will not work), or using the `scatter_update()` or `scatter_nd_update()` methods:"
      ]
    },
    {
      "cell_type": "code",
      "metadata": {
        "id": "PnQTDYs76_jo",
        "colab_type": "code",
        "colab": {
          "base_uri": "https://localhost:8080/",
          "height": 235
        },
        "outputId": "1f17f817-8bf0-47e6-c4af-8ab6996f757f"
      },
      "source": [
        "print(v.assign(2 * v))\n",
        "print(v[0, 1].assign(42))\n",
        "print(v[:, 2].assign([0., 1.]))\n",
        "print(v.scatter_nd_update(indices=[[0, 0], [1, 2]], updates=[100., 200.]))"
      ],
      "execution_count": 13,
      "outputs": [
        {
          "output_type": "stream",
          "text": [
            "<tf.Variable 'UnreadVariable' shape=(2, 3) dtype=float32, numpy=\n",
            "array([[ 2.,  4.,  6.],\n",
            "       [ 8., 10., 12.]], dtype=float32)>\n",
            "<tf.Variable 'UnreadVariable' shape=(2, 3) dtype=float32, numpy=\n",
            "array([[ 2., 42.,  6.],\n",
            "       [ 8., 10., 12.]], dtype=float32)>\n",
            "<tf.Variable 'UnreadVariable' shape=(2, 3) dtype=float32, numpy=\n",
            "array([[ 2., 42.,  0.],\n",
            "       [ 8., 10.,  1.]], dtype=float32)>\n",
            "<tf.Variable 'UnreadVariable' shape=(2, 3) dtype=float32, numpy=\n",
            "array([[100.,  42.,   0.],\n",
            "       [  8.,  10., 200.]], dtype=float32)>\n"
          ],
          "name": "stdout"
        }
      ]
    },
    {
      "cell_type": "code",
      "metadata": {
        "id": "oScw5aggnDiX",
        "colab_type": "code",
        "colab": {
          "base_uri": "https://localhost:8080/",
          "height": 35
        },
        "outputId": "f55ee7f3-5742-4a51-d5bd-6cfc063e85eb"
      },
      "source": [
        "try:\n",
        "    v[1] = [7., 8., 9.]\n",
        "except TypeError as ex:\n",
        "    print(ex)"
      ],
      "execution_count": 14,
      "outputs": [
        {
          "output_type": "stream",
          "text": [
            "'ResourceVariable' object does not support item assignment\n"
          ],
          "name": "stdout"
        }
      ]
    },
    {
      "cell_type": "markdown",
      "metadata": {
        "id": "x9LKDOf_7KsY",
        "colab_type": "text"
      },
      "source": [
        "**Note**: In practice you will rarely have to create variables manually, since\n",
        "Keras provides an `add_weight()` method that will take care of it for you, as we will see. Moreover, model parameters will generally be updated directly by the optimizers, so you will rarely need to update variables manually."
      ]
    },
    {
      "cell_type": "markdown",
      "metadata": {
        "id": "oaCGRuUI7UxS",
        "colab_type": "text"
      },
      "source": [
        "### Other Data Structures"
      ]
    },
    {
      "cell_type": "markdown",
      "metadata": {
        "id": "F8YSfuKqnkMo",
        "colab_type": "text"
      },
      "source": [
        "TensorFlow supports several other data structures, including the following:"
      ]
    },
    {
      "cell_type": "markdown",
      "metadata": {
        "id": "Hl13-db9nlLC",
        "colab_type": "text"
      },
      "source": [
        "#### *Sparse tensors*\n",
        "\n",
        "Sparse tensors (`tf.SparseTensor`) efficiently represent tensors containing mostly 0s. The `tf.sparse` package contains operations for sparse tensors."
      ]
    },
    {
      "cell_type": "code",
      "metadata": {
        "id": "jEbwj0vJn2US",
        "colab_type": "code",
        "colab": {
          "base_uri": "https://localhost:8080/",
          "height": 90
        },
        "outputId": "9c6c47b1-fa61-4564-a5dc-f0a7c766677c"
      },
      "source": [
        "s = tf.SparseTensor(indices=[[0, 1], [1, 0], [2, 3]],\n",
        "                    values=[1., 2., 3.],\n",
        "                    dense_shape=[3, 4])\n",
        "print(s)"
      ],
      "execution_count": 15,
      "outputs": [
        {
          "output_type": "stream",
          "text": [
            "SparseTensor(indices=tf.Tensor(\n",
            "[[0 1]\n",
            " [1 0]\n",
            " [2 3]], shape=(3, 2), dtype=int64), values=tf.Tensor([1. 2. 3.], shape=(3,), dtype=float32), dense_shape=tf.Tensor([3 4], shape=(2,), dtype=int64))\n"
          ],
          "name": "stdout"
        }
      ]
    },
    {
      "cell_type": "code",
      "metadata": {
        "id": "goxwLgq9n7zI",
        "colab_type": "code",
        "colab": {
          "base_uri": "https://localhost:8080/",
          "height": 90
        },
        "outputId": "ba72280d-22c8-4c27-8785-5cb0abbeb0e0"
      },
      "source": [
        "tf.sparse.to_dense(s)"
      ],
      "execution_count": 16,
      "outputs": [
        {
          "output_type": "execute_result",
          "data": {
            "text/plain": [
              "<tf.Tensor: shape=(3, 4), dtype=float32, numpy=\n",
              "array([[0., 1., 0., 0.],\n",
              "       [2., 0., 0., 0.],\n",
              "       [0., 0., 0., 3.]], dtype=float32)>"
            ]
          },
          "metadata": {
            "tags": []
          },
          "execution_count": 16
        }
      ]
    },
    {
      "cell_type": "code",
      "metadata": {
        "id": "CCJOO8NDn8py",
        "colab_type": "code",
        "colab": {}
      },
      "source": [
        "s2 = s * 2.0"
      ],
      "execution_count": 17,
      "outputs": []
    },
    {
      "cell_type": "code",
      "metadata": {
        "id": "e3glRUyBn-Pz",
        "colab_type": "code",
        "colab": {
          "base_uri": "https://localhost:8080/",
          "height": 35
        },
        "outputId": "915652c1-3ef6-4425-cb47-0ffc931c12f4"
      },
      "source": [
        "try:\n",
        "    s3 = s + 1.\n",
        "except TypeError as ex:\n",
        "    print(ex)"
      ],
      "execution_count": 18,
      "outputs": [
        {
          "output_type": "stream",
          "text": [
            "unsupported operand type(s) for +: 'SparseTensor' and 'float'\n"
          ],
          "name": "stdout"
        }
      ]
    },
    {
      "cell_type": "code",
      "metadata": {
        "id": "5ps7oF_DoCsx",
        "colab_type": "code",
        "colab": {
          "base_uri": "https://localhost:8080/",
          "height": 90
        },
        "outputId": "b2ebd10c-2e53-4df9-b9d3-13efdb4575c0"
      },
      "source": [
        "s4 = tf.constant([[10., 20.], [30., 40.], [50., 60.], [70., 80.]])\n",
        "tf.sparse.sparse_dense_matmul(s, s4)"
      ],
      "execution_count": 19,
      "outputs": [
        {
          "output_type": "execute_result",
          "data": {
            "text/plain": [
              "<tf.Tensor: shape=(3, 2), dtype=float32, numpy=\n",
              "array([[ 30.,  40.],\n",
              "       [ 20.,  40.],\n",
              "       [210., 240.]], dtype=float32)>"
            ]
          },
          "metadata": {
            "tags": []
          },
          "execution_count": 19
        }
      ]
    },
    {
      "cell_type": "code",
      "metadata": {
        "id": "j0swYDDen_UE",
        "colab_type": "code",
        "colab": {
          "base_uri": "https://localhost:8080/",
          "height": 72
        },
        "outputId": "82ac0152-cf1f-42a4-f341-a69c4fdbfe68"
      },
      "source": [
        "s5 = tf.SparseTensor(indices=[[0, 2], [0, 1]],\n",
        "                     values=[1., 2.],\n",
        "                     dense_shape=[3, 4])\n",
        "print(s5)"
      ],
      "execution_count": 20,
      "outputs": [
        {
          "output_type": "stream",
          "text": [
            "SparseTensor(indices=tf.Tensor(\n",
            "[[0 2]\n",
            " [0 1]], shape=(2, 2), dtype=int64), values=tf.Tensor([1. 2.], shape=(2,), dtype=float32), dense_shape=tf.Tensor([3 4], shape=(2,), dtype=int64))\n"
          ],
          "name": "stdout"
        }
      ]
    },
    {
      "cell_type": "code",
      "metadata": {
        "id": "eA3nT9b_oGSc",
        "colab_type": "code",
        "colab": {
          "base_uri": "https://localhost:8080/",
          "height": 90
        },
        "outputId": "1bc6517c-db2d-47bc-f2e8-cc3c99afea39"
      },
      "source": [
        "try:\n",
        "    tf.sparse.to_dense(s5)\n",
        "except tf.errors.InvalidArgumentError as ex:\n",
        "    print(ex)"
      ],
      "execution_count": 21,
      "outputs": [
        {
          "output_type": "stream",
          "text": [
            "indices[1] = [0,1] is out of order. Many sparse ops require sorted indices.\n",
            "    Use `tf.sparse.reorder` to create a correctly ordered copy.\n",
            "\n",
            " [Op:SparseToDense]\n"
          ],
          "name": "stdout"
        }
      ]
    },
    {
      "cell_type": "code",
      "metadata": {
        "id": "gcICuZ04oKh0",
        "colab_type": "code",
        "colab": {
          "base_uri": "https://localhost:8080/",
          "height": 90
        },
        "outputId": "2b8c9d94-78ea-49e4-a3ad-6d672b693a9a"
      },
      "source": [
        "s6 = tf.sparse.reorder(s5)\n",
        "tf.sparse.to_dense(s6)"
      ],
      "execution_count": 22,
      "outputs": [
        {
          "output_type": "execute_result",
          "data": {
            "text/plain": [
              "<tf.Tensor: shape=(3, 4), dtype=float32, numpy=\n",
              "array([[0., 2., 1., 0.],\n",
              "       [0., 0., 0., 0.],\n",
              "       [0., 0., 0., 0.]], dtype=float32)>"
            ]
          },
          "metadata": {
            "tags": []
          },
          "execution_count": 22
        }
      ]
    },
    {
      "cell_type": "markdown",
      "metadata": {
        "id": "ri1TUcR5oOE6",
        "colab_type": "text"
      },
      "source": [
        "#### *Tensor arrays* \n",
        "\n",
        "Tensor arrays (`tf.TensorArray`) are lists of tensors. They have a fixed size by default, but can optionally be made dynamic. All tensors they contain must have the same shape and data type."
      ]
    },
    {
      "cell_type": "code",
      "metadata": {
        "id": "7pXuoMlkoYCL",
        "colab_type": "code",
        "colab": {}
      },
      "source": [
        "array = tf.TensorArray(dtype=tf.float32, size=3)\n",
        "array = array.write(0, tf.constant([1., 2.]))\n",
        "array = array.write(1, tf.constant([3., 10.]))\n",
        "array = array.write(2, tf.constant([5., 7.]))"
      ],
      "execution_count": 23,
      "outputs": []
    },
    {
      "cell_type": "code",
      "metadata": {
        "id": "kpdM3wcHoa3c",
        "colab_type": "code",
        "colab": {
          "base_uri": "https://localhost:8080/",
          "height": 35
        },
        "outputId": "465d2319-12ac-42da-cc4b-a98befbaa2ab"
      },
      "source": [
        "array.read(1)"
      ],
      "execution_count": 24,
      "outputs": [
        {
          "output_type": "execute_result",
          "data": {
            "text/plain": [
              "<tf.Tensor: shape=(2,), dtype=float32, numpy=array([ 3., 10.], dtype=float32)>"
            ]
          },
          "metadata": {
            "tags": []
          },
          "execution_count": 24
        }
      ]
    },
    {
      "cell_type": "code",
      "metadata": {
        "id": "O8FBCBtAocPk",
        "colab_type": "code",
        "colab": {
          "base_uri": "https://localhost:8080/",
          "height": 90
        },
        "outputId": "d823567e-0646-4b28-dba6-d0e848043d1d"
      },
      "source": [
        "array.stack()"
      ],
      "execution_count": 25,
      "outputs": [
        {
          "output_type": "execute_result",
          "data": {
            "text/plain": [
              "<tf.Tensor: shape=(3, 2), dtype=float32, numpy=\n",
              "array([[1., 2.],\n",
              "       [0., 0.],\n",
              "       [5., 7.]], dtype=float32)>"
            ]
          },
          "metadata": {
            "tags": []
          },
          "execution_count": 25
        }
      ]
    },
    {
      "cell_type": "code",
      "metadata": {
        "id": "fhu1nPkqoeil",
        "colab_type": "code",
        "colab": {
          "base_uri": "https://localhost:8080/",
          "height": 54
        },
        "outputId": "ee2fe2f4-92a5-4086-fd2c-f57ba16ff9a4"
      },
      "source": [
        "mean, variance = tf.nn.moments(array.stack(), axes=0)\n",
        "print(mean)\n",
        "print(variance)"
      ],
      "execution_count": 26,
      "outputs": [
        {
          "output_type": "stream",
          "text": [
            "tf.Tensor([2. 3.], shape=(2,), dtype=float32)\n",
            "tf.Tensor([4.6666665 8.666667 ], shape=(2,), dtype=float32)\n"
          ],
          "name": "stdout"
        }
      ]
    },
    {
      "cell_type": "markdown",
      "metadata": {
        "id": "axF2r4bPo2ox",
        "colab_type": "text"
      },
      "source": [
        "#### *String tensors* \n",
        "\n",
        "String tensors are regular tensors of type `tf.string` . These actually represent byte strings, not Unicode strings, so if you create a string tensor using a Unicode string (e.g., a regular Python 3 string like \"café\"), then it will get encoded to UTF-8 automatically (e.g., b\"caf\\xc3\\xa9\" ). Alternatively, you can represent Unicode strings using tensors of type `tf.int32` , where each item represents a Unicode codepoint (e.g., `[99, 97, 102, 233]` ). The `tf.strings` package (with an s ) contains operations for byte strings and Unicode strings (and to convert one into the other)."
      ]
    },
    {
      "cell_type": "code",
      "metadata": {
        "id": "hN3ucXFmo9Si",
        "colab_type": "code",
        "colab": {
          "base_uri": "https://localhost:8080/",
          "height": 35
        },
        "outputId": "c44ed1ff-860c-4886-a508-9ec5385d26f1"
      },
      "source": [
        "tf.constant(b\"hello world\")"
      ],
      "execution_count": 27,
      "outputs": [
        {
          "output_type": "execute_result",
          "data": {
            "text/plain": [
              "<tf.Tensor: shape=(), dtype=string, numpy=b'hello world'>"
            ]
          },
          "metadata": {
            "tags": []
          },
          "execution_count": 27
        }
      ]
    },
    {
      "cell_type": "code",
      "metadata": {
        "id": "s70pMaoCpAC-",
        "colab_type": "code",
        "colab": {
          "base_uri": "https://localhost:8080/",
          "height": 35
        },
        "outputId": "4aab6dd4-76b9-455e-a5b0-3817d0d22d3f"
      },
      "source": [
        "tf.constant(\"café\")"
      ],
      "execution_count": 28,
      "outputs": [
        {
          "output_type": "execute_result",
          "data": {
            "text/plain": [
              "<tf.Tensor: shape=(), dtype=string, numpy=b'caf\\xc3\\xa9'>"
            ]
          },
          "metadata": {
            "tags": []
          },
          "execution_count": 28
        }
      ]
    },
    {
      "cell_type": "code",
      "metadata": {
        "id": "cyk1c6UhpB2O",
        "colab_type": "code",
        "colab": {
          "base_uri": "https://localhost:8080/",
          "height": 35
        },
        "outputId": "887428d3-3589-4d39-8523-37cb1e319f11"
      },
      "source": [
        "u = tf.constant([ord(c) for c in \"café\"])\n",
        "u"
      ],
      "execution_count": 29,
      "outputs": [
        {
          "output_type": "execute_result",
          "data": {
            "text/plain": [
              "<tf.Tensor: shape=(4,), dtype=int32, numpy=array([ 99,  97, 102, 233], dtype=int32)>"
            ]
          },
          "metadata": {
            "tags": []
          },
          "execution_count": 29
        }
      ]
    },
    {
      "cell_type": "code",
      "metadata": {
        "id": "E7vYORs0pDzU",
        "colab_type": "code",
        "colab": {
          "base_uri": "https://localhost:8080/",
          "height": 35
        },
        "outputId": "e89d2401-31d1-44f7-a715-9a91f57b5d43"
      },
      "source": [
        "b = tf.strings.unicode_encode(u, \"UTF-8\")\n",
        "tf.strings.length(b, unit=\"UTF8_CHAR\")"
      ],
      "execution_count": 30,
      "outputs": [
        {
          "output_type": "execute_result",
          "data": {
            "text/plain": [
              "<tf.Tensor: shape=(), dtype=int32, numpy=4>"
            ]
          },
          "metadata": {
            "tags": []
          },
          "execution_count": 30
        }
      ]
    },
    {
      "cell_type": "code",
      "metadata": {
        "id": "lndDHO1RpFPw",
        "colab_type": "code",
        "colab": {
          "base_uri": "https://localhost:8080/",
          "height": 35
        },
        "outputId": "9e709060-291f-409a-8501-6f9268ca8900"
      },
      "source": [
        "tf.strings.unicode_decode(b, \"UTF-8\")"
      ],
      "execution_count": 31,
      "outputs": [
        {
          "output_type": "execute_result",
          "data": {
            "text/plain": [
              "<tf.Tensor: shape=(4,), dtype=int32, numpy=array([ 99,  97, 102, 233], dtype=int32)>"
            ]
          },
          "metadata": {
            "tags": []
          },
          "execution_count": 31
        }
      ]
    },
    {
      "cell_type": "markdown",
      "metadata": {
        "id": "l2Q-tu4gpaEA",
        "colab_type": "text"
      },
      "source": [
        "String arrays"
      ]
    },
    {
      "cell_type": "code",
      "metadata": {
        "id": "1k7vKPU8pd5C",
        "colab_type": "code",
        "colab": {}
      },
      "source": [
        "p = tf.constant([\"Café\", \"Coffee\", \"caffè\", \"咖啡\"])"
      ],
      "execution_count": 32,
      "outputs": []
    },
    {
      "cell_type": "code",
      "metadata": {
        "id": "aVGKDvvlpfp_",
        "colab_type": "code",
        "colab": {
          "base_uri": "https://localhost:8080/",
          "height": 35
        },
        "outputId": "7db1b259-bf4a-4b17-f4e6-284738e6dd57"
      },
      "source": [
        "tf.strings.length(p, unit=\"UTF8_CHAR\")"
      ],
      "execution_count": 33,
      "outputs": [
        {
          "output_type": "execute_result",
          "data": {
            "text/plain": [
              "<tf.Tensor: shape=(4,), dtype=int32, numpy=array([4, 6, 5, 2], dtype=int32)>"
            ]
          },
          "metadata": {
            "tags": []
          },
          "execution_count": 33
        }
      ]
    },
    {
      "cell_type": "code",
      "metadata": {
        "id": "a3olGj7_piN-",
        "colab_type": "code",
        "colab": {
          "base_uri": "https://localhost:8080/",
          "height": 35
        },
        "outputId": "26126444-0611-4b42-ccd8-1f875e48ef60"
      },
      "source": [
        "r = tf.strings.unicode_decode(p, \"UTF8\")\n",
        "r"
      ],
      "execution_count": 34,
      "outputs": [
        {
          "output_type": "execute_result",
          "data": {
            "text/plain": [
              "<tf.RaggedTensor [[67, 97, 102, 233], [67, 111, 102, 102, 101, 101], [99, 97, 102, 102, 232], [21654, 21857]]>"
            ]
          },
          "metadata": {
            "tags": []
          },
          "execution_count": 34
        }
      ]
    },
    {
      "cell_type": "markdown",
      "metadata": {
        "id": "VuvdAdWmolyK",
        "colab_type": "text"
      },
      "source": [
        "#### *Ragged tensors* \n",
        "\n",
        "Ragged tensors (`tf.RaggedTensor`) represent static lists of lists of tensors, where every tensor has the same shape and data type. The `tf.ragged` package contains operations for ragged tensors."
      ]
    },
    {
      "cell_type": "code",
      "metadata": {
        "id": "CPn2l1QJoo_e",
        "colab_type": "code",
        "colab": {
          "base_uri": "https://localhost:8080/",
          "height": 35
        },
        "outputId": "8a3c08a5-ca5c-49f8-d587-57581f074a3f"
      },
      "source": [
        "print(r[1])"
      ],
      "execution_count": 35,
      "outputs": [
        {
          "output_type": "stream",
          "text": [
            "tf.Tensor([ 67 111 102 102 101 101], shape=(6,), dtype=int32)\n"
          ],
          "name": "stdout"
        }
      ]
    },
    {
      "cell_type": "code",
      "metadata": {
        "id": "6O9OE6nQppxo",
        "colab_type": "code",
        "colab": {
          "base_uri": "https://localhost:8080/",
          "height": 35
        },
        "outputId": "451866f9-8565-4496-c812-3b8e3ac09baa"
      },
      "source": [
        "print(r[1:3])"
      ],
      "execution_count": 36,
      "outputs": [
        {
          "output_type": "stream",
          "text": [
            "<tf.RaggedTensor [[67, 111, 102, 102, 101, 101], [99, 97, 102, 102, 232]]>\n"
          ],
          "name": "stdout"
        }
      ]
    },
    {
      "cell_type": "code",
      "metadata": {
        "id": "XphgB1uuprfo",
        "colab_type": "code",
        "colab": {
          "base_uri": "https://localhost:8080/",
          "height": 35
        },
        "outputId": "07546b9f-800d-4bdb-cfd2-0ff88653241d"
      },
      "source": [
        "r2 = tf.ragged.constant([[65, 66], [], [67]])\n",
        "print(tf.concat([r, r2], axis=0))"
      ],
      "execution_count": 37,
      "outputs": [
        {
          "output_type": "stream",
          "text": [
            "<tf.RaggedTensor [[67, 97, 102, 233], [67, 111, 102, 102, 101, 101], [99, 97, 102, 102, 232], [21654, 21857], [65, 66], [], [67]]>\n"
          ],
          "name": "stdout"
        }
      ]
    },
    {
      "cell_type": "code",
      "metadata": {
        "id": "_OefhV3dptBQ",
        "colab_type": "code",
        "colab": {
          "base_uri": "https://localhost:8080/",
          "height": 35
        },
        "outputId": "decb0179-1ee3-4307-a15f-c9471896167b"
      },
      "source": [
        "r3 = tf.ragged.constant([[68, 69, 70], [71], [], [72, 73]])\n",
        "print(tf.concat([r, r3], axis=1))"
      ],
      "execution_count": 38,
      "outputs": [
        {
          "output_type": "stream",
          "text": [
            "<tf.RaggedTensor [[67, 97, 102, 233, 68, 69, 70], [67, 111, 102, 102, 101, 101, 71], [99, 97, 102, 102, 232], [21654, 21857, 72, 73]]>\n"
          ],
          "name": "stdout"
        }
      ]
    },
    {
      "cell_type": "code",
      "metadata": {
        "id": "i7shmbnapukv",
        "colab_type": "code",
        "colab": {
          "base_uri": "https://localhost:8080/",
          "height": 35
        },
        "outputId": "6ba657b0-aaab-4245-e18a-9325bd20c6b0"
      },
      "source": [
        "tf.strings.unicode_encode(r3, \"UTF-8\")"
      ],
      "execution_count": 39,
      "outputs": [
        {
          "output_type": "execute_result",
          "data": {
            "text/plain": [
              "<tf.Tensor: shape=(4,), dtype=string, numpy=array([b'DEF', b'G', b'', b'HI'], dtype=object)>"
            ]
          },
          "metadata": {
            "tags": []
          },
          "execution_count": 39
        }
      ]
    },
    {
      "cell_type": "code",
      "metadata": {
        "id": "mn3ccRFTpwca",
        "colab_type": "code",
        "colab": {
          "base_uri": "https://localhost:8080/",
          "height": 108
        },
        "outputId": "8366415a-8209-4dd1-9eff-543a300227e7"
      },
      "source": [
        "r.to_tensor()"
      ],
      "execution_count": 40,
      "outputs": [
        {
          "output_type": "execute_result",
          "data": {
            "text/plain": [
              "<tf.Tensor: shape=(4, 6), dtype=int32, numpy=\n",
              "array([[   67,    97,   102,   233,     0,     0],\n",
              "       [   67,   111,   102,   102,   101,   101],\n",
              "       [   99,    97,   102,   102,   232,     0],\n",
              "       [21654, 21857,     0,     0,     0,     0]], dtype=int32)>"
            ]
          },
          "metadata": {
            "tags": []
          },
          "execution_count": 40
        }
      ]
    },
    {
      "cell_type": "markdown",
      "metadata": {
        "id": "Rx_f16Tipyhy",
        "colab_type": "text"
      },
      "source": [
        "#### *Sets* \n",
        "Sets are just represented as regular tensors (or sparse tensors) containing one or more sets, and you can manipulate them using operations from the `tf.sets` package."
      ]
    },
    {
      "cell_type": "code",
      "metadata": {
        "id": "1zcnErvAp2dK",
        "colab_type": "code",
        "colab": {
          "base_uri": "https://localhost:8080/",
          "height": 72
        },
        "outputId": "d2f2e4c8-799d-411e-98f2-c683b6d6a811"
      },
      "source": [
        "set1 = tf.constant([[2, 3, 5, 7], [7, 9, 0, 0]])\n",
        "set2 = tf.constant([[4, 5, 6], [9, 10, 0]])\n",
        "tf.sparse.to_dense(tf.sets.union(set1, set2))"
      ],
      "execution_count": 41,
      "outputs": [
        {
          "output_type": "execute_result",
          "data": {
            "text/plain": [
              "<tf.Tensor: shape=(2, 6), dtype=int32, numpy=\n",
              "array([[ 2,  3,  4,  5,  6,  7],\n",
              "       [ 0,  7,  9, 10,  0,  0]], dtype=int32)>"
            ]
          },
          "metadata": {
            "tags": []
          },
          "execution_count": 41
        }
      ]
    },
    {
      "cell_type": "code",
      "metadata": {
        "id": "36hQBBxhp4fL",
        "colab_type": "code",
        "colab": {
          "base_uri": "https://localhost:8080/",
          "height": 72
        },
        "outputId": "17d832fe-d581-44fb-eff2-293f220a9085"
      },
      "source": [
        "tf.sparse.to_dense(tf.sets.difference(set1, set2))\n"
      ],
      "execution_count": 42,
      "outputs": [
        {
          "output_type": "execute_result",
          "data": {
            "text/plain": [
              "<tf.Tensor: shape=(2, 3), dtype=int32, numpy=\n",
              "array([[2, 3, 7],\n",
              "       [7, 0, 0]], dtype=int32)>"
            ]
          },
          "metadata": {
            "tags": []
          },
          "execution_count": 42
        }
      ]
    },
    {
      "cell_type": "code",
      "metadata": {
        "id": "YvNL_wo7p57J",
        "colab_type": "code",
        "colab": {
          "base_uri": "https://localhost:8080/",
          "height": 72
        },
        "outputId": "06ee37e4-99d2-4539-c67d-cdbf0c25f75a"
      },
      "source": [
        "tf.sparse.to_dense(tf.sets.intersection(set1, set2))"
      ],
      "execution_count": 43,
      "outputs": [
        {
          "output_type": "execute_result",
          "data": {
            "text/plain": [
              "<tf.Tensor: shape=(2, 2), dtype=int32, numpy=\n",
              "array([[5, 0],\n",
              "       [0, 9]], dtype=int32)>"
            ]
          },
          "metadata": {
            "tags": []
          },
          "execution_count": 43
        }
      ]
    }
  ]
}