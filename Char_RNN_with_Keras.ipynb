{
  "nbformat": 4,
  "nbformat_minor": 0,
  "metadata": {
    "colab": {
      "name": "Char RNN with Keras.ipynb",
      "provenance": [],
      "collapsed_sections": [],
      "toc_visible": true,
      "authorship_tag": "ABX9TyN5BXkW7h2m+EGXplfrS1SE",
      "include_colab_link": true
    },
    "kernelspec": {
      "name": "python3",
      "display_name": "Python 3"
    },
    "accelerator": "GPU"
  },
  "cells": [
    {
      "cell_type": "markdown",
      "metadata": {
        "id": "view-in-github",
        "colab_type": "text"
      },
      "source": [
        "<a href=\"https://colab.research.google.com/github/victorviro/Deep_learning_python/blob/master/Char_RNN_with_Keras.ipynb\" target=\"_parent\"><img src=\"https://colab.research.google.com/assets/colab-badge.svg\" alt=\"Open In Colab\"/></a>"
      ]
    },
    {
      "cell_type": "markdown",
      "metadata": {
        "id": "2NZ3J0OEobd_",
        "colab_type": "text"
      },
      "source": [
        "# NLP with RNNs"
      ]
    },
    {
      "cell_type": "markdown",
      "metadata": {
        "id": "4hOisI-duPKZ",
        "colab_type": "text"
      },
      "source": [
        "Can we build a machine that can read and write natural language?\n",
        "\n",
        "A common approach for natural language tasks is to use recurrent neural networks. We will continue to explore RNNs (introduced in previous notebooks [Introduction to RNNs](https://github.com/victorviro/Deep_learning_python/blob/master/Introduction_to_RNNs.ipynb), [RNNs for long sequences](https://github.com/victorviro/Deep_learning_python/blob/master/RNNs_long_sequences.ipynb)), with a Character-Level Language Model which we call *character RNN*, trained to predict the next character in a sentence. This will allow us to generate some original text, and in the process, we will see how to build a TensorFlow Dataset on a very long sequence. We will first use a *stateless RNN* (which learns on random portions of text at each iteration, without any information on the rest of the text), then we will build a stateful RNN (which preserves the hidden state between training iterations and continues reading where it left off, allowing it to learn longer patterns). \n",
        "\n"
      ]
    },
    {
      "cell_type": "markdown",
      "metadata": {
        "id": "2V5lYH15BGEy",
        "colab_type": "text"
      },
      "source": [
        "# Lenguage model"
      ]
    },
    {
      "cell_type": "markdown",
      "metadata": {
        "id": "U9X_UL5zBL2r",
        "colab_type": "text"
      },
      "source": [
        "Given any sentence or sequence of words/characters $w_1,w_2, …,w_T$, a language model tries to predict what is the probability of that sentence. In other words, the language model tries to learn the joint probability distribution of sequences of characters/words in a training text, i.e. trying to learn the joint probability function. For example, if we are trying to predict a sequence of $T$ words, we try to get the joint probability $P(w_1,w_2,...,w_T)$\n",
        " as big as we can. Applying the [general product rule](https://en.wikipedia.org/wiki/Chain_rule_(probability)) we can express this joint probability in terms of conditional probabilities $P(w_1,w_2,...,w_T)=\\prod_{t=1}^{T}P(w_t|w_{t-1},...,w_1)$. \n",
        "\n",
        "For a further explanation of how language models work, check this [video](https://www.coursera.org/lecture/nlp-sequence-models/language-model-and-sequence-generation-gw1Xw).\n",
        "\n",
        "\n"
      ]
    },
    {
      "cell_type": "markdown",
      "metadata": {
        "id": "zagQXGwuuuO6",
        "colab_type": "text"
      },
      "source": [
        "## Character RNN"
      ]
    },
    {
      "cell_type": "markdown",
      "metadata": {
        "id": "6ghf8UYtu2b7",
        "colab_type": "text"
      },
      "source": [
        "The term \"char-rnn\" is short for \"character recurrent neural network\", and is effectively a recurrent neural network trained to predict the next character given a sequence of previous characters. In this way, we can think of a char-rnn as a classification model. In the same way that we output a probability distribution over classes when doing image classification, for a char-rnn we wish to output a probability distribution over character classes, i.e., a vocabulary of characters. Unlike image classification where we are given a single image and expected to predict an output immediately, however, in this setting, we are given the characters one at a time and only expected to predict an output after the last character.\n",
        "\n",
        "\n",
        "In a famous 2015 [blog post](https://karpathy.github.io/2015/05/21/rnn-effectiveness/) titled \"The Unreasonable Effectiveness of Recurrent Neural Networks\", Andrej Karpathy showed how to train an RNN to predict the next character in a sentence. This *Char-RNN* can then be used to generate novel text, one character at a time.\n",
        "\n",
        "Let’s look at how to build a Char-RNN, step by step, starting with the creation of the dataset."
      ]
    },
    {
      "cell_type": "markdown",
      "metadata": {
        "id": "TKJFUDSyu_H-",
        "colab_type": "text"
      },
      "source": [
        "### Creating the training dataset"
      ]
    },
    {
      "cell_type": "markdown",
      "metadata": {
        "id": "ZasiG2hbvDIr",
        "colab_type": "text"
      },
      "source": [
        "First, let’s download all of Shakespeare’s work, using Keras’s handy `get_file()` function and downloading the data from Andrej Karpathy’s [Char-RNN project](https://github.com/karpathy/char-rnn):"
      ]
    },
    {
      "cell_type": "code",
      "metadata": {
        "id": "Xs66BUPiwV-f",
        "colab_type": "code",
        "colab": {}
      },
      "source": [
        "import numpy as np\n",
        "import tensorflow as tf\n",
        "import keras"
      ],
      "execution_count": null,
      "outputs": []
    },
    {
      "cell_type": "code",
      "metadata": {
        "id": "70NfwaLcvIQL",
        "colab_type": "code",
        "colab": {
          "base_uri": "https://localhost:8080/",
          "height": 50
        },
        "outputId": "fad44e0f-e8a9-427a-df5b-5612f90f6d3c"
      },
      "source": [
        "shakespeare_url = \"https://homl.info/shakespeare\" # shortcut URL\n",
        "filepath = keras.utils.get_file(\"shakespeare.txt\", shakespeare_url)\n",
        "with open(filepath) as f:\n",
        "    shakespeare_text = f.read()"
      ],
      "execution_count": null,
      "outputs": [
        {
          "output_type": "stream",
          "text": [
            "Downloading data from https://homl.info/shakespeare\n",
            "1122304/1115394 [==============================] - 0s 0us/step\n"
          ],
          "name": "stdout"
        }
      ]
    },
    {
      "cell_type": "code",
      "metadata": {
        "id": "uurMv9bNoxj0",
        "colab_type": "code",
        "colab": {
          "base_uri": "https://localhost:8080/",
          "height": 302
        },
        "outputId": "06394f1d-2531-47b0-cbfa-8d7d9565277c"
      },
      "source": [
        "print(f'Lenght of text: {len(shakespeare_text)} characters')\n",
        "print(f'First 100 characters of the text:\\n{shakespeare_text[:250]}')"
      ],
      "execution_count": null,
      "outputs": [
        {
          "output_type": "stream",
          "text": [
            "Lenght of text: 1115394 characters\n",
            "First 100 characters of the text:\n",
            "First Citizen:\n",
            "Before we proceed any further, hear me speak.\n",
            "\n",
            "All:\n",
            "Speak, speak.\n",
            "\n",
            "First Citizen:\n",
            "You are all resolved rather to die than to famish?\n",
            "\n",
            "All:\n",
            "Resolved. resolved.\n",
            "\n",
            "First Citizen:\n",
            "First, you know Caius Marcius is chief enemy to the people.\n",
            "\n"
          ],
          "name": "stdout"
        }
      ]
    },
    {
      "cell_type": "markdown",
      "metadata": {
        "id": "QRBPnJI_vdV3",
        "colab_type": "text"
      },
      "source": [
        "Next, we must encode every character as an integer. We use Keras’s [`Tokenizer`](https://www.tensorflow.org/api_docs/python/tf/keras/preprocessing/text/Tokenizer?hl=en) class. First, we need to fit a tokenizer to the text: it will find all the characters used in the text and map each of them to a different character ID, from 1 to the number of distinct characters (it does not start at 0, so we can use that value for masking):"
      ]
    },
    {
      "cell_type": "code",
      "metadata": {
        "id": "VZUE7q-9vyHS",
        "colab_type": "code",
        "colab": {}
      },
      "source": [
        "tokenizer = keras.preprocessing.text.Tokenizer(char_level=True)\n",
        "tokenizer.fit_on_texts(shakespeare_text)\n"
      ],
      "execution_count": null,
      "outputs": []
    },
    {
      "cell_type": "markdown",
      "metadata": {
        "id": "cNdYJgfEv55P",
        "colab_type": "text"
      },
      "source": [
        "We set `char_level=True` to get character-level encoding rather than the default word-level encoding. Note that this tokenizer converts the text to lowercase by default (but we can set `lower=False` if we do not want that). Now the tokenizer can encode a sentence (or a list of sentences) to a list of character IDs and back, and it tells us how many distinct characters there are and the total number of characters in the text:"
      ]
    },
    {
      "cell_type": "code",
      "metadata": {
        "id": "749RBN9fvcHs",
        "colab_type": "code",
        "colab": {
          "base_uri": "https://localhost:8080/",
          "height": 84
        },
        "outputId": "0d2d8839-c5de-4d51-8a9d-41c9fff62701"
      },
      "source": [
        "print(f'Sentence \"{shakespeare_text[:5]}\" encoded as {tokenizer.texts_to_sequences([shakespeare_text[:5]])}')\n",
        "print(f'[[20, 6, 9, 8, 3]] -----> {tokenizer.sequences_to_texts([[20, 6, 9, 8, 3]])}')\n",
        "\n",
        "vocab_size = len(tokenizer.word_index) #max_id\n",
        "print(f'Number of distinct characters in text: {vocab_size}')\n",
        "\n",
        "dataset_size = tokenizer.document_count \n",
        "print(f'Total number of characters in text: {dataset_size}')"
      ],
      "execution_count": null,
      "outputs": [
        {
          "output_type": "stream",
          "text": [
            "Sentence \"First\" encoded as [[20, 6, 9, 8, 3]]\n",
            "[[20, 6, 9, 8, 3]] -----> ['f i r s t']\n",
            "Number of distinct characters in text: 39\n",
            "Total number of characters in text: 1115394\n"
          ],
          "name": "stdout"
        }
      ]
    },
    {
      "cell_type": "markdown",
      "metadata": {
        "id": "fRs26O8zwRV4",
        "colab_type": "text"
      },
      "source": [
        "Let’s encode the full text so each character is represented by its ID (we subtract 1 to get IDs from 0 to 38, rather than from 1 to 39):"
      ]
    },
    {
      "cell_type": "code",
      "metadata": {
        "id": "GLt_hy9MwTzW",
        "colab_type": "code",
        "colab": {
          "base_uri": "https://localhost:8080/",
          "height": 50
        },
        "outputId": "6f914a05-f10d-4c43-9a7d-3ff8b96971a1"
      },
      "source": [
        "[text_as_int] = np.array(tokenizer.texts_to_sequences([shakespeare_text])) - 1\n",
        "print(f'Full text encoded: {text_as_int}')\n",
        "print(f'Total number of characters in text: {len(text_as_int)}')"
      ],
      "execution_count": null,
      "outputs": [
        {
          "output_type": "stream",
          "text": [
            "Full text encoded: [19  5  8 ... 20 26 10]\n",
            "Total number of characters in text: 1115394\n"
          ],
          "name": "stdout"
        }
      ]
    },
    {
      "cell_type": "markdown",
      "metadata": {
        "id": "i_saFE_qw_JX",
        "colab_type": "text"
      },
      "source": [
        "Let’s create a [`tf.data.Dataset`](https://www.tensorflow.org/api_docs/python/tf/data/Dataset) that will return each character one by one from this set:"
      ]
    },
    {
      "cell_type": "code",
      "metadata": {
        "id": "4JzZ2ygNxA0Q",
        "colab_type": "code",
        "colab": {}
      },
      "source": [
        "dataset = tf.data.Dataset.from_tensor_slices(text_as_int)"
      ],
      "execution_count": null,
      "outputs": []
    },
    {
      "cell_type": "code",
      "metadata": {
        "id": "61bbs6ADBHBw",
        "colab_type": "code",
        "colab": {
          "base_uri": "https://localhost:8080/",
          "height": 101
        },
        "outputId": "8c299934-a6a7-471b-9ebe-14ba4808c8f4"
      },
      "source": [
        "for element in dataset.take(5):\n",
        "    print(element)"
      ],
      "execution_count": null,
      "outputs": [
        {
          "output_type": "stream",
          "text": [
            "tf.Tensor(19, shape=(), dtype=int64)\n",
            "tf.Tensor(5, shape=(), dtype=int64)\n",
            "tf.Tensor(8, shape=(), dtype=int64)\n",
            "tf.Tensor(7, shape=(), dtype=int64)\n",
            "tf.Tensor(2, shape=(), dtype=int64)\n"
          ],
          "name": "stdout"
        }
      ]
    },
    {
      "cell_type": "code",
      "metadata": {
        "id": "sdI3i7k2B_GI",
        "colab_type": "code",
        "colab": {
          "base_uri": "https://localhost:8080/",
          "height": 34
        },
        "outputId": "69365032-df8a-4201-9376-38658d9f3945"
      },
      "source": [
        "print(dataset.cardinality().numpy())"
      ],
      "execution_count": null,
      "outputs": [
        {
          "output_type": "stream",
          "text": [
            "1115394\n"
          ],
          "name": "stdout"
        }
      ]
    },
    {
      "cell_type": "markdown",
      "metadata": {
        "id": "iGfNpXdOxLkR",
        "colab_type": "text"
      },
      "source": [
        "### Chopping the Sequential Dataset into Multiple Windows"
      ]
    },
    {
      "cell_type": "markdown",
      "metadata": {
        "id": "d760APesxMdq",
        "colab_type": "text"
      },
      "source": [
        "The training set now consists of a single sequence of over a million characters, so we can’t just train the neural network directly on it: the RNN would be equivalent to a deep net with over a million layers, and we would have a single (very long) instance to train it. Instead, we will convert this long sequence of characters into many smaller windows or subsequences of text. Every instance in the dataset will be a fairly short substring of the whole text, and the RNN will be unrolled only over the length of these substrings. This is called *truncated backpropagation through time* (see notebook [Introduction to RNNs](https://github.com/victorviro/Deep_learning_python/blob/master/Introduction_to_RNNs.ipynb)). Let’s call the `batch()` method to create a dataset of short text windows:"
      ]
    },
    {
      "cell_type": "code",
      "metadata": {
        "id": "_wItZ9cYndB4",
        "colab_type": "code",
        "colab": {}
      },
      "source": [
        "n_steps = 100\n",
        "window_length = n_steps+1\n",
        "windows = dataset.batch(window_length, drop_remainder=True)"
      ],
      "execution_count": null,
      "outputs": []
    },
    {
      "cell_type": "code",
      "metadata": {
        "id": "SFXohesTniyF",
        "colab_type": "code",
        "colab": {
          "base_uri": "https://localhost:8080/",
          "height": 218
        },
        "outputId": "5442ddbd-b266-4189-a92c-d0d9b4098370"
      },
      "source": [
        "for window_tensor in windows.take(2):\n",
        "    print(window_tensor)"
      ],
      "execution_count": null,
      "outputs": [
        {
          "output_type": "stream",
          "text": [
            "tf.Tensor(\n",
            "[19  5  8  7  2  0 18  5  2  5 35  1  9 23 10 21  1 19  3  8  1  0 16  1\n",
            "  0 22  8  3 18  1  1 12  0  4  9 15  0 19 13  8  2  6  1  8 17  0  6  1\n",
            "  4  8  0 14  1  0  7 22  1  4 24 26 10 10  4 11 11 23 10  7 22  1  4 24\n",
            " 17  0  7 22  1  4 24 26 10 10 19  5  8  7  2  0 18  5  2  5 35  1  9 23\n",
            " 10 15  3 13  0], shape=(101,), dtype=int64)\n",
            "tf.Tensor(\n",
            "[ 4  8  1  0  4 11 11  0  8  1  7  3 11 25  1 12  0  8  4  2  6  1  8  0\n",
            "  2  3  0 12  5  1  0  2  6  4  9  0  2  3  0 19  4 14  5  7  6 29 10 10\n",
            "  4 11 11 23 10  8  1  7  3 11 25  1 12 26  0  8  1  7  3 11 25  1 12 26\n",
            " 10 10 19  5  8  7  2  0 18  5  2  5 35  1  9 23 10 19  5  8  7  2 17  0\n",
            " 15  3 13  0 24], shape=(101,), dtype=int64)\n"
          ],
          "name": "stdout"
        }
      ]
    },
    {
      "cell_type": "markdown",
      "metadata": {
        "id": "9wuGi7kPxhzF",
        "colab_type": "text"
      },
      "source": [
        "**Note**: We can try tuning `window_length`: it is easier to train RNNs on shorter input sequences, but of course the RNN will not be able to learn any pattern longer than `window_length`, so we don’t make it too small.\n",
        "\n",
        "By default, the `batch()` method creates nonoverlapping windows. To ensure that all windows are exactly 101 characters long (which will allow us to create batches without having to do any padding), we set `drop_remainder=True` (otherwise the last window can contain less than 101 characters). Notice that we call `batch(window_length)` so all windows have exactly that length and we will get a single tensor for each of them. Now the dataset contains consecutive windows of 101 characters each.\n",
        "\n"
      ]
    },
    {
      "cell_type": "markdown",
      "metadata": {
        "id": "CzSSF1nqu72k",
        "colab_type": "text"
      },
      "source": [
        "We create a function to separate the inputs (the first 100 characters) from the target (the last 100 characters):"
      ]
    },
    {
      "cell_type": "code",
      "metadata": {
        "id": "Rle5uj5HosZZ",
        "colab_type": "code",
        "colab": {}
      },
      "source": [
        "def split_input_target(windows):\n",
        "  input_text = windows[:-1]\n",
        "  target_text = windows[1:]\n",
        "  return input_text, target_text\n",
        "\n",
        "dataset = windows.map(split_input_target)"
      ],
      "execution_count": null,
      "outputs": []
    },
    {
      "cell_type": "code",
      "metadata": {
        "id": "m2MSw59Co7eH",
        "colab_type": "code",
        "colab": {
          "base_uri": "https://localhost:8080/",
          "height": 218
        },
        "outputId": "f483ad9e-8eb4-4317-e1b1-2cf0fd83e444"
      },
      "source": [
        "for input_example, target_example in  dataset.take(1):\n",
        "  print(input_example)\n",
        "  print(target_example)"
      ],
      "execution_count": null,
      "outputs": [
        {
          "output_type": "stream",
          "text": [
            "tf.Tensor(\n",
            "[19  5  8  7  2  0 18  5  2  5 35  1  9 23 10 21  1 19  3  8  1  0 16  1\n",
            "  0 22  8  3 18  1  1 12  0  4  9 15  0 19 13  8  2  6  1  8 17  0  6  1\n",
            "  4  8  0 14  1  0  7 22  1  4 24 26 10 10  4 11 11 23 10  7 22  1  4 24\n",
            " 17  0  7 22  1  4 24 26 10 10 19  5  8  7  2  0 18  5  2  5 35  1  9 23\n",
            " 10 15  3 13], shape=(100,), dtype=int64)\n",
            "tf.Tensor(\n",
            "[ 5  8  7  2  0 18  5  2  5 35  1  9 23 10 21  1 19  3  8  1  0 16  1  0\n",
            " 22  8  3 18  1  1 12  0  4  9 15  0 19 13  8  2  6  1  8 17  0  6  1  4\n",
            "  8  0 14  1  0  7 22  1  4 24 26 10 10  4 11 11 23 10  7 22  1  4 24 17\n",
            "  0  7 22  1  4 24 26 10 10 19  5  8  7  2  0 18  5  2  5 35  1  9 23 10\n",
            " 15  3 13  0], shape=(100,), dtype=int64)\n"
          ],
          "name": "stdout"
        }
      ]
    },
    {
      "cell_type": "markdown",
      "metadata": {
        "id": "rSny43I-pFpc",
        "colab_type": "text"
      },
      "source": [
        "### Create training batches"
      ]
    },
    {
      "cell_type": "markdown",
      "metadata": {
        "id": "SNA3u9q7xsMT",
        "colab_type": "text"
      },
      "source": [
        "Since Gradient Descent works best when the instances in the training set are independent and identically distributed, we need to shuffle these windows."
      ]
    },
    {
      "cell_type": "code",
      "metadata": {
        "id": "KT7YkgVZXnF1",
        "colab_type": "code",
        "colab": {}
      },
      "source": [
        "BATCH_SIZE = 32\n",
        "\n",
        "# Buffer size to shuffle the dataset\n",
        "BUFFER_SIZE = 10000\n",
        "\n",
        "dataset = dataset.shuffle(BUFFER_SIZE).batch(BATCH_SIZE, drop_remainder=True)"
      ],
      "execution_count": null,
      "outputs": []
    },
    {
      "cell_type": "code",
      "metadata": {
        "id": "VMUrn-zAX2Ut",
        "colab_type": "code",
        "colab": {
          "base_uri": "https://localhost:8080/",
          "height": 269
        },
        "outputId": "3d15e96e-16d2-4d1b-95f0-9bff8fac2e75"
      },
      "source": [
        "for batch in dataset.take(1):\n",
        "    print(batch)"
      ],
      "execution_count": null,
      "outputs": [
        {
          "output_type": "stream",
          "text": [
            "(<tf.Tensor: shape=(32, 100), dtype=int64, numpy=\n",
            "array([[14,  3,  7, ...,  4,  5,  9],\n",
            "       [ 9, 20,  0, ...,  1,  7,  0],\n",
            "       [ 3,  8,  0, ..., 18, 15,  0],\n",
            "       ...,\n",
            "       [ 2,  6,  4, ...,  9, 20, 27],\n",
            "       [ 7,  2,  3, ...,  1,  4,  8],\n",
            "       [ 9,  7, 28, ..., 14,  3,  8]])>, <tf.Tensor: shape=(32, 100), dtype=int64, numpy=\n",
            "array([[ 3,  7,  2, ...,  5,  9,  0],\n",
            "       [20,  0,  2, ...,  7,  0,  2],\n",
            "       [ 8,  0,  5, ..., 15,  0, 21],\n",
            "       ...,\n",
            "       [ 6,  4,  2, ..., 20, 27,  7],\n",
            "       [ 2,  3,  8, ...,  4,  8,  7],\n",
            "       [ 7, 28,  0, ...,  3,  8,  1]])>)\n"
          ],
          "name": "stdout"
        }
      ]
    },
    {
      "cell_type": "code",
      "metadata": {
        "id": "zhHzO5vxq0E1",
        "colab_type": "code",
        "colab": {
          "base_uri": "https://localhost:8080/",
          "height": 34
        },
        "outputId": "8391dcc8-d7d3-477d-e602-bafc309c5582"
      },
      "source": [
        "dataset"
      ],
      "execution_count": null,
      "outputs": [
        {
          "output_type": "execute_result",
          "data": {
            "text/plain": [
              "<BatchDataset shapes: ((32, 100), (32, 100)), types: (tf.int64, tf.int64)>"
            ]
          },
          "metadata": {
            "tags": []
          },
          "execution_count": 16
        }
      ]
    },
    {
      "cell_type": "markdown",
      "metadata": {
        "id": "pIiOslMix384",
        "colab_type": "text"
      },
      "source": [
        "Categorical input features should generally be encoded, usually as one-hot vectors or as embeddings. We could encode each character using a one-hot vector because there are fairly few distinct characters (only 39), but we will encode them as embeddings when defining the model.\n",
        "\n",
        "That’s it! Preparing the dataset was the hardest part. Now let’s create the model.\n",
        "\n"
      ]
    },
    {
      "cell_type": "markdown",
      "metadata": {
        "id": "h-eBxsnfx4L1",
        "colab_type": "text"
      },
      "source": [
        "### Building and Training the Char-RNN Model"
      ]
    },
    {
      "cell_type": "markdown",
      "metadata": {
        "id": "E5Vu0m82x9LH",
        "colab_type": "text"
      },
      "source": [
        "To predict the next character based on the previous 100 characters, we can use an RNN with 1 `GRU` layer of 1024 units each and 20% dropout on the inputs (`dropout`). We can tweak these hyperparameters later if needed. The output layer is a `Dense` layer which must have 39 units (`vocab_size`) because there are 39 distinct characters in the text, and we want to output a probability for each possible character (at each time step). We choose to Keras sequential model here since all the layers in the model only have a single input and produce a single output. "
      ]
    },
    {
      "cell_type": "code",
      "metadata": {
        "id": "6aE1pr6MqBLS",
        "colab_type": "code",
        "colab": {}
      },
      "source": [
        "def build_model(vocab_size, embedding_dim, rnn_units, batch_size, stateful):\n",
        "    model = tf.keras.Sequential([\n",
        "        tf.keras.layers.Embedding(vocab_size, embedding_dim,\n",
        "                                  batch_input_shape=[batch_size, None]),\n",
        "        tf.keras.layers.GRU(rnn_units,\n",
        "                            return_sequences=True,\n",
        "                            stateful=stateful,\n",
        "                            dropout=0.2),\n",
        "        tf.keras.layers.Dense(vocab_size)\n",
        "    ])\n",
        "    return model"
      ],
      "execution_count": null,
      "outputs": []
    },
    {
      "cell_type": "markdown",
      "metadata": {
        "id": "lHrWCj0fi8FG",
        "colab_type": "text"
      },
      "source": [
        "Let's create the model.\n",
        "\n"
      ]
    },
    {
      "cell_type": "code",
      "metadata": {
        "id": "Vv5BBfh-sPxX",
        "colab_type": "code",
        "colab": {}
      },
      "source": [
        "# Number of RNN units\n",
        "rnn_units = 1024 \n",
        "\n",
        "# The embedding dimension\n",
        "embedding_dim = 256\n",
        "\n",
        "model = build_model(vocab_size = vocab_size, embedding_dim=embedding_dim,\n",
        "                    rnn_units=rnn_units, batch_size=BATCH_SIZE, stateful=False)"
      ],
      "execution_count": null,
      "outputs": []
    },
    {
      "cell_type": "markdown",
      "metadata": {
        "id": "iuiMMjDz0ZLg",
        "colab_type": "text"
      },
      "source": [
        "We set `stateful=False` because we are building a stateless model, that is the internal state of the `GRU` layer is reset every time it sees a new batch. This is useful when every sample is assumed to be independent of the past. Note that this is not our case since we have broken the whole text into shorter sequences (windows of length 101), although we are going to feed these shorter sequences shuffled into the RNN layer. It would be appropriate to build a stateful model and feed the windows sequentially onto the RNN layer as we will see it in the next section.\n",
        "\n",
        "For each character the model looks up the embedding, runs the GRU one timestep with the embedding as input, and applies the dense layer to generate logits predicting the log-likelihood of the next character:\n",
        "\n",
        "![](https://i.ibb.co/fpn6qR1/stateless-char-rnn.png)\n",
        "\n"
      ]
    },
    {
      "cell_type": "markdown",
      "metadata": {
        "id": "PsZ2AGQraMmY",
        "colab_type": "text"
      },
      "source": [
        "In our example the window length of the input is 101 but the model can be run on inputs of any length:"
      ]
    },
    {
      "cell_type": "code",
      "metadata": {
        "id": "T5t2PR_-aQoM",
        "colab_type": "code",
        "colab": {
          "base_uri": "https://localhost:8080/",
          "height": 252
        },
        "outputId": "8aa02b56-cb52-45ad-ada4-4e8c48f13d3e"
      },
      "source": [
        "model.summary()"
      ],
      "execution_count": null,
      "outputs": [
        {
          "output_type": "stream",
          "text": [
            "Model: \"sequential\"\n",
            "_________________________________________________________________\n",
            "Layer (type)                 Output Shape              Param #   \n",
            "=================================================================\n",
            "embedding (Embedding)        (32, None, 256)           9984      \n",
            "_________________________________________________________________\n",
            "gru (GRU)                    (32, None, 1024)          3938304   \n",
            "_________________________________________________________________\n",
            "dense (Dense)                (32, None, 39)            39975     \n",
            "=================================================================\n",
            "Total params: 3,988,263\n",
            "Trainable params: 3,988,263\n",
            "Non-trainable params: 0\n",
            "_________________________________________________________________\n"
          ],
          "name": "stdout"
        }
      ]
    },
    {
      "cell_type": "code",
      "metadata": {
        "id": "DOZz0RTCaRHe",
        "colab_type": "code",
        "colab": {
          "base_uri": "https://localhost:8080/",
          "height": 422
        },
        "outputId": "5fa44959-5f98-48c8-b4c6-1ea016b16d4d"
      },
      "source": [
        "from keras.utils.vis_utils import plot_model\n",
        "plot_model(model, to_file='model.png', show_shapes=True)"
      ],
      "execution_count": null,
      "outputs": [
        {
          "output_type": "execute_result",
          "data": {
            "image/png": "[encoded data removed]",
            "text/plain": [
              "<IPython.core.display.Image object>"
            ]
          },
          "metadata": {
            "tags": []
          },
          "execution_count": 20
        }
      ]
    },
    {
      "cell_type": "markdown",
      "metadata": {
        "id": "Szacny4E03by",
        "colab_type": "text"
      },
      "source": [
        "Before training the model, we run the model to see that it behaves as expected. First, we check the shape of the output:"
      ]
    },
    {
      "cell_type": "code",
      "metadata": {
        "id": "j0Ir72rM03m-",
        "colab_type": "code",
        "colab": {
          "base_uri": "https://localhost:8080/",
          "height": 34
        },
        "outputId": "119fd861-83e5-473d-a66e-4b30a9cbadf7"
      },
      "source": [
        "for input_example_batch, target_example_batch in dataset.take(1):\n",
        "   example_batch_predictions = model(input_example_batch)\n",
        "   print(example_batch_predictions.shape, \"# (batch_size, window_length, vocab_size)\")"
      ],
      "execution_count": null,
      "outputs": [
        {
          "output_type": "stream",
          "text": [
            "(32, 100, 39) # (batch_size, window_length, vocab_size)\n"
          ],
          "name": "stdout"
        }
      ]
    },
    {
      "cell_type": "markdown",
      "metadata": {
        "id": "CeviqBzx1Vpe",
        "colab_type": "text"
      },
      "source": [
        "To get actual predictions from the model we need to sample from the output distribution, to get actual character indices. This distribution is defined by the logits over the character vocabulary. \n",
        "\n",
        "**Note**: It is important to sample from this distribution as taking the argmax of the distribution can easily get the model stuck in a loop as we will see when we generate fake Shakespearean text.\n",
        "\n",
        "Let's try it for the first example in the batch:"
      ]
    },
    {
      "cell_type": "code",
      "metadata": {
        "id": "CJi_4b3f1WGx",
        "colab_type": "code",
        "colab": {
          "base_uri": "https://localhost:8080/",
          "height": 118
        },
        "outputId": "32cbfbc6-8815-4103-8efb-db953f1144f1"
      },
      "source": [
        "sampled_indices = tf.random.categorical(example_batch_predictions[0], num_samples=1)\n",
        "sampled_indices = tf.squeeze(sampled_indices,axis=-1).numpy()\n",
        "sampled_indices"
      ],
      "execution_count": null,
      "outputs": [
        {
          "output_type": "execute_result",
          "data": {
            "text/plain": [
              "array([22,  5, 18, 34,  6, 24, 27, 33, 33, 27, 38, 12, 26,  4, 30, 18,  1,\n",
              "       31, 32, 26, 30, 27, 19,  0, 18, 16, 12, 30, 11, 22, 29, 24, 22, 28,\n",
              "       29, 26, 10, 30,  1,  8, 11, 33,  6,  0, 11, 19, 30, 19, 24, 23,  8,\n",
              "       33,  5, 29, 16, 28, 20,  7, 10, 10, 22, 11,  4, 12, 20, 32, 19, 30,\n",
              "       11, 25, 38, 27, 13, 10, 35, 22, 24,  2, 18, 14, 33, 18, 38, 18, 22,\n",
              "       14, 17, 32, 22, 37,  0, 11, 16, 32, 34, 20, 26,  9,  3, 10])"
            ]
          },
          "metadata": {
            "tags": []
          },
          "execution_count": 22
        }
      ]
    },
    {
      "cell_type": "markdown",
      "metadata": {
        "id": "dNtUvzjm1n0z",
        "colab_type": "text"
      },
      "source": [
        "This gives us, at each timestep, a prediction of the next character index.\n",
        "\n",
        "As we said, the problem can be treated as a standard classification problem. Given the previous RNN state, and the input this time step, predict the class of the next character. The standard `tf.keras.losses.sparse_categorical_crossentropy` loss function works in this case because it is applied across the last dimension of the predictions. Because our model returns logits (we did not use the activation function in the last `Dense` layer), we need to set the `from_logits` flag."
      ]
    },
    {
      "cell_type": "code",
      "metadata": {
        "id": "qa5HQxaMrpd2",
        "colab_type": "code",
        "colab": {}
      },
      "source": [
        "def loss(labels, logits):\n",
        "    return tf.keras.losses.sparse_categorical_crossentropy(labels, logits, from_logits=True)"
      ],
      "execution_count": null,
      "outputs": []
    },
    {
      "cell_type": "markdown",
      "metadata": {
        "id": "qv1oon6NLRTK",
        "colab_type": "text"
      },
      "source": [
        "Let's compute the loss for the first example in the batch:"
      ]
    },
    {
      "cell_type": "code",
      "metadata": {
        "id": "zmDUb69YK1jZ",
        "colab_type": "code",
        "colab": {
          "base_uri": "https://localhost:8080/",
          "height": 50
        },
        "outputId": "aa39e60b-9f97-478e-fc48-fa6d661a41c8"
      },
      "source": [
        "example_batch_loss  = loss(target_example_batch, example_batch_predictions)\n",
        "print(\"Prediction shape: \", example_batch_predictions.shape, \" # (batch_size, window_length, vocab_size)\")\n",
        "print(\"scalar_loss:      \", example_batch_loss.numpy().mean())"
      ],
      "execution_count": null,
      "outputs": [
        {
          "output_type": "stream",
          "text": [
            "Prediction shape:  (32, 100, 39)  # (batch_size, window_length, vocab_size)\n",
            "scalar_loss:       3.663464\n"
          ],
          "name": "stdout"
        }
      ]
    },
    {
      "cell_type": "markdown",
      "metadata": {
        "id": "uQLmZcNXjYem",
        "colab_type": "text"
      },
      "source": [
        "We can then compile this model, using the loss previously defined and an Adam optimizer. Finally, we are ready to train the model for several epochs (this may take many hours, depending on our hardware):"
      ]
    },
    {
      "cell_type": "code",
      "metadata": {
        "id": "ntu_4DHsqtFe",
        "colab_type": "code",
        "colab": {}
      },
      "source": [
        "model.compile(loss=loss, optimizer=\"adam\")\n"
      ],
      "execution_count": null,
      "outputs": []
    },
    {
      "cell_type": "code",
      "metadata": {
        "id": "SfwKszsJLoSr",
        "colab_type": "code",
        "colab": {
          "base_uri": "https://localhost:8080/",
          "height": 34
        },
        "outputId": "5b085e15-d400-4eb4-a4f1-7e3a0f7e523c"
      },
      "source": [
        "print(f'Number of batches in the dataset: {dataset_size // window_length // BATCH_SIZE}')"
      ],
      "execution_count": null,
      "outputs": [
        {
          "output_type": "stream",
          "text": [
            "Number of batches in the dataset: 345\n"
          ],
          "name": "stdout"
        }
      ]
    },
    {
      "cell_type": "code",
      "metadata": {
        "id": "5xfvAYZUn89f",
        "colab_type": "code",
        "colab": {
          "base_uri": "https://localhost:8080/",
          "height": 1000
        },
        "outputId": "8fab43b2-6a7c-4397-cd75-cdc07242b6be"
      },
      "source": [
        "history = model.fit(dataset, epochs=30)"
      ],
      "execution_count": null,
      "outputs": [
        {
          "output_type": "stream",
          "text": [
            "Epoch 1/30\n",
            "345/345 [==============================] - 12s 34ms/step - loss: 2.3382\n",
            "Epoch 2/30\n",
            "345/345 [==============================] - 12s 34ms/step - loss: 1.7076\n",
            "Epoch 3/30\n",
            "345/345 [==============================] - 12s 34ms/step - loss: 1.4986\n",
            "Epoch 4/30\n",
            "345/345 [==============================] - 12s 34ms/step - loss: 1.3980\n",
            "Epoch 5/30\n",
            "345/345 [==============================] - 12s 34ms/step - loss: 1.3321\n",
            "Epoch 6/30\n",
            "345/345 [==============================] - 12s 34ms/step - loss: 1.2789\n",
            "Epoch 7/30\n",
            "345/345 [==============================] - 12s 35ms/step - loss: 1.2311\n",
            "Epoch 8/30\n",
            "345/345 [==============================] - 12s 35ms/step - loss: 1.1850\n",
            "Epoch 9/30\n",
            "345/345 [==============================] - 12s 35ms/step - loss: 1.1394\n",
            "Epoch 10/30\n",
            "345/345 [==============================] - 12s 35ms/step - loss: 1.0930\n",
            "Epoch 11/30\n",
            "345/345 [==============================] - 12s 35ms/step - loss: 1.0465\n",
            "Epoch 12/30\n",
            "345/345 [==============================] - 12s 35ms/step - loss: 1.0018\n",
            "Epoch 13/30\n",
            "345/345 [==============================] - 12s 36ms/step - loss: 0.9590\n",
            "Epoch 14/30\n",
            "345/345 [==============================] - 12s 36ms/step - loss: 0.9200\n",
            "Epoch 15/30\n",
            "345/345 [==============================] - 12s 36ms/step - loss: 0.8851\n",
            "Epoch 16/30\n",
            "345/345 [==============================] - 12s 36ms/step - loss: 0.8565\n",
            "Epoch 17/30\n",
            "345/345 [==============================] - 12s 36ms/step - loss: 0.8301\n",
            "Epoch 18/30\n",
            "345/345 [==============================] - 12s 36ms/step - loss: 0.8105\n",
            "Epoch 19/30\n",
            "345/345 [==============================] - 13s 36ms/step - loss: 0.7918\n",
            "Epoch 20/30\n",
            "345/345 [==============================] - 13s 37ms/step - loss: 0.7782\n",
            "Epoch 21/30\n",
            "345/345 [==============================] - 13s 36ms/step - loss: 0.7681\n",
            "Epoch 22/30\n",
            "345/345 [==============================] - 12s 36ms/step - loss: 0.7572\n",
            "Epoch 23/30\n",
            "345/345 [==============================] - 12s 36ms/step - loss: 0.7505\n",
            "Epoch 24/30\n",
            "345/345 [==============================] - 12s 36ms/step - loss: 0.7461\n",
            "Epoch 25/30\n",
            "345/345 [==============================] - 12s 36ms/step - loss: 0.7429\n",
            "Epoch 26/30\n",
            "345/345 [==============================] - 12s 36ms/step - loss: 0.7391\n",
            "Epoch 27/30\n",
            "345/345 [==============================] - 12s 36ms/step - loss: 0.7395\n",
            "Epoch 28/30\n",
            "345/345 [==============================] - 13s 36ms/step - loss: 0.7411\n",
            "Epoch 29/30\n",
            "345/345 [==============================] - 12s 36ms/step - loss: 0.7404\n",
            "Epoch 30/30\n",
            "345/345 [==============================] - 12s 36ms/step - loss: 0.7402\n"
          ],
          "name": "stdout"
        }
      ]
    },
    {
      "cell_type": "markdown",
      "metadata": {
        "id": "sAMmpZALyAoP",
        "colab_type": "text"
      },
      "source": [
        "### Using the Char-RNN Model"
      ]
    },
    {
      "cell_type": "markdown",
      "metadata": {
        "id": "kZ-ZR5s1Ucq4",
        "colab_type": "text"
      },
      "source": [
        "Now we have a model that can predict the next character in the text written by Shakespeare. After this model is trained, it will only be possible to use it to make predictions for batches of the same size as were used during training. To avoid this restriction, we create an identical model but using batch size 1, and copy the model’s weights to this model."
      ]
    },
    {
      "cell_type": "code",
      "metadata": {
        "id": "BhCqwTwBWDMA",
        "colab_type": "code",
        "colab": {}
      },
      "source": [
        "weigths_model = model.get_weights()\n",
        "\n",
        "model_pred = build_model(vocab_size, embedding_dim, rnn_units, batch_size=1, stateful=False)\n",
        "\n",
        "model_pred.set_weights(model.get_weights())\n",
        "\n",
        "model= model_pred\n"
      ],
      "execution_count": null,
      "outputs": []
    },
    {
      "cell_type": "code",
      "metadata": {
        "id": "w3cspfl7WIfg",
        "colab_type": "code",
        "colab": {
          "base_uri": "https://localhost:8080/",
          "height": 252
        },
        "outputId": "502306fc-b214-4440-9162-1eef964efa18"
      },
      "source": [
        "model.summary()"
      ],
      "execution_count": null,
      "outputs": [
        {
          "output_type": "stream",
          "text": [
            "Model: \"sequential_1\"\n",
            "_________________________________________________________________\n",
            "Layer (type)                 Output Shape              Param #   \n",
            "=================================================================\n",
            "embedding_1 (Embedding)      (1, None, 256)            9984      \n",
            "_________________________________________________________________\n",
            "gru_1 (GRU)                  (1, None, 1024)           3938304   \n",
            "_________________________________________________________________\n",
            "dense_1 (Dense)              (1, None, 39)             39975     \n",
            "=================================================================\n",
            "Total params: 3,988,263\n",
            "Trainable params: 3,988,263\n",
            "Non-trainable params: 0\n",
            "_________________________________________________________________\n"
          ],
          "name": "stdout"
        }
      ]
    },
    {
      "cell_type": "markdown",
      "metadata": {
        "id": "EA8T2eAryDt6",
        "colab_type": "text"
      },
      "source": [
        "To feed it some text to the model, we first need to preprocess it like we did earlier, so let’s create a little function for this.\n"
      ]
    },
    {
      "cell_type": "code",
      "metadata": {
        "id": "yekvEuneWnvS",
        "colab_type": "code",
        "colab": {}
      },
      "source": [
        "def encode_text_to_integers(texts):\n",
        "    X = np.array(tokenizer.texts_to_sequences(texts)) - 1\n",
        "    return X"
      ],
      "execution_count": null,
      "outputs": []
    },
    {
      "cell_type": "code",
      "metadata": {
        "id": "HilasdpmW3HX",
        "colab_type": "code",
        "colab": {
          "base_uri": "https://localhost:8080/",
          "height": 34
        },
        "outputId": "f5263817-ad22-40b2-fd5c-1bd58202abee"
      },
      "source": [
        "X_new = encode_text_to_integers([\"How are yo\"])\n",
        "print(f'Input text vectorized: {X_new}')"
      ],
      "execution_count": null,
      "outputs": [
        {
          "output_type": "stream",
          "text": [
            "Input text vectorized: [[ 6  3 16  0  4  8  1  0 15  3]]\n"
          ],
          "name": "stdout"
        }
      ]
    },
    {
      "cell_type": "markdown",
      "metadata": {
        "id": "f8BbjqPcyInv",
        "colab_type": "text"
      },
      "source": [
        "Now let’s use the model to predict the next letter in some text:"
      ]
    },
    {
      "cell_type": "code",
      "metadata": {
        "id": "UTGxkKB-AYcH",
        "colab_type": "code",
        "colab": {
          "base_uri": "https://localhost:8080/",
          "height": 34
        },
        "outputId": "8509d294-f3ee-4b80-9280-23c77554dce6"
      },
      "source": [
        "Y_pred = np.argmax(model.predict(X_new), axis=-1)\n",
        "print(tokenizer.sequences_to_texts(Y_pred + 1)[0][-1])"
      ],
      "execution_count": null,
      "outputs": [
        {
          "output_type": "stream",
          "text": [
            "u\n"
          ],
          "name": "stdout"
        }
      ]
    },
    {
      "cell_type": "markdown",
      "metadata": {
        "id": "9sbxTXemyMm3",
        "colab_type": "text"
      },
      "source": [
        "The model guessed right. Now let’s use this model to generate new text."
      ]
    },
    {
      "cell_type": "markdown",
      "metadata": {
        "id": "rWtyswyjyOM2",
        "colab_type": "text"
      },
      "source": [
        "### Generating Fake Shakespearean Text"
      ]
    },
    {
      "cell_type": "markdown",
      "metadata": {
        "id": "4ckBCsy8yQSq",
        "colab_type": "text"
      },
      "source": [
        "To generate new text using the Char-RNN model, we could feed it some text, make the model predict the most likely next letter, add it at the end of the text, then give the extended text to the model to guess the next letter, and so on. But in practice, this often leads to the same words being repeated over and over again. Instead, we can pick the next character randomly, with a probability equal to the estimated probability, using TensorFlow’s `tf.random.categorical()` function. This will generate a more diverse and interesting text. The `categorical()` function samples random class indices, given the class log probabilities (logits). To have more control over the diversity of the generated text, we can divide the logits by a number called the *temperature*, which we can tweak as we wish: a *temperature* close to 0 will favor the high-probability characters, while a very high temperature will give all characters an equal probability. The following `next_char()` function uses this approach to pick the next character to add to the input text:\n"
      ]
    },
    {
      "cell_type": "code",
      "metadata": {
        "id": "HaqVib2eZ94S",
        "colab_type": "code",
        "colab": {}
      },
      "source": [
        "def next_char(start_string, temperature=1):\n",
        "    # Converting our start string to numbers (vectorizing)\n",
        "    X_new = encode_text_to_integers([start_string])\n",
        "    predictions = model.predict(X_new)\n",
        "    # remove the batch dimension\n",
        "    predictions = tf.squeeze(predictions, 0)\n",
        "\n",
        "    # using a categorical distribution to predict the character returned by the model\n",
        "    temperature = 1.0\n",
        "    predictions = predictions / temperature\n",
        "    predicted_id = tf.random.categorical(predictions, num_samples=1)[-1,0].numpy()\n",
        "    # Converting our vector prediction to string\n",
        "    return tokenizer.sequences_to_texts([[predicted_id + 1]])[0]\n",
        "    "
      ],
      "execution_count": null,
      "outputs": []
    },
    {
      "cell_type": "code",
      "metadata": {
        "id": "blgug1oXVrxe",
        "colab_type": "code",
        "colab": {
          "base_uri": "https://localhost:8080/",
          "height": 34
        },
        "outputId": "a7b1611b-b659-4458-e84d-560e17269f7c"
      },
      "source": [
        "print(next_char(\"How are yo\", temperature=1))"
      ],
      "execution_count": null,
      "outputs": [
        {
          "output_type": "stream",
          "text": [
            "u\n"
          ],
          "name": "stdout"
        }
      ]
    },
    {
      "cell_type": "markdown",
      "metadata": {
        "id": "eM13EnZoySPC",
        "colab_type": "text"
      },
      "source": [
        "Next, we can write a small function that will repeatedly call `next_char()` to get the next character and append it to the given text:"
      ]
    },
    {
      "cell_type": "code",
      "metadata": {
        "id": "skPR50U9yUJT",
        "colab_type": "code",
        "colab": {}
      },
      "source": [
        "def complete_text(text, n_chars=200, temperature=1):\n",
        "    for _ in range(n_chars):\n",
        "        text += next_char(text, temperature)\n",
        "    return text"
      ],
      "execution_count": null,
      "outputs": []
    },
    {
      "cell_type": "markdown",
      "metadata": {
        "id": "oO0ihsKByWoK",
        "colab_type": "text"
      },
      "source": [
        "The next figure depicts the procedure for generating text.\n",
        "\n",
        "![](https://i.ibb.co/jJv8B2N/char-RNN-genberating-text.png)\n",
        "\n",
        "We are now ready to generate some text! Let’s try with different temperatures:\n",
        "\n"
      ]
    },
    {
      "cell_type": "code",
      "metadata": {
        "id": "ICh50_1KyYEX",
        "colab_type": "code",
        "colab": {
          "base_uri": "https://localhost:8080/",
          "height": 185
        },
        "outputId": "d904a2b7-bfed-43a1-eb93-b1aa52c6369b"
      },
      "source": [
        "print(complete_text(\"ROMEO: \", temperature=0.2))"
      ],
      "execution_count": null,
      "outputs": [
        {
          "output_type": "stream",
          "text": [
            "ROMEO: no man she does.\n",
            "\n",
            "gloucester:\n",
            "carth gonzalm, go but a higher banished;\n",
            "for 'tis crack'd in a dishest person:\n",
            "there was wait yours.ly, old grain,\n",
            "never come now death is doubt.\n",
            "\n",
            "second citizen:\n",
            "once; f\n"
          ],
          "name": "stdout"
        }
      ]
    },
    {
      "cell_type": "code",
      "metadata": {
        "id": "Ye4Q_ZITFwdZ",
        "colab_type": "code",
        "colab": {
          "base_uri": "https://localhost:8080/",
          "height": 151
        },
        "outputId": "4e0f4be1-6765-4384-fdbd-4a7e27e49363"
      },
      "source": [
        "print(complete_text(\"ROMEO: \", temperature=1))"
      ],
      "execution_count": null,
      "outputs": [
        {
          "output_type": "stream",
          "text": [
            "ROMEO: gentlemen, with the profition\n",
            "let them heep: 'tis love it will.\n",
            "i make you kindly.\n",
            "\n",
            "marcius:\n",
            "gentle sir, most high-behembed,\n",
            "shall in the other. therefore, not well:\n",
            "regetter you, my sovereign kings, \n"
          ],
          "name": "stdout"
        }
      ]
    },
    {
      "cell_type": "markdown",
      "metadata": {
        "id": "7UviAR4IyZgz",
        "colab_type": "text"
      },
      "source": [
        "Note that the model is character-based, so when training started, the model did not know how to spell an English word, or that words were even a unit of text.\n",
        "\n",
        "Apparently, our Shakespeare model works best at a temperature close to 1. To generate more convincing text, we could try using more GRU layers, train for longer, and add some regularization (for example, we could set `recurrent_dropout=0.3` in the `GRU` layers). Moreover, the model is currently incapable of learning patterns longer than `n_steps`, which is just 100 characters. We could try making this window larger, but it will also make training harder, and even LSTM and GRU cells cannot handle very long sequences. Alternatively, we could use a stateful RNN."
      ]
    },
    {
      "cell_type": "markdown",
      "metadata": {
        "id": "0nM9pI2KyesR",
        "colab_type": "text"
      },
      "source": [
        "### Stateful RNN"
      ]
    },
    {
      "cell_type": "markdown",
      "metadata": {
        "id": "Lez4c_RYyfgK",
        "colab_type": "text"
      },
      "source": [
        "Until now, we have used only stateless RNNs: at each training iteration the model starts with a hidden state full of zeros, then it updates this state at each time step, and after the last time step, it throws it away, as it is not needed anymore. What if we told the RNN to preserve this final state after processing one training batch and use it as the initial state for the next training batch? This way the model can learn long-term patterns despite only backpropagating through short sequences. This is called a *stateful RNN*. Let’s see how to build one.\n",
        "\n",
        "First, note that a stateful RNN only makes sense if each input sequence in a batch starts exactly where the corresponding sequence in the previous batch left off. So the first thing we need to do to build a stateful RNN is to use sequential and nonoverlapping input sequences. We will use the dataset’s `window()` method to convert this long sequence of characters into many smaller windows of text. We set the parameter `shift=n_steps` when calling the `window()` method. Note that the `window()` method creates a dataset that contains windows, each of which is also represented as a dataset. It’s a *nested dataset*, analogous to a list of lists. This is useful when we want to transform each window by calling its dataset methods (e.g., to shuffle them or batch them). However, we cannot use a nested dataset directly for training, as our model will expect tensors as input, not datasets. So, we must call the `flat_map()` method which converts a nested dataset into a flat dataset (one that does not contain datasets). \n",
        "\n",
        "Moreover, we must obviously not call the `shuffle()` method. Unfortunately, batching is much harder when preparing a dataset for a stateful RNN than it is for a stateless RNN. Indeed, if we were to call `batch(32)`, then 32 consecutive windows would be put in the same batch, and the following batch would not continue each of these window where it left off. The first batch would contain windows 1 to 32 and the second batch would contain windows 33 to 64, so if you consider, say, the first window of each batch (i.e., windows 1 and 33), you can see that they are not consecutive. The simplest solution to this problem is to just use “batches” containing a single window.\n",
        "\n",
        "Figure 16-2 summarizes the dataset preparation steps discussed so far (showing windows of length 11 rather than 101, and a batch size of 1).\n",
        "\n",
        "![texto alternativo](https://i.ibb.co/xSm5z3F/sequence-fragments-stateful-RNN.png)\n",
        "\n",
        "Batching is harder, but it is not impossible. For example, we could chop Shakespeare’s text into 32 texts of equal length, create one dataset of consecutive input sequences for each of them, and finally use `tf.data.Dataset.zip(datasets).map(lambda *windows: tf.stack(windows))` to create proper consecutive batches, where the $n^{\\text{th}}$ input sequence in a batch starts off exactly where the $n^{\\text{th}}$ input sequence ended in the previous batch:"
      ]
    },
    {
      "cell_type": "code",
      "metadata": {
        "id": "L4ffy4whd3es",
        "colab_type": "code",
        "colab": {}
      },
      "source": [
        "batch_size = 32\n",
        "encoded_parts = np.array_split(text_as_int, batch_size)#[:train_size]"
      ],
      "execution_count": null,
      "outputs": []
    },
    {
      "cell_type": "code",
      "metadata": {
        "id": "yKQQHIv0d_yw",
        "colab_type": "code",
        "colab": {
          "base_uri": "https://localhost:8080/",
          "height": 50
        },
        "outputId": "274d666e-f72e-4a39-a9a8-e9ffc98c2d33"
      },
      "source": [
        "encoded_part = encoded_parts[0]\n",
        "print(encoded_part.shape)\n",
        "print(encoded_part)"
      ],
      "execution_count": null,
      "outputs": [
        {
          "output_type": "stream",
          "text": [
            "(34857,)\n",
            "[19  5  8 ...  7  0 19]\n"
          ],
          "name": "stdout"
        }
      ]
    },
    {
      "cell_type": "code",
      "metadata": {
        "id": "DmM0UCTIeORL",
        "colab_type": "code",
        "colab": {
          "base_uri": "https://localhost:8080/",
          "height": 101
        },
        "outputId": "9490b6d8-b54f-4e3c-9ff7-ea9b2f63e279"
      },
      "source": [
        "dataset = tf.data.Dataset.from_tensor_slices(encoded_part)\n",
        "for element in dataset.take(5):\n",
        "    print(element)\n",
        "    "
      ],
      "execution_count": null,
      "outputs": [
        {
          "output_type": "stream",
          "text": [
            "tf.Tensor(19, shape=(), dtype=int64)\n",
            "tf.Tensor(5, shape=(), dtype=int64)\n",
            "tf.Tensor(8, shape=(), dtype=int64)\n",
            "tf.Tensor(7, shape=(), dtype=int64)\n",
            "tf.Tensor(2, shape=(), dtype=int64)\n"
          ],
          "name": "stdout"
        }
      ]
    },
    {
      "cell_type": "code",
      "metadata": {
        "id": "aC3jgJhveaNq",
        "colab_type": "code",
        "colab": {
          "base_uri": "https://localhost:8080/",
          "height": 118
        },
        "outputId": "b11d0b7c-656a-4b6d-c133-79691b79641e"
      },
      "source": [
        "dataset = dataset.window(window_length, shift=n_steps, drop_remainder=True)\n",
        "for window in dataset.take(2):\n",
        "    print(window)\n",
        "    for element in window.take(2):\n",
        "        print(element)"
      ],
      "execution_count": null,
      "outputs": [
        {
          "output_type": "stream",
          "text": [
            "<_VariantDataset shapes: (), types: tf.int64>\n",
            "tf.Tensor(19, shape=(), dtype=int64)\n",
            "tf.Tensor(5, shape=(), dtype=int64)\n",
            "<_VariantDataset shapes: (), types: tf.int64>\n",
            "tf.Tensor(0, shape=(), dtype=int64)\n",
            "tf.Tensor(4, shape=(), dtype=int64)\n"
          ],
          "name": "stdout"
        }
      ]
    },
    {
      "cell_type": "code",
      "metadata": {
        "id": "IeQv00lJe6Ll",
        "colab_type": "code",
        "colab": {
          "base_uri": "https://localhost:8080/",
          "height": 218
        },
        "outputId": "4077a753-1fde-4b6e-be4d-e43c889ebada"
      },
      "source": [
        "dataset = dataset.flat_map(lambda window: window.batch(window_length))\n",
        "for window_tensor in dataset.take(2):\n",
        "    print(window_tensor)"
      ],
      "execution_count": null,
      "outputs": [
        {
          "output_type": "stream",
          "text": [
            "tf.Tensor(\n",
            "[19  5  8  7  2  0 18  5  2  5 35  1  9 23 10 21  1 19  3  8  1  0 16  1\n",
            "  0 22  8  3 18  1  1 12  0  4  9 15  0 19 13  8  2  6  1  8 17  0  6  1\n",
            "  4  8  0 14  1  0  7 22  1  4 24 26 10 10  4 11 11 23 10  7 22  1  4 24\n",
            " 17  0  7 22  1  4 24 26 10 10 19  5  8  7  2  0 18  5  2  5 35  1  9 23\n",
            " 10 15  3 13  0], shape=(101,), dtype=int64)\n",
            "tf.Tensor(\n",
            "[ 0  4  8  1  0  4 11 11  0  8  1  7  3 11 25  1 12  0  8  4  2  6  1  8\n",
            "  0  2  3  0 12  5  1  0  2  6  4  9  0  2  3  0 19  4 14  5  7  6 29 10\n",
            " 10  4 11 11 23 10  8  1  7  3 11 25  1 12 26  0  8  1  7  3 11 25  1 12\n",
            " 26 10 10 19  5  8  7  2  0 18  5  2  5 35  1  9 23 10 19  5  8  7  2 17\n",
            "  0 15  3 13  0], shape=(101,), dtype=int64)\n"
          ],
          "name": "stdout"
        }
      ]
    },
    {
      "cell_type": "code",
      "metadata": {
        "id": "wHvihsx7d-Hm",
        "colab_type": "code",
        "colab": {}
      },
      "source": [
        "datasets = []\n",
        "for encoded_part in encoded_parts:\n",
        "    dataset = tf.data.Dataset.from_tensor_slices(encoded_part)\n",
        "    dataset = dataset.window(window_length, shift=n_steps, drop_remainder=True)\n",
        "    dataset = dataset.flat_map(lambda window: window.batch(window_length))\n",
        "    datasets.append(dataset)\n",
        "dataset = tf.data.Dataset.zip(tuple(datasets)).map(lambda *windows: tf.stack(windows))\n",
        "dataset = dataset.map(lambda windows: (windows[:, :-1], windows[:, 1:]))"
      ],
      "execution_count": null,
      "outputs": []
    },
    {
      "cell_type": "markdown",
      "metadata": {
        "id": "MX3gnSSRyj2a",
        "colab_type": "text"
      },
      "source": [
        "Now let’s create the stateful RNN. First, we need to set `stateful=True` when creating every recurrent layer.\n"
      ]
    },
    {
      "cell_type": "code",
      "metadata": {
        "id": "x1dxnlTojNTK",
        "colab_type": "code",
        "colab": {}
      },
      "source": [
        "model = build_model(vocab_size = vocab_size, embedding_dim=embedding_dim,\n",
        "                    rnn_units=rnn_units, batch_size=32, stateful=True)"
      ],
      "execution_count": null,
      "outputs": []
    },
    {
      "cell_type": "code",
      "metadata": {
        "id": "axWRYYw8k1_V",
        "colab_type": "code",
        "colab": {
          "base_uri": "https://localhost:8080/",
          "height": 252
        },
        "outputId": "304dc5f9-4156-4bb6-a473-a555cc380a95"
      },
      "source": [
        "model.summary()"
      ],
      "execution_count": null,
      "outputs": [
        {
          "output_type": "stream",
          "text": [
            "Model: \"sequential_2\"\n",
            "_________________________________________________________________\n",
            "Layer (type)                 Output Shape              Param #   \n",
            "=================================================================\n",
            "embedding_2 (Embedding)      (32, None, 256)           9984      \n",
            "_________________________________________________________________\n",
            "gru_2 (GRU)                  (32, None, 1024)          3938304   \n",
            "_________________________________________________________________\n",
            "dense_2 (Dense)              (32, None, 39)            39975     \n",
            "=================================================================\n",
            "Total params: 3,988,263\n",
            "Trainable params: 3,988,263\n",
            "Non-trainable params: 0\n",
            "_________________________________________________________________\n"
          ],
          "name": "stdout"
        }
      ]
    },
    {
      "cell_type": "markdown",
      "metadata": {
        "id": "Hwe74P38Jvkc",
        "colab_type": "text"
      },
      "source": [
        "For each character the model looks up the embedding, runs the GRU one timestep with the embedding as input, and applies the dense layer to generate logits predicting the log-likelihood of the next character:\n",
        "\n",
        "![](https://i.ibb.co/6ykYWq6/char-rnn.png)"
      ]
    },
    {
      "cell_type": "markdown",
      "metadata": {
        "id": "2HUua7Npyp7s",
        "colab_type": "text"
      },
      "source": [
        "At the end of each epoch, we need to reset the states before we go back to the beginning of the text. For this, we can use a small callback:"
      ]
    },
    {
      "cell_type": "code",
      "metadata": {
        "id": "ME-AvM06yqOY",
        "colab_type": "code",
        "colab": {}
      },
      "source": [
        "class ResetStatesCallback(keras.callbacks.Callback):\n",
        "    def on_epoch_begin(self, epoch, logs):\n",
        "        self.model.reset_states()"
      ],
      "execution_count": null,
      "outputs": []
    },
    {
      "cell_type": "markdown",
      "metadata": {
        "id": "oUs5XvTAysF7",
        "colab_type": "text"
      },
      "source": [
        "And now we can compile and fit the model:"
      ]
    },
    {
      "cell_type": "code",
      "metadata": {
        "id": "i2OhuNwIT46y",
        "colab_type": "code",
        "colab": {}
      },
      "source": [
        "model.compile(loss=loss, optimizer=\"adam\")"
      ],
      "execution_count": null,
      "outputs": []
    },
    {
      "cell_type": "code",
      "metadata": {
        "id": "Q_Pqa_jPT8F8",
        "colab_type": "code",
        "colab": {
          "base_uri": "https://localhost:8080/",
          "height": 34
        },
        "outputId": "a9086265-3881-4b22-c2f4-0f8eef912b60"
      },
      "source": [
        "print(f'Number of batches in the dataset: {dataset_size // batch_size // n_steps}')"
      ],
      "execution_count": null,
      "outputs": [
        {
          "output_type": "stream",
          "text": [
            "Number of batches in the dataset: 348\n"
          ],
          "name": "stdout"
        }
      ]
    },
    {
      "cell_type": "code",
      "metadata": {
        "id": "mp2mYhEpytb6",
        "colab_type": "code",
        "colab": {
          "base_uri": "https://localhost:8080/",
          "height": 1000
        },
        "outputId": "8e03735d-e405-462a-a5f5-476e0fa2f694"
      },
      "source": [
        "history = model.fit(dataset, epochs=30, callbacks=[ResetStatesCallback()])"
      ],
      "execution_count": null,
      "outputs": [
        {
          "output_type": "stream",
          "text": [
            "Epoch 1/30\n",
            "348/348 [==============================] - 14s 39ms/step - loss: 2.2843\n",
            "Epoch 2/30\n",
            "348/348 [==============================] - 14s 40ms/step - loss: 1.6461\n",
            "Epoch 3/30\n",
            "348/348 [==============================] - 14s 40ms/step - loss: 1.4416\n",
            "Epoch 4/30\n",
            "348/348 [==============================] - 14s 40ms/step - loss: 1.3428\n",
            "Epoch 5/30\n",
            "348/348 [==============================] - 14s 40ms/step - loss: 1.2757\n",
            "Epoch 6/30\n",
            "348/348 [==============================] - 14s 40ms/step - loss: 1.2202\n",
            "Epoch 7/30\n",
            "348/348 [==============================] - 14s 40ms/step - loss: 1.1700\n",
            "Epoch 8/30\n",
            "348/348 [==============================] - 14s 40ms/step - loss: 1.1196\n",
            "Epoch 9/30\n",
            "348/348 [==============================] - 14s 40ms/step - loss: 1.0696\n",
            "Epoch 10/30\n",
            "348/348 [==============================] - 14s 40ms/step - loss: 1.0225\n",
            "Epoch 11/30\n",
            "348/348 [==============================] - 14s 40ms/step - loss: 0.9819\n",
            "Epoch 12/30\n",
            "348/348 [==============================] - 14s 40ms/step - loss: 0.9509\n",
            "Epoch 13/30\n",
            "348/348 [==============================] - 14s 40ms/step - loss: 0.9206\n",
            "Epoch 14/30\n",
            "348/348 [==============================] - 14s 40ms/step - loss: 0.8965\n",
            "Epoch 15/30\n",
            "348/348 [==============================] - 14s 40ms/step - loss: 0.8797\n",
            "Epoch 16/30\n",
            "348/348 [==============================] - 14s 40ms/step - loss: 0.8675\n",
            "Epoch 17/30\n",
            "348/348 [==============================] - 14s 40ms/step - loss: 0.8583\n",
            "Epoch 18/30\n",
            "348/348 [==============================] - 14s 40ms/step - loss: 0.8506\n",
            "Epoch 19/30\n",
            "348/348 [==============================] - 14s 40ms/step - loss: 0.8427\n",
            "Epoch 20/30\n",
            "348/348 [==============================] - 14s 40ms/step - loss: 0.8388\n",
            "Epoch 21/30\n",
            "348/348 [==============================] - 14s 40ms/step - loss: 0.8377\n",
            "Epoch 22/30\n",
            "348/348 [==============================] - 14s 40ms/step - loss: 0.8339\n",
            "Epoch 23/30\n",
            "348/348 [==============================] - 14s 40ms/step - loss: 0.8348\n",
            "Epoch 24/30\n",
            "348/348 [==============================] - 14s 40ms/step - loss: 0.8345\n",
            "Epoch 25/30\n",
            "348/348 [==============================] - 14s 40ms/step - loss: 0.8361\n",
            "Epoch 26/30\n",
            "348/348 [==============================] - 14s 40ms/step - loss: 0.8350\n",
            "Epoch 27/30\n",
            "348/348 [==============================] - 14s 40ms/step - loss: 0.8399\n",
            "Epoch 28/30\n",
            "348/348 [==============================] - 14s 40ms/step - loss: 0.8399\n",
            "Epoch 29/30\n",
            "348/348 [==============================] - 14s 40ms/step - loss: 0.8426\n",
            "Epoch 30/30\n",
            "348/348 [==============================] - 14s 40ms/step - loss: 0.8502\n"
          ],
          "name": "stdout"
        }
      ]
    },
    {
      "cell_type": "markdown",
      "metadata": {
        "id": "X9fPBi7nyv-_",
        "colab_type": "text"
      },
      "source": [
        "As with the stateless model, after training, it will only be possible to use it to make predictions for batches of the same size as were used during training. To avoid this restriction, we create an identical model with batch_size 1, and copy the model’s weights to this model. To set the weights.\n",
        "\n"
      ]
    },
    {
      "cell_type": "code",
      "metadata": {
        "id": "QMwL00ekZDH-",
        "colab_type": "code",
        "colab": {}
      },
      "source": [
        "weigths_model = model.get_weights()\n",
        "\n",
        "model_pred = build_model(vocab_size, embedding_dim, rnn_units, batch_size=1, stateful=False)\n",
        "\n",
        "model_pred.set_weights(model.get_weights())\n",
        "\n",
        "model= model_pred"
      ],
      "execution_count": null,
      "outputs": []
    },
    {
      "cell_type": "code",
      "metadata": {
        "id": "hegSJD_Aorlx",
        "colab_type": "code",
        "colab": {
          "base_uri": "https://localhost:8080/",
          "height": 151
        },
        "outputId": "b6a9c996-10b8-4318-951b-6cab6d06a5f3"
      },
      "source": [
        "print(complete_text(\"ROMEO: \", temperature=1))"
      ],
      "execution_count": null,
      "outputs": [
        {
          "output_type": "stream",
          "text": [
            "ROMEO: is thy\n",
            "boneth he shall, my mounding successed?\n",
            "\n",
            "friar laurence:\n",
            "of so die in this cup blast send\n",
            "from my order appetite, by this disguise,\n",
            "fall not a wonder, i through my life\n",
            "and tell him what your q\n"
          ],
          "name": "stdout"
        }
      ]
    },
    {
      "cell_type": "markdown",
      "metadata": {
        "id": "vAUej-msrk1a",
        "colab_type": "text"
      },
      "source": [
        "# References"
      ]
    },
    {
      "cell_type": "markdown",
      "metadata": {
        "id": "dYzxXnkgrmSv",
        "colab_type": "text"
      },
      "source": [
        "- [Hands-On Machine Learning with Scikit-Learn, Keras, and TensorFlow](https://www.oreilly.com/library/view/hands-on-machine-learning/9781492032632/)\n",
        "\n",
        "- https://github.com/ageron/handson-ml2\n",
        "\n",
        "- [Text generation TensorFlow](https://www.tensorflow.org/tutorials/text/text_generation)\n",
        "\n",
        "- [RNNs MIT lecture](https://www.youtube.com/watch?v=SEnXr6v2ifU)\n",
        "\n",
        "- [Character-level Recurrent Neural Networks in Practice: Comparing Training and Sampling Schemes](https://arxiv.org/abs/1801.00632)\n",
        "\n",
        "- [Keras examples: Character-level text generation with LSTM](https://keras.io/examples/generative/lstm_character_level_text_generation/)\n",
        "\n",
        "- [Sequence Models course](https://www.coursera.org/lecture/nlp-sequence-models/language-model-and-sequence-generation-gw1Xw)\n",
        "\n",
        "- [Character level language model](https://towardsdatascience.com/character-level-language-model-1439f5dd87fe)\n",
        "\n"
      ]
    }
  ]
}