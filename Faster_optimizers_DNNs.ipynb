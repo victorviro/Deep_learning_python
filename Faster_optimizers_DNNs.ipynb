{
  "nbformat": 4,
  "nbformat_minor": 0,
  "metadata": {
    "colab": {
      "name": "Faster_optimizers_DNNs.ipynb",
      "provenance": [],
      "collapsed_sections": [
        "udj8N1L4Fpo3",
        "9KaImCHHF9mv",
        "RqsNTecjGIxe",
        "ZC7ni1ozhdhD"
      ],
      "toc_visible": true,
      "authorship_tag": "ABX9TyP1fmtc1cR8p7FVKULVdjwV",
      "include_colab_link": true
    },
    "kernelspec": {
      "name": "python3",
      "display_name": "Python 3"
    },
    "accelerator": "GPU"
  },
  "cells": [
    {
      "cell_type": "markdown",
      "metadata": {
        "id": "view-in-github",
        "colab_type": "text"
      },
      "source": [
        "<a href=\"https://colab.research.google.com/github/victorviro/Deep_learning_python/blob/master/Faster_optimizers_DNNs.ipynb\" target=\"_parent\"><img src=\"https://colab.research.google.com/assets/colab-badge.svg\" alt=\"Open In Colab\"/></a>"
      ]
    },
    {
      "cell_type": "markdown",
      "metadata": {
        "id": "IO6aee_iFYHq",
        "colab_type": "text"
      },
      "source": [
        "# Training Deep Neural Networks"
      ]
    },
    {
      "cell_type": "markdown",
      "metadata": {
        "id": "Q5NlkipYFYQO",
        "colab_type": "text"
      },
      "source": [
        "In a past article we introduced artificial neural networks and trained our first deep neural networks. But they were shallow nets, with just a few hidden layers. What if you need to tackle a complex problem, such as detecting hundreds of types of objects in high-resolution images? You may need to train a much deeper DNN, perhaps with 10 layers or many more, each containing hundreds of neurons, linked by hundreds of thousands of connections. Training a deep DNN isn’t a walk in the park. Here are some of the problems you could run into:\n",
        "\n",
        "- You may be faced with the tricky *vanishing gradients* problem or the related *exploding gradients* problem. This is when the gradients grow smaller and smaller, or larger and larger, when flowing backward through the DNN during training. Both of these problems make lower layers very hard to train.\n",
        "\n",
        "- You might not have enough training data for such a large network, or it might be too costly to label.\n",
        "\n",
        "- Training may be extremely slow.\n",
        "\n",
        "- A model with millions of parameters would severely risk overfitting the training set, especially if there are not enough training instances or if they are too noisy.\n",
        "\n",
        "In this notebook we will discuss various optimizers that can speed up training large models tremendously."
      ]
    },
    {
      "cell_type": "markdown",
      "metadata": {
        "id": "KrxThpP5FYTF",
        "colab_type": "text"
      },
      "source": [
        "## Faster optimizers"
      ]
    },
    {
      "cell_type": "markdown",
      "metadata": {
        "id": "hNRKC4M_FYVz",
        "colab_type": "text"
      },
      "source": [
        "Training a very large deep neural network can be painfully slow. There are diferent ways to speed up training (and reach a better solution): applying a good initialization strategy for the connection weights, using a good activation function, using [Batch Normalization](https://github.com/victorviro/Deep_learning_python/blob/master/Vanishing_Exploding_gradients_problem_DNNs.ipynb), and reusing parts of a pretrained network (possibly built on an auxiliary task or using unsupervised learning). Another huge speed boost comes from using a faster optimizer than the regular [Gradient Descent optimizer](https://github.com/victorviro/ML_algorithms_python/blob/master/Introduction_gradient_descent_algorithm.ipynb). In this section we will present the most popular algorithms: momentum optimization, Nesterov Accelerated Gradient, AdaGrad, RMSProp, and finally Adam and Nadam optimization.\n",
        "\n"
      ]
    },
    {
      "cell_type": "markdown",
      "metadata": {
        "id": "udj8N1L4Fpo3",
        "colab_type": "text"
      },
      "source": [
        "### Momentum Optimization"
      ]
    },
    {
      "cell_type": "markdown",
      "metadata": {
        "id": "IMUjhVUTFYYY",
        "colab_type": "text"
      },
      "source": [
        "Imagine a bowling ball rolling down a gentle slope on a smooth surface: it will start out slowly, but it will quickly pick up momentum until it eventually reaches terminal velocity (if there is some friction or air resistance). This is the very simple idea behind momentum optimization, proposed by Boris Polyak in 1964. In contrast, regular Gradient Descent will simply take small, regular steps down the slope, so the algorithm will take much more time to reach the bottom.\n",
        "\n",
        "Recall that Gradient Descent updates the weights $\\boldsymbol{\\theta}$ by directly subtracting the gradient of the cost function $J(\\boldsymbol{\\theta})$ with regard to the weights $(\\nabla_{\\theta}J(\\boldsymbol{\\theta}))$ multiplied by the learning rate $\\eta$. The equation is: \n",
        "$$\\boldsymbol{\\theta}_t \\leftarrow  \\boldsymbol{\\theta}_{t-1} - \\eta \\nabla_{\\theta_{t-1}}J(\\boldsymbol{\\theta}_{t-1})$$\n",
        "\n",
        "It does not care about what the earlier gradients were. If the local gradient is tiny, it goes very slowly.\n",
        "\n",
        "Momentum optimization cares a great deal about what previous gradients were: at each iteration, it subtracts the local gradient from the *momentum vector* $\\boldsymbol{m}$ (multiplied by the learning rate $\\eta$), and it updates the weights by adding this momentum vector (see equation). In other words, the gradient is used for acceleration, not for speed. To simulate some sort of friction mechanism and prevent the momentum from growing too large, the algorithm introduces a new hyperparameter β, called the momentum, which must be set between 0 (high friction) and 1 (no friction). A typical momentum value is 0.9.\n",
        "\n",
        "\\begin{cases}\n",
        "\\boldsymbol{m}_t \\leftarrow  \\beta\\boldsymbol{m}_{t-1} - \\eta \\nabla_{\\theta_{t-1}}J(\\boldsymbol{\\theta}_{t-1})\\\\\\\\\n",
        "\\boldsymbol{\\theta}_t \\leftarrow  \\boldsymbol{\\theta}_{t-1} + \\boldsymbol{m}_t\n",
        "\\end{cases}\n",
        "\n",
        "**Note**: Some implementations exchange the signs in the equations.\n",
        "\n",
        "Essentially, when using momentum, we push a ball down a hill. The ball accumulates momentum as it rolls downhill, becoming faster and faster on the way (until it reaches its terminal velocity if there is friction or air resistance, i.e. $\\beta < 1$). The same thing happens to our parameter updates: The momentum term increases for dimensions whose gradients point in the same directions and reduces updates for dimensions whose gradients change directions. As a result, we gain faster convergence and reduced oscillation.\n",
        "\n",
        "You can easily verify that if the gradient remains constant, the terminal velocity (i.e., the maximum size of the weight updates) is equal to that gradient multiplied by the learning rate $\\eta$ multiplied by $\\frac{1}{1-\\beta}$ (ignoring the sign). For example, if $\\beta = 0.9$, then the terminal velocity is equal to $10$ times the gradient times the learning rate, so momentum optimization ends up going $10$ times faster than Gradient Descent! This allows momentum optimization to escape from plateaus much faster than Gradient Descent. We saw in ([notebook gradient descent](https://github.com/victorviro/ML_algorithms_python/blob/master/Introduction_gradient_descent_algorithm.ipynb)) that when the inputs have very different scales, the cost function will look like an elongated bowl (see Figure 4-7). Gradient Descent goes down the steep slope quite fast, but then it takes a very long time to go down the valley. In contrast, momentum optimization will roll down the valley faster and faster until it reaches the bottom (the optimum). In deep neural networks that don’t use Batch Normalization, the upper layers will often end up having inputs with very different scales, so using momentum optimization helps a lot. It can also help roll past local optima.\n",
        "\n",
        "![texto alternativo](https://i.ibb.co/Qkr1DHz/sgd-vd-momentum.png)\n",
        "\n",
        "**Note**: Due to the momentum, the optimizer may overshoot a bit, then come back, overshoot again, and oscillate like this many times before stabilizing at the minimum. This is one of the reasons it’s good to have a bit of friction in the system: it gets rid of these oscillations and thus speeds up convergence.\n",
        "\n"
      ]
    },
    {
      "cell_type": "markdown",
      "metadata": {
        "id": "UIcILUxGF4JP",
        "colab_type": "text"
      },
      "source": [
        "Implementing momentum optimization in Keras is simple: just use the `SGD` optimizer and set its `momentum` hyperparameter."
      ]
    },
    {
      "cell_type": "code",
      "metadata": {
        "id": "Aok8l0QwF49t",
        "colab_type": "code",
        "colab": {}
      },
      "source": [
        "import keras\n",
        "\n",
        "optimizer = keras.optimizers.SGD(lr=0.001, momentum=0.9)"
      ],
      "execution_count": 17,
      "outputs": []
    },
    {
      "cell_type": "markdown",
      "metadata": {
        "id": "mUV9wBQRF7D5",
        "colab_type": "text"
      },
      "source": [
        "The one drawback of momentum optimization is that it adds yet another hyperparameter to tune. However, the momentum value of $0.9$ usually works well in practice and almost always goes faster than regular Gradient Descent."
      ]
    },
    {
      "cell_type": "markdown",
      "metadata": {
        "id": "9KaImCHHF9mv",
        "colab_type": "text"
      },
      "source": [
        "### Nesterov Accelerated Gradient"
      ]
    },
    {
      "cell_type": "markdown",
      "metadata": {
        "id": "3uSt9KW0F-qf",
        "colab_type": "text"
      },
      "source": [
        "However, a ball that rolls down a hill, blindly following the slope, is highly unsatisfactory. We'd like to have a smarter ball, a ball that has a notion of where it is going so that it knows to slow down before the hill slopes up again.\n",
        "\n",
        "One small variant to momentum optimization, proposed by Yurii Nesterov in 1983, is almost always faster than vanilla momentum optimization. The **Nesterov Accelerated Gradient** (NAG) method, also known as **Nesterov momentum optimization**, measures the gradient of the cost function not at the local position $\\boldsymbol{\\theta}$ but slightly ahead in the direction of the momentum, at $\\boldsymbol{\\theta}+\\beta \\boldsymbol{m}$:\n",
        "\n",
        "\\begin{cases}\n",
        "\\boldsymbol{m}_t \\leftarrow  \\beta\\boldsymbol{m}_{t-1} - \\eta \\nabla_{\\theta_{t-1}}J(\\boldsymbol{\\theta}_{t-1}+\\beta \\boldsymbol{m_{t-1}})\\\\\\\\\n",
        "\\boldsymbol{\\theta}_t \\leftarrow  \\boldsymbol{\\theta}_{t-1} + \\boldsymbol{m}_t\n",
        "\\end{cases}\n",
        "\n",
        "\n",
        "This small tweak works because in general the momentum vector will be pointing in the right direction (i.e., toward the optimum), so it will be slightly more accurate to use the gradient measured a bit farther in that direction rather than the gradient at the original position, as you can see in Figure 11-6 (where $\\nabla_1$ represents the gradient of the cost function measured at the starting point $\\boldsymbol{\\theta}$, and $\\nabla_2$ represents the gradient at the point located at $\\boldsymbol{\\theta}+\\beta \\boldsymbol{m}$).\n",
        "\n",
        "As you can see, the Nesterov update ends up slightly closer to the optimum. After a while, these small improvements add up and NAG ends up being significantly faster than regular momentum optimization. Moreover, note that when the momentum pushes the weights across a valley, $\\nabla_1$ continues to push farther across the valley, while $\\nabla_2$ pushes back toward the bottom of the valley. This helps reduce oscillations and thus NAG converges faster.\n",
        "\n",
        "![texto alternativo](https://i.ibb.co/2K8Wd5x/NAG.png)\n",
        "\n",
        "Again, we set the momentum term $\\beta=0.9$. While Momentum first computes the current gradient and then takes a big jump in the direction of the updated accumulated gradient, NAG first makes a big jump in the direction of the previous accumulated gradient, measures the gradient and then makes a correction, which results in the complete NAG update. This anticipatory update prevents us from going too fast and results in increased responsiveness, which has significantly increased the performance of RNNs on a number of tasks.\n",
        "\n",
        "NAG is generally faster than regular momentum optimization. To use it, simply set `nesterov=True` when creating the `SGD` optimizer:"
      ]
    },
    {
      "cell_type": "code",
      "metadata": {
        "id": "e6HcCSPVGHs_",
        "colab_type": "code",
        "colab": {}
      },
      "source": [
        "optimizer = keras.optimizers.SGD(lr=0.001, momentum=0.9, nesterov=True)"
      ],
      "execution_count": 18,
      "outputs": []
    },
    {
      "cell_type": "markdown",
      "metadata": {
        "id": "RqsNTecjGIxe",
        "colab_type": "text"
      },
      "source": [
        "### AdaGrad"
      ]
    },
    {
      "cell_type": "markdown",
      "metadata": {
        "id": "yFKCjJrpGLGl",
        "colab_type": "text"
      },
      "source": [
        "Consider the elongated bowl problem again: Gradient Descent starts by quickly going down the steepest slope, which does not point straight toward the global optimum, then it very slowly goes down to the bottom of the valley. It would be nice if the algorithm could correct its direction earlier to point a bit more toward the global optimum. The AdaGrad [algorithm](http://jmlr.org/papers/v12/duchi11a.html) achieves this correction by scaling down the gradient vector along the steepest dimensions (see Equation 11-6).\n",
        "\n",
        "\\begin{cases}\n",
        "\\boldsymbol{s}_t \\leftarrow \\boldsymbol{s}_{t-1} - \\nabla_{\\theta_{t-1}}J(\\boldsymbol{\\theta}_{t-1}) \\otimes \\nabla_{\\theta_{t-1}}J(\\boldsymbol{\\theta}_{t-1})\\\\\\\\\n",
        "\\boldsymbol{\\theta}_t \\leftarrow \\boldsymbol{\\theta}_{t-1} -\\eta\\nabla_{\\theta_{t-1}}J(\\boldsymbol{\\theta}_{t-1}) \\oslash \\sqrt{\\boldsymbol{s}_t+\\epsilon}\n",
        "\\end{cases}\n",
        "\n",
        "The first step accumulates the square of the gradients into the vector $\\boldsymbol{s}$ (the $\\otimes$ symbol represents the element-wise multiplication). This vectorized form is equivalent to computing $s_i = s_i + (\\frac{\\partial J(\\boldsymbol{\\theta}) }{\\partial \\theta_i})^2$ for each element $s_i$ of the vector $\\boldsymbol{s}$; in other words, each $s_i$ accumulates the squares of the partial derivative of the cost function with regard to parameter $\\theta_i$. If the cost function is steep along the $i^\\text{th}$ dimension, then $s_i$ will get larger and larger at each iteration.\n",
        "\n",
        "The second step is almost identical to Gradient Descent, but with one big difference: the gradient vector is scaled down by a factor of $\\sqrt{\\boldsymbol{s}+\\epsilon}$ (the $\\oslash$ symbol represents the element-wise division, and $\\epsilon$ is a smoothing term to avoid division by zero, typically set to $10^{–10}$). This vectorized form is equivalent to simultaneously computing \n",
        "$\\theta_i = \\theta_i - \\eta \\frac{\\partial J(\\boldsymbol{\\theta}) }{\\partial \\theta_i} \\frac{1}{\\sqrt{s_i+\\epsilon}}$ for all parameters $\\theta_i$.\n",
        "\n",
        "In short, this algorithm decays the learning rate, but it does so faster for steep dimensions than for dimensions with gentler slopes. This is called an *adaptive learning rate*. It helps point the resulting updates more directly toward the global optimum (see Figure 11-7). One additional benefit is that it requires much less tuning of the learning rate hyperparameter $\\eta$.\n",
        "\n",
        "![texto alternativo](https://i.ibb.co/7KSqXHX/adagrad.png)\n",
        "\n",
        "\n",
        "AdaGrad frequently performs well for simple quadratic problems, but it often stops too early when training neural networks. Its main weakness is its accumulation of the squared gradients in the denominator: Since every added term is positive, the accumulated sum keeps growing during training. This in turn causes the learning rate to shrink and eventually become infinitesimally small, at which pointthe algorithm ends up stopping entirely before reaching the global optimum. So even though Keras has an Adagrad optimizer, you should not use it to train deep neural networks (it may be efficient for simpler tasks such as Linear Regression, though). Still, understanding AdaGrad is helpful to grasp the other adaptive learning rate optimizers."
      ]
    },
    {
      "cell_type": "code",
      "metadata": {
        "id": "b0cyBTbtR7q7",
        "colab_type": "code",
        "colab": {}
      },
      "source": [
        "optimizer = keras.optimizers.Adagrad(lr=0.001)"
      ],
      "execution_count": 19,
      "outputs": []
    },
    {
      "cell_type": "markdown",
      "metadata": {
        "id": "RZBLuyoIGUAX",
        "colab_type": "text"
      },
      "source": [
        "### RMSProp"
      ]
    },
    {
      "cell_type": "markdown",
      "metadata": {
        "id": "grelK2cHGVB3",
        "colab_type": "text"
      },
      "source": [
        "As we’ve seen, AdaGrad runs the risk of slowing down a bit too fast and never converging to the global optimum. The RMSProp [algorithm](http://www.cs.toronto.edu/~tijmen/csc321/slides/lecture_slides_lec6.pdf) fixes this by accumulating only the gradients from the most recent iterations (as opposed to all the gradients since the beginning of training). It does so by using exponential decay in the first step.\n",
        "\n",
        "\\begin{cases}\n",
        "\\boldsymbol{s}_t \\leftarrow  \\beta\\boldsymbol{s}_{t-1} - (1-\\beta)\\nabla_{\\theta_{t-1}}J(\\boldsymbol{\\theta}_{t-1}) \\otimes \\nabla_{\\theta_{t-1}}J(\\boldsymbol{\\theta}_{t-1})\\\\\\\\\n",
        "\\boldsymbol{\\theta}_t \\leftarrow  \\boldsymbol{\\theta}_{t-1} -\\eta\\nabla_{\\theta_{t-1}}J(\\boldsymbol{\\theta}_{t-1}) \\oslash\\sqrt{\\boldsymbol{s}_t+\\epsilon}\n",
        "\\end{cases}\n",
        "\n",
        "\n",
        "The decay rate $\\beta$ is typically set to 0.9. Yes, it is once again a new hyperparameter, but this default value often works well, so you may not need to tune it at all.\n",
        "\n",
        "Keras has an `RMSprop` optimizer:"
      ]
    },
    {
      "cell_type": "code",
      "metadata": {
        "id": "pIU7Ug02GZwk",
        "colab_type": "code",
        "colab": {}
      },
      "source": [
        "optimizer = keras.optimizers.RMSprop(lr=0.001, rho=0.9)"
      ],
      "execution_count": 20,
      "outputs": []
    },
    {
      "cell_type": "markdown",
      "metadata": {
        "id": "2kwWy9zmGbVy",
        "colab_type": "text"
      },
      "source": [
        "Except on very simple problems, this optimizer almost always performs much better than AdaGrad. In fact, it was the preferred optimization algorithm of many researchers until Adam optimization came around."
      ]
    },
    {
      "cell_type": "markdown",
      "metadata": {
        "id": "ETfwJxakGegO",
        "colab_type": "text"
      },
      "source": [
        "### Adam"
      ]
    },
    {
      "cell_type": "markdown",
      "metadata": {
        "id": "i8hOx4J9GflA",
        "colab_type": "text"
      },
      "source": [
        "[Adam ](https://arxiv.org/abs/1412.6980) which stands for *adaptive moment estimation*, combines the ideas of momentum optimization and RMSProp: just like momentum optimization, it keeps track of an exponentially decaying average of past gradients; and just like RMSProp, it keeps track of an exponentially decaying average of past squared gradients.\n",
        "\n",
        "\\begin{cases}\n",
        "\\boldsymbol{m}_t \\leftarrow  \\beta_1\\boldsymbol{m}_{t-1} + (1-\\beta_1) \\nabla_{\\theta_{t-1}}J(\\boldsymbol{\\theta}_{t-1})\\\\\\\\\n",
        "\\boldsymbol{s}_t \\leftarrow  \\beta_2\\boldsymbol{s}_{t-1} + (1-\\beta_2)\\nabla_{\\theta_{t-1}}J(\\boldsymbol{\\theta}_{t-1})\\otimes\\nabla_{\\theta_{t-1}}J(\\boldsymbol{\\theta}_{t-1})\n",
        "\\end{cases}\n",
        "\n",
        "\n",
        "$\\boldsymbol{m}_t$ and $\\boldsymbol{s}_t$ are estimates of the first moment (the mean) and the second moment (the uncentered variance) of the gradients respectively, hence the name of the method. As $\\boldsymbol{m}_t$ and $\\boldsymbol{s}_t$ are initialized as vectors of 0's, the authors of Adam observe that they are biased towards zero, especially during the initial time steps, and especially when the decay rates are small (i.e. $\\beta_1$ and $\\beta_2$ are close to 1).\n",
        "\n",
        "They counteract these biases by computing bias-corrected first and second moment estimates:\n",
        "\n",
        "\\begin{cases}\n",
        "\\hat{\\boldsymbol{m}}_t \\leftarrow  \\frac{\\boldsymbol{m}_t}{1-\\beta_1^t}\\\\\\\\\n",
        "\\hat{\\boldsymbol{s}}_t \\leftarrow  \\frac{\\boldsymbol{s}_t}{1-\\beta_2^t}\n",
        "\\end{cases}\n",
        "\n",
        "\n",
        "They then use these to update the parameters just as we have seen in Momentum and RMSprop, which yields the Adam update rule:\n",
        "\n",
        "$$\\boldsymbol{\\theta}_t \\leftarrow  \\boldsymbol{\\theta}_{t-1} -\\eta \\hat{\\boldsymbol{m}}_t\\oslash\\sqrt{\\hat{\\boldsymbol{s}}_t+\\epsilon}$$\n",
        "\n",
        "- In this equation, $t$ represents the iteration number (starting at 1).\n",
        "\n",
        "If you just look at the steps, you will notice Adam’s close similarity to both momentum optimization and RMSProp. The only difference is that the first step computes an exponentially decaying average rather than an exponentially decaying sum, but these are actually equivalent except for a constant factor (the decaying average is just $1 - \\beta_1$ times the decaying sum). The third and fourth steps are somewhat of a technical detail: since $\\boldsymbol{m}_t$ and $\\boldsymbol{s}_t$ are initialized at $\\boldsymbol{0}$, they will be biased toward $\\boldsymbol{0}$ at the beginning of training, so these two steps will help boost $\\boldsymbol{m}_t$ and $\\boldsymbol{s}_t$ at the beginning of training.\n",
        "\n",
        "The momentum decay hyperparameter $\\beta_1$ is typically initialized to 0.9, while the scaling decay hyperparameter $\\beta_2$ is often initialized to 0.999. As earlier, the smoothing term $\\epsilon$ is usually initialized to a tiny number such as $10^{-7}$. These are the default values for the Adam class (to be precise, `epsilon` defaults to `None`, which tells Keras to use `keras.backend.epsilon()`, which defaults to $10^{-7}$; you can change it using `keras.backend.set_epsilon()`).\n",
        "\n",
        "Here is how to create an Adam optimizer using Keras:"
      ]
    },
    {
      "cell_type": "code",
      "metadata": {
        "id": "iirL26GpGj4n",
        "colab_type": "code",
        "colab": {}
      },
      "source": [
        "optimizer = keras.optimizers.Adam(lr=0.001, beta_1=0.9, beta_2=0.999)"
      ],
      "execution_count": 21,
      "outputs": []
    },
    {
      "cell_type": "markdown",
      "metadata": {
        "id": "8XjSITQlGlkA",
        "colab_type": "text"
      },
      "source": [
        "Since Adam is an adaptive learning rate algorithm (like AdaGrad and RMSProp), it requires less tuning of the learning rate hyperparameter $\\eta$. You can often use the default value $\\eta = 0.001$, making Adam even easier to use than Gradient Descent.\n",
        "\n",
        "Finally, two variants of Adam:"
      ]
    },
    {
      "cell_type": "markdown",
      "metadata": {
        "id": "oJH0g_XhTLZj",
        "colab_type": "text"
      },
      "source": [
        "#### Adamax"
      ]
    },
    {
      "cell_type": "markdown",
      "metadata": {
        "id": "EgpZTq5MFYf2",
        "colab_type": "text"
      },
      "source": [
        "\n",
        "\n",
        "It is introduced in the same paper as Adam: notice that in second step of  the equation, Adam accumulates the squares of the gradients in $\\boldsymbol{s}_t$ (with a greater weight for more recent weights). In the last step, if we ignore $\\epsilon$ and steps 3 and 4 (which are technical details anyway), Adam just scales down the parameter updates by the square root of $\\boldsymbol{s}_t$. In short, Adam scales down the parameter updates by the $\\boldsymbol{l}_2$ norm of the time-decayed gradients (recall that the $\\boldsymbol{l}_2$ norm is the square root of the sum of squares). Adamax just replaces the $\\boldsymbol{l}_2$ norm with the $\\boldsymbol{l}_{\\infty}$ norm (a fancy way of saying the max). Specifically, it replaces the second step in equations with\n",
        "$\\boldsymbol{s}_t\\leftarrow\\text{max}(\\beta_2\\boldsymbol{s}_{t-1},\\nabla_{\\theta_{t-1}}J(\\boldsymbol{\\theta}_{t-1}))$, it drops step 4, and in step 5 it scales down the gradient updates by a factor of $\\boldsymbol{s}_t$ , which is just the max of the time-decayed gradients. \n",
        "\n",
        "In practice, this can make Adamax more stable than Adam, but this really depends on the dataset, and in general Adam actually performs better. So it’s just one more optimizer you can try if you experience problems with Adam on some task.\n",
        "\n",
        "Here is how to create an Adamax optimizer using Keras:"
      ]
    },
    {
      "cell_type": "code",
      "metadata": {
        "id": "A01F7SQQd6QN",
        "colab_type": "code",
        "colab": {}
      },
      "source": [
        "optimizer = keras.optimizers.Adamax(lr=0.001, beta_1=0.9, beta_2=0.999)"
      ],
      "execution_count": 22,
      "outputs": []
    },
    {
      "cell_type": "markdown",
      "metadata": {
        "id": "HYTQZl5-FYdM",
        "colab_type": "text"
      },
      "source": [
        "#### Nadam"
      ]
    },
    {
      "cell_type": "markdown",
      "metadata": {
        "id": "vCPBH6QjFYbN",
        "colab_type": "text"
      },
      "source": [
        "As we have seen before, Adam can be viewed as a combination of RMSprop and momentum: RMSprop contributes the exponentially decaying average of past squared gradients $\\boldsymbol{s}_t$, while momentum accounts for the exponentially decaying average of past gradients $\\boldsymbol{m}_t$. We have also seen that Nesterov accelerated gradient (NAG) is superior to vanilla momentum.\n",
        "\n",
        "[Nadam](http://cs229.stanford.edu/proj2015/054_report.pdf) (Nesterov-accelerated Adaptive Moment Estimation) thus combines Adam and NAG, so it will often converge slightly faster than Adam. In his\n",
        "report, Timothy Dozat compares many different optimizers on various tasks, and\n",
        "finds that Nadam generally outperforms Adam, but is sometimes outperformed\n",
        "by RMSProp.\n",
        "\n",
        "Here is how to create an Nadam optimizer using Keras:\n",
        "\n",
        "\n",
        "\n",
        "\n",
        "\n"
      ]
    },
    {
      "cell_type": "code",
      "metadata": {
        "id": "I75BUim3ecz2",
        "colab_type": "code",
        "colab": {}
      },
      "source": [
        "optimizer = keras.optimizers.Nadam(lr=0.001, beta_1=0.9, beta_2=0.999)"
      ],
      "execution_count": 23,
      "outputs": []
    },
    {
      "cell_type": "markdown",
      "metadata": {
        "id": "Uswt1E9DhZcH",
        "colab_type": "text"
      },
      "source": [
        "### Notes"
      ]
    },
    {
      "cell_type": "markdown",
      "metadata": {
        "id": "6sEQq0FVepmp",
        "colab_type": "text"
      },
      "source": [
        "- Adaptive optimization methods (including RMSProp, Adam and Nadam optimization) are often great, converging fast to a good solution. However, a  [paper](https://arxiv.org/abs/1705.08292) by Ashia C. Wilson in 2017 showed\n",
        "that they can lead to solutions that generalize poorly on some datasets. So when you are disappointed by your model’s performance, try using plain Nesterov Accelerated Gradient instead: your dataset may just be allergic to adaptive gradients.\n",
        "\n",
        "- All the optimization techniques discussed so far only rely on the first-order partial derivatives (*Jacobians*). The optimization literature contains amazing algorithms based on the second-order partial derivatives (the *Hessians*, which are the partial derivatives of the Jacobians). Unfortunately, these algorithms are very hard to apply to deep neural networks because there are $n^2$ Hessians per output (where $n$ is the number of parameters), as opposed to just $n$ Jacobians per output. Since DNNs typically have tens of thousands of parameters, the second-order optimization algorithms often don’t even fit in memory, and even when they do, computing the Hessians is just too slow."
      ]
    },
    {
      "cell_type": "markdown",
      "metadata": {
        "id": "ZC7ni1ozhdhD",
        "colab_type": "text"
      },
      "source": [
        "#### Training Sparse Models"
      ]
    },
    {
      "cell_type": "markdown",
      "metadata": {
        "id": "nSfPjY7uhjpA",
        "colab_type": "text"
      },
      "source": [
        "All the optimization algorithms just presented produce dense models (most parameters will be nonzero). If you need a blazingly fast model at runtime, or if you need it to take up less memory, you may prefer to end up with a sparse model instead.\n",
        "\n",
        "One trivial way to achieve this is to train the model as usual, then get rid of the tiny weights (set them to 0). However, this will typically not lead to a very sparse model, and it may degrade the model’s performance.\n",
        "\n",
        "A better option is to apply strong $l_1$ regularization during training, as it pushes the optimizer to zero out as many weights as it can (as discussed [here](https://github.com/victorviro/ML_algorithms_python/blob/master/Introduction_generalized_linear_models.ipynb) about Lasso Regression).\n",
        "\n",
        "However, in some cases these techniques may remain insufficient. One last option is to apply *Dual Averaging*, often called *Follow The Regularized Leader* (FTRL), a technique [proposed](http://webdoc.sub.gwdg.de/ebook/serien/e/CORE/dp2005_67.pdf) by Yurii Nesterov. When used with $l_1$ regularization, this technique often leads to very sparse models. Keras implements a variant of FTRL called [FTRL-Proximal](https://static.googleusercontent.com/media/research.google.com/es//pubs/archive/41159.pdf) in the `FTRL` optimizer."
      ]
    },
    {
      "cell_type": "markdown",
      "metadata": {
        "id": "teaC8JptiUdv",
        "colab_type": "text"
      },
      "source": [
        "### Learning Rate Scheduling"
      ]
    },
    {
      "cell_type": "markdown",
      "metadata": {
        "id": "Nu32boZKiW76",
        "colab_type": "text"
      },
      "source": [
        "Finding a good learning rate can be tricky. If you set it way too high, training may actually diverge (as we discussed [here](https://github.com/victorviro/ML_algorithms_python/blob/master/Introduction_gradient_descent_algorithm.ipynb)). If you set it too low, training will eventually converge to the optimum, but it will take a very long time. If you set it slightly too high, it will make progress very quickly at first, but it will end up dancing around the optimum, never really settling down. If you have a limited computing budget, you may have to interrupt training before it has converged properly, yielding a suboptimal solution.\n",
        "\n",
        "One approach is to start with a large learning rate, and divide it by 3 until the training algorithm stops diverging. You will not be too far from the optimal learning rate, which will learn quickly and converge to good solution.\n",
        "\n",
        "\n",
        "However, you can do better than a constant learning rate: if you start with a high learning rate and then reduce it once it stops making fast progress, you can reach a good solution faster than with the optimal constant learning rate. There are many different strategies to reduce the learning rate during training. These strategies are called *learning schedules*. A [paper](https://static.googleusercontent.com/media/research.google.com/es//pubs/archive/40808.pdf) by Andrew Senior in 2013 compared the performance of some of the most popular learning schedules when training deep neural networks for speech recognition using Momentum optimization. The authors concluded that, in this setting, both performance scheduling and exponential scheduling performed well. They favored exponential scheduling because it was easy to tune and it converged slightly faster to the optimal solution (they also mentioned that it was easier to implement than performance scheduling, but in Keras both options are easy). Let's see the most common learning schedules.\n",
        "\n"
      ]
    },
    {
      "cell_type": "markdown",
      "metadata": {
        "id": "D87CL0EGhVXJ",
        "colab_type": "text"
      },
      "source": [
        "#### Power scheduling"
      ]
    },
    {
      "cell_type": "markdown",
      "metadata": {
        "id": "mEsdrZxLhaSC",
        "colab_type": "text"
      },
      "source": [
        "Set the learning rate to a function of the iteration number $t$: $\\eta(t)=\\frac{\\eta_0}{(1+\\frac{t}{s})^c}$. The initial learning rate $\\eta_0$, the power $c$ (typically set to 1) and the steps $s$ are\n",
        "hyperparameters. The learning rate drops at each step, and after $s$ steps it is down to $\\frac{\\eta_0}{2}$. After $s$ more steps, it is down to $\\frac{\\eta_0}{3}$. Then down to $\\frac{\\eta_0}{4}$, and so on. As you can see, this schedule first drops quickly, then more and more slowly. Of course, this requires tuning  $\\eta_0$, $s$ (and possibly $c$).\n",
        "\n",
        "Implementing power scheduling in Keras is the easiest option: just set the decay hyperparameter when creating an optimizer. The decay is the inverse of $s$ (the number of steps it takes to divide the learning rate by one more unit), and Keras assumes that $c$ is equal to $1$. For example:"
      ]
    },
    {
      "cell_type": "code",
      "metadata": {
        "id": "1y2VwFxXh0z1",
        "colab_type": "code",
        "colab": {}
      },
      "source": [
        "import keras\n",
        "(X_train_full, y_train_full), (X_test, y_test) = keras.datasets.fashion_mnist.load_data()\n",
        "X_train_full = X_train_full / 255.0\n",
        "X_test = X_test / 255.0\n",
        "X_valid, X_train = X_train_full[:5000], X_train_full[5000:]\n",
        "y_valid, y_train = y_train_full[:5000], y_train_full[5000:]\n",
        "\n",
        "\n",
        "pixel_means = X_train.mean(axis=0, keepdims=True)\n",
        "pixel_stds = X_train.std(axis=0, keepdims=True)\n",
        "X_train_scaled = (X_train - pixel_means) / pixel_stds\n",
        "X_valid_scaled = (X_valid - pixel_means) / pixel_stds\n",
        "X_test_scaled = (X_test - pixel_means) / pixel_stds"
      ],
      "execution_count": 24,
      "outputs": []
    },
    {
      "cell_type": "code",
      "metadata": {
        "id": "Pu_DwSgjh1JJ",
        "colab_type": "code",
        "colab": {}
      },
      "source": [
        "optimizer = keras.optimizers.SGD(lr=0.01, decay=1e-4)"
      ],
      "execution_count": 25,
      "outputs": []
    },
    {
      "cell_type": "code",
      "metadata": {
        "id": "9ZHk05aQh4_V",
        "colab_type": "code",
        "colab": {}
      },
      "source": [
        "model = keras.models.Sequential([\n",
        "    keras.layers.Flatten(input_shape=[28, 28]),\n",
        "    keras.layers.Dense(300, activation=\"selu\", kernel_initializer=\"lecun_normal\"),\n",
        "    keras.layers.Dense(100, activation=\"selu\", kernel_initializer=\"lecun_normal\"),\n",
        "    keras.layers.Dense(10, activation=\"softmax\")\n",
        "])\n",
        "model.compile(loss=\"sparse_categorical_crossentropy\", optimizer=optimizer, metrics=[\"accuracy\"])"
      ],
      "execution_count": 26,
      "outputs": []
    },
    {
      "cell_type": "code",
      "metadata": {
        "id": "lBh9DmU7h5Cj",
        "colab_type": "code",
        "colab": {
          "base_uri": "https://localhost:8080/",
          "height": 945
        },
        "outputId": "75ba7fc4-dd03-4f80-f03c-5a5ebfdd58bb"
      },
      "source": [
        "n_epochs = 25\n",
        "history = model.fit(X_train_scaled, y_train, epochs=n_epochs,\n",
        "                    validation_data=(X_valid_scaled, y_valid))"
      ],
      "execution_count": 27,
      "outputs": [
        {
          "output_type": "stream",
          "text": [
            "Train on 55000 samples, validate on 5000 samples\n",
            "Epoch 1/25\n",
            "55000/55000 [==============================] - 6s 104us/step - loss: 0.4911 - accuracy: 0.8259 - val_loss: 0.3954 - val_accuracy: 0.8652\n",
            "Epoch 2/25\n",
            "55000/55000 [==============================] - 6s 102us/step - loss: 0.3812 - accuracy: 0.8648 - val_loss: 0.3836 - val_accuracy: 0.8642\n",
            "Epoch 3/25\n",
            "55000/55000 [==============================] - 6s 102us/step - loss: 0.3474 - accuracy: 0.8751 - val_loss: 0.3654 - val_accuracy: 0.8732\n",
            "Epoch 4/25\n",
            "55000/55000 [==============================] - 6s 102us/step - loss: 0.3256 - accuracy: 0.8829 - val_loss: 0.3462 - val_accuracy: 0.8768\n",
            "Epoch 5/25\n",
            "55000/55000 [==============================] - 6s 102us/step - loss: 0.3103 - accuracy: 0.8889 - val_loss: 0.3419 - val_accuracy: 0.8794\n",
            "Epoch 6/25\n",
            "55000/55000 [==============================] - 6s 103us/step - loss: 0.2965 - accuracy: 0.8937 - val_loss: 0.3417 - val_accuracy: 0.8794\n",
            "Epoch 7/25\n",
            "55000/55000 [==============================] - 6s 102us/step - loss: 0.2861 - accuracy: 0.8973 - val_loss: 0.3358 - val_accuracy: 0.8822\n",
            "Epoch 8/25\n",
            "55000/55000 [==============================] - 6s 102us/step - loss: 0.2772 - accuracy: 0.9008 - val_loss: 0.3347 - val_accuracy: 0.8812\n",
            "Epoch 9/25\n",
            "55000/55000 [==============================] - 6s 102us/step - loss: 0.2701 - accuracy: 0.9034 - val_loss: 0.3275 - val_accuracy: 0.8850\n",
            "Epoch 10/25\n",
            "55000/55000 [==============================] - 6s 102us/step - loss: 0.2627 - accuracy: 0.9069 - val_loss: 0.3249 - val_accuracy: 0.8830\n",
            "Epoch 11/25\n",
            "55000/55000 [==============================] - 6s 102us/step - loss: 0.2567 - accuracy: 0.9088 - val_loss: 0.3225 - val_accuracy: 0.8866\n",
            "Epoch 12/25\n",
            "55000/55000 [==============================] - 6s 102us/step - loss: 0.2509 - accuracy: 0.9104 - val_loss: 0.3218 - val_accuracy: 0.8848\n",
            "Epoch 13/25\n",
            "55000/55000 [==============================] - 6s 113us/step - loss: 0.2462 - accuracy: 0.9124 - val_loss: 0.3176 - val_accuracy: 0.8882\n",
            "Epoch 14/25\n",
            "55000/55000 [==============================] - 6s 108us/step - loss: 0.2412 - accuracy: 0.9136 - val_loss: 0.3205 - val_accuracy: 0.8846\n",
            "Epoch 15/25\n",
            "55000/55000 [==============================] - 6s 102us/step - loss: 0.2369 - accuracy: 0.9162 - val_loss: 0.3227 - val_accuracy: 0.8840\n",
            "Epoch 16/25\n",
            "55000/55000 [==============================] - 6s 101us/step - loss: 0.2329 - accuracy: 0.9174 - val_loss: 0.3163 - val_accuracy: 0.8890\n",
            "Epoch 17/25\n",
            "55000/55000 [==============================] - 6s 101us/step - loss: 0.2292 - accuracy: 0.9196 - val_loss: 0.3174 - val_accuracy: 0.8880\n",
            "Epoch 18/25\n",
            "55000/55000 [==============================] - 6s 102us/step - loss: 0.2254 - accuracy: 0.9215 - val_loss: 0.3181 - val_accuracy: 0.8894\n",
            "Epoch 19/25\n",
            "55000/55000 [==============================] - 5s 100us/step - loss: 0.2227 - accuracy: 0.9220 - val_loss: 0.3156 - val_accuracy: 0.8900\n",
            "Epoch 20/25\n",
            "55000/55000 [==============================] - 6s 101us/step - loss: 0.2198 - accuracy: 0.9230 - val_loss: 0.3171 - val_accuracy: 0.8880\n",
            "Epoch 21/25\n",
            "55000/55000 [==============================] - 6s 100us/step - loss: 0.2166 - accuracy: 0.9234 - val_loss: 0.3137 - val_accuracy: 0.8922\n",
            "Epoch 22/25\n",
            "55000/55000 [==============================] - 6s 101us/step - loss: 0.2137 - accuracy: 0.9258 - val_loss: 0.3201 - val_accuracy: 0.8886\n",
            "Epoch 23/25\n",
            "55000/55000 [==============================] - 6s 101us/step - loss: 0.2111 - accuracy: 0.9269 - val_loss: 0.3142 - val_accuracy: 0.8900\n",
            "Epoch 24/25\n",
            "55000/55000 [==============================] - 6s 103us/step - loss: 0.2088 - accuracy: 0.9272 - val_loss: 0.3140 - val_accuracy: 0.8906\n",
            "Epoch 25/25\n",
            "55000/55000 [==============================] - 6s 100us/step - loss: 0.2061 - accuracy: 0.9281 - val_loss: 0.3169 - val_accuracy: 0.8902\n"
          ],
          "name": "stdout"
        }
      ]
    },
    {
      "cell_type": "code",
      "metadata": {
        "id": "XwPQa9r6h_nX",
        "colab_type": "code",
        "colab": {
          "base_uri": "https://localhost:8080/",
          "height": 296
        },
        "outputId": "d274eb2c-4a31-47d9-afca-3a296f66831b"
      },
      "source": [
        "import numpy as np\n",
        "import matplotlib.pyplot as plt\n",
        "\n",
        "learning_rate = 0.01\n",
        "decay = 1e-4\n",
        "batch_size = 32\n",
        "n_steps_per_epoch = len(X_train) // batch_size\n",
        "epochs = np.arange(n_epochs)\n",
        "lrs = learning_rate / (1 + decay * epochs * n_steps_per_epoch)\n",
        "\n",
        "plt.figure(figsize=(11, 4))\n",
        "plt.plot(epochs, lrs,  \"o-\")\n",
        "plt.axis([0, n_epochs - 1, 0, 0.01])\n",
        "plt.xlabel(\"Epoch\")\n",
        "plt.ylabel(\"Learning Rate\")\n",
        "plt.title(\"Power Scheduling\", fontsize=14)\n",
        "plt.grid(True)\n",
        "plt.show()"
      ],
      "execution_count": 28,
      "outputs": [
        {
          "output_type": "display_data",
          "data": {
            "image/png": "[encoded data removed]",
            "text/plain": [
              "<Figure size 792x288 with 1 Axes>"
            ]
          },
          "metadata": {
            "tags": [],
            "needs_background": "light"
          }
        }
      ]
    },
    {
      "cell_type": "markdown",
      "metadata": {
        "id": "Wqp4KC95iCTj",
        "colab_type": "text"
      },
      "source": [
        "#### Exponential scheduling"
      ]
    },
    {
      "cell_type": "markdown",
      "metadata": {
        "id": "rA3XAK8wiEso",
        "colab_type": "text"
      },
      "source": [
        "Set the learning rate to: $\\eta(t)=\\eta_0 (0.1)^{\\frac{t}{s}}$. The learning rate will gradually drop by a factor of $10$ every $s$ steps. While power scheduling reduces the learning rate more and more slowly, exponential scheduling keeps slashing it by a factor of $10$ every $s$ steps.\n",
        "\n",
        "Implementing Exponential scheduling is quite simple too. You first need to define a function that takes the current epoch and returns the learning rate."
      ]
    },
    {
      "cell_type": "code",
      "metadata": {
        "id": "wEO354y9iPmi",
        "colab_type": "code",
        "colab": {}
      },
      "source": [
        "def exponential_decay_fn(epoch):\n",
        "    return 0.01 * 0.1**(epoch / 20)"
      ],
      "execution_count": 29,
      "outputs": []
    },
    {
      "cell_type": "markdown",
      "metadata": {
        "id": "_v4n3pIItA1l",
        "colab_type": "text"
      },
      "source": [
        "If you do not want to hard-code $\\eta_0$ and $s$, you can create a function that returns a configured function:"
      ]
    },
    {
      "cell_type": "code",
      "metadata": {
        "id": "zzQDV5fptEHh",
        "colab_type": "code",
        "colab": {}
      },
      "source": [
        "def exponential_decay(lr0, s):\n",
        "    def exponential_decay_fn(epoch):\n",
        "        return lr0 * 0.1**(epoch / s)\n",
        "    return exponential_decay_fn\n",
        "\n",
        "exponential_decay_fn = exponential_decay(lr0=0.01, s=20)"
      ],
      "execution_count": 30,
      "outputs": []
    },
    {
      "cell_type": "code",
      "metadata": {
        "id": "jj23MG0ttEKY",
        "colab_type": "code",
        "colab": {}
      },
      "source": [
        "model = keras.models.Sequential([\n",
        "    keras.layers.Flatten(input_shape=[28, 28]),\n",
        "    keras.layers.Dense(300, activation=\"selu\", kernel_initializer=\"lecun_normal\"),\n",
        "    keras.layers.Dense(100, activation=\"selu\", kernel_initializer=\"lecun_normal\"),\n",
        "    keras.layers.Dense(10, activation=\"softmax\")\n",
        "])\n",
        "model.compile(loss=\"sparse_categorical_crossentropy\", optimizer=\"nadam\", metrics=[\"accuracy\"])\n",
        "n_epochs = 25"
      ],
      "execution_count": 31,
      "outputs": []
    },
    {
      "cell_type": "markdown",
      "metadata": {
        "id": "2bav5xqVtKO_",
        "colab_type": "text"
      },
      "source": [
        "Next, just create a `LearningRateScheduler` callback, giving it the schedule function, and pass this callback to the `fit()` method:"
      ]
    },
    {
      "cell_type": "code",
      "metadata": {
        "id": "dHOZ7J-9tNZl",
        "colab_type": "code",
        "colab": {
          "base_uri": "https://localhost:8080/",
          "height": 945
        },
        "outputId": "2fc66b3c-9dd5-4579-8204-07edeac95575"
      },
      "source": [
        "lr_scheduler = keras.callbacks.LearningRateScheduler(exponential_decay_fn)\n",
        "history = model.fit(X_train_scaled, y_train, epochs=n_epochs,\n",
        "                    validation_data=(X_valid_scaled, y_valid),\n",
        "                    callbacks=[lr_scheduler])"
      ],
      "execution_count": 32,
      "outputs": [
        {
          "output_type": "stream",
          "text": [
            "Train on 55000 samples, validate on 5000 samples\n",
            "Epoch 1/25\n",
            "55000/55000 [==============================] - 8s 140us/step - loss: 0.8347 - accuracy: 0.7621 - val_loss: 0.7131 - val_accuracy: 0.7830\n",
            "Epoch 2/25\n",
            "55000/55000 [==============================] - 8s 139us/step - loss: 0.6670 - accuracy: 0.7983 - val_loss: 0.7745 - val_accuracy: 0.8052\n",
            "Epoch 3/25\n",
            "55000/55000 [==============================] - 8s 139us/step - loss: 0.6176 - accuracy: 0.8168 - val_loss: 0.7733 - val_accuracy: 0.8038\n",
            "Epoch 4/25\n",
            "55000/55000 [==============================] - 8s 139us/step - loss: 0.5166 - accuracy: 0.8397 - val_loss: 0.5539 - val_accuracy: 0.8356\n",
            "Epoch 5/25\n",
            "55000/55000 [==============================] - 8s 138us/step - loss: 0.4902 - accuracy: 0.8489 - val_loss: 0.6190 - val_accuracy: 0.8166\n",
            "Epoch 6/25\n",
            "55000/55000 [==============================] - 8s 138us/step - loss: 0.4413 - accuracy: 0.8586 - val_loss: 0.5042 - val_accuracy: 0.8548\n",
            "Epoch 7/25\n",
            "55000/55000 [==============================] - 8s 138us/step - loss: 0.4046 - accuracy: 0.8690 - val_loss: 0.5245 - val_accuracy: 0.8624\n",
            "Epoch 8/25\n",
            "55000/55000 [==============================] - 8s 138us/step - loss: 0.3771 - accuracy: 0.8776 - val_loss: 0.4464 - val_accuracy: 0.8670\n",
            "Epoch 9/25\n",
            "55000/55000 [==============================] - 8s 139us/step - loss: 0.3564 - accuracy: 0.8818 - val_loss: 0.4775 - val_accuracy: 0.8770\n",
            "Epoch 10/25\n",
            "55000/55000 [==============================] - 8s 138us/step - loss: 0.3257 - accuracy: 0.8916 - val_loss: 0.4898 - val_accuracy: 0.8778\n",
            "Epoch 11/25\n",
            "55000/55000 [==============================] - 8s 139us/step - loss: 0.3011 - accuracy: 0.8984 - val_loss: 0.4710 - val_accuracy: 0.8728\n",
            "Epoch 12/25\n",
            "55000/55000 [==============================] - 8s 139us/step - loss: 0.2803 - accuracy: 0.9056 - val_loss: 0.4410 - val_accuracy: 0.8848\n",
            "Epoch 13/25\n",
            "55000/55000 [==============================] - 8s 138us/step - loss: 0.2591 - accuracy: 0.9113 - val_loss: 0.4185 - val_accuracy: 0.8844\n",
            "Epoch 14/25\n",
            "55000/55000 [==============================] - 8s 138us/step - loss: 0.2390 - accuracy: 0.9171 - val_loss: 0.4806 - val_accuracy: 0.8830\n",
            "Epoch 15/25\n",
            "55000/55000 [==============================] - 8s 138us/step - loss: 0.2235 - accuracy: 0.9231 - val_loss: 0.4487 - val_accuracy: 0.8844\n",
            "Epoch 16/25\n",
            "55000/55000 [==============================] - 8s 138us/step - loss: 0.2080 - accuracy: 0.9279 - val_loss: 0.4811 - val_accuracy: 0.8814\n",
            "Epoch 17/25\n",
            "55000/55000 [==============================] - 8s 138us/step - loss: 0.1942 - accuracy: 0.9327 - val_loss: 0.4788 - val_accuracy: 0.8894\n",
            "Epoch 18/25\n",
            "55000/55000 [==============================] - 8s 138us/step - loss: 0.1813 - accuracy: 0.9374 - val_loss: 0.5093 - val_accuracy: 0.8792\n",
            "Epoch 19/25\n",
            "55000/55000 [==============================] - 8s 138us/step - loss: 0.1700 - accuracy: 0.9413 - val_loss: 0.4997 - val_accuracy: 0.8878\n",
            "Epoch 20/25\n",
            "55000/55000 [==============================] - 8s 142us/step - loss: 0.1599 - accuracy: 0.9449 - val_loss: 0.5088 - val_accuracy: 0.8862\n",
            "Epoch 21/25\n",
            "55000/55000 [==============================] - 8s 138us/step - loss: 0.1486 - accuracy: 0.9491 - val_loss: 0.4972 - val_accuracy: 0.8922\n",
            "Epoch 22/25\n",
            "55000/55000 [==============================] - 8s 139us/step - loss: 0.1396 - accuracy: 0.9530 - val_loss: 0.5353 - val_accuracy: 0.8902\n",
            "Epoch 23/25\n",
            "55000/55000 [==============================] - 8s 140us/step - loss: 0.1314 - accuracy: 0.9558 - val_loss: 0.5433 - val_accuracy: 0.8906\n",
            "Epoch 24/25\n",
            "55000/55000 [==============================] - 8s 139us/step - loss: 0.1224 - accuracy: 0.9588 - val_loss: 0.6019 - val_accuracy: 0.8896\n",
            "Epoch 25/25\n",
            "55000/55000 [==============================] - 8s 138us/step - loss: 0.1179 - accuracy: 0.9610 - val_loss: 0.5799 - val_accuracy: 0.8900\n"
          ],
          "name": "stdout"
        }
      ]
    },
    {
      "cell_type": "code",
      "metadata": {
        "id": "AsfNMnXetQSH",
        "colab_type": "code",
        "colab": {
          "base_uri": "https://localhost:8080/",
          "height": 296
        },
        "outputId": "26c2ba34-b4c1-4e4d-ae04-9822293d4e1d"
      },
      "source": [
        "#@title\n",
        "plt.figure(figsize=(11, 4))\n",
        "plt.plot(history.epoch, history.history[\"lr\"], \"o-\")\n",
        "plt.axis([0, n_epochs - 1, 0, 0.011])\n",
        "plt.xlabel(\"Epoch\")\n",
        "plt.ylabel(\"Learning Rate\")\n",
        "plt.title(\"Exponential Scheduling\", fontsize=14)\n",
        "plt.grid(True)\n",
        "plt.show()"
      ],
      "execution_count": 33,
      "outputs": [
        {
          "output_type": "display_data",
          "data": {
            "image/png": "[encoded data removed]",
            "text/plain": [
              "<Figure size 792x288 with 1 Axes>"
            ]
          },
          "metadata": {
            "tags": [],
            "needs_background": "light"
          }
        }
      ]
    },
    {
      "cell_type": "markdown",
      "metadata": {
        "id": "iwcxhh6ktflR",
        "colab_type": "text"
      },
      "source": [
        "The `LearningRateScheduler` will update the optimizer’s `learning_rate` attribute at the beginning of each epoch. Updating the learning rate just once per epoch is usually enough, but if you want it to be updated more often, for example at every step, you need to write your own callback. This can make sense if there are many steps per epoch.\n",
        "\n"
      ]
    },
    {
      "cell_type": "code",
      "metadata": {
        "id": "1F-NPzx4tieU",
        "colab_type": "code",
        "colab": {
          "base_uri": "https://localhost:8080/",
          "height": 945
        },
        "outputId": "7fd4a7f6-c093-46ec-e988-3628b2ffb722"
      },
      "source": [
        "K = keras.backend\n",
        "\n",
        "class ExponentialDecay(keras.callbacks.Callback):\n",
        "    def __init__(self, s=40000):\n",
        "        super().__init__()\n",
        "        self.s = s\n",
        "\n",
        "    def on_batch_begin(self, batch, logs=None):\n",
        "        # Note: the `batch` argument is reset at each epoch\n",
        "        lr = K.get_value(self.model.optimizer.lr)\n",
        "        K.set_value(self.model.optimizer.lr, lr * 0.1**(1 / s))\n",
        "\n",
        "    def on_epoch_end(self, epoch, logs=None):\n",
        "        logs = logs or {}\n",
        "        logs['lr'] = K.get_value(self.model.optimizer.lr)\n",
        "\n",
        "model = keras.models.Sequential([\n",
        "    keras.layers.Flatten(input_shape=[28, 28]),\n",
        "    keras.layers.Dense(300, activation=\"selu\", kernel_initializer=\"lecun_normal\"),\n",
        "    keras.layers.Dense(100, activation=\"selu\", kernel_initializer=\"lecun_normal\"),\n",
        "    keras.layers.Dense(10, activation=\"softmax\")\n",
        "])\n",
        "lr0 = 0.01\n",
        "optimizer = keras.optimizers.Nadam(lr=lr0)\n",
        "model.compile(loss=\"sparse_categorical_crossentropy\", optimizer=optimizer, metrics=[\"accuracy\"])\n",
        "n_epochs = 25\n",
        "\n",
        "s = 20 * len(X_train) // 32 # number of steps in 20 epochs (batch size = 32)\n",
        "exp_decay = ExponentialDecay(s)\n",
        "history = model.fit(X_train_scaled, y_train, epochs=n_epochs,\n",
        "                    validation_data=(X_valid_scaled, y_valid),\n",
        "                    callbacks=[exp_decay])"
      ],
      "execution_count": 34,
      "outputs": [
        {
          "output_type": "stream",
          "text": [
            "Train on 55000 samples, validate on 5000 samples\n",
            "Epoch 1/25\n",
            "55000/55000 [==============================] - 9s 171us/step - loss: 0.8615 - accuracy: 0.7556 - val_loss: 0.8354 - val_accuracy: 0.7950\n",
            "Epoch 2/25\n",
            "55000/55000 [==============================] - 9s 166us/step - loss: 0.6598 - accuracy: 0.7960 - val_loss: 0.5924 - val_accuracy: 0.8348\n",
            "Epoch 3/25\n",
            "55000/55000 [==============================] - 9s 166us/step - loss: 0.5719 - accuracy: 0.8227 - val_loss: 0.5188 - val_accuracy: 0.8486\n",
            "Epoch 4/25\n",
            "55000/55000 [==============================] - 9s 165us/step - loss: 0.5284 - accuracy: 0.8381 - val_loss: 0.4740 - val_accuracy: 0.8516\n",
            "Epoch 5/25\n",
            "55000/55000 [==============================] - 9s 168us/step - loss: 0.4618 - accuracy: 0.8503 - val_loss: 0.5180 - val_accuracy: 0.8436\n",
            "Epoch 6/25\n",
            "55000/55000 [==============================] - 10s 177us/step - loss: 0.4339 - accuracy: 0.8596 - val_loss: 0.5001 - val_accuracy: 0.8522\n",
            "Epoch 7/25\n",
            "55000/55000 [==============================] - 9s 164us/step - loss: 0.3934 - accuracy: 0.8734 - val_loss: 0.5406 - val_accuracy: 0.8512\n",
            "Epoch 8/25\n",
            "55000/55000 [==============================] - 9s 165us/step - loss: 0.3710 - accuracy: 0.8804 - val_loss: 0.4602 - val_accuracy: 0.8630\n",
            "Epoch 9/25\n",
            "55000/55000 [==============================] - 9s 165us/step - loss: 0.3306 - accuracy: 0.8901 - val_loss: 0.4615 - val_accuracy: 0.8728\n",
            "Epoch 10/25\n",
            "55000/55000 [==============================] - 9s 165us/step - loss: 0.3155 - accuracy: 0.8964 - val_loss: 0.4381 - val_accuracy: 0.8780\n",
            "Epoch 11/25\n",
            "55000/55000 [==============================] - 9s 165us/step - loss: 0.2880 - accuracy: 0.9029 - val_loss: 0.4403 - val_accuracy: 0.8800\n",
            "Epoch 12/25\n",
            "55000/55000 [==============================] - 9s 164us/step - loss: 0.2674 - accuracy: 0.9103 - val_loss: 0.4561 - val_accuracy: 0.8772\n",
            "Epoch 13/25\n",
            "55000/55000 [==============================] - 9s 165us/step - loss: 0.2477 - accuracy: 0.9160 - val_loss: 0.4408 - val_accuracy: 0.8812\n",
            "Epoch 14/25\n",
            "55000/55000 [==============================] - 9s 165us/step - loss: 0.2318 - accuracy: 0.9205 - val_loss: 0.4733 - val_accuracy: 0.8806\n",
            "Epoch 15/25\n",
            "55000/55000 [==============================] - 9s 165us/step - loss: 0.2178 - accuracy: 0.9259 - val_loss: 0.5244 - val_accuracy: 0.8794\n",
            "Epoch 16/25\n",
            "55000/55000 [==============================] - 9s 165us/step - loss: 0.1988 - accuracy: 0.9322 - val_loss: 0.5167 - val_accuracy: 0.8834\n",
            "Epoch 17/25\n",
            "55000/55000 [==============================] - 9s 166us/step - loss: 0.1859 - accuracy: 0.9362 - val_loss: 0.5249 - val_accuracy: 0.8862\n",
            "Epoch 18/25\n",
            "55000/55000 [==============================] - 9s 165us/step - loss: 0.1734 - accuracy: 0.9411 - val_loss: 0.5351 - val_accuracy: 0.8912\n",
            "Epoch 19/25\n",
            "55000/55000 [==============================] - 9s 165us/step - loss: 0.1612 - accuracy: 0.9450 - val_loss: 0.5424 - val_accuracy: 0.8890\n",
            "Epoch 20/25\n",
            "55000/55000 [==============================] - 9s 165us/step - loss: 0.1482 - accuracy: 0.9500 - val_loss: 0.5510 - val_accuracy: 0.8900\n",
            "Epoch 21/25\n",
            "55000/55000 [==============================] - 9s 164us/step - loss: 0.1375 - accuracy: 0.9536 - val_loss: 0.5721 - val_accuracy: 0.8924\n",
            "Epoch 22/25\n",
            "55000/55000 [==============================] - 9s 164us/step - loss: 0.1293 - accuracy: 0.9567 - val_loss: 0.6048 - val_accuracy: 0.8934\n",
            "Epoch 23/25\n",
            "55000/55000 [==============================] - 9s 164us/step - loss: 0.1202 - accuracy: 0.9600 - val_loss: 0.6477 - val_accuracy: 0.8922\n",
            "Epoch 24/25\n",
            "55000/55000 [==============================] - 9s 165us/step - loss: 0.1138 - accuracy: 0.9626 - val_loss: 0.6555 - val_accuracy: 0.8930\n",
            "Epoch 25/25\n",
            "55000/55000 [==============================] - 9s 165us/step - loss: 0.1067 - accuracy: 0.9657 - val_loss: 0.6878 - val_accuracy: 0.8926\n"
          ],
          "name": "stdout"
        }
      ]
    },
    {
      "cell_type": "code",
      "metadata": {
        "id": "0ykAqOu_tk_K",
        "colab_type": "code",
        "colab": {
          "base_uri": "https://localhost:8080/",
          "height": 296
        },
        "cellView": "both",
        "outputId": "79ed2e20-36ff-4087-9048-1b7b4cacf112"
      },
      "source": [
        "#@title\n",
        "n_steps = n_epochs * len(X_train) // 32\n",
        "steps = np.arange(n_steps)\n",
        "lrs = lr0 * 0.1**(steps / s)\n",
        "\n",
        "plt.figure(figsize=(11, 4))\n",
        "plt.plot(steps, lrs, \"-\", linewidth=2)\n",
        "plt.axis([0, n_steps - 1, 0, lr0 * 1.1])\n",
        "plt.xlabel(\"Batch\")\n",
        "plt.ylabel(\"Learning Rate\")\n",
        "plt.title(\"Exponential Scheduling (per batch)\", fontsize=14)\n",
        "plt.grid(True)\n",
        "plt.show()"
      ],
      "execution_count": 35,
      "outputs": [
        {
          "output_type": "display_data",
          "data": {
            "image/png": "[encoded data removed]",
            "text/plain": [
              "<Figure size 792x288 with 1 Axes>"
            ]
          },
          "metadata": {
            "tags": [],
            "needs_background": "light"
          }
        }
      ]
    },
    {
      "cell_type": "markdown",
      "metadata": {
        "id": "BJqrpoNRtsUF",
        "colab_type": "text"
      },
      "source": [
        "The schedule function can optionally take the current learning rate as a second argument. For example, the following schedule function just multiplies the previous learning rate by $(0.1)^{\\frac{1}{20}}$ , which results in the same exponential decay (except the decay now starts at the beginning of epoch $0$ instead of $1$). This implementation relies on the optimizer’s initial learning rate (contrary to the previous implementation), so make sure to set it appropriately."
      ]
    },
    {
      "cell_type": "code",
      "metadata": {
        "id": "Pi1PlihBtvdy",
        "colab_type": "code",
        "colab": {}
      },
      "source": [
        "def exponential_decay_fn(epoch, lr):\n",
        "    return lr * 0.1**(1 / 20)"
      ],
      "execution_count": 36,
      "outputs": []
    },
    {
      "cell_type": "markdown",
      "metadata": {
        "id": "f3l8RTFGtyPF",
        "colab_type": "text"
      },
      "source": [
        "When you save a model, the optimizer and its learning rate get saved along with it. This means that with this new schedule function, you could just load a trained model and continue training where it left off, no problem. However, things are not so simple if your schedule function uses the epoch argument: indeed, the epoch does not get saved, and it gets reset to 0 every time you call the `fit()` method. This could lead to a very large learning rate when you continue training a model where it left off, which would likely damage your model’s weights. One solution is to manually set the `fit()` method’s `initial_epoch` argument so the epoch starts at the right value."
      ]
    },
    {
      "cell_type": "markdown",
      "metadata": {
        "id": "24lVhWJIiP23",
        "colab_type": "text"
      },
      "source": [
        "#### Piecewise constant scheduling"
      ]
    },
    {
      "cell_type": "markdown",
      "metadata": {
        "id": "yYLWK2TJiV-a",
        "colab_type": "text"
      },
      "source": [
        "Use a constant learning rate for a number of epochs (e.g., $\\eta_0=0.1$ for $5$ epochs), then a smaller learning rate for another number of epochs (e.g., $\\eta_1=0.001$ for $50$ epochs), and so on. Although this solution can work very well, it requires fiddling around to figure out the right sequence of learning rates, and how long to use each of them."
      ]
    },
    {
      "cell_type": "code",
      "metadata": {
        "id": "ig7VqyUmuT45",
        "colab_type": "code",
        "colab": {}
      },
      "source": [
        "def piecewise_constant_fn(epoch):\n",
        "    if epoch < 5:\n",
        "        return 0.01\n",
        "    elif epoch < 15:\n",
        "        return 0.005\n",
        "    else:\n",
        "        return 0.001"
      ],
      "execution_count": 37,
      "outputs": []
    },
    {
      "cell_type": "markdown",
      "metadata": {
        "id": "ake8NgARuURD",
        "colab_type": "text"
      },
      "source": [
        "As earlier, you can define a more general function if you want."
      ]
    },
    {
      "cell_type": "code",
      "metadata": {
        "id": "wwsHFLM0uWsy",
        "colab_type": "code",
        "colab": {}
      },
      "source": [
        "def piecewise_constant(boundaries, values):\n",
        "    boundaries = np.array([0] + boundaries)\n",
        "    values = np.array(values)\n",
        "    def piecewise_constant_fn(epoch):\n",
        "        return values[np.argmax(boundaries > epoch) - 1]\n",
        "    return piecewise_constant_fn\n",
        "\n",
        "piecewise_constant_fn = piecewise_constant([5, 15], [0.01, 0.005, 0.001])"
      ],
      "execution_count": 38,
      "outputs": []
    },
    {
      "cell_type": "code",
      "metadata": {
        "id": "W5hkSl4nua-_",
        "colab_type": "code",
        "colab": {
          "base_uri": "https://localhost:8080/",
          "height": 945
        },
        "outputId": "76b2beb9-a24c-4543-ee4d-73fb0e0bdc91"
      },
      "source": [
        "lr_scheduler = keras.callbacks.LearningRateScheduler(piecewise_constant_fn)\n",
        "\n",
        "model = keras.models.Sequential([\n",
        "    keras.layers.Flatten(input_shape=[28, 28]),\n",
        "    keras.layers.Dense(300, activation=\"selu\", kernel_initializer=\"lecun_normal\"),\n",
        "    keras.layers.Dense(100, activation=\"selu\", kernel_initializer=\"lecun_normal\"),\n",
        "    keras.layers.Dense(10, activation=\"softmax\")\n",
        "])\n",
        "model.compile(loss=\"sparse_categorical_crossentropy\", optimizer=\"nadam\", metrics=[\"accuracy\"])\n",
        "n_epochs = 25\n",
        "history = model.fit(X_train_scaled, y_train, epochs=n_epochs,\n",
        "                    validation_data=(X_valid_scaled, y_valid),\n",
        "                    callbacks=[lr_scheduler])"
      ],
      "execution_count": 39,
      "outputs": [
        {
          "output_type": "stream",
          "text": [
            "Train on 55000 samples, validate on 5000 samples\n",
            "Epoch 1/25\n",
            "55000/55000 [==============================] - 8s 140us/step - loss: 0.8723 - accuracy: 0.7513 - val_loss: 0.8916 - val_accuracy: 0.7376\n",
            "Epoch 2/25\n",
            "55000/55000 [==============================] - 8s 139us/step - loss: 0.8457 - accuracy: 0.7602 - val_loss: 0.7912 - val_accuracy: 0.7562\n",
            "Epoch 3/25\n",
            "55000/55000 [==============================] - 8s 138us/step - loss: 0.8760 - accuracy: 0.7515 - val_loss: 0.9102 - val_accuracy: 0.7078\n",
            "Epoch 4/25\n",
            "55000/55000 [==============================] - 8s 138us/step - loss: 0.9444 - accuracy: 0.7077 - val_loss: 0.8747 - val_accuracy: 0.7172\n",
            "Epoch 5/25\n",
            "55000/55000 [==============================] - 8s 144us/step - loss: 0.9498 - accuracy: 0.6713 - val_loss: 1.3946 - val_accuracy: 0.6278\n",
            "Epoch 6/25\n",
            "55000/55000 [==============================] - 8s 138us/step - loss: 0.7378 - accuracy: 0.7180 - val_loss: 0.7597 - val_accuracy: 0.7216\n",
            "Epoch 7/25\n",
            "55000/55000 [==============================] - 8s 138us/step - loss: 0.6893 - accuracy: 0.7386 - val_loss: 0.7778 - val_accuracy: 0.7462\n",
            "Epoch 8/25\n",
            "55000/55000 [==============================] - 8s 137us/step - loss: 0.6453 - accuracy: 0.7624 - val_loss: 0.7352 - val_accuracy: 0.7380\n",
            "Epoch 9/25\n",
            "55000/55000 [==============================] - 8s 137us/step - loss: 0.6353 - accuracy: 0.7682 - val_loss: 0.8214 - val_accuracy: 0.7630\n",
            "Epoch 10/25\n",
            "55000/55000 [==============================] - 8s 137us/step - loss: 0.5928 - accuracy: 0.7885 - val_loss: 0.7026 - val_accuracy: 0.7992\n",
            "Epoch 11/25\n",
            "55000/55000 [==============================] - 8s 138us/step - loss: 0.5161 - accuracy: 0.8479 - val_loss: 0.5968 - val_accuracy: 0.8236\n",
            "Epoch 12/25\n",
            "55000/55000 [==============================] - 8s 138us/step - loss: 0.4771 - accuracy: 0.8575 - val_loss: 0.6783 - val_accuracy: 0.8460\n",
            "Epoch 13/25\n",
            "55000/55000 [==============================] - 8s 137us/step - loss: 0.4901 - accuracy: 0.8583 - val_loss: 0.6073 - val_accuracy: 0.8332\n",
            "Epoch 14/25\n",
            "55000/55000 [==============================] - 8s 138us/step - loss: 0.4490 - accuracy: 0.8659 - val_loss: 0.5343 - val_accuracy: 0.8532\n",
            "Epoch 15/25\n",
            "55000/55000 [==============================] - 8s 138us/step - loss: 0.4478 - accuracy: 0.8658 - val_loss: 0.6352 - val_accuracy: 0.8542\n",
            "Epoch 16/25\n",
            "55000/55000 [==============================] - 8s 136us/step - loss: 0.3249 - accuracy: 0.8964 - val_loss: 0.4707 - val_accuracy: 0.8686\n",
            "Epoch 17/25\n",
            "55000/55000 [==============================] - 8s 142us/step - loss: 0.2987 - accuracy: 0.9021 - val_loss: 0.4890 - val_accuracy: 0.8750\n",
            "Epoch 18/25\n",
            "55000/55000 [==============================] - 8s 146us/step - loss: 0.2863 - accuracy: 0.9066 - val_loss: 0.4917 - val_accuracy: 0.8740\n",
            "Epoch 19/25\n",
            "55000/55000 [==============================] - 8s 138us/step - loss: 0.2789 - accuracy: 0.9087 - val_loss: 0.4835 - val_accuracy: 0.8764\n",
            "Epoch 20/25\n",
            "55000/55000 [==============================] - 8s 137us/step - loss: 0.2703 - accuracy: 0.9117 - val_loss: 0.5697 - val_accuracy: 0.8726\n",
            "Epoch 21/25\n",
            "55000/55000 [==============================] - 8s 137us/step - loss: 0.2620 - accuracy: 0.9140 - val_loss: 0.5246 - val_accuracy: 0.8758\n",
            "Epoch 22/25\n",
            "55000/55000 [==============================] - 8s 137us/step - loss: 0.2558 - accuracy: 0.9161 - val_loss: 0.5246 - val_accuracy: 0.8788\n",
            "Epoch 23/25\n",
            "55000/55000 [==============================] - 8s 137us/step - loss: 0.2479 - accuracy: 0.9188 - val_loss: 0.5308 - val_accuracy: 0.8742\n",
            "Epoch 24/25\n",
            "55000/55000 [==============================] - 8s 137us/step - loss: 0.2410 - accuracy: 0.9210 - val_loss: 0.5702 - val_accuracy: 0.8738\n",
            "Epoch 25/25\n",
            "55000/55000 [==============================] - 8s 138us/step - loss: 0.2373 - accuracy: 0.9232 - val_loss: 0.5399 - val_accuracy: 0.8762\n"
          ],
          "name": "stdout"
        }
      ]
    },
    {
      "cell_type": "code",
      "metadata": {
        "id": "d3vMmo83ubX-",
        "colab_type": "code",
        "colab": {
          "base_uri": "https://localhost:8080/",
          "height": 296
        },
        "outputId": "122d2dc4-1129-492e-eaa7-500d046806cb"
      },
      "source": [
        "#@title\n",
        "plt.figure(figsize=(11, 4))\n",
        "plt.plot(history.epoch, [piecewise_constant_fn(epoch) for epoch in history.epoch], \"o-\")\n",
        "plt.axis([0, n_epochs - 1, 0, 0.011])\n",
        "plt.xlabel(\"Epoch\")\n",
        "plt.ylabel(\"Learning Rate\")\n",
        "plt.title(\"Piecewise Constant Scheduling\", fontsize=14)\n",
        "plt.grid(True)\n",
        "plt.show()"
      ],
      "execution_count": 40,
      "outputs": [
        {
          "output_type": "display_data",
          "data": {
            "image/png": "[encoded data removed]",
            "text/plain": [
              "<Figure size 792x288 with 1 Axes>"
            ]
          },
          "metadata": {
            "tags": [],
            "needs_background": "light"
          }
        }
      ]
    },
    {
      "cell_type": "markdown",
      "metadata": {
        "id": "WxEvlNkWiZCX",
        "colab_type": "text"
      },
      "source": [
        "#### Performance scheduling"
      ]
    },
    {
      "cell_type": "markdown",
      "metadata": {
        "id": "GqQVeobNicMS",
        "colab_type": "text"
      },
      "source": [
        "Measure the validation error every $N$ steps (just like for early stopping) and reduce the learning rate by a factor of $\\lambda$ when the error stops dropping.\n",
        "\n",
        "To implement performance scheduling simply use the `ReduceLROnPlateau` callback. For example, if you pass the following callback to the `fit()` method, it will multiply the learning rate by $0.5$ whenever the best validation loss does not improve for $5$ consecutive epochs (other options are available, please check the documentation for more details):"
      ]
    },
    {
      "cell_type": "code",
      "metadata": {
        "id": "JUHKV13vuufg",
        "colab_type": "code",
        "colab": {
          "base_uri": "https://localhost:8080/",
          "height": 945
        },
        "outputId": "4e688cb3-f24e-47fe-9a29-ed329f6de5ad"
      },
      "source": [
        "lr_scheduler = keras.callbacks.ReduceLROnPlateau(factor=0.5, patience=5)\n",
        "\n",
        "model = keras.models.Sequential([\n",
        "    keras.layers.Flatten(input_shape=[28, 28]),\n",
        "    keras.layers.Dense(300, activation=\"selu\", kernel_initializer=\"lecun_normal\"),\n",
        "    keras.layers.Dense(100, activation=\"selu\", kernel_initializer=\"lecun_normal\"),\n",
        "    keras.layers.Dense(10, activation=\"softmax\")\n",
        "])\n",
        "optimizer = keras.optimizers.SGD(lr=0.02, momentum=0.9)\n",
        "model.compile(loss=\"sparse_categorical_crossentropy\", optimizer=optimizer, metrics=[\"accuracy\"])\n",
        "n_epochs = 25\n",
        "history = model.fit(X_train_scaled, y_train, epochs=n_epochs,\n",
        "                    validation_data=(X_valid_scaled, y_valid),\n",
        "                    callbacks=[lr_scheduler])"
      ],
      "execution_count": 41,
      "outputs": [
        {
          "output_type": "stream",
          "text": [
            "Train on 55000 samples, validate on 5000 samples\n",
            "Epoch 1/25\n",
            "55000/55000 [==============================] - 6s 105us/step - loss: 0.5974 - accuracy: 0.8052 - val_loss: 0.4829 - val_accuracy: 0.8450\n",
            "Epoch 2/25\n",
            "55000/55000 [==============================] - 6s 102us/step - loss: 0.5126 - accuracy: 0.8359 - val_loss: 0.5347 - val_accuracy: 0.8442\n",
            "Epoch 3/25\n",
            "55000/55000 [==============================] - 6s 101us/step - loss: 0.5098 - accuracy: 0.8442 - val_loss: 0.4879 - val_accuracy: 0.8436\n",
            "Epoch 4/25\n",
            "55000/55000 [==============================] - 6s 102us/step - loss: 0.5185 - accuracy: 0.8444 - val_loss: 0.6734 - val_accuracy: 0.8224\n",
            "Epoch 5/25\n",
            "55000/55000 [==============================] - 6s 102us/step - loss: 0.5468 - accuracy: 0.8447 - val_loss: 0.5608 - val_accuracy: 0.8478\n",
            "Epoch 6/25\n",
            "55000/55000 [==============================] - 6s 101us/step - loss: 0.5364 - accuracy: 0.8500 - val_loss: 0.8003 - val_accuracy: 0.8378\n",
            "Epoch 7/25\n",
            "55000/55000 [==============================] - 6s 101us/step - loss: 0.3164 - accuracy: 0.8903 - val_loss: 0.4487 - val_accuracy: 0.8676\n",
            "Epoch 8/25\n",
            "55000/55000 [==============================] - 6s 102us/step - loss: 0.2599 - accuracy: 0.9061 - val_loss: 0.4170 - val_accuracy: 0.8632\n",
            "Epoch 9/25\n",
            "55000/55000 [==============================] - 6s 102us/step - loss: 0.2499 - accuracy: 0.9087 - val_loss: 0.3752 - val_accuracy: 0.8874\n",
            "Epoch 10/25\n",
            "55000/55000 [==============================] - 6s 101us/step - loss: 0.2196 - accuracy: 0.9182 - val_loss: 0.4174 - val_accuracy: 0.8862\n",
            "Epoch 11/25\n",
            "55000/55000 [==============================] - 6s 101us/step - loss: 0.2125 - accuracy: 0.9211 - val_loss: 0.4428 - val_accuracy: 0.8646\n",
            "Epoch 12/25\n",
            "55000/55000 [==============================] - 6s 101us/step - loss: 0.2036 - accuracy: 0.9240 - val_loss: 0.4223 - val_accuracy: 0.8822\n",
            "Epoch 13/25\n",
            "55000/55000 [==============================] - 6s 101us/step - loss: 0.1948 - accuracy: 0.9270 - val_loss: 0.4212 - val_accuracy: 0.8864\n",
            "Epoch 14/25\n",
            "55000/55000 [==============================] - 6s 101us/step - loss: 0.1842 - accuracy: 0.9317 - val_loss: 0.4351 - val_accuracy: 0.8812\n",
            "Epoch 15/25\n",
            "55000/55000 [==============================] - 6s 101us/step - loss: 0.1258 - accuracy: 0.9510 - val_loss: 0.3947 - val_accuracy: 0.8926\n",
            "Epoch 16/25\n",
            "55000/55000 [==============================] - 6s 102us/step - loss: 0.1112 - accuracy: 0.9571 - val_loss: 0.4306 - val_accuracy: 0.8944\n",
            "Epoch 17/25\n",
            "55000/55000 [==============================] - 6s 102us/step - loss: 0.1040 - accuracy: 0.9592 - val_loss: 0.4267 - val_accuracy: 0.8922\n",
            "Epoch 18/25\n",
            "55000/55000 [==============================] - 6s 101us/step - loss: 0.0979 - accuracy: 0.9616 - val_loss: 0.4412 - val_accuracy: 0.8934\n",
            "Epoch 19/25\n",
            "55000/55000 [==============================] - 6s 102us/step - loss: 0.0905 - accuracy: 0.9650 - val_loss: 0.4852 - val_accuracy: 0.8926\n",
            "Epoch 20/25\n",
            "55000/55000 [==============================] - 6s 101us/step - loss: 0.0709 - accuracy: 0.9732 - val_loss: 0.4537 - val_accuracy: 0.8990\n",
            "Epoch 21/25\n",
            "55000/55000 [==============================] - 6s 101us/step - loss: 0.0643 - accuracy: 0.9765 - val_loss: 0.4784 - val_accuracy: 0.8978\n",
            "Epoch 22/25\n",
            "55000/55000 [==============================] - 5s 100us/step - loss: 0.0602 - accuracy: 0.9782 - val_loss: 0.4928 - val_accuracy: 0.8942\n",
            "Epoch 23/25\n",
            "55000/55000 [==============================] - 6s 100us/step - loss: 0.0573 - accuracy: 0.9797 - val_loss: 0.5118 - val_accuracy: 0.8952\n",
            "Epoch 24/25\n",
            "55000/55000 [==============================] - 6s 101us/step - loss: 0.0538 - accuracy: 0.9805 - val_loss: 0.5123 - val_accuracy: 0.8980\n",
            "Epoch 25/25\n",
            "55000/55000 [==============================] - 6s 101us/step - loss: 0.0456 - accuracy: 0.9854 - val_loss: 0.5196 - val_accuracy: 0.8974\n"
          ],
          "name": "stdout"
        }
      ]
    },
    {
      "cell_type": "code",
      "metadata": {
        "id": "7aRRMoqUuw1J",
        "colab_type": "code",
        "colab": {
          "base_uri": "https://localhost:8080/",
          "height": 296
        },
        "outputId": "ba426647-e5ed-433a-8575-55c6a755ea4a"
      },
      "source": [
        "#@title\n",
        "plt.plot(history.epoch, history.history[\"lr\"], \"bo-\")\n",
        "plt.xlabel(\"Epoch\")\n",
        "plt.ylabel(\"Learning Rate\", color='b')\n",
        "plt.tick_params('y', colors='b')\n",
        "plt.gca().set_xlim(0, n_epochs - 1)\n",
        "plt.grid(True)\n",
        "\n",
        "ax2 = plt.gca().twinx()\n",
        "ax2.plot(history.epoch, history.history[\"val_loss\"], \"r^-\")\n",
        "ax2.set_ylabel('Validation Loss', color='r')\n",
        "ax2.tick_params('y', colors='r')\n",
        "\n",
        "plt.title(\"Reduce LR on Plateau\", fontsize=14)\n",
        "plt.show()"
      ],
      "execution_count": 42,
      "outputs": [
        {
          "output_type": "display_data",
          "data": {
            "image/png": "[encoded data removed]",
            "text/plain": [
              "<Figure size 432x288 with 2 Axes>"
            ]
          },
          "metadata": {
            "tags": [],
            "needs_background": "light"
          }
        }
      ]
    },
    {
      "cell_type": "markdown",
      "metadata": {
        "id": "0KrUbIJWhaZy",
        "colab_type": "text"
      },
      "source": [
        "#### TensorFlow implementatiom"
      ]
    },
    {
      "cell_type": "markdown",
      "metadata": {
        "id": "gOjZypzjv2Tu",
        "colab_type": "text"
      },
      "source": [
        "Lastly, tf.keras offers an alternative way to implement learning rate scheduling: just define the learning rate using one of the schedules available in `keras.optimizers.schedules`, then pass this learning rate to any optimizer. This approach updates the learning rate at each step rather than at each epoch. For example, here is how to implement the same exponential schedule as earlier:"
      ]
    },
    {
      "cell_type": "code",
      "metadata": {
        "id": "N5o4hUq_wCsf",
        "colab_type": "code",
        "colab": {
          "base_uri": "https://localhost:8080/",
          "height": 945
        },
        "outputId": "6c813523-38a7-45d2-e721-cd306d26bdda"
      },
      "source": [
        "import tensorflow as tf\n",
        "model = keras.models.Sequential([\n",
        "    keras.layers.Flatten(input_shape=[28, 28]),\n",
        "    keras.layers.Dense(300, activation=\"selu\", kernel_initializer=\"lecun_normal\"),\n",
        "    keras.layers.Dense(100, activation=\"selu\", kernel_initializer=\"lecun_normal\"),\n",
        "    keras.layers.Dense(10, activation=\"softmax\")\n",
        "])\n",
        "s = 20 * len(X_train) // 32 # number of steps in 20 epochs (batch size = 32)\n",
        "learning_rate = tf.keras.optimizers.schedules.ExponentialDecay(0.01, s, 0.1)\n",
        "optimizer = tf.keras.optimizers.SGD(learning_rate)\n",
        "model.compile(loss=\"sparse_categorical_crossentropy\", optimizer=optimizer, metrics=[\"accuracy\"])\n",
        "n_epochs = 25\n",
        "history = model.fit(X_train_scaled, y_train, epochs=n_epochs,\n",
        "                    validation_data=(X_valid_scaled, y_valid))"
      ],
      "execution_count": 43,
      "outputs": [
        {
          "output_type": "stream",
          "text": [
            "Train on 55000 samples, validate on 5000 samples\n",
            "Epoch 1/25\n",
            "55000/55000 [==============================] - 5s 95us/step - loss: 0.4879 - accuracy: 0.8289 - val_loss: 0.4086 - val_accuracy: 0.8594\n",
            "Epoch 2/25\n",
            "55000/55000 [==============================] - 5s 97us/step - loss: 0.3790 - accuracy: 0.8668 - val_loss: 0.3767 - val_accuracy: 0.8658\n",
            "Epoch 3/25\n",
            "55000/55000 [==============================] - 5s 98us/step - loss: 0.3467 - accuracy: 0.8765 - val_loss: 0.3582 - val_accuracy: 0.8722\n",
            "Epoch 4/25\n",
            "55000/55000 [==============================] - 5s 94us/step - loss: 0.3232 - accuracy: 0.8851 - val_loss: 0.3518 - val_accuracy: 0.8752\n",
            "Epoch 5/25\n",
            "55000/55000 [==============================] - 5s 94us/step - loss: 0.3067 - accuracy: 0.8903 - val_loss: 0.3403 - val_accuracy: 0.8814\n",
            "Epoch 6/25\n",
            "55000/55000 [==============================] - 5s 94us/step - loss: 0.2939 - accuracy: 0.8950 - val_loss: 0.3399 - val_accuracy: 0.8806\n",
            "Epoch 7/25\n",
            "55000/55000 [==============================] - 5s 93us/step - loss: 0.2825 - accuracy: 0.8988 - val_loss: 0.3325 - val_accuracy: 0.8830\n",
            "Epoch 8/25\n",
            "55000/55000 [==============================] - 5s 94us/step - loss: 0.2727 - accuracy: 0.9032 - val_loss: 0.3303 - val_accuracy: 0.8842\n",
            "Epoch 9/25\n",
            "55000/55000 [==============================] - 5s 93us/step - loss: 0.2646 - accuracy: 0.9053 - val_loss: 0.3308 - val_accuracy: 0.8822\n",
            "Epoch 10/25\n",
            "55000/55000 [==============================] - 5s 93us/step - loss: 0.2582 - accuracy: 0.9078 - val_loss: 0.3262 - val_accuracy: 0.8838\n",
            "Epoch 11/25\n",
            "55000/55000 [==============================] - 5s 93us/step - loss: 0.2521 - accuracy: 0.9107 - val_loss: 0.3270 - val_accuracy: 0.8840\n",
            "Epoch 12/25\n",
            "55000/55000 [==============================] - 5s 93us/step - loss: 0.2470 - accuracy: 0.9122 - val_loss: 0.3241 - val_accuracy: 0.8872\n",
            "Epoch 13/25\n",
            "55000/55000 [==============================] - 5s 93us/step - loss: 0.2421 - accuracy: 0.9138 - val_loss: 0.3227 - val_accuracy: 0.8864\n",
            "Epoch 14/25\n",
            "55000/55000 [==============================] - 5s 94us/step - loss: 0.2382 - accuracy: 0.9153 - val_loss: 0.3191 - val_accuracy: 0.8844\n",
            "Epoch 15/25\n",
            "55000/55000 [==============================] - 5s 94us/step - loss: 0.2347 - accuracy: 0.9178 - val_loss: 0.3198 - val_accuracy: 0.8852\n",
            "Epoch 16/25\n",
            "55000/55000 [==============================] - 5s 92us/step - loss: 0.2316 - accuracy: 0.9179 - val_loss: 0.3184 - val_accuracy: 0.8860\n",
            "Epoch 17/25\n",
            "55000/55000 [==============================] - 5s 93us/step - loss: 0.2288 - accuracy: 0.9202 - val_loss: 0.3232 - val_accuracy: 0.8868\n",
            "Epoch 18/25\n",
            "55000/55000 [==============================] - 5s 92us/step - loss: 0.2262 - accuracy: 0.9213 - val_loss: 0.3185 - val_accuracy: 0.8874\n",
            "Epoch 19/25\n",
            "55000/55000 [==============================] - 5s 93us/step - loss: 0.2239 - accuracy: 0.9213 - val_loss: 0.3179 - val_accuracy: 0.8868\n",
            "Epoch 20/25\n",
            "55000/55000 [==============================] - 5s 94us/step - loss: 0.2221 - accuracy: 0.9224 - val_loss: 0.3172 - val_accuracy: 0.8872\n",
            "Epoch 21/25\n",
            "55000/55000 [==============================] - 5s 99us/step - loss: 0.2202 - accuracy: 0.9226 - val_loss: 0.3189 - val_accuracy: 0.8858\n",
            "Epoch 22/25\n",
            "55000/55000 [==============================] - 6s 103us/step - loss: 0.2186 - accuracy: 0.9231 - val_loss: 0.3177 - val_accuracy: 0.8862\n",
            "Epoch 23/25\n",
            "55000/55000 [==============================] - 5s 96us/step - loss: 0.2174 - accuracy: 0.9248 - val_loss: 0.3165 - val_accuracy: 0.8884\n",
            "Epoch 24/25\n",
            "55000/55000 [==============================] - 5s 94us/step - loss: 0.2162 - accuracy: 0.9251 - val_loss: 0.3172 - val_accuracy: 0.8880\n",
            "Epoch 25/25\n",
            "55000/55000 [==============================] - 5s 92us/step - loss: 0.2151 - accuracy: 0.9254 - val_loss: 0.3156 - val_accuracy: 0.8888\n"
          ],
          "name": "stdout"
        }
      ]
    },
    {
      "cell_type": "markdown",
      "metadata": {
        "id": "jYv3emPHrwRr",
        "colab_type": "text"
      },
      "source": [
        "For piecewise constant scheduling, try this:"
      ]
    },
    {
      "cell_type": "code",
      "metadata": {
        "id": "RfGUvVRBrYSr",
        "colab_type": "code",
        "colab": {}
      },
      "source": [
        "learning_rate = tf.keras.optimizers.schedules.PiecewiseConstantDecay(\n",
        "    boundaries=[5. * n_steps_per_epoch, 15. * n_steps_per_epoch],\n",
        "    values=[0.01, 0.005, 0.001])"
      ],
      "execution_count": 44,
      "outputs": []
    },
    {
      "cell_type": "markdown",
      "metadata": {
        "id": "Iz8E6Pa9wJFp",
        "colab_type": "text"
      },
      "source": [
        "This is nice and simple, plus when you save the model, the learning rate and its schedule (including its state) get saved as well. However, this approach is not part of the Keras API, it is specific to tf.keras.\n",
        "\n",
        "\n",
        "To sum up, exponential decay or performance scheduling can considerably speed up convergence."
      ]
    },
    {
      "cell_type": "markdown",
      "metadata": {
        "id": "XzRkdLPJyPYb",
        "colab_type": "text"
      },
      "source": [
        "# Resources"
      ]
    },
    {
      "cell_type": "markdown",
      "metadata": {
        "id": "igySK6jtyRks",
        "colab_type": "text"
      },
      "source": [
        "- https://github.com/ageron/handson-ml2\n",
        "\n",
        "\n",
        "- https://ruder.io/optimizing-gradient-descent/index.html#visualizationofalgorithms\n",
        "\n",
        "\n",
        "\n",
        "- https://stackoverflow.com/questions/36162180/gradient-descent-vs-adagrad-vs-momentum-in-tensorflow"
      ]
    }
  ]
}