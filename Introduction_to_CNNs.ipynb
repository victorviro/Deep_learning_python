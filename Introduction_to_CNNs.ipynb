{
  "nbformat": 4,
  "nbformat_minor": 0,
  "metadata": {
    "kernelspec": {
      "display_name": "Python 3",
      "language": "python",
      "name": "python3"
    },
    "language_info": {
      "codemirror_mode": {
        "name": "ipython",
        "version": 3
      },
      "file_extension": ".py",
      "mimetype": "text/x-python",
      "name": "python",
      "nbconvert_exporter": "python",
      "pygments_lexer": "ipython3",
      "version": "3.6.6"
    },
    "colab": {
      "name": "Introduction to CNNs.ipynb",
      "provenance": [],
      "collapsed_sections": [],
      "toc_visible": true,
      "include_colab_link": true
    },
    "accelerator": "GPU"
  },
  "cells": [
    {
      "cell_type": "markdown",
      "metadata": {
        "id": "view-in-github",
        "colab_type": "text"
      },
      "source": [
        "<a href=\"https://colab.research.google.com/github/victorviro/Deep_learning_python/blob/master/Introduction_to_CNNs.ipynb\" target=\"_parent\"><img src=\"https://colab.research.google.com/assets/colab-badge.svg\" alt=\"Open In Colab\"/></a>"
      ]
    },
    {
      "cell_type": "markdown",
      "metadata": {
        "id": "4aV7NNuMKgoU",
        "colab_type": "text"
      },
      "source": [
        "## Convolutional Neural Networks explained and example with Keras\n",
        "\n",
        "* **1. Introduction convolutional neural networks(CNNs)**\n",
        "    * 1.1 Arquitecture of the visual cortex\n",
        "    * 1.2 Convolutional layers\n",
        "    * 1.3 Pooling layer\n",
        "    * 1.4 CNN arquitectures\n",
        "     \n",
        "    \n",
        "* **2. Example**\n",
        "    * 2.1 Load data\n",
        "    * 2.2 Data preproccesing\n",
        "    * 2.3 Building CNN architecture using keras sequential API\n",
        "    * 2.4 Train the model\n",
        "    * 2.5 Model evaluation"
      ]
    },
    {
      "cell_type": "markdown",
      "metadata": {
        "id": "rNZG7OgWKgoW",
        "colab_type": "text"
      },
      "source": [
        "# 1 Introduction convolutional neural networks"
      ]
    },
    {
      "cell_type": "markdown",
      "metadata": {
        "id": "akFN4m17KgoX",
        "colab_type": "text"
      },
      "source": [
        "Convolutional neural networks (CNNs) emerged from the study of the brain’s visual cortex, and they have been used in image recognition since the 1980s.\n",
        "\n",
        "In the last few years, thanks to the increase in computational power, the amount of available training data, and the study of deep nets, CNNs have achieved superhuman performance on some complex visual tasks like image search services, self-driving cars, and more.\n"
      ]
    },
    {
      "cell_type": "markdown",
      "metadata": {
        "id": "RxEmvrldM1dM",
        "colab_type": "text"
      },
      "source": [
        "## 1.1 Arquitecture of the visual cortex"
      ]
    },
    {
      "cell_type": "markdown",
      "metadata": {
        "id": "NFTGaT9-KgoY",
        "colab_type": "text"
      },
      "source": [
        "\n",
        "\n",
        "A researcher performed experiments on cats in 1959, giving insights on the structure of the visual cortex. He noticed that many neurons in the visual cortex have a small local receptive field, meaning they react only to visual stimuli located in a limited region of the visual field(see Figure).\n",
        "\n",
        "\n",
        "The authors showed that some neurons react only to images of horizontal lines, while others react only to lines with different orientations (two neurons may have the same receptive field but react to different line orientations). They also noticed that some neurons have larger receptive fields, and they react to more complex patterns that are combinations of the lower-level patterns. These observations led to the idea that the higher-level neurons are based on the outputs of neighboring lower-level neurons (notice that each neuron is connected only to a few neurons from the previous layer). This powerful architecture is able to detect all sorts of complex patterns in any area of the visual field.\n",
        "\n",
        "![](https://i.ibb.co/jvphv3k/Captura.png)\n",
        "\n",
        "\n",
        "Observation: We do not use a regular deep neural network with fully connected layers for image recognition. Despite it works fine for small images, it breaks for larger images because of the huge number of parameters it requires.\n"
      ]
    },
    {
      "cell_type": "markdown",
      "metadata": {
        "id": "fr3bx1pFM4G_",
        "colab_type": "text"
      },
      "source": [
        "## 1.2 Convolutional layers"
      ]
    },
    {
      "cell_type": "markdown",
      "metadata": {
        "id": "Itt7XawxKgoZ",
        "colab_type": "text"
      },
      "source": [
        "\n",
        "The most important building block of a CNN is the *convolutional layer*: neurons in the first convolutional layer are not connected to every single pixel in the input image, but only to pixels in their receptive fields (see Figure 14-2). In turn, each neuron in the second convolutional layer is connected only to neurons located within a small rectangle in the first layer. This architecture allows the network to concentrate on small low-level features in the first hidden layer, then assemble them into larger higher-level features in the next hidden layer, and so on.\n",
        "\n",
        "![](https://i.ibb.co/QPBKL3M/Captura2.png)"
      ]
    },
    {
      "cell_type": "markdown",
      "metadata": {
        "id": "qDI6ZUQHKgoa",
        "colab_type": "text"
      },
      "source": [
        "A neuron located in row $i$, column $j$ of a given layer is connected to the outputs of the neurons in the previous layer located in rows $i$ to $i + f_h – 1$, columns $j$ to $j + f_w – 1$, where $f_h$ and $f_w$ are the height and width of the receptive field (see Figure 14-3). In order for a layer to have the same height and width as the previous layer, it is common to add zeros around the inputs, as shown in the diagram. This is called *SAME padding* or *Zero padding*.\n",
        "\n",
        "![](https://i.ibb.co/WyhzNYG/Captura3.png)\n"
      ]
    },
    {
      "cell_type": "markdown",
      "metadata": {
        "id": "NPv2K2VTKgoc",
        "colab_type": "text"
      },
      "source": [
        "It is also possible to connect a large input layer to a much smaller layer by spacing out the receptive fields, as shown in Figure 14-4.\n",
        "\n",
        "![](https://i.ibb.co/ZLWjXPD/Captura4.png)\n",
        "\n",
        "The shift from one receptive field to the next is called the *stride*. In the diagram, a $5 \\times 7$ input layer (plus zero padding) is connected to a $3\\times4$ layer, using $3\\times3$ receptive fields and a stride of 2 (in this example the stride is the same in both directions, but it does not have to be so). A neuron located in row $i$, column $j$ in the upper layer is connected to the outputs of the neurons in the previous layer located in rows $i\\times s_h$ to $i\\times s_h+f_h-1$, columns $j \\times s_w$ to $j \\times s_w + f_w -1$, where $s_h$ and $s_w$ are the vertical and horizontal strides.\n",
        "\n"
      ]
    },
    {
      "cell_type": "markdown",
      "metadata": {
        "id": "13Zs4ZTuMuv1",
        "colab_type": "text"
      },
      "source": [
        "### Filters"
      ]
    },
    {
      "cell_type": "markdown",
      "metadata": {
        "id": "na-gv793Kgod",
        "colab_type": "text"
      },
      "source": [
        "A neuron’s weights can be represented as a small image the size of the receptive field. For example, Figure 14-5 shows two possible sets of weights, called filters (or convolution kernels). The first one is represented as a black square with a vertical white line in the middle (it is a $7 \\times 7$ matrix full of 0s except for the central column, which is full of 1s); neurons using these weights will ignore everything in their receptive field except for the central vertical line (since all inputs will get multiplied by 0, except for the ones located in the central vertical line). The second filter is a black square with a horizontal white line in the middle. Once again, neurons using these weights will ignore everything in their receptive field except for the central horizontal line.\n",
        "\n",
        "Now if all neurons in a layer use the same vertical line filter (and the same bias term), and you feed the network the input image shown in Figure 14-5 (bottom image), the layer will output the top-left image. Similarly, the upper-right image is what you get if all neurons use the same horizontal line filter. A layer full of neurons using the same filter outputs a feature map, which highlights the areas in an image that activate the filter the most. Of course you do not have to define the filters manually: instead, during training the convolutional layer will automatically learn the most useful filters for its task, and the layers above will learn to combine them into more complex patterns.\n",
        "\n",
        "**Note**: It is usually choosing odd numbers to define the size of the filters.\n",
        "![](https://i.ibb.co/HnD2Mth/Captura5.png)\n",
        "\n",
        " \n",
        "\n"
      ]
    },
    {
      "cell_type": "markdown",
      "metadata": {
        "id": "opVq8rH97DtH",
        "colab_type": "text"
      },
      "source": [
        "Applying a convolution to an image is like running a filter of a certain dimension and sliding it on top of the image. That operation is translated into an element-wise multiplication between the two matrices and finally an addition of the multiplication outputs. The final integer of this computation forms a single element of the output matrix.\n",
        "\n",
        "Let’s review this via an example, where we want to apply a filter (kernel) to detect vertical edges from a 2D original image.\n",
        "\n",
        "![texto alternativo](https://i.ibb.co/P6cLRPt/conv.png)\n",
        "\n",
        "In the above example, I used a value of a stride equal to 1, meaning the filter moves horizontally and vertically by one pixel. The values of the filter were already decided in the convolution. The goal of a convolutional neural network is to learn these numbers. We treat them as parameters, which the network learns using backpropagation."
      ]
    },
    {
      "cell_type": "markdown",
      "metadata": {
        "id": "MZhUxa15Nf6P",
        "colab_type": "text"
      },
      "source": [
        "### Multiple feature maps"
      ]
    },
    {
      "cell_type": "markdown",
      "metadata": {
        "id": "2untCUG7NgSY",
        "colab_type": "text"
      },
      "source": [
        "\n",
        "\n",
        "Up to now, for simplicity, I have represented the output of each convolutional layer as a thin 2D layer, but in reality a convolutional layer has multiple filters (you decide how many), and it outputs one feature map per filter, so it is more accurately represented in 3D (see Figure 14-6). To do so, it has one neuron per pixel in each feature map, and all neurons within a given feature map share the same parameters (i.e., the same weights and bias term). However, neurons in different feature maps use different parameters.\n",
        "\n",
        "In short, a convolutional layer simultaneously applies multiple trainable filters to its inputs, making it capable of detecting multiple features anywhere in its inputs.\n",
        "\n",
        "Observations:\n",
        "- The fact that all neurons in a feature map share the same parameters dramatically reduces the number of parameters in the model. Moreover, once the CNN has learned to recognize a pattern in one location, it can recognize it in any other location. In contrast, once a regular DNN has learned to recognize a pattern in one location, it can recognize it only in that particular location.\n",
        "\n",
        "- Input images are also composed of multiple sublayers, the number of channels: one per color channel. There are typically three: red, green, and blue (RGB).\n",
        "\n",
        "![](https://i.ibb.co/LQLtqxC/Captura6.png)\n",
        "\n",
        "\n",
        "Specifically, a neuron located in row $i$, column $j$ of the feature map $k$ in a given convolutional layer $l$ is connected to the outputs of the neurons in the previous layer $l-1$, located in rows $i\\times s_h$ to $i\\times s_h+f_h-1$ and columns $j \\times s_w$ to $j \\times s_w + f_w -1$, across all feature maps (in layer $l-1$). Note that all neurons located in the same row $i$ and column $j$ but in different feature maps are connected to the outputs of the exact same\n",
        "neurons in the previous layer.\n",
        "\n"
      ]
    },
    {
      "cell_type": "markdown",
      "metadata": {
        "id": "QDBnbnIS7JSV",
        "colab_type": "text"
      },
      "source": [
        "We can introduce the formula to quickly calculate the output size. If $l$ is a convolutional layer, we denote the stride by $s_h^{[l]}$, $s_w^{[l]}$; the size of the filter (kernel) by $f_h^{[l]}$, $f_w^{[l]}$; and the padding by $p^{[l]}$. The input of this layer $l$ is going to be some dimension, $n_h^{[l-1]} \\times\\ n_w^{[l-1]} \\times n_c^{[l-1]}$ (this is the output of the previous layer $l-1$, for example, if $l$ is the first hidden layer, the input of layer $l$ will be the images with shape [height of the images $\\times$ width of the images $\\times$ number of channels]). The output of the layer $l$ will be also a volume with dimension $n_h^{[l]} \\times\\ n_w^{[l]} \\times n_c^{[l]}$ where \n",
        "$n_h^{[l]}=\\frac{n_h^{[l-1]}+2p^{[l]}-f_h^{[l]}}{s_h^{[l]}}+1$, \n",
        "$n_w^{[l]}=\\frac{n_w^{[l-1]}+2p^{[l]}-f_w^{[l]}}{s_w^{[l]}}+1$ and \n",
        "$n_c^{[l]}$ will be equal to the number of filters used in the convolutional layer. Note that the dimension of each filter in the layer $l$ will be $f_h^{[l]} \\times\\ f_w^{[l]} \\times n_c^{[l-1]}$.\n",
        "\n",
        "\n",
        "\n",
        "For example, suposse the input images have size $n_h^{[0]} \\times\\ n_w^{[0]} \\times n_c^{[0]}=39 \\times\\ 39 \\times3$ and we apply in the first hidden layer a convolutional layer with stride $s_h^{[1]}=s_w^{[1]}=1$, size filter (kernel) $f_h^{[1]}=f_w^{[1]}=3$, padding $p^{[1]}=0$ and we use $10$ filters, then the output volume of this layer will have the dimension $n_h^{[1]} \\times\\ n_w^{[1]} \\times n_c^{[1]}=\n",
        "\\frac{n_h^{[0]}+2p^{[1]}-f_h^{[1]}}{s_h^{[1]}}+1 \\times\n",
        "\\frac{n_w^{[0]}+2p^{[1]}-f_w^{[1]}}{s_w^{[1]}}+1 \\times n_c^{[1]}=\n",
        "\\frac{39+0-3}{1}+1 \\times\n",
        "\\frac{39+0-3}{1}+1 \\times 10 = 37 \\times 37 \\times 10$, and each of the $10$ filters will have dimension $f_h^{[1]} \\times\\ f_w^{[1]} \\times n_c^{[0]}= 3 \\times 3 \\times 3$.\n",
        "\n",
        "Another example is shown in the next figure (only one filter is applied):\n",
        "\n",
        "![texto alternativo](https://i.ibb.co/VMsq2yb/dim-conv.png)\n",
        "\n",
        "Another example using 2 filters:\n",
        "\n",
        "![texto alternativo](https://i.ibb.co/wh7RGgQ/dim-conv2.png)\n",
        "\n",
        "\n"
      ]
    },
    {
      "cell_type": "markdown",
      "metadata": {
        "id": "55GMyAuD-No4",
        "colab_type": "text"
      },
      "source": [
        "The final step that takes us to a convolutional neural layer is to add the bias and a non-linear function.\n",
        "\n",
        "![texto alternativo](https://i.ibb.co/ZhnzLPp/conv-layer.png)\n",
        "\n",
        "Remember that the parameters involved in one layer are independent of the input size image.\n",
        "\n",
        "So let’s consider, for example, that we have 10 filters that are of size 3$\\times$3$\\times$3 in one layer of a neural network. Each filter has 27 (3$\\times$3$\\times$3) + 1 bias => 28 parameters. Therefore, the total amount of parameters in the layer is 280 (10$\\times$28).\n",
        "\n",
        "We are now ready to build a complete deep convolutional neural network.\n",
        "The following architecture depicts a simple example of that:\n",
        "\n",
        "![texto alternativo](https://i.ibb.co/WFDtffF/deep-cnn.png)"
      ]
    },
    {
      "cell_type": "markdown",
      "metadata": {
        "id": "n9vPX7PaoFlH",
        "colab_type": "text"
      },
      "source": [
        "**Note**: Reggard to the padding, there are two common choices:\n",
        "- Valid padding: means no padding.\n",
        "- SAME padding: the padding is chosen in such way that the output size is the same as the input size."
      ]
    },
    {
      "cell_type": "markdown",
      "metadata": {
        "id": "vibiFKhRSwfi",
        "colab_type": "text"
      },
      "source": [
        "### Memory"
      ]
    },
    {
      "cell_type": "markdown",
      "metadata": {
        "id": "n1ZUkHNvKgod",
        "colab_type": "text"
      },
      "source": [
        "\n",
        "\n",
        "Convolutional layers require a huge amount of RAM. This is especially true during training, because the reverse pass of backpropagation requires all the intermediate values computed during the forward pass.\n",
        "\n",
        "During inference (i.e., when making a prediction for a new instance) the RAM occupied by one layer can be released as soon as the next layer has been computed, so you only need as much RAM as required by two consecutive layers. But during training everything computed during the forward pass needs to be preserved for the reverse pass, so the amount of RAM needed is (at least) the total amount of RAM required by all layers. \n",
        "\n",
        "If training crashes because of an out-of-memory error, you can try reducing the mini-batch size. Alternatively, you can try reducing dimensionality using a stride, or removing a few layers. Or you could distribute the CNN across multiple devices."
      ]
    },
    {
      "cell_type": "markdown",
      "metadata": {
        "id": "istC9VibQDYO",
        "colab_type": "text"
      },
      "source": [
        "### TensorFlow implementation\n",
        "\n",
        "In TensorFlow, each input image is typically represented as a 3D tensor of shape [`height, width, channels`] . A mini-batch is represented as a 4D tensor of shape [`mini-batch size, height, width, channels`].\n",
        "\n",
        "The next code creates a Conv2D layer with $32$ filters, each $3\\times3$, using a stride of $1$ (both horizontally and vertically), SAME padding, and applying the ReLU activation function to its outputs."
      ]
    },
    {
      "cell_type": "code",
      "metadata": {
        "id": "yHtIE6CyQon9",
        "colab_type": "code",
        "colab": {}
      },
      "source": [
        "from keras.layers import Conv2D\n",
        "conv = Conv2D(filters=32, kernel_size=3, strides=1,\n",
        "                           padding=\"SAME\", activation=\"relu\")"
      ],
      "execution_count": null,
      "outputs": []
    },
    {
      "cell_type": "markdown",
      "metadata": {
        "id": "g7xLJxM3QzTY",
        "colab_type": "text"
      },
      "source": [
        "As you can see, convolutional layers have quite a few hyperparameters: you must choose the number of filters, their height and width, the strides, and\n",
        "the padding type. As always, you can use cross-validation to find the right hyperparameter values, but this is very time-consuming. We will discuss common CNN architectures here, to give you some idea of what hyperparameter values work best in practice."
      ]
    },
    {
      "cell_type": "markdown",
      "metadata": {
        "id": "ErvjireQStvU",
        "colab_type": "text"
      },
      "source": [
        "## 1.3 Pooling layer"
      ]
    },
    {
      "cell_type": "markdown",
      "metadata": {
        "id": "YsZmgfalKgoe",
        "colab_type": "text"
      },
      "source": [
        "\n",
        "\n",
        "The  pooling layers are the second common building block of CNNs. Their goal is to *subsample*  (i.e., shrink) the input image in order to reduce the computational load, the memory usage, and the number of parameters (thereby limiting the risk of overfitting).\n",
        "\n",
        "Just like in convolutional layers, each neuron in a pooling layer is connected to the outputs of a limited number of neurons in the previous layer (within a small rectangular receptive field). You must define its size, the stride, and the padding type, just like before (the formulas to compute the output size of a convolutional layer also work). However, a pooling neuron has no weights; all it does is aggregate the inputs using an aggregation function such as the max or mean.  Figure 14-8 shows a max pooling layer, which is the most common type of pooling layer.\n",
        "\n",
        "![](https://i.ibb.co/rFL9w3v/Captura8.png)\n",
        "\n",
        "In this example, we use a $2\\times2$ pooling kernel, with a stride of 2, and no padding. Only the max input value in each receptive field makes it to the next layer, while the other inputs are dropped. For example, in the lower left receptive field in  Figure 14-8, the input values are 1, 5, 3, 2, so only the max value, 5, is propagated to the next layer. Because of the stride of 2, the output image has half the height and half the width of the input image.\n",
        "\n",
        "A pooling layer typically works on every input channel independently, so the output depth is the same as the input depth.\n",
        "\n",
        "\n",
        "A max pooling layer also introduces some level of  **invariance**  to small translations, as shown in  Figure 14-9. Here we assume that the bright pixels have a lower value than dark pixels, and we consider 3 images (A, B, C) going through a max pooling layer with a 2 × 2 kernel and stride 2. Images B and C are the same as image A, but shifted by one and two pixels to the right. As you can see, the outputs of the max pooling layer for images A and B are identical. This is what translation invariance means. However, for image C, the output is different: it is shifted by one pixel to the right (but there is still 75% invariance).  Such invariance (even if it is limited) can be useful in cases where the prediction should not depend on these details, such as in classification tasks.\n",
        "\n",
        "\n",
        "![](https://i.ibb.co/P5vN9vD/Captura9.png)\n",
        "\n",
        "But max pooling has some downsides: firstly, it is very destructive: even with a tiny 2 × 2 kernel and a stride of 2, the output will be two times smaller in both directions (so its area will be four times smaller), simply dropping 75% of the input values. And in some applications, invariance is not desirable, for example for  semantic segmentation: the task of classifying each pixel in an image depending on the object that pixel belongs to: obviously, if the input image is translated by 1 pixel to the right, the output should also be translated by 1 pixel to the right. The goal in this case is equivariance, not invariance: a small change to the inputs should lead to a corresponding small change in the output."
      ]
    },
    {
      "cell_type": "markdown",
      "metadata": {
        "id": "YqyItag9_qLk",
        "colab_type": "text"
      },
      "source": [
        "We can see the application of pooling layers in the following example of a Convolutional Neural Network. This network is inspired by the LeNet-5 network:\n",
        "\n",
        "![texto alternativo](https://i.ibb.co/D5KkZcm/deep-cnn2.png)"
      ]
    },
    {
      "cell_type": "markdown",
      "metadata": {
        "id": "zahUQ5mRRBcx",
        "colab_type": "text"
      },
      "source": [
        "#### TensorFlow implementation"
      ]
    },
    {
      "cell_type": "markdown",
      "metadata": {
        "id": "ysIgk-gNRFA0",
        "colab_type": "text"
      },
      "source": [
        "Implementing a max pooling layer in TensorFlow is quite easy. The following code creates a max pooling layer using a $2\\times2$ kernel. The strides default to the kernel size, so this layer will use a stride of $2$ (both horizontally and vertically). By default, it uses VALID padding (i.e., no padding at all):"
      ]
    },
    {
      "cell_type": "code",
      "metadata": {
        "id": "VnISQk1ZRMz1",
        "colab_type": "code",
        "colab": {}
      },
      "source": [
        "from keras.layers import MaxPool2D\n",
        "max_pool = MaxPool2D(pool_size=2)"
      ],
      "execution_count": null,
      "outputs": []
    },
    {
      "cell_type": "markdown",
      "metadata": {
        "id": "m2riZYPdRrCQ",
        "colab_type": "text"
      },
      "source": [
        "To create an average pooling layer, just use `AvgPool2D` instead of `MaxPool2D`. As you might expect, it works exactly like a max pooling layer, except it computes the mean rather than the max. Average pooling layers used to be very popular, but people mostly use max pooling layers now, as they generally perform better. This may seem surprising, since computing the mean generally loses less information than computing the max. But on the other hand, max pooling preserves only the strongest feature, getting rid of all the meaningless ones, so the next layers get a cleaner signal to work\n",
        "with. Moreover, max pooling offers stronger translation invariance than average pooling.\n",
        "\n",
        "\n",
        "Note that max pooling and average pooling can be performed along the depth dimension rather than the spatial dimensions (height and width), although this is not as common. This can allow the CNN to learn to be invariant to various features. For example, it could learn multiple filters, each detecting a different rotation of the same pattern, such as handwritten digits (see Figure 14-10), and the depth-wise max pooling layer would ensure that the output is the same regardless of the rotation. The CNN could similarly learn to be invariant to anything else: thickness, brightness, skew, color, and so on.\n",
        "\n",
        "![texto alternativo](https://i.ibb.co/zZkmsHy/deph-wise-max-pool.png)"
      ]
    },
    {
      "cell_type": "markdown",
      "metadata": {
        "id": "0DAKYy06SHWR",
        "colab_type": "text"
      },
      "source": [
        "One last type of pooling layer that you will often see in modern architectures is the *global average pooling* layer. It works very differently: all it does is compute the mean of each entire feature map (it’s like an average pooling layer using a pooling kernel with the same spatial dimensions as the inputs). This means that it just outputs a single number per feature map and per instance. Although this is of course extremely\n",
        "destructive (most of the information in the feature map is lost), it can be useful as the output layer, as we will see later in this chapter. To create such a layer, simply use the `keras.layers.GlobalAvgPool2D` class:"
      ]
    },
    {
      "cell_type": "code",
      "metadata": {
        "id": "SIfGDopjSnKY",
        "colab_type": "code",
        "colab": {}
      },
      "source": [
        "from keras.layers import GlobalAvgPool2D\n",
        "global_avg_pool = GlobalAvgPool2D()"
      ],
      "execution_count": null,
      "outputs": []
    },
    {
      "cell_type": "markdown",
      "metadata": {
        "id": "3B-XQnFtTH89",
        "colab_type": "text"
      },
      "source": [
        "## 1.4 CNN arquitectures"
      ]
    },
    {
      "cell_type": "markdown",
      "metadata": {
        "id": "YtpRP1TtKgof",
        "colab_type": "text"
      },
      "source": [
        "\n",
        "\n",
        "Typical CNN architectures stack a few convolutional layers (each one generally followed by a ReLU layer), then a pooling layer, then another few convolutional layers (+ReLU), then another pooling layer, and so on. The image gets smaller and smaller as it progresses through the network, but it also typically gets deeper and deeper (i.e., with more feature maps) thanks to the convolutional layers (see  Figure 14-11). At the top of the stack, a regular feedforward neural network is added, composed of a few fully connected layers (+ReLUs), and the final layer outputs the prediction (e.g., a softmax layer that outputs estimated class probabilities).\n",
        "\n",
        "![](https://i.ibb.co/4P0Vy7n/Captura10.png)\n",
        "\n",
        "It’s common that, as we go deeper into the network, the sizes ($n_h, n_w$) decrease, while the number of channels ($n_c$) increases.\n",
        "\n",
        "Over the years, variants of this fundamental architecture have been developed. There are several “classic” networks, such as LeNet, AlexNet, VGG, ..."
      ]
    },
    {
      "cell_type": "markdown",
      "metadata": {
        "id": "OSPBHjqRKgog",
        "colab_type": "text"
      },
      "source": [
        "# 2 Example"
      ]
    },
    {
      "cell_type": "markdown",
      "metadata": {
        "id": "7Ll4N5dRKgoh",
        "colab_type": "text"
      },
      "source": [
        "In this example, we will be using the MNIST dataset, which is a set of 70,000 small images of digits handwritten. Each image is labeled with the digit it represents. This set has been studied so much that it is often called the “Hello World” of Machine Learning. Whenever someone learns Machine Learning, sooner or later they tackle MNIST.\n",
        "\n",
        "![](https://upload.wikimedia.org/wikipedia/commons/2/27/MnistExamples.png)"
      ]
    },
    {
      "cell_type": "code",
      "metadata": {
        "_cell_guid": "3bb6fce0-fe8f-4bcc-b7fb-6cc49252c5c9",
        "_execution_state": "idle",
        "_uuid": "8ca6c954-4234-42de-bd11-89b9945d3478",
        "id": "p_YLsaUUKgoi",
        "colab_type": "code",
        "colab": {
          "base_uri": "https://localhost:8080/",
          "height": 74
        },
        "outputId": "75e51a7a-8cc1-4008-98b7-a9de9510f6bc"
      },
      "source": [
        "import pandas as pd\n",
        "import numpy as np\n",
        "import matplotlib.pyplot as plt\n",
        "import seaborn as sns\n",
        "\n",
        "from sklearn.model_selection import train_test_split\n",
        "from sklearn.metrics import classification_report, confusion_matrix\n",
        "\n",
        "from keras.datasets import mnist\n",
        "from keras.utils.np_utils import to_categorical \n",
        "from keras.models import Sequential\n",
        "from keras.layers import Dense, Flatten, Conv2D, MaxPooling2D, Dropout\n",
        "from keras.optimizers import SGD\n",
        "from keras.callbacks import ReduceLROnPlateau\n",
        "\n",
        "from functools import partial"
      ],
      "execution_count": null,
      "outputs": [
        {
          "output_type": "stream",
          "text": [
            "/usr/local/lib/python3.6/dist-packages/statsmodels/tools/_testing.py:19: FutureWarning: pandas.util.testing is deprecated. Use the functions in the public API at pandas.testing instead.\n",
            "  import pandas.util.testing as tm\n"
          ],
          "name": "stderr"
        }
      ]
    },
    {
      "cell_type": "markdown",
      "metadata": {
        "id": "X2hczc5qYLKh",
        "colab_type": "text"
      },
      "source": [
        "## 2.1 Load data"
      ]
    },
    {
      "cell_type": "code",
      "metadata": {
        "id": "ZF5cjHqmYNG4",
        "colab_type": "code",
        "colab": {
          "base_uri": "https://localhost:8080/",
          "height": 90
        },
        "outputId": "06c99262-00a0-4056-ab2c-a769ef522561"
      },
      "source": [
        "(X_train_full, y_train_full), (X_test, y_test) = mnist.load_data()\n",
        "print(X_train_full.shape)\n",
        "print(X_test.shape)\n",
        "print(y_train_full.shape)\n",
        "print(y_test.shape)"
      ],
      "execution_count": null,
      "outputs": [
        {
          "output_type": "stream",
          "text": [
            "(60000, 28, 28)\n",
            "(10000, 28, 28)\n",
            "(60000,)\n",
            "(10000,)\n"
          ],
          "name": "stdout"
        }
      ]
    },
    {
      "cell_type": "markdown",
      "metadata": {
        "_cell_guid": "27212292-9642-4226-a134-7036f3fc031a",
        "_execution_state": "idle",
        "_uuid": "e024d32b-718c-4f07-a1ac-4249e9098dab",
        "id": "-tW7xqFzKgop",
        "colab_type": "text"
      },
      "source": [
        "## 2.2 Data processing"
      ]
    },
    {
      "cell_type": "markdown",
      "metadata": {
        "id": "A7x3OYb-Yl0K",
        "colab_type": "text"
      },
      "source": [
        "Images have been reshaped from 784 pixel vectors to 28$\\times$28 matrices. Keras requires an extra dimension in the end which correspond to channels. MNIST images are gray scaled so it use only one channel."
      ]
    },
    {
      "cell_type": "code",
      "metadata": {
        "id": "do0BqXsJYoIP",
        "colab_type": "code",
        "colab": {
          "base_uri": "https://localhost:8080/",
          "height": 54
        },
        "outputId": "71197321-2b06-4d54-aca5-fabb7846a3d5"
      },
      "source": [
        "X_train_full = X_train_full[..., np.newaxis]\n",
        "print(X_train_full.shape)\n",
        "X_test = X_test[..., np.newaxis]\n",
        "print(X_test.shape)"
      ],
      "execution_count": null,
      "outputs": [
        {
          "output_type": "stream",
          "text": [
            "(60000, 28, 28, 1)\n",
            "(10000, 28, 28, 1)\n"
          ],
          "name": "stdout"
        }
      ]
    },
    {
      "cell_type": "code",
      "metadata": {
        "_cell_guid": "6b1e155d-bf16-48ac-98ad-8e7552129b0e",
        "_execution_state": "idle",
        "_uuid": "515209d4-7fd9-4bbf-8785-4251cb16ef7b",
        "id": "vwcmWjdkKgo0",
        "colab_type": "code",
        "colab": {
          "base_uri": "https://localhost:8080/",
          "height": 417
        },
        "outputId": "5125000a-9cbf-4256-9b00-52403a92be03"
      },
      "source": [
        "# How many images does dataset have for each digit?\n",
        "print(pd.Series(y_train_full).value_counts())\n",
        "print(pd.Series(y_test).value_counts())"
      ],
      "execution_count": null,
      "outputs": [
        {
          "output_type": "stream",
          "text": [
            "1    6742\n",
            "7    6265\n",
            "3    6131\n",
            "2    5958\n",
            "9    5949\n",
            "0    5923\n",
            "6    5918\n",
            "8    5851\n",
            "4    5842\n",
            "5    5421\n",
            "dtype: int64\n",
            "1    1135\n",
            "2    1032\n",
            "7    1028\n",
            "3    1010\n",
            "9    1009\n",
            "4     982\n",
            "0     980\n",
            "8     974\n",
            "6     958\n",
            "5     892\n",
            "dtype: int64\n"
          ],
          "name": "stdout"
        }
      ]
    },
    {
      "cell_type": "markdown",
      "metadata": {
        "_cell_guid": "79e46984-f002-4f49-b8b4-e8c9ebc822f8",
        "_uuid": "8aa9051d-d90a-4f52-a0f8-ab93b83756df",
        "id": "mu7teBwOKgo6",
        "colab_type": "text"
      },
      "source": [
        "### Data transformation\n",
        "\n",
        "We perform a grayscale normalization to reduce the effect of illumination's differences. "
      ]
    },
    {
      "cell_type": "code",
      "metadata": {
        "_cell_guid": "8a3aa819-1bdd-4384-803c-d805f093e169",
        "_execution_state": "idle",
        "_uuid": "42047ee6-83ec-4907-ab78-6bd00862dec5",
        "id": "C8MsbW4PKgo7",
        "colab_type": "code",
        "colab": {}
      },
      "source": [
        "# Normalize the data\n",
        "X_train_full = X_train_full / 255.0\n",
        "X_test = X_test / 255.0"
      ],
      "execution_count": null,
      "outputs": []
    },
    {
      "cell_type": "markdown",
      "metadata": {
        "_cell_guid": "5b22c733-6e30-49b1-a866-fe59524b2112",
        "_uuid": "3e694880-e123-41f1-b4fb-06e067df368d",
        "id": "Wm9C6TZ6KgpI",
        "colab_type": "text"
      },
      "source": [
        "### Label encoding. Target variable\n",
        "\n",
        "Labels are 10 digits numbers from 0 to 9. We need to encode these lables to one hot vectors (ex : `2` -> `[0,0,1,0,0,0,0,0,0,0]`)."
      ]
    },
    {
      "cell_type": "code",
      "metadata": {
        "id": "BZ8o691DYrTq",
        "colab_type": "code",
        "colab": {
          "base_uri": "https://localhost:8080/",
          "height": 35
        },
        "outputId": "970031ae-d31f-4554-9227-0f94914d23d0"
      },
      "source": [
        "print(y_train_full[0:5])\n"
      ],
      "execution_count": null,
      "outputs": [
        {
          "output_type": "stream",
          "text": [
            "[5 0 4 1 9]\n"
          ],
          "name": "stdout"
        }
      ]
    },
    {
      "cell_type": "code",
      "metadata": {
        "_cell_guid": "f7fa1926-fa83-456f-9b81-42562e828089",
        "_execution_state": "idle",
        "_uuid": "01318b50-e7ac-469d-8f32-ce1d093bbea6",
        "id": "LWKGco6sKgpI",
        "colab_type": "code",
        "colab": {}
      },
      "source": [
        "# Encode target variable to one hot vectors\n",
        "y_train_full = to_categorical(y_train_full, num_classes = 10)\n",
        "y_test = to_categorical(y_test, num_classes = 10)"
      ],
      "execution_count": null,
      "outputs": []
    },
    {
      "cell_type": "code",
      "metadata": {
        "_cell_guid": "8524c324-4684-47ad-b0af-0115d734ae20",
        "_uuid": "459f80f9-5dcd-4692-8225-4d5393c3ad1d",
        "id": "EMInP5bpKgpN",
        "colab_type": "code",
        "colab": {
          "base_uri": "https://localhost:8080/",
          "height": 126
        },
        "outputId": "dc6291c8-e337-45f8-c1c5-872e2badbfa0"
      },
      "source": [
        "print(y_train_full[0:5])\n",
        "y_train_full.shape"
      ],
      "execution_count": null,
      "outputs": [
        {
          "output_type": "stream",
          "text": [
            "[[0. 0. 0. 0. 0. 1. 0. 0. 0. 0.]\n",
            " [1. 0. 0. 0. 0. 0. 0. 0. 0. 0.]\n",
            " [0. 0. 0. 0. 1. 0. 0. 0. 0. 0.]\n",
            " [0. 1. 0. 0. 0. 0. 0. 0. 0. 0.]\n",
            " [0. 0. 0. 0. 0. 0. 0. 0. 0. 1.]]\n"
          ],
          "name": "stdout"
        },
        {
          "output_type": "execute_result",
          "data": {
            "text/plain": [
              "(60000, 10)"
            ]
          },
          "metadata": {
            "tags": []
          },
          "execution_count": 17
        }
      ]
    },
    {
      "cell_type": "markdown",
      "metadata": {
        "_cell_guid": "3e858547-3595-4bb9-8e0f-bc3a40f504d6",
        "_uuid": "f70ee7f7-ba0d-44c2-baa1-a041c2a319a8",
        "id": "Vkw9bPNRKgpR",
        "colab_type": "text"
      },
      "source": [
        "### Split training and validation data"
      ]
    },
    {
      "cell_type": "code",
      "metadata": {
        "_cell_guid": "72a350dd-f51f-4702-a918-5e4ac8d76fb1",
        "_execution_state": "idle",
        "_uuid": "d364c482-a0db-48bc-a2f4-a546af5a6116",
        "id": "MsC6dygPKgpS",
        "colab_type": "code",
        "colab": {}
      },
      "source": [
        "# Split the data in traininig and validation sets for the fitting\n",
        "X_train, X_val, y_train, y_val = train_test_split(X_train_full, y_train_full, test_size = 0.15, random_state=2)"
      ],
      "execution_count": null,
      "outputs": []
    },
    {
      "cell_type": "code",
      "metadata": {
        "id": "6sm0_QhbKgpV",
        "colab_type": "code",
        "colab": {
          "base_uri": "https://localhost:8080/",
          "height": 54
        },
        "outputId": "828ea895-8011-4238-e907-60ae326f61dd"
      },
      "source": [
        "print(X_train.shape)\n",
        "print(X_val.shape)"
      ],
      "execution_count": null,
      "outputs": [
        {
          "output_type": "stream",
          "text": [
            "(51000, 28, 28, 1)\n",
            "(9000, 28, 28, 1)\n"
          ],
          "name": "stdout"
        }
      ]
    },
    {
      "cell_type": "markdown",
      "metadata": {
        "_cell_guid": "c0e9ca73-a6d0-4c75-8438-2e63955b80be",
        "_uuid": "ff5066b2-a1ba-4882-a963-074ab82bb3ce",
        "id": "C9dzPdcBKgpZ",
        "colab_type": "text"
      },
      "source": [
        "We can get a better sense for one of these examples by visualising the image and looking at the label."
      ]
    },
    {
      "cell_type": "code",
      "metadata": {
        "_cell_guid": "584841e4-5914-40ac-b9f0-e4e378374003",
        "_execution_state": "idle",
        "_uuid": "9e737200-b993-4b0f-a200-ab9b2d3fb1b0",
        "id": "xeAJz1N9Kgpa",
        "colab_type": "code",
        "colab": {
          "base_uri": "https://localhost:8080/",
          "height": 265
        },
        "outputId": "7628ed75-05c4-4859-ce66-28322cb1112f"
      },
      "source": [
        "# Some examples\n",
        "g = plt.imshow(X_train[2][:,:,0])"
      ],
      "execution_count": null,
      "outputs": [
        {
          "output_type": "display_data",
          "data": {
            "image/png": "[encoded data removed]",
            "text/plain": [
              "<Figure size 432x288 with 1 Axes>"
            ]
          },
          "metadata": {
            "tags": [],
            "needs_background": "light"
          }
        }
      ]
    },
    {
      "cell_type": "markdown",
      "metadata": {
        "_cell_guid": "8b223b42-9df4-41f6-b16e-7249eb080bcb",
        "_uuid": "818b4267-e052-4cdd-a341-59ddb0ccde99",
        "id": "R3VFMeBMKgpg",
        "colab_type": "text"
      },
      "source": [
        "## 2.3 Building CNN architecture using keras sequential API\n"
      ]
    },
    {
      "cell_type": "markdown",
      "metadata": {
        "id": "1dIEpAd8Y4Ss",
        "colab_type": "text"
      },
      "source": [
        "### Define the model"
      ]
    },
    {
      "cell_type": "code",
      "metadata": {
        "_cell_guid": "6c80b949-9fad-4540-931d-0d82c81627fb",
        "_execution_state": "idle",
        "_uuid": "b78b1053-d818-4bfa-89a6-f8867cdb266d",
        "id": "PrkO9RigKgph",
        "colab_type": "code",
        "colab": {}
      },
      "source": [
        "# CNN architechture is [[Conv2D->relu]*2 -> MaxPool2D]*2 -> Flatten -> Dense -> Dropout -> Out\n",
        "\n",
        "DefaultConv2D = partial(Conv2D, kernel_size=3, activation='relu', padding=\"SAME\")\n",
        "\n",
        "model = Sequential([\n",
        "    DefaultConv2D(filters=32, kernel_size=5, input_shape=[28, 28, 1]),\n",
        "    DefaultConv2D(filters=32, kernel_size=5),\n",
        "    MaxPooling2D(pool_size=2),\n",
        "    DefaultConv2D(filters=64),\n",
        "    DefaultConv2D(filters=64),\n",
        "    MaxPooling2D(pool_size=2),\n",
        "    Flatten(),\n",
        "    Dense(units=256, activation='relu'),\n",
        "    Dropout(0.5),\n",
        "    Dense(units=10, activation='softmax'),\n",
        "])\n",
        "\n"
      ],
      "execution_count": null,
      "outputs": []
    },
    {
      "cell_type": "markdown",
      "metadata": {
        "id": "Adk0e-lCKgpm",
        "colab_type": "text"
      },
      "source": [
        "- In this code, we start by using the `partial()` function to define a thin wrapper around the `Conv2D` class, called `DefaultConv2D`: it simply avoids having to repeat the same hyperparameter values over and over again.\n",
        "\n",
        "- The first layer uses a large kernel size, but no stride because the input images are not very large. It also sets `input_shape=[28, 28, 1]`, which means the images are 28 $\\times$ 28 pixels, with a single color channel (i.e., grayscale).\n",
        "\n",
        "- Next, we have a max pooling layer, which divides each spatial dimension by a factor of two (since `pool_size=2`).\n",
        "\n",
        "- Then we repeat the same structure once: two convolutional layers followed by a max pooling layer. For larger images, we could repeat this structure several times (the number of repetitions is a hyperparameter you can tune).\n",
        "\n",
        "\n",
        "- Note that the number of filters grows as we climb up the CNN towards the output layer (it is initially 32, then 62): it makes sense for it to grow, since the number of low level features is often fairly low (e.g., small circles, horizontal lines, etc.), but there are many different ways to combine them into higher level features. It is a common practice to double the number of filters after each pooling layer: since a pooling layer divides each spatial dimension by a factor of 2, we can afford doubling the number of feature maps in the next layer, without fear of exploding the number of parameters, memory usage, or computational load.\n",
        "\n",
        "- Next is the fully connected network, composed of 2 hidden dense layers and a dense output layer. Note that we must flatten its inputs, since a dense network expects a 1D array of features for each instance. We also add a dropout layer, with a dropout rate of $50$% each, to reduce overfitting ([Regularization](https://github.com/victorviro/Deep_learning_python/blob/master/Regularization_DNNs.ipynb))."
      ]
    },
    {
      "cell_type": "code",
      "metadata": {
        "id": "3Y7NJkHMKgpm",
        "colab_type": "code",
        "colab": {
          "base_uri": "https://localhost:8080/",
          "height": 526
        },
        "outputId": "9be61078-9d02-4444-b84f-01674fe5c9f9"
      },
      "source": [
        "# Summary of the model\n",
        "model.summary()"
      ],
      "execution_count": null,
      "outputs": [
        {
          "output_type": "stream",
          "text": [
            "Model: \"sequential_1\"\n",
            "_________________________________________________________________\n",
            "Layer (type)                 Output Shape              Param #   \n",
            "=================================================================\n",
            "conv2d_3 (Conv2D)            (None, 28, 28, 32)        832       \n",
            "_________________________________________________________________\n",
            "conv2d_4 (Conv2D)            (None, 28, 28, 32)        25632     \n",
            "_________________________________________________________________\n",
            "max_pooling2d_3 (MaxPooling2 (None, 14, 14, 32)        0         \n",
            "_________________________________________________________________\n",
            "conv2d_5 (Conv2D)            (None, 14, 14, 64)        18496     \n",
            "_________________________________________________________________\n",
            "conv2d_6 (Conv2D)            (None, 14, 14, 64)        36928     \n",
            "_________________________________________________________________\n",
            "max_pooling2d_4 (MaxPooling2 (None, 7, 7, 64)          0         \n",
            "_________________________________________________________________\n",
            "flatten_1 (Flatten)          (None, 3136)              0         \n",
            "_________________________________________________________________\n",
            "dense_1 (Dense)              (None, 256)               803072    \n",
            "_________________________________________________________________\n",
            "dropout_1 (Dropout)          (None, 256)               0         \n",
            "_________________________________________________________________\n",
            "dense_2 (Dense)              (None, 10)                2570      \n",
            "=================================================================\n",
            "Total params: 887,530\n",
            "Trainable params: 887,530\n",
            "Non-trainable params: 0\n",
            "_________________________________________________________________\n"
          ],
          "name": "stdout"
        }
      ]
    },
    {
      "cell_type": "markdown",
      "metadata": {
        "id": "HvfgpkT1Kgpp",
        "colab_type": "text"
      },
      "source": [
        "### Compiling the model\n",
        "\n",
        "After a model is created, you must call its `compile()` method to specify the loss function and the optimizer to use. Optionally, you can also specify a list of extra metrics to compute during training and evaluation:\n",
        "\n",
        "We have one target probability per class for each instance (such as one-hot vectors, e.g. `[0., 0., 0., 1., 0., 0., 0., 0., 0., 0.]` to represent each class), then we need to use the `\"categorical_crossentropy\"` loss.\n",
        "\n",
        "Secondly, regarding the optimizer, `\"nadam\"` simply means that we will train the model using Nadam optimization ([faster optimizers](https://github.com/victorviro/Deep_learning_python/blob/master/Faster_optimizers_DNNs.ipynb)).\n",
        "\n",
        "Finally, since this is a classifier, it’s useful to measure its `\"accuracy\"` during training and evaluation.\n",
        "\n"
      ]
    },
    {
      "cell_type": "code",
      "metadata": {
        "_cell_guid": "ead3b7af-4cf3-47f3-9107-902f17082bcf",
        "_execution_state": "idle",
        "_uuid": "7996e6f1-b71a-4926-afba-7e3426a72c42",
        "id": "YM3uePGiKgpq",
        "colab_type": "code",
        "colab": {}
      },
      "source": [
        "# Compile the model\n",
        "model.compile(loss=\"categorical_crossentropy\", optimizer=\"nadam\", metrics=[\"accuracy\"])"
      ],
      "execution_count": null,
      "outputs": []
    },
    {
      "cell_type": "markdown",
      "metadata": {
        "id": "Red21o9FKgpx",
        "colab_type": "text"
      },
      "source": [
        "## 2.4 Train the model\n",
        "\n",
        "Now the model is ready to be trained. For this we simply need to call its `fit()` method. We pass it the input features (`X_train`) and the target classes (`y_train`), as well as the number of epochs to train. We also pass a validation set (this is optional): Keras will measure the loss and the extra metrics on this set at the end of each epoch, which is useful to see how well the model really performs: if the performance on the training set is much better than on the validation set, your model is probably overfitting the training set.\n",
        "\n",
        "We implement performance scheduling simply using the `ReduceLROnPlateau` callback ([Learning Rate Scheduling](https://github.com/victorviro/Deep_learning_python/blob/master/Faster_optimizers_DNNs.ipynb))."
      ]
    },
    {
      "cell_type": "code",
      "metadata": {
        "id": "3dBBH_8cnCBH",
        "colab_type": "code",
        "colab": {}
      },
      "source": [
        "reduce_learning_rate = ReduceLROnPlateau(monitor = 'val_accuracy', patience = 3, verbose = 1, factor = 0.3, min_lr = 0.00001)"
      ],
      "execution_count": null,
      "outputs": []
    },
    {
      "cell_type": "code",
      "metadata": {
        "id": "QGPhCZA9ck6P",
        "colab_type": "code",
        "colab": {
          "base_uri": "https://localhost:8080/",
          "height": 872
        },
        "outputId": "e346a420-07a9-4e73-be96-cbda7b1cba83"
      },
      "source": [
        "history = model.fit(X_train, y_train, batch_size = 100, epochs = 20,validation_data = (X_val,y_val), callbacks=[reduce_learning_rate])"
      ],
      "execution_count": null,
      "outputs": [
        {
          "output_type": "stream",
          "text": [
            "Train on 51000 samples, validate on 9000 samples\n",
            "Epoch 1/20\n",
            "51000/51000 [==============================] - 12s 231us/step - loss: 0.1715 - accuracy: 0.9465 - val_loss: 0.0474 - val_accuracy: 0.9847\n",
            "Epoch 2/20\n",
            "51000/51000 [==============================] - 10s 200us/step - loss: 0.0552 - accuracy: 0.9839 - val_loss: 0.0309 - val_accuracy: 0.9917\n",
            "Epoch 3/20\n",
            "51000/51000 [==============================] - 10s 201us/step - loss: 0.0393 - accuracy: 0.9881 - val_loss: 0.0377 - val_accuracy: 0.9889\n",
            "Epoch 4/20\n",
            "51000/51000 [==============================] - 10s 201us/step - loss: 0.0321 - accuracy: 0.9900 - val_loss: 0.0306 - val_accuracy: 0.9896\n",
            "Epoch 5/20\n",
            "51000/51000 [==============================] - 10s 201us/step - loss: 0.0258 - accuracy: 0.9922 - val_loss: 0.0333 - val_accuracy: 0.9912\n",
            "\n",
            "Epoch 00005: ReduceLROnPlateau reducing learning rate to 0.0006000000284984708.\n",
            "Epoch 6/20\n",
            "51000/51000 [==============================] - 10s 201us/step - loss: 0.0112 - accuracy: 0.9965 - val_loss: 0.0226 - val_accuracy: 0.9933\n",
            "Epoch 7/20\n",
            "51000/51000 [==============================] - 10s 201us/step - loss: 0.0078 - accuracy: 0.9973 - val_loss: 0.0220 - val_accuracy: 0.9939\n",
            "Epoch 8/20\n",
            "51000/51000 [==============================] - 10s 202us/step - loss: 0.0060 - accuracy: 0.9980 - val_loss: 0.0251 - val_accuracy: 0.9940\n",
            "Epoch 9/20\n",
            "51000/51000 [==============================] - 10s 202us/step - loss: 0.0044 - accuracy: 0.9987 - val_loss: 0.0294 - val_accuracy: 0.9937\n",
            "Epoch 10/20\n",
            "51000/51000 [==============================] - 10s 202us/step - loss: 0.0040 - accuracy: 0.9987 - val_loss: 0.0300 - val_accuracy: 0.9941\n",
            "Epoch 11/20\n",
            "51000/51000 [==============================] - 10s 202us/step - loss: 0.0053 - accuracy: 0.9983 - val_loss: 0.0285 - val_accuracy: 0.9927\n",
            "Epoch 12/20\n",
            "51000/51000 [==============================] - 10s 202us/step - loss: 0.0041 - accuracy: 0.9988 - val_loss: 0.0271 - val_accuracy: 0.9938\n",
            "Epoch 13/20\n",
            "51000/51000 [==============================] - 10s 202us/step - loss: 0.0043 - accuracy: 0.9985 - val_loss: 0.0307 - val_accuracy: 0.9931\n",
            "\n",
            "Epoch 00013: ReduceLROnPlateau reducing learning rate to 0.00018000000854954124.\n",
            "Epoch 14/20\n",
            "51000/51000 [==============================] - 10s 202us/step - loss: 0.0019 - accuracy: 0.9992 - val_loss: 0.0278 - val_accuracy: 0.9938\n",
            "Epoch 15/20\n",
            "51000/51000 [==============================] - 11s 208us/step - loss: 0.0012 - accuracy: 0.9996 - val_loss: 0.0294 - val_accuracy: 0.9943\n",
            "Epoch 16/20\n",
            "51000/51000 [==============================] - 10s 204us/step - loss: 9.9355e-04 - accuracy: 0.9997 - val_loss: 0.0298 - val_accuracy: 0.9944\n",
            "Epoch 17/20\n",
            "51000/51000 [==============================] - 10s 201us/step - loss: 8.5420e-04 - accuracy: 0.9997 - val_loss: 0.0289 - val_accuracy: 0.9944\n",
            "Epoch 18/20\n",
            "51000/51000 [==============================] - 10s 202us/step - loss: 7.8891e-04 - accuracy: 0.9997 - val_loss: 0.0304 - val_accuracy: 0.9942\n",
            "Epoch 19/20\n",
            "51000/51000 [==============================] - 10s 202us/step - loss: 9.8337e-04 - accuracy: 0.9997 - val_loss: 0.0328 - val_accuracy: 0.9943\n",
            "\n",
            "Epoch 00019: ReduceLROnPlateau reducing learning rate to 5.400000081863254e-05.\n",
            "Epoch 20/20\n",
            "51000/51000 [==============================] - 10s 202us/step - loss: 5.8817e-04 - accuracy: 0.9998 - val_loss: 0.0344 - val_accuracy: 0.9942\n"
          ],
          "name": "stdout"
        }
      ]
    },
    {
      "cell_type": "markdown",
      "metadata": {
        "id": "oM5vtIweKgp1",
        "colab_type": "text"
      },
      "source": [
        "If the training set was very skewed or unbalanced (this is not the case), with some classes being overrepresented and others underrepresented, it would be useful to set the `class_weight` argument when calling the `fit()` method, giving a larger weight to underrepresented classes, and a lower weight to overrepresented classes."
      ]
    },
    {
      "cell_type": "markdown",
      "metadata": {
        "id": "9AI_WSl5Kgp1",
        "colab_type": "text"
      },
      "source": [
        "## 2.5 Model evaluation"
      ]
    },
    {
      "cell_type": "markdown",
      "metadata": {
        "id": "qT6oAMMhKgp2",
        "colab_type": "text"
      },
      "source": [
        "The `fit()` method returns a `history` object containing the training parameters (`history.params`), the list of epochs it went through (`history.epoch`), and most importantly a dictionary (`history.history`) containing the loss and extra metrics it measured at the end of each epoch on the training set and on the validation set.\n",
        "\n",
        "We plot the learning curves."
      ]
    },
    {
      "cell_type": "code",
      "metadata": {
        "id": "ggA0D5m5NYtC",
        "colab_type": "code",
        "colab": {
          "base_uri": "https://localhost:8080/",
          "height": 408
        },
        "outputId": "5ff28f32-ffdb-456d-cb6a-07f3c6aee54e"
      },
      "source": [
        "plt.figure(figsize=(14,6))\n",
        "# Plot the training loss \n",
        "loss = history.history['loss']\n",
        "val_loss = history.history['val_loss']\n",
        "epochs = range(1, len(loss) + 1)\n",
        "plt.subplot(121)\n",
        "plt.style.use(\"ggplot\")\n",
        "plt.plot(epochs, loss, color='blue', label='Training loss')\n",
        "plt.plot(epochs, val_loss, color='red', label='Validation loss')\n",
        "plt.title('Training and validation loss')\n",
        "plt.xlabel('Epochs')\n",
        "plt.ylabel('Loss')\n",
        "plt.legend()\n",
        "\n",
        "\n",
        "# Plot the training accuracy\n",
        "acc = history.history['accuracy']\n",
        "val_acc = history.history['val_accuracy']\n",
        "plt.subplot(122)\n",
        "plt.style.use(\"ggplot\")\n",
        "plt.plot(epochs, acc, color='blue', label='Training acc')\n",
        "plt.plot(epochs, val_acc, color='red', label='Validation acc')\n",
        "plt.title('Training and validation accuracy')\n",
        "plt.xlabel('Epochs')\n",
        "plt.ylabel('Accuracy')\n",
        "plt.legend()\n",
        "plt.show()"
      ],
      "execution_count": null,
      "outputs": [
        {
          "output_type": "display_data",
          "data": {
            "image/png": "[encoded data removed]",
            "text/plain": [
              "<Figure size 1008x432 with 2 Axes>"
            ]
          },
          "metadata": {
            "tags": [],
            "needs_background": "light"
          }
        }
      ]
    },
    {
      "cell_type": "code",
      "metadata": {
        "id": "SLz5tyVRb9ZG",
        "colab_type": "code",
        "colab": {
          "base_uri": "https://localhost:8080/",
          "height": 54
        },
        "outputId": "06452ee2-793b-48e2-d789-8d9fb2d1d445"
      },
      "source": [
        "score = model.evaluate(X_test, y_test, verbose=0)\n",
        "print('Validation loss:', score[0])\n",
        "print('Validation accuracy:', score[1])"
      ],
      "execution_count": null,
      "outputs": [
        {
          "output_type": "stream",
          "text": [
            "Validation loss: 0.02911870274873964\n",
            "Validation accuracy: 0.994700014591217\n"
          ],
          "name": "stdout"
        }
      ]
    },
    {
      "cell_type": "markdown",
      "metadata": {
        "id": "5-rQpOjgWonK",
        "colab_type": "text"
      },
      "source": [
        "This CNN reaches over 99% accuracy on the test set."
      ]
    },
    {
      "cell_type": "code",
      "metadata": {
        "id": "gDW8xuDqKgqF",
        "colab_type": "code",
        "colab": {
          "base_uri": "https://localhost:8080/",
          "height": 345
        },
        "outputId": "e1bda5e2-7111-4f6d-b6da-587894cdbd5b"
      },
      "source": [
        "# Evaluate the network on the test set\n",
        "print(\"[INFO] evaluating network...\")\n",
        "predictions = model.predict(X_test)\n",
        "print(classification_report(y_test.argmax(axis=1), predictions.argmax(axis=1)))"
      ],
      "execution_count": null,
      "outputs": [
        {
          "output_type": "stream",
          "text": [
            "[INFO] evaluating network...\n",
            "              precision    recall  f1-score   support\n",
            "\n",
            "           0       1.00      1.00      1.00       980\n",
            "           1       0.99      1.00      1.00      1135\n",
            "           2       1.00      1.00      1.00      1032\n",
            "           3       0.99      1.00      0.99      1010\n",
            "           4       1.00      0.99      1.00       982\n",
            "           5       0.99      0.99      0.99       892\n",
            "           6       1.00      0.99      1.00       958\n",
            "           7       1.00      0.99      0.99      1028\n",
            "           8       1.00      1.00      1.00       974\n",
            "           9       0.99      0.99      0.99      1009\n",
            "\n",
            "    accuracy                           0.99     10000\n",
            "   macro avg       0.99      0.99      0.99     10000\n",
            "weighted avg       0.99      0.99      0.99     10000\n",
            "\n"
          ],
          "name": "stdout"
        }
      ]
    },
    {
      "cell_type": "markdown",
      "metadata": {
        "_cell_guid": "7a4107e9-d014-4f01-9f6f-39cf48c2e50f",
        "_uuid": "710a7b71-43d8-4c06-a2ce-29813551c2dc",
        "id": "4rV8K9BDKgqJ",
        "colab_type": "text"
      },
      "source": [
        "The confusion matrix can be very helpful to evaluate the model.\n",
        "We plot the confusion matrix of the test results."
      ]
    },
    {
      "cell_type": "code",
      "metadata": {
        "_cell_guid": "28a6f717-30d3-4f20-a9ea-d7686425fe0f",
        "_uuid": "55ccc92e-5c37-494f-a447-a1cee66a18ae",
        "id": "3pEaC4cjKgqK",
        "colab_type": "code",
        "colab": {
          "base_uri": "https://localhost:8080/",
          "height": 483
        },
        "outputId": "e07022d5-1db0-41fd-ffd1-9ce040bae17c"
      },
      "source": [
        "plt.figure(figsize=(10,8))\n",
        "# Predict the values from the validation dataset\n",
        "Y_pred = model.predict(X_test)\n",
        "# Convert predictions classes to one hot vectors \n",
        "Y_pred_classes = np.argmax(Y_pred,axis = 1) \n",
        "# Convert validation observations to one hot vectors\n",
        "Y_true = np.argmax(y_test,axis = 1) \n",
        "# compute the confusion matrix\n",
        "confusion_mtx = confusion_matrix(Y_true, Y_pred_classes) \n",
        "# plot the confusion matrix\n",
        "sns.heatmap(confusion_mtx, annot=True, fmt=\"d\");\n"
      ],
      "execution_count": null,
      "outputs": [
        {
          "output_type": "display_data",
          "data": {
            "image/png": "[encoded data removed]",
            "text/plain": [
              "<Figure size 720x576 with 2 Axes>"
            ]
          },
          "metadata": {
            "tags": []
          }
        }
      ]
    },
    {
      "cell_type": "markdown",
      "metadata": {
        "id": "sWb8rfv6R-df",
        "colab_type": "text"
      },
      "source": [
        "# References"
      ]
    },
    {
      "cell_type": "markdown",
      "metadata": {
        "id": "zURW3Q6ASBNr",
        "colab_type": "text"
      },
      "source": [
        "- [Hands-On Machine Learning with Scikit-Learn, Keras, and TensorFlow](https://www.oreilly.com/library/view/hands-on-machine-learning/9781492032632/)\n",
        "\n",
        "- [Course CNN deeplearning.ai.](https://www.youtube.com/watch?v=ArPaAX_PhIs&list=PLkDaE6sCZn6Gl29AoE31iwdVwSG-KnDzF)\n",
        "\n",
        "- https://github.com/ageron/handson-ml2"
      ]
    }
  ]
}