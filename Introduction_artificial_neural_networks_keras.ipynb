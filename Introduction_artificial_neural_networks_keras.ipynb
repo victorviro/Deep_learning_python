{
  "nbformat": 4,
  "nbformat_minor": 0,
  "metadata": {
    "colab": {
      "name": "Introduction_artificial_neural_networks_keras.ipynb",
      "provenance": [],
      "collapsed_sections": [],
      "toc_visible": true,
      "authorship_tag": "ABX9TyPq8e1kvw7XGnjvcATksWxo",
      "include_colab_link": true
    },
    "kernelspec": {
      "name": "python3",
      "display_name": "Python 3"
    },
    "accelerator": "GPU"
  },
  "cells": [
    {
      "cell_type": "markdown",
      "metadata": {
        "id": "view-in-github",
        "colab_type": "text"
      },
      "source": [
        "<a href=\"https://colab.research.google.com/github/victorviro/Deep_learning_python/blob/master/Introduction_artificial_neural_networks_keras.ipynb\" target=\"_parent\"><img src=\"https://colab.research.google.com/assets/colab-badge.svg\" alt=\"Open In Colab\"/></a>"
      ]
    },
    {
      "cell_type": "markdown",
      "metadata": {
        "id": "_cctRvJDdbt2",
        "colab_type": "text"
      },
      "source": [
        "# Introduction to artificial neural networks with Keras\n"
      ]
    },
    {
      "cell_type": "markdown",
      "metadata": {
        "id": "nu4EkJgZ4pd7",
        "colab_type": "text"
      },
      "source": [
        "An ANN (*artificial neural network*) is a Machine Learning model inspired by the networks of biological neurons found in our brains. However, ANNs have gradually become quite different from their biological cousins.\n",
        "\n",
        "ANNs are at the very core of Deep Learning. They are versatile, powerful, and scalable, making them ideal to tackle large and highly complex Machine Learning tasks such as classifying billions of images (e.g., Google Images), powering speech recognition services (e.g., Apple’s Siri), recommending the best videos to watch to hundreds of millions of users every day (e.g., YouTube), or learning to beat the world champion at the game of Go (DeepMind’s AlphaGo).\n",
        "\n",
        "The first part of this article introduces artificial neural networks, starting with a quick tour of the very first ANN architectures and leading up to Multilayer Perceptrons (MLPs), which are heavily used today. In the second part, we will look at how to implement neural networks using the popular Keras API. This is a beautifully designed and simple high-level API for building, training, evaluating, and running neural networks."
      ]
    },
    {
      "cell_type": "markdown",
      "metadata": {
        "id": "YuSTP31WCo_C",
        "colab_type": "text"
      },
      "source": [
        "ANNs were first introduced back in 1943 by the neurophysiologist Warren McCulloch and the mathematician Walter Pitts. Their work presented a simplified computational model of how biological neurons might work together in animal brains to perform complex computations using propositional logic. This was the first artificial neural network architecture.\n",
        "\n",
        "The early successes of ANNs led to the belief that we would soon be conversing with truly intelligent machines. When it became clear in the 1960s that this promise would go unfulfilled (at least for quite a while) ANNs entered a long winter. In the early 1980s, new architectures were invented and better training techniques were developed, sparking a revival of interest. But progress was slow, and by the 1990s other powerful Machine Learning techniques were invented, such as Support Vector Machines. These techniques seemed to offer better results and stronger theoretical foundations than ANNs, so once again the study of neural networks was put on hold.\n",
        "\n",
        "\n",
        "We are now in another wave of interest in ANNs. There are a few good reasons to believe that this time is different and that the renewed interest in ANNs will have a much more profound impact on our lives:\n",
        "\n",
        "- There is now a huge quantity of data available to train neural networks, and ANNs frequently outperform other ML techniques on very large and complex problems.\n",
        "\n",
        "- The tremendous increase in computing power since the 1990s now makes it possible to train large neural networks in a reasonable amount of time. This is in part due to Moore’s law (the number of components in integrated circuits has doubled about every 2 years over the last 50 years), but also thanks to the gaming industry, which has stimulated the production of powerful GPU cards by the millions. Moreover, cloud platforms have made this power accessible to everyone.\n",
        "\n",
        "- The training algorithms have been improved.\n",
        "\n",
        "\n",
        "- ANNs seem to have entered a virtuous circle of funding and progress. Amazing products based on ANNs regularly make the headline news, which pulls more and more attention and funding toward them, resulting in more and more progress and even more amazing products."
      ]
    },
    {
      "cell_type": "markdown",
      "metadata": {
        "id": "FFlRhU8QCpDX",
        "colab_type": "text"
      },
      "source": [
        "## Logical Computations with Neurons"
      ]
    },
    {
      "cell_type": "markdown",
      "metadata": {
        "id": "ifVo6JAOHVGU",
        "colab_type": "text"
      },
      "source": [
        "McCulloch and Pitts proposed a very simple model of the biological neuron, which later became known as an *artificial neuron*: it has one or more binary (on/off) inputs and one binary output. The artificial neuron activates its output when more than a certain number of its inputs are active. In their paper, they showed that even with such a simplified model it is possible to build a network of artificial neurons that computes any logical proposition you want. To see how such a network works, let’s build a few ANNs that perform various logical computations (see Figure 10-3), assuming that a neuron is activated when at least two of its inputs are active.\n",
        "\n",
        "![](https://i.ibb.co/bPMYwPy/logical-anns.png)\n",
        "\n",
        "- The first network on the left is the identity function: if neuron A is activated, then neuron C gets activated as well (since it receives two input signals from neuron A); but if neuron A is off, then neuron C is off as well.\n",
        "\n",
        "- The second network performs a logical AND: neuron C is activated only when both neurons A and B are activated (a single input signal is not enough to activate neuron C).\n",
        "\n",
        "- The third network performs a logical OR: neuron C gets activated if either neuron A or neuron B is activated (or both).\n",
        "\n",
        "- Finally, if we suppose that an input connection can inhibit the neuron’s activity (which is the case with biological neurons), then the fourth network computes a slightly more complex logical proposition: neuron C is activated only if neuron A is active and neuron B is off. If neuron A is active all the time, then you get a logical NOT: neuron C is active when neuron B is off, and vice versa.\n",
        "\n",
        "You can imagine how these networks can be combined to compute complex logical expressions.\n",
        "\n"
      ]
    },
    {
      "cell_type": "markdown",
      "metadata": {
        "id": "6RxYjF_hIDXv",
        "colab_type": "text"
      },
      "source": [
        "## The Perceptron\n",
        "\n"
      ]
    },
    {
      "cell_type": "markdown",
      "metadata": {
        "id": "VMEIMzoIIZ-o",
        "colab_type": "text"
      },
      "source": [
        "The *Perceptron* is one of the simplest ANN architectures, invented in 1957 by Frank Rosenblatt. It is based on a slightly different artificial neuron (see Figure 10-4) called a *threshold logic unit* (TLU), or sometimes a *linear threshold unit* (LTU). The inputs and output are numbers (instead of binary on/off values), and each input connection is associated with a weight. The TLU computes a weighted sum of its inputs $z=w_1x_1+...+w_nx_n=\\boldsymbol{x}^T\\boldsymbol{w}$, then applies a step function to that sum and outputs the result: $h_w(\\boldsymbol{x})=\\text{step}(z)$, where $z=\\boldsymbol{x}^T\\boldsymbol{w}$.\n",
        "\n",
        "![texto alternativo](https://i.ibb.co/z2Bd7Zg/tlu.png)\n",
        "\n",
        "The most common step function used in Perceptrons is the Heaviside step function. Sometimes the sign function is used instead.\n",
        "\n",
        "$$\\text{heaviside}(z)=\\begin{cases}\n",
        "              0&\\text{if }z<0,\\\\\n",
        "              1&\\text{if }z\\geq0.\n",
        "\\end{cases}$$\n",
        "\n",
        "\n",
        "$$\\text{sgn}(z)=\\begin{cases}\n",
        "              -1&\\text{if }z< 0,\\\\\n",
        "               0&\\text{if }z=0,\\\\\n",
        "               1&\\text{if }z> 0.\n",
        "\\end{cases}$$\n",
        "\n",
        "A single TLU can be used for simple linear binary classification. It computes a linear combination of the inputs, and if the result exceeds a threshold, it outputs the positive class. Otherwise it outputs the negative class (just like a Logistic Regression or linear SVM classifier).\n",
        "\n",
        "A Perceptron is simply composed of a single layer of TLUs, with each TLU connected to all the inputs. When all the neurons in a layer are connected to every neuron in the previous layer (i.e., its input neurons), the layer is called a *fully connected layer*, or a *dense layer*. The inputs of the Perceptron are fed to special passthrough neurons called *input neurons*: they output whatever input they are fed. All the input neurons form the *input layer*. Moreover, an extra bias feature is generally added ($x_0 = 1$): it is typically represented using a special type of neuron called a *bias neuron*, which outputs 1 all the time. A Perceptron with two inputs and three outputs is represented in Figure 10-5. This Perceptron can classify instances simultaneously into three different binary classes, which makes it a multioutput classifier.\n",
        "\n",
        "![texto alternativo](https://i.ibb.co/dBGW8cf/perceptron.png)\n",
        "\n",
        "Thanks to the magic of linear algebra, the next equation makes it possible to efficiently compute the outputs of a layer of artificial neurons for several instances at once.\n",
        "\n",
        "$$h_{\\boldsymbol{Wb}}(\\boldsymbol{X})=\\phi(\\boldsymbol{XW}+\\boldsymbol{b})$$\n",
        "\n",
        "- $\\boldsymbol{X}$ represents the matrix of input features. It has one row per instance and one column per feature.\n",
        "\n",
        "- The weight matrix $\\boldsymbol{W}$ contains all the connection weights except for the ones from the bias neuron. It has one row per input neuron and one column per artificial neuron in the layer.\n",
        "\n",
        "- The bias vector $\\boldsymbol{b}$ contains all the connection weights between the bias neuron and the artificial neurons. It has one bias term per artificial neuron.\n",
        "\n",
        "- The function $\\phi$ is called the *activation function*: when the artificial neurons are TLUs, it is a step function (but there are other activation functions).\n",
        "\n",
        "So, how is Perceptron trained? Perceptrons are trained using a variant of the Hebb’s rule that takes into account the error made by the network when it makes a prediction. More specifically, the Perceptron is fed one training instance at a time, and for each instance it makes its predictions. For every output neuron that produced a wrong prediction, it reinforces the connection weights from the inputs that would have contributed to the correct prediction. \n",
        "\n",
        "The decision boundary of each output neuron is linear, so Perceptrons are incapable of learning complex patterns (just like Logistic Regression classifiers). However, if the training instances are linearly separable, Rosenblatt demonstrated that this algorithm would converge to a solution.\n",
        "\n",
        "Note that contrary to Logistic Regression classifiers, Perceptrons do not output a class probability; rather, they make predictions based on a hard threshold. This is one reason to prefer Logistic Regression over Perceptrons.\n",
        "\n",
        "There are several weaknesses of Perceptrons—in particular, the fact that they are incapable of solving some trivial problems (e.g., the Exclusive OR (XOR) classification problem; see the left side of Figure 10-6). This is true of any other linear classification model (such as Logistic Regression classifiers).\n",
        "\n",
        "It turns out that some of the limitations of Perceptrons can be eliminated by stacking multiple Perceptrons. The resulting ANN is called a *Multilayer Perceptron* (MLP). An MLP can solve the XOR problem, as you can verify by computing the output of the MLP represented on the right side of Figure 10-6: with inputs (0, 0) or (1, 1), the network outputs 0, and with inputs (0, 1) or (1, 0) it outputs 1. All connections have a weight equal to 1, except the four connections where the weight is shown. \n",
        "\n",
        "![texto alternativo](https://i.ibb.co/xLwBXSz/xor-problem.png)"
      ]
    },
    {
      "cell_type": "markdown",
      "metadata": {
        "id": "Hy9n9ou54ptY",
        "colab_type": "text"
      },
      "source": [
        "## Multi-layer Perceptron and Backpropagation"
      ]
    },
    {
      "cell_type": "markdown",
      "metadata": {
        "id": "hFFMDpggdmmL",
        "colab_type": "text"
      },
      "source": [
        "An MLP is composed of one input layer, one or more hidden layers of [artificial neurons](https://en.wikipedia.org/wiki/Artificial_neuron) (particularly TLUs or threshold logic units) and one final layer of TLUs called the output layer. Every layer except the output layer includes a bias neuron and is fully connected to the next layer.\n",
        "\n",
        "\n",
        "\n",
        "![texto alternativo](https://www.oreilly.com/library/view/getting-started-with/9781786468574/graphics/B05474_04_05.jpg)\n",
        "\n",
        "The signal flows only in one direction (from the inputs to the outputs), so this architecture is an example of a feedforward neural network.\n",
        "\n",
        "When an ANN contains a lot of hidden layers is known as a *deep neural network* and these networks are the base of the study of Deep learning, and more generally models containing deep stacks of computations.\n",
        "\n",
        "The interest for these networks begun in 1986 when the backpropagation training algorithm was introduced. \n",
        "\n",
        "\n"
      ]
    },
    {
      "cell_type": "markdown",
      "metadata": {
        "id": "__NuADijs_wM",
        "colab_type": "text"
      },
      "source": [
        "\n",
        "\n",
        "The backpropagation algorithm is based in two passes through the network (one forward, one backward). Let's see it in detail.\n",
        "\n",
        "\n",
        "- It handles one mini-batch at a time, this is, it goes through to the full training set multiple times. Each pass is an epoch.\n",
        "\n",
        "\n",
        "- Each mini-batch is passed to the input layer, which sends it to the first hidden layer. Then computes the output of all the neurons in this layer and passes the result on to the next layer. This process is repeated until getting the output of the last layer. This is the forward pass. It is like making a prediction, except all intermediate results are preserved for the backward pass.\n",
        "\n",
        "\n",
        "- The algorithm measures the network's output error, it uses a loss function that compares the desired output and the actual output of the network and returns some measure of the error.\n",
        "\n",
        "- Then it goes through each layer in reverse (backward pass) computing how much each output connection contributed to the error (applying *chain rule*) and finally tweaks the weights of the connections to reduce the error (Gradient Descent step).\n",
        "\n",
        "![texto alternativo](https://i.stack.imgur.com/7Ui1C.png)\n",
        "\n",
        "Note: It is important to initialize all the hidden layer's connection weight randomly.\n",
        "\n",
        "The authors of this algorithm replaced the step function with the logistic (sigmoid) function $\\sigma(z)=\\frac{1}{1+e^{-z}}$. This was essential because the step function contains only flat segments, so there is no gradient to work with (Gradient Descent cannot move on a flat surface), while the logistic function has a well-defined nonzero derivative, allowing Gradient Descent to make progress at every step. Backpropagation works well with other activation functions as well, like hyperbolic tangent function, Relu...\n",
        "\n",
        "\n",
        "\n",
        "- The hyperbolic tangent function: $\\text{tanh}(z)= 2\\sigma(2z)–1$.\n",
        "Just like the logistic function, this activation function is S-shaped, continuous, and differentiable, but its output value ranges from –1 to 1 (instead of 0 to 1 in the case of the logistic function). That range tends to make each layer’s output more or less centered around 0 at the beginning of training, which often helps speed up convergence.\n",
        "\n",
        "- The Rectified Linear Unit function: $\\text{ReLU}(z)=\\text{max}(0,z)$\n",
        "The ReLU function is continuous but unfortunately not differentiable at z = 0 (the slope changes abruptly, which can make Gradient Descent bounce around), and its derivative is 0 for z < 0. In practice, however, it works very well and has the advantage of being fast to compute. Most importantly, the fact that it does not have a maximum output value helps reduce some issues during Gradient Descent.\n",
        "\n",
        "These popular activation functions and their derivatives are represented in Figure 10-8.\n",
        "\n",
        "![texto alternativo](https://i.ibb.co/zXKq7cC/activation-functions.png)\n",
        "\n",
        "But why do we need activation functions between layers?. If you apply chain rule on several linear transformations you will get a linear transformation. So if you don’t have some nonlinearity between layers, then even a deep stack of layers is equivalent to a single layer, and you can’t solve very complex problems with that. The purpose of the activation function is to introduce non-linearity into the network."
      ]
    },
    {
      "cell_type": "markdown",
      "metadata": {
        "id": "uZII9rUndcHc",
        "colab_type": "text"
      },
      "source": [
        "### Regression MLPs\n",
        "\n",
        "MLPs can be used for regression tasks. For univariate regression (predict a single value) you need a single output neuron (the predicted value). For multivariate regression (predict multiple values at once), you need one output neuron per output dimension.\n",
        "\n",
        "In general, when building an MLP for regression it is not usually used activation function for the output neurons (they are free to output any range of values). However, if you want that outputs will always be positive, you can use the ReLU activation function, or softplus (a smooth variant of ReLU) in the output layer. Finally, if you want that the predictions will fall within a given range of values you can use the logistic function or hyperbolic tangent, and scale the labels to the adequate range.\n",
        "\n",
        "The loss function typically is the mean squared error, but there are others like mean absolute error or Huber loss(a good choice if the training set has a lot of outliers).\n"
      ]
    },
    {
      "cell_type": "markdown",
      "metadata": {
        "id": "Jga8m59p9PjJ",
        "colab_type": "text"
      },
      "source": [
        "### Clasification MLPs\n",
        "\n",
        "\n",
        "MLPs can be used for classification tasks. For binary classification, you need a single output neuron using the logistic activation function(the predicted value will be a number between 0 and 1, which you can interpret as the estimated probability of the positive class).\n",
        "\n",
        "For multi-label binary classification, for example, predicts whether the incoming email is spam or no-spam, and simultaneously predicts whether it is an urgent or non-urgent email. In this case, you would need two output neurons, both using the logistic function: the first output will be the probability estimated that the email is spam and the second the probability estimated that the email is urgent. Generally, you can use one output neuron for each positive class.\n",
        "\n",
        "For multiclass classification, this is when target variable can belong to more than two labels (for example classes 0 through 9 for digit image classification), you need to have one output neuron per class and you can use the softmax activation function for the whole output layer (softmax activation function ensure that all estimated probabilities are between 0 and 1).\n",
        "\n",
        "Regarding the loss function, we are predicting probability distributions, the cross-entropy is generally a good option."
      ]
    },
    {
      "cell_type": "markdown",
      "metadata": {
        "id": "ahxS3gRPAz0J",
        "colab_type": "text"
      },
      "source": [
        "# MNIST fashion dataset\n",
        "\n",
        "![texto alternativo](https://camo.githubusercontent.com/a2e4e2eb7beebba0496cdf0bd08761636b6ecddd/68747470733a2f2f692e6779617a6f2e636f6d2f30666237313934393761386236366164393938643132333561663237643930312e706e67)"
      ]
    },
    {
      "cell_type": "code",
      "metadata": {
        "id": "z4Dj3bs5Uva4",
        "colab_type": "code",
        "outputId": "ab97a3eb-2c24-4e4e-f5aa-29b17ccda9ef",
        "colab": {
          "base_uri": "https://localhost:8080/",
          "height": 88
        }
      },
      "source": [
        "import pandas as pd\n",
        "import matplotlib.pyplot as plt\n",
        "import numpy as np\n",
        "import seaborn as sns\n",
        "from sklearn.metrics import classification_report, confusion_matrix\n",
        "from sklearn.model_selection import train_test_split\n",
        "import keras"
      ],
      "execution_count": 0,
      "outputs": [
        {
          "output_type": "stream",
          "text": [
            "/usr/local/lib/python3.6/dist-packages/statsmodels/tools/_testing.py:19: FutureWarning: pandas.util.testing is deprecated. Use the functions in the public API at pandas.testing instead.\n",
            "  import pandas.util.testing as tm\n",
            "Using TensorFlow backend.\n"
          ],
          "name": "stderr"
        }
      ]
    },
    {
      "cell_type": "code",
      "metadata": {
        "id": "le3Lrps5dchz",
        "colab_type": "code",
        "outputId": "0d0faca0-01a8-4cc9-f00c-cad6be77432e",
        "colab": {
          "base_uri": "https://localhost:8080/",
          "height": 153
        }
      },
      "source": [
        "\n",
        "fashion_mnist = keras.datasets.fashion_mnist\n",
        "(X_train_full, y_train_full), (X_test, y_test) = fashion_mnist.load_data()"
      ],
      "execution_count": 0,
      "outputs": [
        {
          "output_type": "stream",
          "text": [
            "Downloading data from http://fashion-mnist.s3-website.eu-central-1.amazonaws.com/train-labels-idx1-ubyte.gz\n",
            "32768/29515 [=================================] - 0s 10us/step\n",
            "Downloading data from http://fashion-mnist.s3-website.eu-central-1.amazonaws.com/train-images-idx3-ubyte.gz\n",
            "26427392/26421880 [==============================] - 5s 0us/step\n",
            "Downloading data from http://fashion-mnist.s3-website.eu-central-1.amazonaws.com/t10k-labels-idx1-ubyte.gz\n",
            "8192/5148 [===============================================] - 0s 0us/step\n",
            "Downloading data from http://fashion-mnist.s3-website.eu-central-1.amazonaws.com/t10k-images-idx3-ubyte.gz\n",
            "4423680/4422102 [==============================] - 2s 1us/step\n"
          ],
          "name": "stdout"
        }
      ]
    },
    {
      "cell_type": "code",
      "metadata": {
        "id": "VcQAyTkmE-_u",
        "colab_type": "code",
        "outputId": "6075281b-2cef-4d38-a064-100aa5378742",
        "colab": {
          "base_uri": "https://localhost:8080/",
          "height": 34
        }
      },
      "source": [
        "print(X_train_full.shape)"
      ],
      "execution_count": 0,
      "outputs": [
        {
          "output_type": "stream",
          "text": [
            "(60000, 28, 28)\n"
          ],
          "name": "stdout"
        }
      ]
    },
    {
      "cell_type": "markdown",
      "metadata": {
        "id": "yvkeIOXNEvFp",
        "colab_type": "text"
      },
      "source": [
        "The dataset is already split into a training set and a test set.\n",
        "\n",
        "Since we are going to train the neural network using Gradient Descent, we must scale the input feature. We just scale the pixel intensity down to the 0-1 range by dividing them by 255.0."
      ]
    },
    {
      "cell_type": "code",
      "metadata": {
        "id": "xKR836EmdckV",
        "colab_type": "code",
        "colab": {}
      },
      "source": [
        "X_train_full = X_train_full / 255.0"
      ],
      "execution_count": 0,
      "outputs": []
    },
    {
      "cell_type": "markdown",
      "metadata": {
        "id": "ZFiALH-nFqj9",
        "colab_type": "text"
      },
      "source": [
        "\n",
        "Each image is mapped to a single label. Since the class names are not included with the dataset, store them here to use later when plotting the images. Each label is an integer between 0 and 9."
      ]
    },
    {
      "cell_type": "code",
      "metadata": {
        "id": "oBTAMAuYdcm0",
        "colab_type": "code",
        "outputId": "130d612d-fc3f-4159-8618-b539510347d1",
        "colab": {
          "base_uri": "https://localhost:8080/",
          "height": 34
        }
      },
      "source": [
        "class_names = [\"T-shirt/top\", \"Trouser\", \"Pullover\", \"Dress\", \"Coat\",\n",
        "               \"Sandal\", \"Shirt\", \"Sneaker\", \"Bag\", \"Ankle boot\"]\n",
        "\n",
        "# let's see what class represent the first image\n",
        "class_names[y_train_full[0]]"
      ],
      "execution_count": 0,
      "outputs": [
        {
          "output_type": "execute_result",
          "data": {
            "text/plain": [
              "'Ankle boot'"
            ]
          },
          "metadata": {
            "tags": []
          },
          "execution_count": 5
        }
      ]
    },
    {
      "cell_type": "markdown",
      "metadata": {
        "id": "_gp3yyYbGWdq",
        "colab_type": "text"
      },
      "source": [
        "### Creating a model using Sequential API\n",
        "Now let’s build the neural network. It is a classification MLP with two hidden layers."
      ]
    },
    {
      "cell_type": "code",
      "metadata": {
        "id": "haSCK_lFdcpt",
        "colab_type": "code",
        "colab": {}
      },
      "source": [
        "model = keras.models.Sequential([\n",
        "    keras.layers.Flatten(input_shape=[28,28]),\n",
        "    keras.layers.Dense(300, activation=\"relu\"),\n",
        "    keras.layers.Dense(100, activation=\"relu\"),\n",
        "    keras.layers.Dense(10, activation=\"softmax\"),\n",
        "])\n",
        "\n"
      ],
      "execution_count": 0,
      "outputs": []
    },
    {
      "cell_type": "markdown",
      "metadata": {
        "id": "UmMRbXJQUo5M",
        "colab_type": "text"
      },
      "source": [
        "- The first line creates a  `Sequential` model. This is the simplest kind of Keras model, for neural networks that are just composed of a single stack of layers, connected sequentially. This is called the sequential API.\n",
        "\n",
        "- Next, pass a list of layers to the model. The first layer is a `Flatten` layer used to convert each input image into a 1D array: if it receives input data X, it computes  `X.reshape(-1, 1)`. This layer does not have any parameters, it is just to do some simple preprocessing. Since it is the first layer, you should specify the `input_shape`: this does not include the batch size, only the shape of the instances. Alternatively, you could add a `keras.layers.InputLayer` as the first layer, setting `input_shape=[28,28]`.\n",
        "\n",
        "\n",
        "- Next, we add a `Dense` hidden layer with 300 neurons. It will use the ReLU activation function. Each `Dense` layer manages its weight matrix, containing all the connection weights between the neurons and their inputs. It also manages a vector of bias terms (one per neuron).\n",
        "\n",
        "- Next a second  `Dense` hidden layer with 100 neurons, also using the ReLU activation function. \n",
        "\n",
        "- Finally, a `Dense` output layer with 10 neurons (one per class), using the softmax activation function (because the classes are exclusive)."
      ]
    },
    {
      "cell_type": "markdown",
      "metadata": {
        "id": "D76fmQPCYx9P",
        "colab_type": "text"
      },
      "source": [
        "The model’s `summary()`  method displays all the model’s layers, including each layer’s name, its output shape, and its number of parameters. The summary ends with the total number of parameters, trainable and non-trainable parameters."
      ]
    },
    {
      "cell_type": "code",
      "metadata": {
        "id": "PtK_xPzbdcxM",
        "colab_type": "code",
        "outputId": "de608499-abe2-4964-fb9d-ddd2729125a8",
        "colab": {
          "base_uri": "https://localhost:8080/",
          "height": 289
        }
      },
      "source": [
        "model.summary()"
      ],
      "execution_count": 0,
      "outputs": [
        {
          "output_type": "stream",
          "text": [
            "Model: \"sequential_1\"\n",
            "_________________________________________________________________\n",
            "Layer (type)                 Output Shape              Param #   \n",
            "=================================================================\n",
            "flatten_1 (Flatten)          (None, 784)               0         \n",
            "_________________________________________________________________\n",
            "dense_1 (Dense)              (None, 300)               235500    \n",
            "_________________________________________________________________\n",
            "dense_2 (Dense)              (None, 100)               30100     \n",
            "_________________________________________________________________\n",
            "dense_3 (Dense)              (None, 10)                1010      \n",
            "=================================================================\n",
            "Total params: 266,610\n",
            "Trainable params: 266,610\n",
            "Non-trainable params: 0\n",
            "_________________________________________________________________\n"
          ],
          "name": "stdout"
        }
      ]
    },
    {
      "cell_type": "markdown",
      "metadata": {
        "id": "vFGTSdzlZ0ea",
        "colab_type": "text"
      },
      "source": [
        "Note that `Dense` layers often have a  lot of parameters. For example, the first hidden layer has 784 × 300 connection weights, plus 300 bias terms, which reaches to 235,500 parameters! This gives the model flexibility to fit the training data, but also the model runs the risk of overfitting, especially when you do not have a lot of training data.\n",
        "\n",
        "You can easily get a model's list of layers or all the parameters of a specific layer (for a `dense` layer includes both the connection weight and the bias)."
      ]
    },
    {
      "cell_type": "code",
      "metadata": {
        "id": "XJFdmQhNdczz",
        "colab_type": "code",
        "outputId": "4d69799b-97ca-44b6-b208-339c95ce5fbd",
        "colab": {
          "base_uri": "https://localhost:8080/",
          "height": 224
        }
      },
      "source": [
        "print(model.layers)\n",
        "dense_3 = model.layers[1]\n",
        "weigth, biases = dense_3.get_weights()\n",
        "print(weigth[0:5], biases[0:5])\n"
      ],
      "execution_count": 0,
      "outputs": [
        {
          "output_type": "stream",
          "text": [
            "[<keras.layers.core.Flatten object at 0x7fda89b3d0f0>, <keras.layers.core.Dense object at 0x7fda89b3d588>, <keras.layers.core.Dense object at 0x7fda89b3d748>, <keras.layers.core.Dense object at 0x7fda89b3d8d0>]\n",
            "[[ 0.02579472  0.0426782  -0.03585801 ... -0.0355639   0.03057719\n",
            "  -0.01093909]\n",
            " [-0.06389035  0.03572315 -0.00334362 ... -0.0569008  -0.02039962\n",
            "  -0.06157579]\n",
            " [ 0.03145259  0.05994296  0.02046508 ...  0.05497772 -0.06433111\n",
            "   0.04895128]\n",
            " [-0.02658677  0.05534306 -0.05208277 ... -0.00909959 -0.03697651\n",
            "  -0.01071425]\n",
            " [-0.01467332 -0.01710185 -0.04937239 ...  0.01480531  0.06813319\n",
            "   0.03917579]] [0. 0. 0. 0. 0.]\n"
          ],
          "name": "stdout"
        }
      ]
    },
    {
      "cell_type": "markdown",
      "metadata": {
        "id": "t2OaMkEwv3ig",
        "colab_type": "text"
      },
      "source": [
        "Notice that the `Dense` layer initialized the connection weights randomly, and biases were initialized to zeros. You can use another initialization method.\n",
        "\n",
        "The shape of the weight matrix depends on the number of inputs. It is recommended to specify the input_saphe when creating the first layer in a `Sequential` model.\n"
      ]
    },
    {
      "cell_type": "markdown",
      "metadata": {
        "id": "TrGQrHWPG_Ci",
        "colab_type": "text"
      },
      "source": [
        "### Compiling the model\n",
        "\n",
        "We call compile method to specify the loss function and the optimizer to use. You can specify extra metrics."
      ]
    },
    {
      "cell_type": "code",
      "metadata": {
        "id": "YawwgW4jG6g8",
        "colab_type": "code",
        "colab": {}
      },
      "source": [
        "model.compile(loss=\"sparse_categorical_crossentropy\",\n",
        "              optimizer=\"sgd\",\n",
        "              metrics=[\"accuracy\"])"
      ],
      "execution_count": 0,
      "outputs": []
    },
    {
      "cell_type": "markdown",
      "metadata": {
        "id": "dumP9hJkxZCl",
        "colab_type": "text"
      },
      "source": [
        "We use the \"`sparse_categorical_crossentropy`\" loss because we have sparse labels (i.e., for each instance, there is just a target class index, from 0 to 9 in this case), and the classes are exclusive. If instead we had one target probability per class for each instance (such as one-hot vectors, e.g. `[0., 0., 0., 1., 0., 0., 0., 0., 0., 0.]` to represent class 3), then we would need to use the \"`categorical_crossentropy`\" loss instead. If we were doing binary classification (with one or more binary labels), then we would use the \"`sigmoid`\" (i.e., logistic) activation function in the output layer instead of the \"`softmax`\" activation function, and we would use the \"`binary_crossentropy`\" loss.\n",
        "\n",
        "**Note**: If you want to convert sparse labels (i.e., class indices) to one-hot vector labels, use the `keras.utils.to_categorical()` function. You can also use the `np.argmax()` function with `axis=1`.\n",
        "\n",
        "\n",
        "The optimizer \"`sgd`\" will train the model using simple Stochastic Gradient Descent. Specifically, it will perform the backpropagation algorithm described earlier. There are other efficient optimizers (to improve the gradient descent part). We use the measure \"`accuracy`\" during training and evaluation for our classification model."
      ]
    },
    {
      "cell_type": "code",
      "metadata": {
        "id": "OoIZg-WqG67h",
        "colab_type": "code",
        "colab": {}
      },
      "source": [
        "# Split the data\n",
        "x_train, x_valid, y_train, y_valid = train_test_split(X_train_full, y_train_full, test_size=0.1, shuffle= True)"
      ],
      "execution_count": 0,
      "outputs": []
    },
    {
      "cell_type": "markdown",
      "metadata": {
        "id": "5FmBcI0pHSa6",
        "colab_type": "text"
      },
      "source": [
        "### Training and evaluating the model\n",
        "\n",
        "For this we simply need to call its `fit()` method:"
      ]
    },
    {
      "cell_type": "code",
      "metadata": {
        "id": "fLwo-Z5sG6-p",
        "colab_type": "code",
        "outputId": "f08a4e25-a8dc-4ba4-864c-566cf05ffe87",
        "colab": {
          "base_uri": "https://localhost:8080/",
          "height": 734
        }
      },
      "source": [
        "history = model.fit(x_train, y_train, epochs=30 , validation_data = (x_valid, y_valid))"
      ],
      "execution_count": 0,
      "outputs": [
        {
          "output_type": "stream",
          "text": [
            "Train on 54000 samples, validate on 6000 samples\n",
            "Epoch 1/20\n",
            "54000/54000 [==============================] - 6s 107us/step - loss: 0.7274 - accuracy: 0.7647 - val_loss: 0.5033 - val_accuracy: 0.8263\n",
            "Epoch 2/20\n",
            "54000/54000 [==============================] - 4s 76us/step - loss: 0.4922 - accuracy: 0.8281 - val_loss: 0.5141 - val_accuracy: 0.8087\n",
            "Epoch 3/20\n",
            "54000/54000 [==============================] - 4s 76us/step - loss: 0.4492 - accuracy: 0.8425 - val_loss: 0.4270 - val_accuracy: 0.8507\n",
            "Epoch 4/20\n",
            "54000/54000 [==============================] - 4s 76us/step - loss: 0.4216 - accuracy: 0.8542 - val_loss: 0.4262 - val_accuracy: 0.8523\n",
            "Epoch 5/20\n",
            "54000/54000 [==============================] - 4s 74us/step - loss: 0.3998 - accuracy: 0.8615 - val_loss: 0.4056 - val_accuracy: 0.8605\n",
            "Epoch 6/20\n",
            "54000/54000 [==============================] - 4s 75us/step - loss: 0.3841 - accuracy: 0.8656 - val_loss: 0.3788 - val_accuracy: 0.8645\n",
            "Epoch 7/20\n",
            "54000/54000 [==============================] - 4s 75us/step - loss: 0.3706 - accuracy: 0.8691 - val_loss: 0.3686 - val_accuracy: 0.8687\n",
            "Epoch 8/20\n",
            "54000/54000 [==============================] - 4s 74us/step - loss: 0.3578 - accuracy: 0.8743 - val_loss: 0.3682 - val_accuracy: 0.8680\n",
            "Epoch 9/20\n",
            "54000/54000 [==============================] - 4s 74us/step - loss: 0.3479 - accuracy: 0.8767 - val_loss: 0.3484 - val_accuracy: 0.8772\n",
            "Epoch 10/20\n",
            "54000/54000 [==============================] - 4s 75us/step - loss: 0.3373 - accuracy: 0.8808 - val_loss: 0.3424 - val_accuracy: 0.8807\n",
            "Epoch 11/20\n",
            "54000/54000 [==============================] - 4s 74us/step - loss: 0.3288 - accuracy: 0.8836 - val_loss: 0.3621 - val_accuracy: 0.8702\n",
            "Epoch 12/20\n",
            "54000/54000 [==============================] - 4s 76us/step - loss: 0.3217 - accuracy: 0.8850 - val_loss: 0.3303 - val_accuracy: 0.8830\n",
            "Epoch 13/20\n",
            "54000/54000 [==============================] - 4s 75us/step - loss: 0.3130 - accuracy: 0.8876 - val_loss: 0.3185 - val_accuracy: 0.8882\n",
            "Epoch 14/20\n",
            "54000/54000 [==============================] - 4s 75us/step - loss: 0.3077 - accuracy: 0.8904 - val_loss: 0.3372 - val_accuracy: 0.8808\n",
            "Epoch 15/20\n",
            "54000/54000 [==============================] - 4s 74us/step - loss: 0.2990 - accuracy: 0.8938 - val_loss: 0.3233 - val_accuracy: 0.8852\n",
            "Epoch 16/20\n",
            "54000/54000 [==============================] - 4s 75us/step - loss: 0.2936 - accuracy: 0.8945 - val_loss: 0.3100 - val_accuracy: 0.8890\n",
            "Epoch 17/20\n",
            "54000/54000 [==============================] - 4s 78us/step - loss: 0.2878 - accuracy: 0.8970 - val_loss: 0.3143 - val_accuracy: 0.8910\n",
            "Epoch 18/20\n",
            "54000/54000 [==============================] - 4s 80us/step - loss: 0.2831 - accuracy: 0.8984 - val_loss: 0.3370 - val_accuracy: 0.8813\n",
            "Epoch 19/20\n",
            "54000/54000 [==============================] - 4s 77us/step - loss: 0.2777 - accuracy: 0.8994 - val_loss: 0.3378 - val_accuracy: 0.8787\n",
            "Epoch 20/20\n",
            "54000/54000 [==============================] - 4s 77us/step - loss: 0.2719 - accuracy: 0.9027 - val_loss: 0.3102 - val_accuracy: 0.8908\n"
          ],
          "name": "stdout"
        }
      ]
    },
    {
      "cell_type": "markdown",
      "metadata": {
        "id": "oeVj0g-czJZB",
        "colab_type": "text"
      },
      "source": [
        "We pass it the input features (`x_train`) and the target classes (`y_train`), as well as the number of epochs to train (or else it would default to just 1, which would not be enough to converge to a good solution). We also pass a validation set (this is optional). Keras will measure the loss and the extra metrics on this set at the end of each epoch, which is very useful to see how well the model performs. If the performance on the training set is much better than on the validation set, your model is probably overfitting the training set (or there is a bug, such as a data mismatch between the training set and the validation set).\n",
        "\n",
        "At each epoch during training, Keras displays the number of instances processes, the mean training time per sample, the loss and accuracy both on the training and validation sets"
      ]
    },
    {
      "cell_type": "markdown",
      "metadata": {
        "id": "R953dkr73_R4",
        "colab_type": "text"
      },
      "source": [
        "If the training set was unbalanced, with some classes being overrepresented and others underrepresented can be useful to set the `class_weight` argument when calling the `fit()` method (giving larger weight to underrepresented classes and a lower weight to overrepresented classes).\n",
        "\n",
        "The `fit()` method returns a `History` object which contains the training parameters, list of epochs, and a dictionary which contains the loss and extra metrics it measured at the end of each epoch on both training and validation set.\n",
        "\n",
        "We can use these measures to plot the learning curves."
      ]
    },
    {
      "cell_type": "code",
      "metadata": {
        "id": "bMrCRHI2G6cP",
        "colab_type": "code",
        "outputId": "958c2699-7150-46e8-8ae6-22fc92b32f54",
        "colab": {
          "base_uri": "https://localhost:8080/",
          "height": 341
        }
      },
      "source": [
        "pd.DataFrame(history.history).plot(figsize=(8,5))\n",
        "plt.grid(True)\n",
        "plt.gca().set_ylim(0,1)\n",
        "plt.show"
      ],
      "execution_count": 0,
      "outputs": [
        {
          "output_type": "execute_result",
          "data": {
            "text/plain": [
              "<function matplotlib.pyplot.show>"
            ]
          },
          "metadata": {
            "tags": []
          },
          "execution_count": 13
        },
        {
          "output_type": "display_data",
          "data": {
            "image/png": "[encoded data removed]",
            "text/plain": [
              "<Figure size 576x360 with 1 Axes>"
            ]
          },
          "metadata": {
            "tags": [],
            "needs_background": "light"
          }
        }
      ]
    },
    {
      "cell_type": "markdown",
      "metadata": {
        "id": "UT5kn2P92Lfv",
        "colab_type": "text"
      },
      "source": [
        "We see that both the training and validation accuracy increase during training, while loss decrease. The validation curves are quite close to the training curves, which means that there is not too much overfitting.\n",
        "\n",
        "If you are not satisfied with the performance of the model, you can tune the model's hyperparameter and train the model again. You can modify the number of neurons per layer, the number of layers, the types of activation functions for each hidden layer, the number of epochs, the batch size (by default it is 32)...\n",
        "\n",
        "We can evaluate the model on the test set to estimate the generalization error."
      ]
    },
    {
      "cell_type": "code",
      "metadata": {
        "id": "WpaCTu7GG6aj",
        "colab_type": "code",
        "outputId": "2c8fa3d4-b28d-4266-b733-f75ed6a7be66",
        "colab": {
          "base_uri": "https://localhost:8080/",
          "height": 51
        }
      },
      "source": [
        "test_loss, test_acc = model.evaluate(X_test,  y_test, verbose=2)\n",
        "\n",
        "print('\\nTest accuracy:', test_acc)"
      ],
      "execution_count": 0,
      "outputs": [
        {
          "output_type": "stream",
          "text": [
            "\n",
            "Test accuracy: 0.8195000290870667\n"
          ],
          "name": "stdout"
        }
      ]
    },
    {
      "cell_type": "markdown",
      "metadata": {
        "id": "-yDu8Pcgh_AW",
        "colab_type": "text"
      },
      "source": [
        "It is common to get slightly lower performance on the test set than on the validation set, because the hyperparameters are tuned on the validation set, not the test set (however, in this example, we did not do any hyperparameter tuning, so the lower accuracy is just bad luck). Remember to resist the temptation to tweak the hyperparameters on the test set, or else your estimate of the generalization error will be too optimistic."
      ]
    },
    {
      "cell_type": "markdown",
      "metadata": {
        "id": "OOhRMou2PPKI",
        "colab_type": "text"
      },
      "source": [
        "We can get the [confusion matrix](https://en.wikipedia.org/wiki/Confusion_matrix) and other measures of the model.\n"
      ]
    },
    {
      "cell_type": "code",
      "metadata": {
        "id": "AixN-RZKU7uB",
        "colab_type": "code",
        "outputId": "82ef3adb-b8ba-4edd-dcd0-0c39c0279476",
        "colab": {
          "base_uri": "https://localhost:8080/",
          "height": 500
        }
      },
      "source": [
        "# Predict the values from the test dataset\n",
        "Y_pred = model.predict(X_test)\n",
        "# Convert predictions classes to one hot vectors \n",
        "Y_pred_classes = np.argmax(Y_pred, axis = 1) \n",
        "# compute the confusion matrix\n",
        "confusion_mtx = confusion_matrix(y_test, Y_pred_classes) \n",
        "# plot the confusion matrix\n",
        "plt.figure(figsize=(10,8))\n",
        "sns.heatmap(confusion_mtx, annot=True, fmt=\"d\")"
      ],
      "execution_count": 0,
      "outputs": [
        {
          "output_type": "execute_result",
          "data": {
            "text/plain": [
              "<matplotlib.axes._subplots.AxesSubplot at 0x7fda80291b38>"
            ]
          },
          "metadata": {
            "tags": []
          },
          "execution_count": 15
        },
        {
          "output_type": "display_data",
          "data": {
            "image/png": "[encoded data removed]",
            "text/plain": [
              "<Figure size 720x576 with 2 Axes>"
            ]
          },
          "metadata": {
            "tags": [],
            "needs_background": "light"
          }
        }
      ]
    },
    {
      "cell_type": "code",
      "metadata": {
        "id": "rFPlxIFl9bKW",
        "colab_type": "code",
        "outputId": "cc49f704-94f5-4c56-9b7c-42c4b63354d8",
        "colab": {
          "base_uri": "https://localhost:8080/",
          "height": 357
        }
      },
      "source": [
        "# Evaluate the network using test set\n",
        "print(\"[INFO] evaluating network...\")\n",
        "predictions = model.predict(X_test)\n",
        "print(predictions.argmax(axis=1))\n",
        "print(y_test)\n",
        "print(classification_report(y_test,predictions.argmax(axis=1)))"
      ],
      "execution_count": 0,
      "outputs": [
        {
          "output_type": "stream",
          "text": [
            "[INFO] evaluating network...\n",
            "[9 2 1 ... 8 1 5]\n",
            "[9 2 1 ... 8 1 5]\n",
            "              precision    recall  f1-score   support\n",
            "\n",
            "           0       0.87      0.78      0.82      1000\n",
            "           1       0.92      0.98      0.95      1000\n",
            "           2       0.84      0.56      0.68      1000\n",
            "           3       0.94      0.76      0.84      1000\n",
            "           4       0.58      0.95      0.72      1000\n",
            "           5       0.98      0.88      0.93      1000\n",
            "           6       0.67      0.59      0.63      1000\n",
            "           7       0.97      0.72      0.83      1000\n",
            "           8       0.94      0.97      0.96      1000\n",
            "           9       0.74      1.00      0.85      1000\n",
            "\n",
            "    accuracy                           0.82     10000\n",
            "   macro avg       0.84      0.82      0.82     10000\n",
            "weighted avg       0.84      0.82      0.82     10000\n",
            "\n"
          ],
          "name": "stdout"
        }
      ]
    },
    {
      "cell_type": "markdown",
      "metadata": {
        "id": "Ndrw0qKzPaOY",
        "colab_type": "text"
      },
      "source": [
        "We can use the model to make predictions on new instances."
      ]
    },
    {
      "cell_type": "code",
      "metadata": {
        "id": "hYMP1-P7PiUS",
        "colab_type": "code",
        "outputId": "9e8911db-0570-428a-ef83-9cc9e31cc826",
        "colab": {
          "base_uri": "https://localhost:8080/",
          "height": 68
        }
      },
      "source": [
        "y_proba_predictions = model.predict(X_test[:3])\n",
        "print(y_proba_predictions)"
      ],
      "execution_count": 0,
      "outputs": [
        {
          "output_type": "stream",
          "text": [
            "[[0. 0. 0. 0. 0. 0. 0. 0. 0. 1.]\n",
            " [0. 0. 1. 0. 0. 0. 0. 0. 0. 0.]\n",
            " [0. 1. 0. 0. 0. 0. 0. 0. 0. 0.]]\n"
          ],
          "name": "stdout"
        }
      ]
    },
    {
      "cell_type": "markdown",
      "metadata": {
        "id": "jJiAdRfiQhUm",
        "colab_type": "text"
      },
      "source": [
        "For each instance the model estimates one probability per class, from class 0 to 9. \n",
        "\n",
        "We can also get the class with the highest estimated probability. "
      ]
    },
    {
      "cell_type": "code",
      "metadata": {
        "id": "VssuXCk19bHj",
        "colab_type": "code",
        "outputId": "3a4be580-3439-4bdd-8e4e-aacbd2c59b79",
        "colab": {
          "base_uri": "https://localhost:8080/",
          "height": 51
        }
      },
      "source": [
        "y_predictions = model.predict_classes(X_test[:3])\n",
        "print(y_predictions)\n",
        "# print(np.array(class_names)[y_predictions])\n",
        "print(y_test[:3])"
      ],
      "execution_count": 0,
      "outputs": [
        {
          "output_type": "stream",
          "text": [
            "[9 2 1]\n",
            "[9 2 1]\n"
          ],
          "name": "stdout"
        }
      ]
    },
    {
      "cell_type": "markdown",
      "metadata": {
        "id": "GHhF3I7kRomp",
        "colab_type": "text"
      },
      "source": [
        "The three first images on the test set are correctly predicted.\n",
        "\n",
        "Despite our model performs reasonably well, there are other sorts of neural networks ([convolutional neural networks or CNN](https://en.wikipedia.org/wiki/Convolutional_neural_network)) which generally performs better when we want to feed the network with data from images."
      ]
    },
    {
      "cell_type": "markdown",
      "metadata": {
        "id": "C5oiv5xwcXaa",
        "colab_type": "text"
      },
      "source": [
        "# Resources"
      ]
    },
    {
      "cell_type": "markdown",
      "metadata": {
        "id": "fqQ1FhxPGmb1",
        "colab_type": "text"
      },
      "source": [
        "\n",
        "- https://www.oreilly.com/library/view/hands-on-machine-learning/9781492032632/\n",
        "\n",
        "- https://www.tensorflow.org/tutorials/keras/classification"
      ]
    }
  ]
}