{
  "nbformat": 4,
  "nbformat_minor": 0,
  "metadata": {
    "kernelspec": {
      "name": "python3",
      "display_name": "Python 3",
      "language": "python"
    },
    "language_info": {
      "name": "python",
      "version": "3.7.9",
      "mimetype": "text/x-python",
      "codemirror_mode": {
        "name": "ipython",
        "version": 3
      },
      "pygments_lexer": "ipython3",
      "nbconvert_exporter": "python",
      "file_extension": ".py"
    },
    "colab": {
      "name": "Toxic-comment-multi-label-classification LSTM.ipynb",
      "provenance": [],
      "collapsed_sections": [],
      "toc_visible": true,
      "include_colab_link": true
    },
    "accelerator": "GPU"
  },
  "cells": [
    {
      "cell_type": "markdown",
      "metadata": {
        "id": "view-in-github",
        "colab_type": "text"
      },
      "source": [
        "<a href=\"https://colab.research.google.com/github/victorviro/Deep_learning_python/blob/master/Toxic_comment_multi_label_classification_LSTM.ipynb\" target=\"_parent\"><img src=\"https://colab.research.google.com/assets/colab-badge.svg\" alt=\"Open In Colab\"/></a>"
      ]
    },
    {
      "cell_type": "markdown",
      "metadata": {
        "id": "oNqFbXrEop9S"
      },
      "source": [
        "## Table of contents"
      ]
    },
    {
      "cell_type": "markdown",
      "metadata": {
        "id": "eOunBijSo16s"
      },
      "source": [
        "\n",
        "1. [Introduction](#1)\n",
        "2. [Import packages](#2)\n",
        "3. [Constants](#3)\n",
        "4. [Load data](#4)\n",
        "5. [EDA](#5)\n",
        "6. [Data preparation](#6)\n",
        "    1. [Tokenization](#6.1)\n",
        "    2. [Padding](#6.2)\n",
        "    3. [Split dataset](#6.3)\n",
        "7. [Model](#7)\n",
        "8. [Loss function](#8)\n",
        "9. [Train model](#9)\n",
        "10. [Model evaluation](#10)\n",
        "11. [Test model](#11)\n",
        "12. [References](#12)\n",
        "\n",
        "\n"
      ]
    },
    {
      "cell_type": "markdown",
      "metadata": {
        "id": "WX61E9t8NF2H"
      },
      "source": [
        "## Introduction <a name=\"1\"></a>"
      ]
    },
    {
      "cell_type": "markdown",
      "metadata": {
        "id": "2yh8Bq3ONJ3p"
      },
      "source": [
        "In this notebook, we build a multi-label classification model that’s capable of detecting different types of toxicity like threats, obscenity, insults, etc, using a dataset of comments from Wikipedia’s talk page edits. The description of the problem and the dataset is available in [Kaggle](https://www.kaggle.com/c/jigsaw-toxic-comment-classification-challenge)."
      ]
    },
    {
      "cell_type": "markdown",
      "metadata": {
        "id": "WnDfsEQTwure"
      },
      "source": [
        "## Import packages <a name=\"2\"></a>"
      ]
    },
    {
      "cell_type": "code",
      "metadata": {
        "_uuid": "8f2839f25d086af736a60e9eeb907d3b93b6e0e5",
        "_cell_guid": "b1076dfc-b9ad-4769-8c92-a6c4dae69d19",
        "trusted": true,
        "id": "3_falmWPwurf"
      },
      "source": [
        "import random\n",
        "\n",
        "import pandas as pd\n",
        "import numpy as np\n",
        "import seaborn as sns\n",
        "import matplotlib.pyplot as plt\n",
        "from keras.models import Model\n",
        "from keras.layers import (Dense, Embedding, Input, LSTM, Bidirectional, \n",
        "                          GlobalMaxPool1D, Dropout)\n",
        "from keras.preprocessing.text import Tokenizer\n",
        "from keras.preprocessing import sequence\n",
        "from keras.backend import mean, binary_crossentropy\n",
        "import tensorflow as tf\n",
        "from sklearn.metrics import classification_report, multilabel_confusion_matrix\n",
        "from sklearn.utils.class_weight import compute_class_weight"
      ],
      "execution_count": 132,
      "outputs": []
    },
    {
      "cell_type": "code",
      "metadata": {
        "colab": {
          "base_uri": "https://localhost:8080/"
        },
        "id": "eo0ebWAwwy9s",
        "outputId": "f52fe538-88d5-406d-8698-84c863bdd841"
      },
      "source": [
        "from google.colab import drive\n",
        "drive.mount('/content/drive')"
      ],
      "execution_count": 133,
      "outputs": [
        {
          "output_type": "stream",
          "text": [
            "Drive already mounted at /content/drive; to attempt to forcibly remount, call drive.mount(\"/content/drive\", force_remount=True).\n"
          ],
          "name": "stdout"
        }
      ]
    },
    {
      "cell_type": "markdown",
      "metadata": {
        "id": "mMlvCtdOwurf"
      },
      "source": [
        "## Constants <a name=\"3\"></a>"
      ]
    },
    {
      "cell_type": "code",
      "metadata": {
        "trusted": true,
        "id": "7OG59_r4wurh"
      },
      "source": [
        "DATA_PATH = '/content/drive/MyDrive/datasets/toxic_comments/train.csv'\n",
        "# Maximum number of words to keep when tokenize text (based on word frequency)\n",
        "MAX_WORDS_NUMBER = 2000\n",
        "# Maximum length of all sequences \n",
        "MAX_SEQUENCE_LENGTH = 150\n",
        "# Size of the word embeddings\n",
        "EMBEDDING_SIZE = 128\n",
        "EPOCHS_NUMBER = 2\n",
        "BATCH_SIZE = 32\n",
        "# Threshold for interpreting probabilities\n",
        "THRESHOLD = 0.5"
      ],
      "execution_count": 134,
      "outputs": []
    },
    {
      "cell_type": "markdown",
      "metadata": {
        "id": "xywcfVS0wuri"
      },
      "source": [
        "## Load data <a name=\"4\"></a>"
      ]
    },
    {
      "cell_type": "code",
      "metadata": {
        "trusted": true,
        "colab": {
          "base_uri": "https://localhost:8080/",
          "height": 288
        },
        "id": "WLvhb-WNwuri",
        "outputId": "41c5f31e-11fe-4f44-d995-0a064d63ca24"
      },
      "source": [
        "source_df = pd.read_csv(DATA_PATH)  \n",
        "comments_number = source_df.shape[0]\n",
        "print(f'Number of comments in the dataset: {comments_number}')\n",
        "source_df.head(7) "
      ],
      "execution_count": 135,
      "outputs": [
        {
          "output_type": "stream",
          "text": [
            "Number of comments in the dataset: 159571\n"
          ],
          "name": "stdout"
        },
        {
          "output_type": "execute_result",
          "data": {
            "text/html": [
              "<div>\n",
              "<style scoped>\n",
              "    .dataframe tbody tr th:only-of-type {\n",
              "        vertical-align: middle;\n",
              "    }\n",
              "\n",
              "    .dataframe tbody tr th {\n",
              "        vertical-align: top;\n",
              "    }\n",
              "\n",
              "    .dataframe thead th {\n",
              "        text-align: right;\n",
              "    }\n",
              "</style>\n",
              "<table border=\"1\" class=\"dataframe\">\n",
              "  <thead>\n",
              "    <tr style=\"text-align: right;\">\n",
              "      <th></th>\n",
              "      <th>id</th>\n",
              "      <th>comment_text</th>\n",
              "      <th>toxic</th>\n",
              "      <th>severe_toxic</th>\n",
              "      <th>obscene</th>\n",
              "      <th>threat</th>\n",
              "      <th>insult</th>\n",
              "      <th>identity_hate</th>\n",
              "    </tr>\n",
              "  </thead>\n",
              "  <tbody>\n",
              "    <tr>\n",
              "      <th>0</th>\n",
              "      <td>0000997932d777bf</td>\n",
              "      <td>Explanation\\nWhy the edits made under my usern...</td>\n",
              "      <td>0</td>\n",
              "      <td>0</td>\n",
              "      <td>0</td>\n",
              "      <td>0</td>\n",
              "      <td>0</td>\n",
              "      <td>0</td>\n",
              "    </tr>\n",
              "    <tr>\n",
              "      <th>1</th>\n",
              "      <td>000103f0d9cfb60f</td>\n",
              "      <td>D'aww! He matches this background colour I'm s...</td>\n",
              "      <td>0</td>\n",
              "      <td>0</td>\n",
              "      <td>0</td>\n",
              "      <td>0</td>\n",
              "      <td>0</td>\n",
              "      <td>0</td>\n",
              "    </tr>\n",
              "    <tr>\n",
              "      <th>2</th>\n",
              "      <td>000113f07ec002fd</td>\n",
              "      <td>Hey man, I'm really not trying to edit war. It...</td>\n",
              "      <td>0</td>\n",
              "      <td>0</td>\n",
              "      <td>0</td>\n",
              "      <td>0</td>\n",
              "      <td>0</td>\n",
              "      <td>0</td>\n",
              "    </tr>\n",
              "    <tr>\n",
              "      <th>3</th>\n",
              "      <td>0001b41b1c6bb37e</td>\n",
              "      <td>\"\\nMore\\nI can't make any real suggestions on ...</td>\n",
              "      <td>0</td>\n",
              "      <td>0</td>\n",
              "      <td>0</td>\n",
              "      <td>0</td>\n",
              "      <td>0</td>\n",
              "      <td>0</td>\n",
              "    </tr>\n",
              "    <tr>\n",
              "      <th>4</th>\n",
              "      <td>0001d958c54c6e35</td>\n",
              "      <td>You, sir, are my hero. Any chance you remember...</td>\n",
              "      <td>0</td>\n",
              "      <td>0</td>\n",
              "      <td>0</td>\n",
              "      <td>0</td>\n",
              "      <td>0</td>\n",
              "      <td>0</td>\n",
              "    </tr>\n",
              "    <tr>\n",
              "      <th>5</th>\n",
              "      <td>00025465d4725e87</td>\n",
              "      <td>\"\\n\\nCongratulations from me as well, use the ...</td>\n",
              "      <td>0</td>\n",
              "      <td>0</td>\n",
              "      <td>0</td>\n",
              "      <td>0</td>\n",
              "      <td>0</td>\n",
              "      <td>0</td>\n",
              "    </tr>\n",
              "    <tr>\n",
              "      <th>6</th>\n",
              "      <td>0002bcb3da6cb337</td>\n",
              "      <td>COCKSUCKER BEFORE YOU PISS AROUND ON MY WORK</td>\n",
              "      <td>1</td>\n",
              "      <td>1</td>\n",
              "      <td>1</td>\n",
              "      <td>0</td>\n",
              "      <td>1</td>\n",
              "      <td>0</td>\n",
              "    </tr>\n",
              "  </tbody>\n",
              "</table>\n",
              "</div>"
            ],
            "text/plain": [
              "                 id  ... identity_hate\n",
              "0  0000997932d777bf  ...             0\n",
              "1  000103f0d9cfb60f  ...             0\n",
              "2  000113f07ec002fd  ...             0\n",
              "3  0001b41b1c6bb37e  ...             0\n",
              "4  0001d958c54c6e35  ...             0\n",
              "5  00025465d4725e87  ...             0\n",
              "6  0002bcb3da6cb337  ...             0\n",
              "\n",
              "[7 rows x 8 columns]"
            ]
          },
          "metadata": {
            "tags": []
          },
          "execution_count": 135
        }
      ]
    },
    {
      "cell_type": "markdown",
      "metadata": {
        "id": "yTpo5RWEPHGs"
      },
      "source": [
        "We can see that each comment can be assigned to more than one category. So this is a **multi-label classification** problem."
      ]
    },
    {
      "cell_type": "code",
      "metadata": {
        "trusted": true,
        "colab": {
          "base_uri": "https://localhost:8080/"
        },
        "id": "PROcH9Lbwurj",
        "outputId": "82657a72-5706-49b6-d3ba-2c6d3b58d785"
      },
      "source": [
        "label_names = list(source_df.columns[2:])\n",
        "labels_number = len(label_names)\n",
        "print(f'Name of the labels: {label_names}')"
      ],
      "execution_count": 136,
      "outputs": [
        {
          "output_type": "stream",
          "text": [
            "Name of the labels: ['toxic', 'severe_toxic', 'obscene', 'threat', 'insult', 'identity_hate']\n"
          ],
          "name": "stdout"
        }
      ]
    },
    {
      "cell_type": "markdown",
      "metadata": {
        "id": "N3iv97IPwurj"
      },
      "source": [
        "## EDA <a name=\"5\"></a>"
      ]
    },
    {
      "cell_type": "markdown",
      "metadata": {
        "id": "nhFRoFfBOngk"
      },
      "source": [
        "We see the number of comments which are assigned to each category."
      ]
    },
    {
      "cell_type": "code",
      "metadata": {
        "trusted": true,
        "colab": {
          "base_uri": "https://localhost:8080/",
          "height": 559
        },
        "id": "gygppEEMwurk",
        "outputId": "28b04172-46a3-46a9-a1c2-1cc3d5dd745e"
      },
      "source": [
        "sns.set(font_scale = 2)\n",
        "plt.figure(figsize=(12,8))\n",
        "ax= sns.barplot(y=label_names, x=source_df[label_names].sum().values, orient=\"h\")\n",
        "plt.title(\"Comments in each category\", fontsize=24)\n",
        "plt.ylabel('Category', fontsize=18)\n",
        "plt.xlabel('Number of comments', fontsize=18)"
      ],
      "execution_count": 137,
      "outputs": [
        {
          "output_type": "execute_result",
          "data": {
            "text/plain": [
              "Text(0.5, 0, 'Number of comments')"
            ]
          },
          "metadata": {
            "tags": []
          },
          "execution_count": 137
        },
        {
          "output_type": "display_data",
          "data": {
            "image/png": "[encoded data removed]",
            "text/plain": [
              "<Figure size 864x576 with 1 Axes>"
            ]
          },
          "metadata": {
            "tags": []
          }
        }
      ]
    },
    {
      "cell_type": "markdown",
      "metadata": {
        "id": "CXtw0GuvPmgi"
      },
      "source": [
        "The dataset is **imbalanced**. \n",
        "\n",
        "Now, let's see the number of comments that have multiple labels."
      ]
    },
    {
      "cell_type": "code",
      "metadata": {
        "trusted": true,
        "colab": {
          "base_uri": "https://localhost:8080/",
          "height": 396
        },
        "id": "vI53JzEnwurk",
        "outputId": "326efdd9-79d0-4c6d-8fb6-602cf3b0f36d"
      },
      "source": [
        "row_sums = source_df[label_names].sum(axis=1)\n",
        "multiLabel_counts = row_sums.value_counts()\n",
        "sns.set(font_scale = 2)\n",
        "plt.figure(figsize=(10,5))\n",
        "ax = sns.barplot(x=multiLabel_counts.index, y=multiLabel_counts.values)\n",
        "plt.title(\"Comments having multiple labels \")\n",
        "plt.ylabel('Number of comments', fontsize=18)\n",
        "plt.xlabel('Number of labels', fontsize=18)"
      ],
      "execution_count": 138,
      "outputs": [
        {
          "output_type": "execute_result",
          "data": {
            "text/plain": [
              "Text(0.5, 0, 'Number of labels')"
            ]
          },
          "metadata": {
            "tags": []
          },
          "execution_count": 138
        },
        {
          "output_type": "display_data",
          "data": {
            "image/png": "[encoded data removed]",
            "text/plain": [
              "<Figure size 720x360 with 1 Axes>"
            ]
          },
          "metadata": {
            "tags": []
          }
        }
      ]
    },
    {
      "cell_type": "markdown",
      "metadata": {
        "id": "XZwUELWlWAHa"
      },
      "source": [
        "We see the number of words contained in each comment."
      ]
    },
    {
      "cell_type": "code",
      "metadata": {
        "colab": {
          "base_uri": "https://localhost:8080/",
          "height": 578
        },
        "id": "xiis3cUdWEBi",
        "outputId": "09b8879b-ae3b-4c3e-a8be-28d47a23780f"
      },
      "source": [
        "# Get the number of words of each comment\n",
        "words_number = source_df.comment_text.apply(lambda x: len(x.split()))\n",
        "print(f'Statistics:\\n{words_number.describe()}')\n",
        "print('\\nHistogram')\n",
        "plt.figure(figsize=(10,5))\n",
        "sns.histplot(data=words_number, x=words_number)"
      ],
      "execution_count": 139,
      "outputs": [
        {
          "output_type": "stream",
          "text": [
            "Statistics:\n",
            "count    159571.000000\n",
            "mean         67.273527\n",
            "std          99.230702\n",
            "min           1.000000\n",
            "25%          17.000000\n",
            "50%          36.000000\n",
            "75%          75.000000\n",
            "max        1411.000000\n",
            "Name: comment_text, dtype: float64\n",
            "\n",
            "Histogram\n"
          ],
          "name": "stdout"
        },
        {
          "output_type": "execute_result",
          "data": {
            "text/plain": [
              "<matplotlib.axes._subplots.AxesSubplot at 0x7f6affdf65c0>"
            ]
          },
          "metadata": {
            "tags": []
          },
          "execution_count": 139
        },
        {
          "output_type": "display_data",
          "data": {
            "image/png": "[encoded data removed]",
            "text/plain": [
              "<Figure size 720x360 with 1 Axes>"
            ]
          },
          "metadata": {
            "tags": []
          }
        }
      ]
    },
    {
      "cell_type": "markdown",
      "metadata": {
        "id": "Ye_c3RMTwurl"
      },
      "source": [
        "## Data preparation <a name=\"6\"></a>"
      ]
    },
    {
      "cell_type": "code",
      "metadata": {
        "trusted": true,
        "colab": {
          "base_uri": "https://localhost:8080/"
        },
        "id": "sRt-KdBtwurl",
        "outputId": "437752a8-c2f1-4482-d125-8331773046e6"
      },
      "source": [
        "X = source_df.comment_text\n",
        "y = source_df[label_names].values\n",
        "y.shape"
      ],
      "execution_count": 140,
      "outputs": [
        {
          "output_type": "execute_result",
          "data": {
            "text/plain": [
              "(159571, 6)"
            ]
          },
          "metadata": {
            "tags": []
          },
          "execution_count": 140
        }
      ]
    },
    {
      "cell_type": "markdown",
      "metadata": {
        "id": "oiN-djrt1Frf"
      },
      "source": [
        "### Tokenization <a name=\"6.1\"></a>"
      ]
    },
    {
      "cell_type": "code",
      "metadata": {
        "trusted": true,
        "id": "3lv1k5ylwurm"
      },
      "source": [
        "tokenizer = Tokenizer(num_words = MAX_WORDS_NUMBER)\n",
        "tokenizer.fit_on_texts(list(X))"
      ],
      "execution_count": 141,
      "outputs": []
    },
    {
      "cell_type": "code",
      "metadata": {
        "trusted": true,
        "colab": {
          "base_uri": "https://localhost:8080/"
        },
        "id": "L1eISQOdwurm",
        "outputId": "a99ea810-b513-49e1-91fe-d9efe9300143"
      },
      "source": [
        "X_tokenized = tokenizer.texts_to_sequences(X)\n",
        "print(X_tokenized[0])"
      ],
      "execution_count": 142,
      "outputs": [
        {
          "output_type": "stream",
          "text": [
            "[688, 75, 1, 126, 130, 177, 29, 672, 1116, 86, 331, 51, 50, 15, 60, 148, 7, 34, 117, 1221, 4, 45, 59, 244, 1, 365, 31, 1, 38, 27, 143, 73, 89, 985]\n"
          ],
          "name": "stdout"
        }
      ]
    },
    {
      "cell_type": "markdown",
      "metadata": {
        "id": "6t8hh5oB2YIF"
      },
      "source": [
        "### Padding <a name=\"6.2\"></a>"
      ]
    },
    {
      "cell_type": "code",
      "metadata": {
        "trusted": true,
        "colab": {
          "base_uri": "https://localhost:8080/"
        },
        "id": "XysbUfR0wurn",
        "outputId": "9c287eee-3e6b-480b-e867-77128cec2f5b"
      },
      "source": [
        "X_padded = sequence.pad_sequences(X_tokenized, maxlen=MAX_SEQUENCE_LENGTH)\n",
        "print(X_padded[0])"
      ],
      "execution_count": 143,
      "outputs": [
        {
          "output_type": "stream",
          "text": [
            "[   0    0    0    0    0    0    0    0    0    0    0    0    0    0\n",
            "    0    0    0    0    0    0    0    0    0    0    0    0    0    0\n",
            "    0    0    0    0    0    0    0    0    0    0    0    0    0    0\n",
            "    0    0    0    0    0    0    0    0    0    0    0    0    0    0\n",
            "    0    0    0    0    0    0    0    0    0    0    0    0    0    0\n",
            "    0    0    0    0    0    0    0    0    0    0    0    0    0    0\n",
            "    0    0    0    0    0    0    0    0    0    0    0    0    0    0\n",
            "    0    0    0    0    0    0    0    0    0    0    0    0    0    0\n",
            "    0    0    0    0  688   75    1  126  130  177   29  672 1116   86\n",
            "  331   51   50   15   60  148    7   34  117 1221    4   45   59  244\n",
            "    1  365   31    1   38   27  143   73   89  985]\n"
          ],
          "name": "stdout"
        }
      ]
    },
    {
      "cell_type": "markdown",
      "metadata": {
        "id": "TbwJA_2f2cxE"
      },
      "source": [
        "### Split dataset <a name=\"6.3\"></a>"
      ]
    },
    {
      "cell_type": "code",
      "metadata": {
        "trusted": true,
        "id": "Z4y9kBxWwurn"
      },
      "source": [
        "from sklearn.model_selection import train_test_split\n",
        "X_train, X_val, y_train, y_val = train_test_split(\n",
        "     X_padded, y, test_size = 0.2, random_state=1, shuffle=True)"
      ],
      "execution_count": 144,
      "outputs": []
    },
    {
      "cell_type": "markdown",
      "metadata": {
        "id": "vzQHrZh9wurn"
      },
      "source": [
        "## Model <a name=\"7\"></a>"
      ]
    },
    {
      "cell_type": "code",
      "metadata": {
        "id": "zDqIwu8EDeFN"
      },
      "source": [
        "def model():\n",
        "    inputs = Input(shape = (MAX_SEQUENCE_LENGTH, ))\n",
        "    layer = Embedding(MAX_WORDS_NUMBER, EMBEDDING_SIZE)(inputs)\n",
        "    layer = Bidirectional(LSTM(50, return_sequences = True))(layer)\n",
        "    layer = GlobalMaxPool1D()(layer)\n",
        "    layer = Dropout(0.2)(layer)\n",
        "    layer = Dense(50, activation = 'relu')(layer)\n",
        "    layer = Dropout(0.2)(layer)\n",
        "    layer = Dense(labels_number, activation = 'sigmoid')(layer)\n",
        "    model = Model(inputs = inputs, outputs = layer)\n",
        "    \n",
        "    return model"
      ],
      "execution_count": 145,
      "outputs": []
    },
    {
      "cell_type": "markdown",
      "metadata": {
        "id": "u3E-O8RqDfUE"
      },
      "source": [
        "## Loss function <a name=\"8\"></a>"
      ]
    },
    {
      "cell_type": "markdown",
      "metadata": {
        "id": "t9jpiZNsDhQC"
      },
      "source": [
        "We saw previously that the dataset is imbalanced. We are going to build our own binary cross-entropy loss function in which we multiply our weights ourselves. First, we calculate the weights using the [`compute_class_weight`](https://scikit-learn.org/stable/modules/generated/sklearn.utils.class_weight.compute_class_weight.html) Scikit-learn util function."
      ]
    },
    {
      "cell_type": "code",
      "metadata": {
        "colab": {
          "base_uri": "https://localhost:8080/"
        },
        "id": "19cisF-JyPXe",
        "outputId": "0911e970-106c-4e6d-b09a-9793cfe32a8e"
      },
      "source": [
        "def calculate_class_weights(y_true):\n",
        "    number_dim = np.shape(y_true)[1]\n",
        "    weights = np.empty([number_dim, 2])\n",
        "    for i in range(number_dim):\n",
        "        weights[i] = compute_class_weight('balanced', [0,1], y_true[:, i])\n",
        "    return weights\n",
        "class_weights = calculate_class_weights(y_train)\n",
        "class_weights"
      ],
      "execution_count": 146,
      "outputs": [
        {
          "output_type": "execute_result",
          "data": {
            "text/plain": [
              "array([[  0.55279089,   5.23566565],\n",
              "       [  0.50511222,  49.40247678],\n",
              "       [  0.52796665,   9.43921917],\n",
              "       [  0.501481  , 169.30503979],\n",
              "       [  0.52596969,  10.12660638],\n",
              "       [  0.50442163,  57.04021448]])"
            ]
          },
          "metadata": {
            "tags": []
          },
          "execution_count": 146
        }
      ]
    },
    {
      "cell_type": "markdown",
      "metadata": {
        "id": "TtbbFlKNE4cF"
      },
      "source": [
        "We define the custom binary cross-entropy loss function."
      ]
    },
    {
      "cell_type": "code",
      "metadata": {
        "id": "9C55-tSB2kKL"
      },
      "source": [
        "def get_weighted_loss(class_weights):\n",
        "    def weighted_loss(y_true, y_pred):\n",
        "        y_true = tf.cast(y_true, tf.float32)\n",
        "        weights = (class_weights[:,0]**(1-y_true))*(class_weights[:,1]**(y_true))\n",
        "        loss_weighted = mean(weights*binary_crossentropy(y_true, y_pred), axis=-1)\n",
        "        return loss_weighted\n",
        "    return weighted_loss"
      ],
      "execution_count": 147,
      "outputs": []
    },
    {
      "cell_type": "code",
      "metadata": {
        "trusted": true,
        "id": "cZ62noyMwuro"
      },
      "source": [
        "model = model()\n",
        "model.compile(loss=get_weighted_loss(class_weights), optimizer = 'adam', \n",
        "              metrics=[tf.keras.metrics.AUC(multi_label=True)])"
      ],
      "execution_count": 148,
      "outputs": []
    },
    {
      "cell_type": "markdown",
      "metadata": {
        "id": "1cu3pr2ES4ze"
      },
      "source": [
        "## Train model <a name=\"9\"></a>"
      ]
    },
    {
      "cell_type": "code",
      "metadata": {
        "trusted": true,
        "colab": {
          "base_uri": "https://localhost:8080/"
        },
        "id": "Ne1ArR45wuro",
        "outputId": "6eb338f6-eb8d-4ccc-8971-b31f2ab7b2e8"
      },
      "source": [
        "hist = model.fit(X_train, y_train, batch_size = BATCH_SIZE, \n",
        "                 epochs = EPOCHS_NUMBER, \n",
        "                 validation_data = (X_val, y_val))"
      ],
      "execution_count": 149,
      "outputs": [
        {
          "output_type": "stream",
          "text": [
            "Epoch 1/2\n",
            "3990/3990 [==============================] - 79s 19ms/step - loss: 0.3553 - auc_6: 0.9033 - val_loss: 0.2374 - val_auc_6: 0.9658\n",
            "Epoch 2/2\n",
            "3990/3990 [==============================] - 75s 19ms/step - loss: 0.1986 - auc_6: 0.9709 - val_loss: 0.2421 - val_auc_6: 0.9666\n"
          ],
          "name": "stdout"
        }
      ]
    },
    {
      "cell_type": "markdown",
      "metadata": {
        "id": "PExKML_jwurp"
      },
      "source": [
        "## Model evaluation <a name=\"10\"></a>"
      ]
    },
    {
      "cell_type": "code",
      "metadata": {
        "trusted": true,
        "id": "LWhvGAv5wurp"
      },
      "source": [
        "y_val_pred_proba = model.predict(X_val)"
      ],
      "execution_count": 150,
      "outputs": []
    },
    {
      "cell_type": "code",
      "metadata": {
        "colab": {
          "base_uri": "https://localhost:8080/"
        },
        "id": "lHn1iv-GTzkB",
        "outputId": "297c7073-30b9-489d-d60d-1d51d9e3270e"
      },
      "source": [
        "auc = tf.keras.metrics.AUC(multi_label=True)\n",
        "print(f'Macro Auc: {auc(y_val, y_val_pred_proba)}')"
      ],
      "execution_count": 151,
      "outputs": [
        {
          "output_type": "stream",
          "text": [
            "Macro Auc: 0.966592013835907\n"
          ],
          "name": "stdout"
        }
      ]
    },
    {
      "cell_type": "code",
      "metadata": {
        "colab": {
          "base_uri": "https://localhost:8080/"
        },
        "id": "YDp3qCZIxpuM",
        "outputId": "136daa6e-780e-41fd-807f-36acf7f9625a"
      },
      "source": [
        "y_val_pred = np.array([[1 if i > THRESHOLD else 0 for i in j] \n",
        "                       for j in y_val_pred_proba])\n",
        "print('Classification report:\\n'\n",
        "      f'{classification_report(y_val, y_val_pred, zero_division=0)}')\n",
        "confusion_matrices = multilabel_confusion_matrix(y_val, y_val_pred)\n",
        "print(f'Confusion matrices:\\n{confusion_matrices}')"
      ],
      "execution_count": 152,
      "outputs": [
        {
          "output_type": "stream",
          "text": [
            "Classification report:\n",
            "              precision    recall  f1-score   support\n",
            "\n",
            "           0       0.48      0.87      0.62      3103\n",
            "           1       0.14      0.97      0.24       303\n",
            "           2       0.46      0.91      0.61      1687\n",
            "           3       0.04      0.90      0.08       101\n",
            "           4       0.34      0.91      0.50      1574\n",
            "           5       0.07      0.92      0.13       286\n",
            "\n",
            "   micro avg       0.30      0.90      0.44      7054\n",
            "   macro avg       0.26      0.91      0.36      7054\n",
            "weighted avg       0.41      0.90      0.55      7054\n",
            " samples avg       0.04      0.09      0.05      7054\n",
            "\n",
            "Confusion matrices:\n",
            "[[[25900  2912]\n",
            "  [  394  2709]]\n",
            "\n",
            " [[29805  1807]\n",
            "  [   10   293]]\n",
            "\n",
            " [[28415  1813]\n",
            "  [  145  1542]]\n",
            "\n",
            " [[29585  2229]\n",
            "  [   10    91]]\n",
            "\n",
            " [[27589  2752]\n",
            "  [  145  1429]]\n",
            "\n",
            " [[28077  3552]\n",
            "  [   24   262]]]\n"
          ],
          "name": "stdout"
        }
      ]
    },
    {
      "cell_type": "markdown",
      "metadata": {
        "id": "2Wwd9kxhSiR7"
      },
      "source": [
        "Note that the precision score (and hence the f1-score) are affected by the unbalanced evaluation dataset. \n",
        "\n",
        "We can compute the confusion matrices with normalization by class support size (number of elements in each class). This kind of normalization can be interesting in case of class imbalance to have a more visual interpretation of which class is being misclassified."
      ]
    },
    {
      "cell_type": "code",
      "metadata": {
        "colab": {
          "base_uri": "https://localhost:8080/"
        },
        "id": "HnN5qBwiWH_H",
        "outputId": "fff2d197-0f83-4831-afcd-98e19402f1b2"
      },
      "source": [
        "for index, cm in enumerate(confusion_matrices):\n",
        "    cm = cm.astype('float') / cm.sum(axis=1)[:, np.newaxis]\n",
        "    print(f'Confusion matrix normalized for class \"{label_names[index]}\"'\n",
        "          f':\\n{np.round(cm,2)}')\n",
        "    tp_and_fn = cm.sum(1)\n",
        "    tp_and_fp = cm.sum(0)\n",
        "    tp = cm.diagonal()\n",
        "    precision = tp / tp_and_fp\n",
        "    recall = tp / tp_and_fn\n",
        "    f1_score = 2*(precision[1]*recall[1])/(precision[1]+recall[1])\n",
        "    print(f'Precision: {precision[1]:.2f}\\nRecall: {recall[1]:.2f}\\n'\n",
        "          f'F-score: {f1_score:.2f}\\n')"
      ],
      "execution_count": 153,
      "outputs": [
        {
          "output_type": "stream",
          "text": [
            "Confusion matrix normalized for class \"toxic\":\n",
            "[[0.9  0.1 ]\n",
            " [0.13 0.87]]\n",
            "Precision: 0.90\n",
            "Recall: 0.87\n",
            "F-score: 0.88\n",
            "\n",
            "Confusion matrix normalized for class \"severe_toxic\":\n",
            "[[0.94 0.06]\n",
            " [0.03 0.97]]\n",
            "Precision: 0.94\n",
            "Recall: 0.97\n",
            "F-score: 0.96\n",
            "\n",
            "Confusion matrix normalized for class \"obscene\":\n",
            "[[0.94 0.06]\n",
            " [0.09 0.91]]\n",
            "Precision: 0.94\n",
            "Recall: 0.91\n",
            "F-score: 0.93\n",
            "\n",
            "Confusion matrix normalized for class \"threat\":\n",
            "[[0.93 0.07]\n",
            " [0.1  0.9 ]]\n",
            "Precision: 0.93\n",
            "Recall: 0.90\n",
            "F-score: 0.91\n",
            "\n",
            "Confusion matrix normalized for class \"insult\":\n",
            "[[0.91 0.09]\n",
            " [0.09 0.91]]\n",
            "Precision: 0.91\n",
            "Recall: 0.91\n",
            "F-score: 0.91\n",
            "\n",
            "Confusion matrix normalized for class \"identity_hate\":\n",
            "[[0.89 0.11]\n",
            " [0.08 0.92]]\n",
            "Precision: 0.89\n",
            "Recall: 0.92\n",
            "F-score: 0.90\n",
            "\n"
          ],
          "name": "stdout"
        }
      ]
    },
    {
      "cell_type": "markdown",
      "metadata": {
        "id": "Ap3Mmh9CWVNF"
      },
      "source": [
        "## Test model <a name=\"11\"></a>"
      ]
    },
    {
      "cell_type": "code",
      "metadata": {
        "colab": {
          "base_uri": "https://localhost:8080/"
        },
        "id": "LJHNBuSCWbrW",
        "outputId": "c745baa9-7c51-44e6-be1b-44c8533127c6"
      },
      "source": [
        "for index in range(10):\n",
        "\n",
        "    test_comment_tokenized = X_val[index]\n",
        "    test_comment = tokenizer.sequences_to_texts([test_comment_tokenized])[0]\n",
        "    comment_labels = [label_names[i] for i in range(labels_number) if y_val[index][i]]\n",
        "    pred_proba = model.predict(np.expand_dims(test_comment_tokenized, 0))\n",
        "    pred = np.array([1 if i > THRESHOLD else 0 for i in pred_proba[0]])\n",
        "    labels_predicted = [label_names[i] for i in range(labels_number) if pred[i]]\n",
        "    print(f'\\nText of the comment: {test_comment}')\n",
        "    print(f'True labels of the comment: {comment_labels}')\n",
        "    print(f'Predicted labels: {labels_predicted}')"
      ],
      "execution_count": 154,
      "outputs": [
        {
          "output_type": "stream",
          "text": [
            "\n",
            "Text of the comment: you are a fat who has nothing to do on a but wikipedia i hope you under your own\n",
            "True labels of the comment: ['toxic', 'severe_toxic', 'obscene', 'insult']\n",
            "Predicted labels: ['toxic', 'severe_toxic', 'obscene', 'threat', 'insult', 'identity_hate']\n",
            "\n",
            "Text of the comment: i've been that they don't to when another would probably be to use one of the used data in it is also here that we to mention that they are used for down i've sent you proof of that see the discussion page where i quoted the two media article discussing the german on back to 4 05 it to be mentioned in that same that there is reason to believe that there also exist more versions for the use through the military etc which are probably more can be placed and still work without external and have a long life potential abuse of what is said in the box is basically correct could it be re in a way to people's interest rather than a for lack of something along the line that are military style thus hard to anyone from this business having about their should feel to\n",
            "True labels of the comment: []\n",
            "Predicted labels: []\n",
            "\n",
            "Text of the comment: why are my posts being deleted i have tried to make a discussion here and the user keeps them can someone help me i am not allowed to to much he might block me so i have to be careful can someone help me\n",
            "True labels of the comment: []\n",
            "Predicted labels: []\n",
            "\n",
            "Text of the comment: and common sense reading it is highly that anyone editing 9 11 pages do a reading of the and common sense section on this page\n",
            "True labels of the comment: []\n",
            "Predicted labels: []\n",
            "\n",
            "Text of the comment: i do not understand your reply t c\n",
            "True labels of the comment: []\n",
            "Predicted labels: []\n",
            "\n",
            "Text of the comment: is this the world removing content is perfectly fine read the rules\n",
            "True labels of the comment: []\n",
            "Predicted labels: []\n",
            "\n",
            "Text of the comment: well wp rs says that articles should use reliable sources that are independent of the subject i e you can't cite the website of the besides this an article of this length should have more than the three sources that are left feel free to re it when more sources are added thanks talk\n",
            "True labels of the comment: []\n",
            "Predicted labels: []\n",
            "\n",
            "Text of the comment: oh hear me go someone all my pages i get and put down even more for use your common sense you little hitler he every one of my links and i am supposed to be kind to him why what about his nature why none of you have any understanding he goes on my pages my work a of all my pages did them and i am supposed to be kind to him i did not at him am back you are not the police i have right to be back i have not hitler is not a word it refers to law such as park or who go after people with a with no\n",
            "True labels of the comment: []\n",
            "Predicted labels: ['toxic', 'insult']\n",
            "\n",
            "Text of the comment: can't believe this article was deleted i'm surprised you didn't vote keep for this article but then again it was deleted for this reason the article is now protected for being created as there is no verifiable evidence of it in future\n",
            "True labels of the comment: []\n",
            "Predicted labels: []\n",
            "\n",
            "Text of the comment: comments on page your comments in the users involved in off site banned section are disruptive and do not the at a decision if you continue to make comments such as these your in the case may be talk • contribs •\n",
            "True labels of the comment: []\n",
            "Predicted labels: []\n"
          ],
          "name": "stdout"
        }
      ]
    },
    {
      "cell_type": "markdown",
      "metadata": {
        "id": "fEZj9x7gEdxl"
      },
      "source": [
        "## References <a name=\"12\"></a>"
      ]
    },
    {
      "cell_type": "markdown",
      "metadata": {
        "id": "mh8LTZpdEfRP"
      },
      "source": [
        "\n",
        "- [Toxic Comment Classification Challenge](https://www.kaggle.com/c/jigsaw-toxic-comment-classification-challenge)\n",
        "\n",
        "- [Multi-label classification with class weights in keras](https://stackoverflow.com/questions/48485870/multi-label-classification-with-class-weights-in-keras)\n",
        "\n",
        "- [Plot confusion matrix Scikit-learn](https://scikit-learn.org/0.20/auto_examples/model_selection/plot_confusion_matrix.html)"
      ]
    }
  ]
}