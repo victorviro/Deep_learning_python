{
  "nbformat": 4,
  "nbformat_minor": 0,
  "metadata": {
    "colab": {
      "name": "RNNs_long_sequences.ipynb",
      "provenance": [],
      "collapsed_sections": [
        "FN1i2TXmpxEb",
        "7ZjRY3ifLFpE",
        "AC84d0_5a6wh",
        "TxUGc4Ng1Zh8",
        "Zeb1zbWk1HVe",
        "t9OYHl47Ywn3",
        "LohTI4V972Zu",
        "xrfcL0naZw0U",
        "EA00uwNEA0uB",
        "jBW8IYhtBWSy",
        "v4oMXXgOmAW8"
      ],
      "toc_visible": true,
      "authorship_tag": "ABX9TyO5rp/sde+PgLU8AFHvw9ci",
      "include_colab_link": true
    },
    "kernelspec": {
      "name": "python3",
      "display_name": "Python 3"
    },
    "accelerator": "GPU"
  },
  "cells": [
    {
      "cell_type": "markdown",
      "metadata": {
        "id": "view-in-github",
        "colab_type": "text"
      },
      "source": [
        "<a href=\"https://colab.research.google.com/github/victorviro/Deep_learning_python/blob/master/RNNs_long_sequences.ipynb\" target=\"_parent\"><img src=\"https://colab.research.google.com/assets/colab-badge.svg\" alt=\"Open In Colab\"/></a>"
      ]
    },
    {
      "cell_type": "markdown",
      "metadata": {
        "id": "1FwEbi_6apuH"
      },
      "source": [
        "# Handling long sequences with RNNs"
      ]
    },
    {
      "cell_type": "markdown",
      "metadata": {
        "id": "FN1i2TXmpxEb"
      },
      "source": [
        "# Table of contents"
      ]
    },
    {
      "cell_type": "markdown",
      "metadata": {
        "id": "UgNHEGNXp2IA"
      },
      "source": [
        "1. [Introduction](#1)\n",
        "2. [Unstable gradients problem](#2)\n",
        "    1. [Batch normalization](#2.1)\n",
        "    2. [Layer normalization](#2.2)\n",
        "3. [Short-term memory problem](#3)\n",
        "    1. [LSTM cell](#3.1)\n",
        "        1. [LSTM in Keras](#3.1.1)\n",
        "        2. [Peephole connections](#3.1.2)\n",
        "    2. [GRU cell](#3.2)\n",
        "        1. [GRU in Keras](#3.2.1)\n",
        "    3. [1D convolution layer to process sequences](#3.3)\n",
        "    4. [WaveNet](#3.4)\n",
        "4. [References](#4)"
      ]
    },
    {
      "cell_type": "markdown",
      "metadata": {
        "id": "7ZjRY3ifLFpE"
      },
      "source": [
        "# Introduction <a name=\"1\"></a>"
      ]
    },
    {
      "cell_type": "markdown",
      "metadata": {
        "id": "OJpOmP5AaTy0"
      },
      "source": [
        "In a previous notebook, we [introduced Recurrent Neural Networks (RNNs)](https://nbviewer.jupyter.org/github/victorviro/Deep_learning_python/blob/master/Introduction_to_RNNs.ipynb) to handle sequence modeling. To train an RNN on long sequences, we must run it over many time steps, making the unrolled RNN a very deep network. Just like any deep neural network, it may **suffer from the unstable gradient problem** (see notebook  [vanishing/exploding gradient problem](https://nbviewer.jupyter.org/github/victorviro/Deep_learning_python/blob/master/Vanishing_Exploding_gradients_problem_DNNs.ipynb)). Moreover, **when an RNN processes a long sequence, it will gradually forget the first inputs in the sequence**. We will look at both these problems, starting with the unstable gradients problem."
      ]
    },
    {
      "cell_type": "code",
      "metadata": {
        "id": "lJolpbWSo7HO"
      },
      "source": [
        "import numpy as np\n",
        "import matplotlib.pyplot as plt\n",
        "import matplotlib as mpl\n",
        "import tensorflow as tf\n",
        "import keras"
      ],
      "execution_count": null,
      "outputs": []
    },
    {
      "cell_type": "markdown",
      "metadata": {
        "id": "AC84d0_5a6wh"
      },
      "source": [
        "# Fighting the unstable gradients problem <a name=\"2\"></a>"
      ]
    },
    {
      "cell_type": "markdown",
      "metadata": {
        "id": "Qig_9Ym1jyPc"
      },
      "source": [
        "Many of the **tricks we used in deep nets to alleviate the unstable gradients problem can also be used for RNNs**: good **parameter initialization, dropout**, etc. However, **nonsaturating activation functions** (e.g., ReLU) **may not help** as much here; in fact, they may actually lead the RNN to be even more unstable during training. Why? Suppose Gradient Descent updates the weights in a way that increases the outputs slightly at the first time step. Because the same weights are used at every time step, the outputs at the second time step may also be slightly increased, and those at the third, and so on until the outputs explode; and a nonsaturating activation function does not prevent that. We can reduce this risk by using a smaller learning rate, but we can also simply use a saturating activation function like the hyperbolic tangent (this explains why it is the default). In much the same way, the gradients themselves can explode. If we notice that training is unstable, we may monitor the size of the gradients (e.g., using TensorBoard) and perhaps use Gradient Clipping."
      ]
    },
    {
      "cell_type": "markdown",
      "metadata": {
        "id": "TxUGc4Ng1Zh8"
      },
      "source": [
        "## Batch normalization <a name=\"2.1\"></a>"
      ]
    },
    {
      "cell_type": "markdown",
      "metadata": {
        "id": "LE0i237J1bvw"
      },
      "source": [
        "**Batch Normalization cannot be used as efficiently with RNNs** as with deep feedforward nets. In fact, we cannot use it between time steps, only **between recurrent layers**. To be more precise, it is technically possible to add a BN layer to a memory cell so that it will be applied at each time step (both on the inputs for that time step and on the hidden state from the previous step). However, the same BN layer will be used at each time step, with the same parameters, regardless of the actual scale and offset of the inputs and hidden state. In practice, this does not yield good results, as was demonstrated by César Laurent in a [paper](https://arxiv.org/abs/1510.01378) in 2015. The authors found that BN was slightly beneficial only when it was applied to the inputs, not to the hidden states. In other words, it was slightly better than nothing when applied between recurrent layers, but not within recurrent layers. In Keras, this can be done simply by adding a `BatchNormalization` layer before each recurrent layer, but we cannot expect too much from it.\n",
        "\n",
        "To illustrate this we generate 10000 time series through a function previously defined and we want to predict the next 10 values using a sequence-to-sequence model (more details about this task is available in the notebook [Forecasting time series with RNN](https://nbviewer.jupyter.org/github/victorviro/Deep_learning_python/blob/master/Forecasting_a_time_series_with_RNN.ipynb))."
      ]
    },
    {
      "cell_type": "code",
      "metadata": {
        "id": "ijJQPxDMj2Wi"
      },
      "source": [
        "np.random.seed(42)\n",
        "\n",
        "def generate_time_series(batch_size, n_steps):\n",
        "    freq1, freq2, offsets1, offsets2 = np.random.rand(4, batch_size, 1)\n",
        "    time = np.linspace(0, 1, n_steps)\n",
        "    series = 0.5 * np.sin((time - offsets1) * (freq1 * 10 + 10))  #   wave 1\n",
        "    series += 0.2 * np.sin((time - offsets2) * (freq2 * 20 + 20)) # + wave 2\n",
        "    series += 0.1 * (np.random.rand(batch_size, n_steps) - 0.5)   # + noise\n",
        "    return series[..., np.newaxis].astype(np.float32)\n",
        "\n",
        "n_steps = 50\n",
        "series = generate_time_series(10000, n_steps + 10)\n",
        "X_train = series[:7000, :n_steps]\n",
        "X_valid = series[7000:9000, :n_steps]\n",
        "X_test = series[9000:, :n_steps]\n",
        "Y = np.empty((10000, n_steps, 10))\n",
        "for step_ahead in range(1, 10 + 1):\n",
        "    Y[..., step_ahead - 1] = series[..., step_ahead:step_ahead + n_steps, 0]\n",
        "Y_train = Y[:7000]\n",
        "Y_valid = Y[7000:9000]\n",
        "Y_test = Y[9000:]"
      ],
      "execution_count": null,
      "outputs": []
    },
    {
      "cell_type": "code",
      "metadata": {
        "id": "7cwY371rj2nl",
        "colab": {
          "base_uri": "https://localhost:8080/",
          "height": 745
        },
        "outputId": "0aa1c03b-54ce-4783-cf4b-6174266a4e26"
      },
      "source": [
        "np.random.seed(42)\n",
        "tf.random.set_seed(42)\n",
        "\n",
        "model = keras.models.Sequential([\n",
        "    keras.layers.SimpleRNN(20, return_sequences=True, input_shape=[None, 1]),\n",
        "    keras.layers.BatchNormalization(),\n",
        "    keras.layers.SimpleRNN(20, return_sequences=True),\n",
        "    keras.layers.BatchNormalization(),\n",
        "    keras.layers.TimeDistributed(keras.layers.Dense(10))\n",
        "])\n",
        "\n",
        "def last_time_step_mse(Y_true, Y_pred):\n",
        "    return keras.metrics.mean_squared_error(Y_true[:, -1], Y_pred[:, -1])\n",
        "\n",
        "model.compile(loss=\"mse\", optimizer=\"adam\", metrics=[last_time_step_mse])\n",
        "history = model.fit(X_train, Y_train, epochs=20,\n",
        "                    validation_data=(X_valid, Y_valid))"
      ],
      "execution_count": null,
      "outputs": [
        {
          "output_type": "stream",
          "text": [
            "Epoch 1/20\n",
            "219/219 [==============================] - 21s 95ms/step - loss: 0.1929 - last_time_step_mse: 0.1902 - val_loss: 0.0877 - val_last_time_step_mse: 0.0832\n",
            "Epoch 2/20\n",
            "219/219 [==============================] - 21s 94ms/step - loss: 0.0537 - last_time_step_mse: 0.0449 - val_loss: 0.0549 - val_last_time_step_mse: 0.0462\n",
            "Epoch 3/20\n",
            "219/219 [==============================] - 21s 97ms/step - loss: 0.0471 - last_time_step_mse: 0.0375 - val_loss: 0.0451 - val_last_time_step_mse: 0.0358\n",
            "Epoch 4/20\n",
            "219/219 [==============================] - 21s 95ms/step - loss: 0.0437 - last_time_step_mse: 0.0337 - val_loss: 0.0418 - val_last_time_step_mse: 0.0314\n",
            "Epoch 5/20\n",
            "219/219 [==============================] - 21s 98ms/step - loss: 0.0409 - last_time_step_mse: 0.0306 - val_loss: 0.0391 - val_last_time_step_mse: 0.0287\n",
            "Epoch 6/20\n",
            "219/219 [==============================] - 22s 99ms/step - loss: 0.0385 - last_time_step_mse: 0.0275 - val_loss: 0.0379 - val_last_time_step_mse: 0.0273\n",
            "Epoch 7/20\n",
            "219/219 [==============================] - 21s 98ms/step - loss: 0.0366 - last_time_step_mse: 0.0254 - val_loss: 0.0367 - val_last_time_step_mse: 0.0248\n",
            "Epoch 8/20\n",
            "219/219 [==============================] - 22s 99ms/step - loss: 0.0349 - last_time_step_mse: 0.0235 - val_loss: 0.0363 - val_last_time_step_mse: 0.0249\n",
            "Epoch 9/20\n",
            "219/219 [==============================] - 21s 97ms/step - loss: 0.0338 - last_time_step_mse: 0.0221 - val_loss: 0.0332 - val_last_time_step_mse: 0.0208\n",
            "Epoch 10/20\n",
            "219/219 [==============================] - 21s 97ms/step - loss: 0.0329 - last_time_step_mse: 0.0214 - val_loss: 0.0335 - val_last_time_step_mse: 0.0214\n",
            "Epoch 11/20\n",
            "219/219 [==============================] - 22s 98ms/step - loss: 0.0322 - last_time_step_mse: 0.0206 - val_loss: 0.0323 - val_last_time_step_mse: 0.0203\n",
            "Epoch 12/20\n",
            "219/219 [==============================] - 21s 97ms/step - loss: 0.0316 - last_time_step_mse: 0.0198 - val_loss: 0.0333 - val_last_time_step_mse: 0.0210\n",
            "Epoch 13/20\n",
            "219/219 [==============================] - 21s 97ms/step - loss: 0.0310 - last_time_step_mse: 0.0191 - val_loss: 0.0310 - val_last_time_step_mse: 0.0187\n",
            "Epoch 14/20\n",
            "219/219 [==============================] - 22s 98ms/step - loss: 0.0305 - last_time_step_mse: 0.0186 - val_loss: 0.0310 - val_last_time_step_mse: 0.0189\n",
            "Epoch 15/20\n",
            "219/219 [==============================] - 21s 97ms/step - loss: 0.0302 - last_time_step_mse: 0.0182 - val_loss: 0.0298 - val_last_time_step_mse: 0.0178\n",
            "Epoch 16/20\n",
            "219/219 [==============================] - 21s 97ms/step - loss: 0.0296 - last_time_step_mse: 0.0176 - val_loss: 0.0293 - val_last_time_step_mse: 0.0174\n",
            "Epoch 17/20\n",
            "219/219 [==============================] - 21s 96ms/step - loss: 0.0293 - last_time_step_mse: 0.0172 - val_loss: 0.0315 - val_last_time_step_mse: 0.0200\n",
            "Epoch 18/20\n",
            "219/219 [==============================] - 21s 98ms/step - loss: 0.0289 - last_time_step_mse: 0.0168 - val_loss: 0.0295 - val_last_time_step_mse: 0.0174\n",
            "Epoch 19/20\n",
            "219/219 [==============================] - 21s 97ms/step - loss: 0.0286 - last_time_step_mse: 0.0168 - val_loss: 0.0290 - val_last_time_step_mse: 0.0163\n",
            "Epoch 20/20\n",
            "219/219 [==============================] - 22s 101ms/step - loss: 0.0281 - last_time_step_mse: 0.0161 - val_loss: 0.0288 - val_last_time_step_mse: 0.0164\n"
          ],
          "name": "stdout"
        }
      ]
    },
    {
      "cell_type": "markdown",
      "metadata": {
        "id": "Zeb1zbWk1HVe"
      },
      "source": [
        "## Layer normalization <a name=\"2.2\"></a>"
      ]
    },
    {
      "cell_type": "markdown",
      "metadata": {
        "id": "oQHhrOlVa8dY"
      },
      "source": [
        "**Another form of normalization often works better with RNNs**: ***Layer Normalization***. This idea was introduced by Jimmy Lei Ba in a [paper](https://arxiv.org/abs/1607.06450) in 2016: it is very similar to Batch Normalization, but **instead of normalizing across the batch dimension, it normalizes across the features dimension**. One advantage is that it can compute the required statistics on the fly, at each time step, independently for each instance. This also means that it **behaves the same way during training and testing** (as opposed to BN), and it does not need to use exponential moving averages to estimate the feature statistics across all instances in the training set. Like BN, Layer Normalization learns a scale and an offset parameter for each input. In an RNN, it is typically used right after the linear combination of the inputs and the hidden states.\n",
        "\n",
        "Let’s use `tf.keras` to implement Layer Normalization within a simple memory cell. For this, we need to define a custom memory cell. It is just like a regular layer, except its `call()` method takes two arguments: the `inputs` at the current time step and the hidden `states` from the previous time step. Note that the `states` argument is a list containing one or more tensors. In the case of a simple RNN cell, it contains a single tensor equal to the outputs of the previous time step, but other cells may have multiple state tensors (e.g., an `LSTMCell` has a long-term state and a short-term state, as we will see shortly). A cell must also have a `state_size` attribute and an `output_size` attribute. In a simple RNN, both are simply equal to the number of units. The **following code implements a custom memory cell which will behave like a `SimpleRNNCell`, except it will also apply Layer Normalization at each time step**:"
      ]
    },
    {
      "cell_type": "code",
      "metadata": {
        "id": "CXUq-EyR4jpr"
      },
      "source": [
        "class LNSimpleRNNCell(keras.layers.Layer):\n",
        "    def __init__(self, units, activation=\"tanh\", **kwargs):\n",
        "        super().__init__(**kwargs)\n",
        "        self.state_size = units\n",
        "        self.output_size = units\n",
        "        self.simple_rnn_cell = keras.layers.SimpleRNNCell(units,\n",
        "                                                          activation=None)\n",
        "        self.layer_norm = keras.layers.LayerNormalization()\n",
        "        self.activation = keras.activations.get(activation)\n",
        "    def call(self, inputs, states):\n",
        "        outputs, new_states = self.simple_rnn_cell(inputs, states)\n",
        "        norm_outputs = self.activation(self.layer_norm(outputs))\n",
        "        return norm_outputs, [norm_outputs]"
      ],
      "execution_count": null,
      "outputs": []
    },
    {
      "cell_type": "markdown",
      "metadata": {
        "id": "aRJ3d-5ja8gK"
      },
      "source": [
        "The code is quite straightforward. Our `LNSimpleRNNCell` class inherits from the `keras.layers.Layer` class, just like any custom layer. The constructor takes the number of units and the desired activation function, and it sets the `state_size` and `output_size` attributes, then creates a `SimpleRNNCell` with no activation function (because we want to perform Layer Normalization after the linear operation but before the activation function). Then the constructor creates the LayerNormalization layer, and finally, it fetches the desired activation function. The `call()` method starts by applying the simple RNN cell, which computes a linear combination of the current inputs and the previous hidden states, and it returns the result twice (indeed, in a `SimpleRNNCell`, the outputs are just equal to the hidden states: in other words, `new_states[0]` is equal to `outputs`, so we can safely ignore `new_states` in the rest of the `call()` method). Next, the `call()` method applies Layer Normalization, followed by the activation function. Finally, it returns the outputs twice (once as the outputs, and once as the new hidden states). To use this custom cell, all we need to do is create a `keras.layers.RNN` layer, passing it a cell instance:"
      ]
    },
    {
      "cell_type": "code",
      "metadata": {
        "id": "3dFv-REs413K",
        "colab": {
          "base_uri": "https://localhost:8080/",
          "height": 745
        },
        "outputId": "2329aed9-3d15-43b8-8562-3130ddb593a7"
      },
      "source": [
        "np.random.seed(42)\n",
        "tf.random.set_seed(42)\n",
        "\n",
        "model = keras.models.Sequential([\n",
        "    keras.layers.RNN(LNSimpleRNNCell(20), return_sequences=True,\n",
        "                     input_shape=[None, 1]),\n",
        "    keras.layers.RNN(LNSimpleRNNCell(20), return_sequences=True),\n",
        "    keras.layers.TimeDistributed(keras.layers.Dense(10))\n",
        "])\n",
        "\n",
        "model.compile(loss=\"mse\", optimizer=\"adam\", metrics=[last_time_step_mse])\n",
        "history = model.fit(X_train, Y_train, epochs=20,\n",
        "                    validation_data=(X_valid, Y_valid))"
      ],
      "execution_count": null,
      "outputs": [
        {
          "output_type": "stream",
          "text": [
            "Epoch 1/20\n",
            "219/219 [==============================] - 48s 220ms/step - loss: 0.1610 - last_time_step_mse: 0.1604 - val_loss: 0.0707 - val_last_time_step_mse: 0.0643\n",
            "Epoch 2/20\n",
            "219/219 [==============================] - 48s 221ms/step - loss: 0.0630 - last_time_step_mse: 0.0552 - val_loss: 0.0569 - val_last_time_step_mse: 0.0494\n",
            "Epoch 3/20\n",
            "219/219 [==============================] - 48s 220ms/step - loss: 0.0537 - last_time_step_mse: 0.0457 - val_loss: 0.0497 - val_last_time_step_mse: 0.0414\n",
            "Epoch 4/20\n",
            "219/219 [==============================] - 48s 219ms/step - loss: 0.0469 - last_time_step_mse: 0.0379 - val_loss: 0.0438 - val_last_time_step_mse: 0.0344\n",
            "Epoch 5/20\n",
            "219/219 [==============================] - 48s 220ms/step - loss: 0.0421 - last_time_step_mse: 0.0323 - val_loss: 0.0400 - val_last_time_step_mse: 0.0301\n",
            "Epoch 6/20\n",
            "219/219 [==============================] - 48s 219ms/step - loss: 0.0387 - last_time_step_mse: 0.0282 - val_loss: 0.0372 - val_last_time_step_mse: 0.0258\n",
            "Epoch 7/20\n",
            "219/219 [==============================] - 48s 219ms/step - loss: 0.0364 - last_time_step_mse: 0.0253 - val_loss: 0.0352 - val_last_time_step_mse: 0.0240\n",
            "Epoch 8/20\n",
            "219/219 [==============================] - 48s 217ms/step - loss: 0.0347 - last_time_step_mse: 0.0233 - val_loss: 0.0340 - val_last_time_step_mse: 0.0223\n",
            "Epoch 9/20\n",
            "219/219 [==============================] - 48s 219ms/step - loss: 0.0335 - last_time_step_mse: 0.0219 - val_loss: 0.0330 - val_last_time_step_mse: 0.0221\n",
            "Epoch 10/20\n",
            "219/219 [==============================] - 48s 218ms/step - loss: 0.0329 - last_time_step_mse: 0.0215 - val_loss: 0.0318 - val_last_time_step_mse: 0.0200\n",
            "Epoch 11/20\n",
            "219/219 [==============================] - 48s 220ms/step - loss: 0.0319 - last_time_step_mse: 0.0203 - val_loss: 0.0309 - val_last_time_step_mse: 0.0190\n",
            "Epoch 12/20\n",
            "219/219 [==============================] - 48s 218ms/step - loss: 0.0313 - last_time_step_mse: 0.0196 - val_loss: 0.0306 - val_last_time_step_mse: 0.0191\n",
            "Epoch 13/20\n",
            "219/219 [==============================] - 48s 220ms/step - loss: 0.0309 - last_time_step_mse: 0.0192 - val_loss: 0.0301 - val_last_time_step_mse: 0.0183\n",
            "Epoch 14/20\n",
            "219/219 [==============================] - 48s 219ms/step - loss: 0.0305 - last_time_step_mse: 0.0189 - val_loss: 0.0314 - val_last_time_step_mse: 0.0198\n",
            "Epoch 15/20\n",
            "219/219 [==============================] - 48s 220ms/step - loss: 0.0302 - last_time_step_mse: 0.0185 - val_loss: 0.0296 - val_last_time_step_mse: 0.0178\n",
            "Epoch 16/20\n",
            "219/219 [==============================] - 48s 219ms/step - loss: 0.0299 - last_time_step_mse: 0.0183 - val_loss: 0.0291 - val_last_time_step_mse: 0.0179\n",
            "Epoch 17/20\n",
            "219/219 [==============================] - 48s 219ms/step - loss: 0.0296 - last_time_step_mse: 0.0180 - val_loss: 0.0291 - val_last_time_step_mse: 0.0176\n",
            "Epoch 18/20\n",
            "219/219 [==============================] - 48s 219ms/step - loss: 0.0292 - last_time_step_mse: 0.0175 - val_loss: 0.0287 - val_last_time_step_mse: 0.0163\n",
            "Epoch 19/20\n",
            "219/219 [==============================] - 48s 217ms/step - loss: 0.0289 - last_time_step_mse: 0.0171 - val_loss: 0.0282 - val_last_time_step_mse: 0.0159\n",
            "Epoch 20/20\n",
            "219/219 [==============================] - 48s 221ms/step - loss: 0.0286 - last_time_step_mse: 0.0169 - val_loss: 0.0279 - val_last_time_step_mse: 0.0153\n"
          ],
          "name": "stdout"
        }
      ]
    },
    {
      "cell_type": "markdown",
      "metadata": {
        "id": "jj4jOy3_a8iw"
      },
      "source": [
        "Similarly, we could create a custom cell to apply dropout between each time step. But there’s a simpler way: all recurrent layers (except for `keras.layers.RNN`) and all cells provided by Keras have a `dropout` hyperparameter and a `recurrent_dropout` hyperparameter: the former defines the dropout rate to apply to the inputs (at each time step), and the latter defines the dropout rate for the hidden states (also at each time step). No need to create a custom cell to apply dropout at each time step in an RNN.\n",
        "\n",
        "With these techniques, we can alleviate the unstable gradients problem and train an RNN much more efficiently. Now let’s look at how to deal with the short-term memory problem."
      ]
    },
    {
      "cell_type": "markdown",
      "metadata": {
        "id": "-zLUd0xcrC-W"
      },
      "source": [
        "# Tackling the short-term memory problem <a name=\"3\"></a>"
      ]
    },
    {
      "cell_type": "markdown",
      "metadata": {
        "id": "zzENDGujrGX4"
      },
      "source": [
        "Due to the transformations that the data goes through when traversing an RNN, **some information is lost at each time step caused by the vanishing gradient problem**. After a while, the RNN’s state contains virtually no trace of the first inputs. This can be a showstopper. **Imagine the task of translating a long sentence**; by the time it has finished reading it, it has no clue how it started. To tackle this problem, various more **complex recurrent units** have been introduced. These recurrent units, known as ***gated cells*** can more effectively **track long term dependencies** in the data by **controlling what information is passed through and what information is used to update its internal state**. Let’s first look at the most popular of these long-term memory cells: the LSTM cell."
      ]
    },
    {
      "cell_type": "markdown",
      "metadata": {
        "id": "dMQQ1dkFrIlW"
      },
      "source": [
        "## LSTM cells <a name=\"3.1\"></a>"
      ]
    },
    {
      "cell_type": "markdown",
      "metadata": {
        "id": "oAO-tdZXrNe2"
      },
      "source": [
        "The ***Long Short-Term Memory (LSTM)*** cell was proposed in 1997 by Sepp Hochreiter and Jürgen Schmidhuber and gradually improved over the years by several researchers. The LSTM cell can be used very much like a basic cell, except it will **perform much better; training will converge faster, and it will detect long-term dependencies in the data**. \n",
        "\n",
        "So how does an LSTM cell work? We already saw how a standard recurrent neural network works (see notebook [Introduction to Recurrent Neural Networks](https://nbviewer.jupyter.org/github/victorviro/Deep_learning_python/blob/master/Introduction_to_RNNs.ipynb)). The cell state $\\boldsymbol{h}_{(t)}$ is a function of the previous cell state $\\boldsymbol{h}_{(t-1)}$ as well as the current input $\\boldsymbol{x}_{(t)}$. At each time step, we can also generate an output $\\boldsymbol{y}_{(t)}$. The next figure is a representation of a basic RNN cell where the inner functions of the RNN are defined by the black lines that depict how information is flowing within the RNN cell.\n",
        "\n",
        "![](https://i.ibb.co/VwmWKq6/RNN.png)\n",
        "\n",
        "The LSTM cell looks exactly like a regular cell, except that **its state is split into two vectors**: $\\boldsymbol{h}_{(t)}$ and $\\boldsymbol{c}_{(t)}$ (\"c\" stands for \"cell\"). We can think of $\\boldsymbol{h}_{(t)}$ as the **short-term state** and $\\boldsymbol{c}_{(t)}$ as the **long-term state**. The **cell** also **contains** different **layers** that interact **to** selectively **control the flow of information within the cell**.\n",
        "\n",
        "![texto alternativo](https://i.ibb.co/Qkr1xD8/lstm-cell.png)"
      ]
    },
    {
      "cell_type": "markdown",
      "metadata": {
        "id": "kCx0__YrrRts"
      },
      "source": [
        "The key **idea** is that the network can **learn what to store in the long-term state, what to throw away, and what to read from it**. As **the long-term state $\\boldsymbol{c}_{(t-1)}$** traverses the network from left to right, we can see that it **first goes through a** ***forget gate***, **dropping some memories, and then it adds some new memories via the addition operation** (which adds the memories that were selected by an input gate). The result $\\boldsymbol{c}_{(t)}$\n",
        "is sent straight out, without any further transformation. **That is, at each time step, some memories are dropped and some memories are added**. Moreover, after the addition operation, the **long-term state is copied** and passed through the tanh function, **and** then the result is **filtered by the** ***output gate***. **This produces the short-term state** $\\boldsymbol{h}_{(t)}$ (which is **equal to the cell’s output** for this time step, $\\boldsymbol{y}_{(t)}$). Let’s look at where new memories come from and **how the gates work**.\n",
        "\n",
        "First, the **current input vector** $\\boldsymbol{x}_{(t)}$ **and the previous short-term state** $\\boldsymbol{h}_{(t-1)}$ **are fed to four different fully connected layers**. They all serve a different purpose:\n",
        "\n",
        "- The **main layer** is the one that **outputs** $\\boldsymbol{g}_{(t)}$. It has the usual role of analyzing the current inputs $\\boldsymbol{x}_{(t)}$ and the previous (short-term) state $\\boldsymbol{h}_{(t-1)}$. In a basic cell, there is nothing other than this layer, and its output goes straight out to $\\boldsymbol{y}_{(t)}$ and $\\boldsymbol{h}_{(t)}$. In contrast, in an LSTM cell, this layer’s output does not go straight out, but instead **its most important parts are stored in the long-term state (and the rest is dropped)**.\n",
        "\n",
        "- The three **other layers** are ***gate controllers***. Since they use the **logistic activation** function, their **outputs range from 0 to 1**. Their outputs are fed to element-wise multiplication operations, so if they output 0s they close the gate, and if they output 1s they open it. Specifically:\n",
        "\n",
        " - The ***forget gate*** (controlled by $\\boldsymbol{f}_{(t)}$) **controls which parts of the long-term state should be erased**.\n",
        "\n",
        " - The ***input gate*** (controlled by $\\boldsymbol{i}_{(t)}$) **controls which parts of $\\boldsymbol{g}_{(t)}$ should be added to the long-term state**.\n",
        "\n",
        " - Finally, the ***output gate*** (controlled by $\\boldsymbol{o}_{(t)}$) **controls which parts of the long-term state should be read and output at this time step**, both to $\\boldsymbol{h}_{(t)}$ and to $\\boldsymbol{y}_{(t)}$.\n",
        "\n",
        "**In short, an LSTM cell can learn to recognize an important input (that’s the role of the input gate), store it in the long-term state, preserve it for as long as it is needed (that’s the role of the forget gate), and extract it whenever it is needed**. This explains why these cells have been amazingly successful at capturing long-term patterns in time series, long texts, audio recordings, and more.\n",
        "\n",
        "The next **equations** summarize how to compute the cell’s long-term state, its short-term state, and its output at each time step for a single instance (the equations for a whole mini-batch are very similar).\n",
        "\n",
        "\\begin{cases}\n",
        "\\boldsymbol{i}_{(t)} = \\sigma(\\boldsymbol{W}_{xi}^T\\boldsymbol{x}_{(t)}+\\boldsymbol{W}_{hi}^T\\boldsymbol{h}_{(t-1)}+\\boldsymbol{b}_{i})\\\\\\\\\n",
        "\\boldsymbol{f}_{(t)} = \\sigma(\\boldsymbol{W}_{xf}^T\\boldsymbol{x}_{(t)}+\\boldsymbol{W}_{hf}^T\\boldsymbol{h}_{(t-1)}+\\boldsymbol{b}_{f})\\\\\\\\\n",
        "\\boldsymbol{o}_{(t)} = \\sigma(\\boldsymbol{W}_{xo}^T\\boldsymbol{x}_{(t)}+\\boldsymbol{W}_{ho}^T\\boldsymbol{h}_{(t-1)}+\\boldsymbol{b}_{o})\\\\\\\\\n",
        "\\boldsymbol{g}_{(t)} = \\text{tanh}(\\boldsymbol{W}_{xg}^T\\boldsymbol{x}_{(t)}+\\boldsymbol{W}_{hg}^T\\boldsymbol{h}_{(t-1)}+\\boldsymbol{b}_{g})\\\\\\\\\n",
        "\\boldsymbol{c}_{(t)} = \\boldsymbol{f}_{(t)} \\otimes \\boldsymbol{c}_{(t-1)} +  \\boldsymbol{i}_{(t)} \\otimes \\boldsymbol{g}_{(t)}\\\\\\\\\n",
        "\\boldsymbol{y}_{(t)} = \\boldsymbol{h}_{(t)} = \\boldsymbol{o}_{(t)} \\otimes \\text{tanh}(\\boldsymbol{c}_{(t)})\\\\\n",
        "\\end{cases}\n",
        "\n",
        "where\n",
        "\n",
        "- $\\boldsymbol{W}_{xi}$, $\\boldsymbol{W}_{xf}$, $\\boldsymbol{W}_{xo}$ and $\\boldsymbol{W}_{xg}$  are the weight matrices of each of the four layers for their connection to the input vector $\\boldsymbol{x}_{(t)}$.\n",
        "\n",
        "- $\\boldsymbol{W}_{hi}$, $\\boldsymbol{W}_{hf}$, $\\boldsymbol{W}_{ho}$ and $\\boldsymbol{W}_{hg}$ are the weight matrices of each of the four layers for their connection to the previous short-term state $\\boldsymbol{h}_{(t-1)}$.\n",
        "\n",
        "- $\\boldsymbol{b}_{i}$, $\\boldsymbol{b}_{f}$, $\\boldsymbol{b}_{o}$ and $\\boldsymbol{b}_{g}$ are the bias terms for each of the four layers. Note that TensorFlow initializes $\\boldsymbol{b}_{f}$ to a vector full of 1s instead of 0s. This prevents forgetting everything at the beginning of training.\n",
        "\n",
        "A further explanation of how this cell works is available in this [article](http://colah.github.io/posts/2015-08-Understanding-LSTMs/)."
      ]
    },
    {
      "cell_type": "markdown",
      "metadata": {
        "id": "t9OYHl47Ywn3"
      },
      "source": [
        "### LSTM in Keras <a name=\"3.1.1\"></a>"
      ]
    },
    {
      "cell_type": "markdown",
      "metadata": {
        "id": "exSUQffkYyiM"
      },
      "source": [
        "In Keras, we can simply use the `LSTM` layer instead of the `SimpleRNN` layer:"
      ]
    },
    {
      "cell_type": "code",
      "metadata": {
        "colab": {
          "base_uri": "https://localhost:8080/",
          "height": 745
        },
        "id": "a-eODt5OY9hW",
        "outputId": "c2d8ca75-9c1c-46ca-d12d-75f2d6df8304"
      },
      "source": [
        "np.random.seed(42)\n",
        "tf.random.set_seed(42)\n",
        "\n",
        "model = keras.models.Sequential([\n",
        "    keras.layers.LSTM(20, return_sequences=True, input_shape=[None, 1]),\n",
        "    keras.layers.LSTM(20, return_sequences=True),\n",
        "    keras.layers.TimeDistributed(keras.layers.Dense(10))\n",
        "])\n",
        "\n",
        "model.compile(loss=\"mse\", optimizer=\"adam\", metrics=[last_time_step_mse])\n",
        "history = model.fit(X_train, Y_train, epochs=20,\n",
        "                    validation_data=(X_valid, Y_valid))"
      ],
      "execution_count": null,
      "outputs": [
        {
          "output_type": "stream",
          "text": [
            "Epoch 1/20\n",
            "219/219 [==============================] - 5s 25ms/step - loss: 0.0760 - last_time_step_mse: 0.0615 - val_loss: 0.0554 - val_last_time_step_mse: 0.0364\n",
            "Epoch 2/20\n",
            "219/219 [==============================] - 5s 21ms/step - loss: 0.0480 - last_time_step_mse: 0.0283 - val_loss: 0.0427 - val_last_time_step_mse: 0.0222\n",
            "Epoch 3/20\n",
            "219/219 [==============================] - 5s 21ms/step - loss: 0.0391 - last_time_step_mse: 0.0181 - val_loss: 0.0367 - val_last_time_step_mse: 0.0157\n",
            "Epoch 4/20\n",
            "219/219 [==============================] - 5s 22ms/step - loss: 0.0350 - last_time_step_mse: 0.0151 - val_loss: 0.0334 - val_last_time_step_mse: 0.0132\n",
            "Epoch 5/20\n",
            "219/219 [==============================] - 5s 22ms/step - loss: 0.0325 - last_time_step_mse: 0.0133 - val_loss: 0.0314 - val_last_time_step_mse: 0.0121\n",
            "Epoch 6/20\n",
            "219/219 [==============================] - 5s 22ms/step - loss: 0.0308 - last_time_step_mse: 0.0122 - val_loss: 0.0298 - val_last_time_step_mse: 0.0112\n",
            "Epoch 7/20\n",
            "219/219 [==============================] - 5s 21ms/step - loss: 0.0297 - last_time_step_mse: 0.0118 - val_loss: 0.0291 - val_last_time_step_mse: 0.0120\n",
            "Epoch 8/20\n",
            "219/219 [==============================] - 5s 21ms/step - loss: 0.0286 - last_time_step_mse: 0.0109 - val_loss: 0.0278 - val_last_time_step_mse: 0.0099\n",
            "Epoch 9/20\n",
            "219/219 [==============================] - 5s 21ms/step - loss: 0.0280 - last_time_step_mse: 0.0108 - val_loss: 0.0278 - val_last_time_step_mse: 0.0113\n",
            "Epoch 10/20\n",
            "219/219 [==============================] - 5s 21ms/step - loss: 0.0273 - last_time_step_mse: 0.0105 - val_loss: 0.0268 - val_last_time_step_mse: 0.0101\n",
            "Epoch 11/20\n",
            "219/219 [==============================] - 5s 22ms/step - loss: 0.0269 - last_time_step_mse: 0.0102 - val_loss: 0.0263 - val_last_time_step_mse: 0.0096\n",
            "Epoch 12/20\n",
            "219/219 [==============================] - 5s 21ms/step - loss: 0.0264 - last_time_step_mse: 0.0101 - val_loss: 0.0263 - val_last_time_step_mse: 0.0105\n",
            "Epoch 13/20\n",
            "219/219 [==============================] - 5s 22ms/step - loss: 0.0259 - last_time_step_mse: 0.0097 - val_loss: 0.0257 - val_last_time_step_mse: 0.0100\n",
            "Epoch 14/20\n",
            "219/219 [==============================] - 5s 22ms/step - loss: 0.0257 - last_time_step_mse: 0.0096 - val_loss: 0.0252 - val_last_time_step_mse: 0.0091\n",
            "Epoch 15/20\n",
            "219/219 [==============================] - 5s 21ms/step - loss: 0.0253 - last_time_step_mse: 0.0095 - val_loss: 0.0251 - val_last_time_step_mse: 0.0092\n",
            "Epoch 16/20\n",
            "219/219 [==============================] - 5s 22ms/step - loss: 0.0251 - last_time_step_mse: 0.0095 - val_loss: 0.0248 - val_last_time_step_mse: 0.0089\n",
            "Epoch 17/20\n",
            "219/219 [==============================] - 5s 22ms/step - loss: 0.0248 - last_time_step_mse: 0.0094 - val_loss: 0.0248 - val_last_time_step_mse: 0.0098\n",
            "Epoch 18/20\n",
            "219/219 [==============================] - 5s 22ms/step - loss: 0.0245 - last_time_step_mse: 0.0093 - val_loss: 0.0246 - val_last_time_step_mse: 0.0091\n",
            "Epoch 19/20\n",
            "219/219 [==============================] - 5s 22ms/step - loss: 0.0242 - last_time_step_mse: 0.0091 - val_loss: 0.0238 - val_last_time_step_mse: 0.0085\n",
            "Epoch 20/20\n",
            "219/219 [==============================] - 5s 22ms/step - loss: 0.0239 - last_time_step_mse: 0.0089 - val_loss: 0.0238 - val_last_time_step_mse: 0.0086\n"
          ],
          "name": "stdout"
        }
      ]
    },
    {
      "cell_type": "code",
      "metadata": {
        "colab": {
          "base_uri": "https://localhost:8080/",
          "height": 54
        },
        "id": "IdZpuC7IY9hk",
        "outputId": "a81b0eb9-85d7-4ec5-f606-6edc6d0e32a3"
      },
      "source": [
        "model.evaluate(X_valid, Y_valid)"
      ],
      "execution_count": null,
      "outputs": [
        {
          "output_type": "stream",
          "text": [
            "63/63 [==============================] - 1s 8ms/step - loss: 0.0238 - last_time_step_mse: 0.0086\n"
          ],
          "name": "stdout"
        },
        {
          "output_type": "execute_result",
          "data": {
            "text/plain": [
              "[0.02378869242966175, 0.008560811169445515]"
            ]
          },
          "metadata": {
            "tags": []
          },
          "execution_count": 9
        }
      ]
    },
    {
      "cell_type": "code",
      "metadata": {
        "colab": {
          "base_uri": "https://localhost:8080/",
          "height": 283
        },
        "id": "8JDYtXApY9hl",
        "outputId": "836c1a18-5e26-4f73-b53c-b65257fe6f1b"
      },
      "source": [
        "\n",
        "def plot_learning_curves(loss, val_loss):\n",
        "    plt.plot(np.arange(len(loss)) + 0.5, loss, \"b.-\", label=\"Training loss\")\n",
        "    plt.plot(np.arange(len(val_loss)) + 1, val_loss, \"r.-\", label=\"Validation loss\")\n",
        "    plt.gca().xaxis.set_major_locator(mpl.ticker.MaxNLocator(integer=True))\n",
        "    plt.axis([1, 20, 0, 0.05])\n",
        "    plt.legend(fontsize=14)\n",
        "    plt.xlabel(\"Epochs\")\n",
        "    plt.ylabel(\"Loss\")\n",
        "    plt.grid(True)\n",
        "\n",
        "plot_learning_curves(history.history[\"loss\"], history.history[\"val_loss\"])\n",
        "plt.show()"
      ],
      "execution_count": null,
      "outputs": [
        {
          "output_type": "display_data",
          "data": {
            "image/png": "[encoded data removed]",
            "text/plain": [
              "<Figure size 432x288 with 1 Axes>"
            ]
          },
          "metadata": {
            "tags": [],
            "needs_background": "light"
          }
        }
      ]
    },
    {
      "cell_type": "code",
      "metadata": {
        "id": "Rt1JL4sKY9hl"
      },
      "source": [
        "np.random.seed(43)\n",
        "\n",
        "series = generate_time_series(1, 50 + 10)\n",
        "X_new, Y_new = series[:, :50, :], series[:, 50:, :]\n",
        "Y_pred = model.predict(X_new)[:, -1][..., np.newaxis]"
      ],
      "execution_count": null,
      "outputs": []
    },
    {
      "cell_type": "code",
      "metadata": {
        "colab": {
          "base_uri": "https://localhost:8080/",
          "height": 289
        },
        "id": "1a_c2xlvY9hm",
        "outputId": "de059563-384c-4280-a058-594deb878a89"
      },
      "source": [
        "def plot_series(series, y=None, y_pred=None, x_label=\"$t$\", y_label=\"$x(t)$\"):\n",
        "    plt.plot(series, \".-\")\n",
        "    if y is not None:\n",
        "        plt.plot(n_steps, y, \"bx\", markersize=10)\n",
        "    if y_pred is not None:\n",
        "        plt.plot(n_steps, y_pred, \"ro\")\n",
        "    plt.grid(True)\n",
        "    if x_label:\n",
        "        plt.xlabel(x_label, fontsize=16)\n",
        "    if y_label:\n",
        "        plt.ylabel(y_label, fontsize=16, rotation=0)\n",
        "    plt.hlines(0, 0, 100, linewidth=1)\n",
        "    plt.axis([0, n_steps + 1, -1, 1])\n",
        "    \n",
        "def plot_multiple_forecasts(X, Y, Y_pred):\n",
        "    n_steps = X.shape[1]\n",
        "    ahead = Y.shape[1]\n",
        "    plot_series(X[0, :, 0])\n",
        "    plt.plot(np.arange(n_steps, n_steps + ahead), Y[0, :, 0], \"ro-\", label=\"Actual\")\n",
        "    plt.plot(np.arange(n_steps, n_steps + ahead), Y_pred[0, :, 0], \"bx-\", label=\"Forecast\", markersize=10)\n",
        "    plt.axis([0, n_steps + ahead, -1, 1])\n",
        "    plt.legend(fontsize=14)\n",
        "\n",
        "plot_multiple_forecasts(X_new, Y_new, Y_pred)\n",
        "plt.show()"
      ],
      "execution_count": null,
      "outputs": [
        {
          "output_type": "display_data",
          "data": {
            "image/png": "[encoded data removed]",
            "text/plain": [
              "<Figure size 432x288 with 1 Axes>"
            ]
          },
          "metadata": {
            "tags": [],
            "needs_background": "light"
          }
        }
      ]
    },
    {
      "cell_type": "markdown",
      "metadata": {
        "id": "LohTI4V972Zu"
      },
      "source": [
        "### Peephole connections <a name=\"3.1.2\"></a>"
      ]
    },
    {
      "cell_type": "markdown",
      "metadata": {
        "id": "iebdDb9573h9"
      },
      "source": [
        "**In a regular LSTM cell, the gate controllers can look only at the input $\\boldsymbol{x}_{(t)}$ and the previous short-term state $\\boldsymbol{h}_{(t-1)}$**. It may be a good idea to give them a bit more context by letting them **look at the long-term state as well**. This idea was proposed by Gers and Schmidhuber in 2000. They proposed an LSTM variant with extra connections called ***peephole connections***: the previous long-term state $\\boldsymbol{c}_{(t-1)}$\n",
        "is added as an input to the controllers of the forget gate and the input gate, and the current long-term state $\\boldsymbol{c}_{(t)}$ is added as an input to the controller of the output gate. This often improves performance, but not always, and there is no clear pattern for which tasks are better off with or without them: we will have to try it on your task and see if it helps.\n",
        "\n",
        "In Keras, the LSTM layer is based on the `keras.layers.LSTMCell` cell, which does not support peepholes. The experimental `tf.keras.experimental.PeepholeLSTMCell` does, so we can create a `keras.layers.RNN` layer and pass a `PeepholeLSTMCell` to its constructor."
      ]
    },
    {
      "cell_type": "markdown",
      "metadata": {
        "id": "6lqVHLmY73zR"
      },
      "source": [
        "## GRU cells <a name=\"3.2\"></a>"
      ]
    },
    {
      "cell_type": "markdown",
      "metadata": {
        "id": "OSjmJ68N-r_M"
      },
      "source": [
        "One popular **variant of the LSTM cell** is the GRU cell. The ***Gated Recurrent Unit (GRU)*** cell was proposed in 2014 in a [paper](https://arxiv.org/abs/1406.1078) that also introduced the Encoder-Decoder network.\n",
        "\n",
        "![texto alternativo](https://i.ibb.co/mJ92Hjw/GRU-cell-2.png)"
      ]
    },
    {
      "cell_type": "markdown",
      "metadata": {
        "id": "BFPhw9YO-w1E"
      },
      "source": [
        "The GRU cell is a **simplified version of the LSTM cell**, and it seems to **perform just as well** (which explains its growing popularity). These are the main **simplifications**:\n",
        "\n",
        "- **Both state vectors are merged into a single vector** $\\boldsymbol{h}_{(t)}$.\n",
        "\n",
        "- **A single gate controller $\\boldsymbol{z}_{(t)}$ controls both the forget gate and the input gate**. If the gate controller outputs a 1, the forget gate is open (= 1) and the input gate is closed (1 – 1 = 0). If it outputs a 0, the opposite happens. In other words, whenever a memory must be stored, the location where it will be stored is erased first.\n",
        "\n",
        "- There is no output gate; the full state vector is output at every time step. However, **there is a new gate controller $\\boldsymbol{r}_{(t)}$ that controls which part of the previous state will be shown to the main layer** $(\\boldsymbol{g}_{(t)})$.\n",
        "\n",
        "The next equation summarizes how to compute the cell’s state at each time step for a single instance.\n",
        "\n",
        "\\begin{cases}\n",
        "\\boldsymbol{z}_{(t)} = \\sigma(\\boldsymbol{W}_{xz}^T\\boldsymbol{x}_{(t)}+\\boldsymbol{W}_{hz}^T\\boldsymbol{h}_{(t-1)}+\\boldsymbol{b}_{z})\\\\\\\\\n",
        "\\boldsymbol{r}_{(t)} = \\sigma(\\boldsymbol{W}_{xr}^T\\boldsymbol{x}_{(t)}+\\boldsymbol{W}_{hr}^T\\boldsymbol{h}_{(t-1)}+\\boldsymbol{b}_{r})\\\\\\\\\n",
        "\\boldsymbol{g}_{(t)} = \\text{tanh}(\\boldsymbol{W}_{xg}^T\\boldsymbol{x}_{(t)}+\\boldsymbol{W}_{hg}^T(\\boldsymbol{r}_{(t)} \\otimes \\boldsymbol{h}_{(t-1)})+\\boldsymbol{b}_{g})\\\\\\\\\n",
        "\\boldsymbol{h}_{(t)} = \\boldsymbol{z}_{(t)} \\otimes \\boldsymbol{h}_{(t-1)} +  (1-\\boldsymbol{z}_{(t)}) \\otimes  \\boldsymbol{g}_{(t)}\\\\\n",
        "\\end{cases}"
      ]
    },
    {
      "cell_type": "markdown",
      "metadata": {
        "id": "xrfcL0naZw0U"
      },
      "source": [
        "### GRU in Keras <a name=\"3.2.1\"></a>"
      ]
    },
    {
      "cell_type": "markdown",
      "metadata": {
        "id": "bZ9zCPKpAxLe"
      },
      "source": [
        "Keras provides a `keras.layers.GRU` layer (based on the `keras.layers.GRUCell` memory cell); using it is just a matter of replacing `SimpleRNN` or `LSTM` with `GRU`.\n",
        "\n"
      ]
    },
    {
      "cell_type": "code",
      "metadata": {
        "id": "5hNZBY0nAyXX",
        "colab": {
          "base_uri": "https://localhost:8080/",
          "height": 726
        },
        "outputId": "118f3cb5-2f94-4322-fc95-ca0142e0e03d"
      },
      "source": [
        "np.random.seed(42)\n",
        "tf.random.set_seed(42)\n",
        "\n",
        "model = keras.models.Sequential([\n",
        "    keras.layers.GRU(20, return_sequences=True, input_shape=[None, 1]),\n",
        "    keras.layers.GRU(20, return_sequences=True),\n",
        "    keras.layers.TimeDistributed(keras.layers.Dense(10))\n",
        "])\n",
        "\n",
        "model.compile(loss=\"mse\", optimizer=\"adam\", metrics=[last_time_step_mse])\n",
        "history = model.fit(X_train, Y_train, epochs=20,\n",
        "                    validation_data=(X_valid, Y_valid))"
      ],
      "execution_count": null,
      "outputs": [
        {
          "output_type": "stream",
          "text": [
            "219/219 [==============================] - 5s 24ms/step - loss: 0.0738 - last_time_step_mse: 0.0655 - val_loss: 0.0538 - val_last_time_step_mse: 0.0450\n",
            "Epoch 2/20\n",
            "219/219 [==============================] - 5s 21ms/step - loss: 0.0476 - last_time_step_mse: 0.0367 - val_loss: 0.0441 - val_last_time_step_mse: 0.0326\n",
            "Epoch 3/20\n",
            "219/219 [==============================] - 5s 21ms/step - loss: 0.0417 - last_time_step_mse: 0.0301 - val_loss: 0.0390 - val_last_time_step_mse: 0.0275\n",
            "Epoch 4/20\n",
            "219/219 [==============================] - 5s 21ms/step - loss: 0.0368 - last_time_step_mse: 0.0243 - val_loss: 0.0339 - val_last_time_step_mse: 0.0202\n",
            "Epoch 5/20\n",
            "219/219 [==============================] - 5s 21ms/step - loss: 0.0326 - last_time_step_mse: 0.0180 - val_loss: 0.0312 - val_last_time_step_mse: 0.0164\n",
            "Epoch 6/20\n",
            "219/219 [==============================] - 5s 21ms/step - loss: 0.0306 - last_time_step_mse: 0.0155 - val_loss: 0.0294 - val_last_time_step_mse: 0.0143\n",
            "Epoch 7/20\n",
            "219/219 [==============================] - 5s 21ms/step - loss: 0.0295 - last_time_step_mse: 0.0145 - val_loss: 0.0300 - val_last_time_step_mse: 0.0162\n",
            "Epoch 8/20\n",
            "219/219 [==============================] - 5s 21ms/step - loss: 0.0283 - last_time_step_mse: 0.0135 - val_loss: 0.0278 - val_last_time_step_mse: 0.0130\n",
            "Epoch 9/20\n",
            "219/219 [==============================] - 5s 21ms/step - loss: 0.0276 - last_time_step_mse: 0.0130 - val_loss: 0.0273 - val_last_time_step_mse: 0.0127\n",
            "Epoch 10/20\n",
            "219/219 [==============================] - 5s 21ms/step - loss: 0.0269 - last_time_step_mse: 0.0125 - val_loss: 0.0264 - val_last_time_step_mse: 0.0121\n",
            "Epoch 11/20\n",
            "219/219 [==============================] - 5s 21ms/step - loss: 0.0265 - last_time_step_mse: 0.0121 - val_loss: 0.0268 - val_last_time_step_mse: 0.0135\n",
            "Epoch 12/20\n",
            "219/219 [==============================] - 5s 21ms/step - loss: 0.0263 - last_time_step_mse: 0.0123 - val_loss: 0.0261 - val_last_time_step_mse: 0.0123\n",
            "Epoch 13/20\n",
            "219/219 [==============================] - 5s 21ms/step - loss: 0.0258 - last_time_step_mse: 0.0116 - val_loss: 0.0254 - val_last_time_step_mse: 0.0116\n",
            "Epoch 14/20\n",
            "219/219 [==============================] - 5s 21ms/step - loss: 0.0256 - last_time_step_mse: 0.0117 - val_loss: 0.0254 - val_last_time_step_mse: 0.0116\n",
            "Epoch 15/20\n",
            "219/219 [==============================] - 5s 21ms/step - loss: 0.0253 - last_time_step_mse: 0.0114 - val_loss: 0.0250 - val_last_time_step_mse: 0.0112\n",
            "Epoch 16/20\n",
            "219/219 [==============================] - 5s 21ms/step - loss: 0.0251 - last_time_step_mse: 0.0114 - val_loss: 0.0250 - val_last_time_step_mse: 0.0114\n",
            "Epoch 17/20\n",
            "219/219 [==============================] - 5s 21ms/step - loss: 0.0248 - last_time_step_mse: 0.0112 - val_loss: 0.0249 - val_last_time_step_mse: 0.0118\n",
            "Epoch 18/20\n",
            "219/219 [==============================] - 5s 21ms/step - loss: 0.0245 - last_time_step_mse: 0.0110 - val_loss: 0.0244 - val_last_time_step_mse: 0.0108\n",
            "Epoch 19/20\n",
            "219/219 [==============================] - 5s 21ms/step - loss: 0.0243 - last_time_step_mse: 0.0108 - val_loss: 0.0240 - val_last_time_step_mse: 0.0105\n",
            "Epoch 20/20\n",
            "219/219 [==============================] - 5s 21ms/step - loss: 0.0240 - last_time_step_mse: 0.0106 - val_loss: 0.0238 - val_last_time_step_mse: 0.0103\n"
          ],
          "name": "stdout"
        }
      ]
    },
    {
      "cell_type": "code",
      "metadata": {
        "id": "w5x0y-gJA6a6",
        "colab": {
          "base_uri": "https://localhost:8080/",
          "height": 54
        },
        "outputId": "6204d40d-9dc8-48f6-c5c9-8b8c856f3335"
      },
      "source": [
        "model.evaluate(X_valid, Y_valid)"
      ],
      "execution_count": null,
      "outputs": [
        {
          "output_type": "stream",
          "text": [
            "63/63 [==============================] - 0s 8ms/step - loss: 0.0238 - last_time_step_mse: 0.0103\n"
          ],
          "name": "stdout"
        },
        {
          "output_type": "execute_result",
          "data": {
            "text/plain": [
              "[0.023785501718521118, 0.0102628068998456]"
            ]
          },
          "metadata": {
            "tags": []
          },
          "execution_count": 14
        }
      ]
    },
    {
      "cell_type": "code",
      "metadata": {
        "id": "lwEprXPfA8Ix",
        "colab": {
          "base_uri": "https://localhost:8080/",
          "height": 283
        },
        "outputId": "0c8bf99c-5af0-4210-d737-6e5fd3355c4e"
      },
      "source": [
        "plot_learning_curves(history.history[\"loss\"], history.history[\"val_loss\"])\n",
        "plt.show()"
      ],
      "execution_count": null,
      "outputs": [
        {
          "output_type": "display_data",
          "data": {
            "image/png": "[encoded data removed]",
            "text/plain": [
              "<Figure size 432x288 with 1 Axes>"
            ]
          },
          "metadata": {
            "tags": [],
            "needs_background": "light"
          }
        }
      ]
    },
    {
      "cell_type": "code",
      "metadata": {
        "id": "naEZTm1_AyaQ",
        "colab": {
          "base_uri": "https://localhost:8080/",
          "height": 289
        },
        "outputId": "7324a453-15be-4c20-f96a-1d2b2e507186"
      },
      "source": [
        "np.random.seed(43)\n",
        "\n",
        "series = generate_time_series(1, 50 + 10)\n",
        "X_new, Y_new = series[:, :50, :], series[:, 50:, :]\n",
        "Y_pred = model.predict(X_new)[:, -1][..., np.newaxis]\n",
        "\n",
        "plot_multiple_forecasts(X_new, Y_new, Y_pred)\n",
        "plt.show()"
      ],
      "execution_count": null,
      "outputs": [
        {
          "output_type": "display_data",
          "data": {
            "image/png": "[encoded data removed]",
            "text/plain": [
              "<Figure size 432x288 with 1 Axes>"
            ]
          },
          "metadata": {
            "tags": [],
            "needs_background": "light"
          }
        }
      ]
    },
    {
      "cell_type": "markdown",
      "metadata": {
        "id": "EA00uwNEA0uB"
      },
      "source": [
        "## 1D convolutional layer to process sequences <a name=\"3.3\"></a>"
      ]
    },
    {
      "cell_type": "markdown",
      "metadata": {
        "id": "I_w_vewrBJ9i"
      },
      "source": [
        "**LSTM and GRU** cells are one of the main reasons behind the success of RNNs. Yet while they can **tackle much longer sequences than simple RNNs**, they still have a fairly **limited short-term memory**, and they have a hard time **learning long-term patterns in sequences of 100 time steps or more**, such as audio samples, long time series, or long sentences. One way to solve this is to **shorten the input sequences, for example, using 1D convolutional layers**.\n",
        "\n",
        "In the notebook [Introduction to CNNs](https://nbviewer.jupyter.org/github/victorviro/Deep_learning_python/blob/master/Introduction_to_CNNs.ipynb), we saw that a 2D convolutional layer works by sliding several fairly small kernels (or filters) across an image, producing multiple 2D feature maps (one per kernel). Similarly, a **1D convolutional layer slides several kernels across a sequence, producing a 1D feature map per kernel**. Each kernel will learn to detect a single very short sequential pattern (no longer than the kernel size). If we use 10 kernels, then the layer’s output will be composed of 10 1-dimensional sequences (all of the same length), or equivalently we can view this output as a single 10-dimensional sequence. This means that we can build a neural network composed of a mix of recurrent layers and 1D convolutional layers (or even 1D pooling layers). If we use a 1D convolutional layer with a stride of 1 and \"`same`\" padding, then the output sequence will have the same length as the input sequence. But if we use \"`valid`\" padding or a stride greater than 1, then the output sequence will be shorter than the input sequence. \n",
        "\n",
        "For example, the **following model** is the same as earlier, except it **starts with a 1D convolutional layer that downsamples the input sequence by a factor of 2**, using a stride of 2. The kernel size is larger than the stride, so all inputs will be used to compute the layer’s output, and therefore the model can learn to preserve the useful information, dropping only the unimportant details. **By shortening the sequences, the convolutional layer may help the `GRU` layers detect longer patterns**. Note that we must also crop off the first three time steps in the targets (since the kernel’s size is 4, the first output of the convolutional layer will be based on the input time steps 0 to 3), and downsample the targets by a factor of 2:"
      ]
    },
    {
      "cell_type": "code",
      "metadata": {
        "id": "9fEtw5avBRwf",
        "colab": {
          "base_uri": "https://localhost:8080/",
          "height": 745
        },
        "outputId": "a110d2b3-ebb4-4d56-eae1-f1be09c93ed7"
      },
      "source": [
        "np.random.seed(42)\n",
        "tf.random.set_seed(42)\n",
        "\n",
        "model = keras.models.Sequential([\n",
        "    keras.layers.Conv1D(filters=20, kernel_size=4, strides=2, padding=\"valid\",\n",
        "                        input_shape=[None, 1]),\n",
        "    keras.layers.GRU(20, return_sequences=True),\n",
        "    keras.layers.GRU(20, return_sequences=True),\n",
        "    keras.layers.TimeDistributed(keras.layers.Dense(10))\n",
        "])\n",
        "\n",
        "model.compile(loss=\"mse\", optimizer=\"adam\", metrics=[last_time_step_mse])\n",
        "history = model.fit(X_train, Y_train[:, 3::2], epochs=20,\n",
        "                    validation_data=(X_valid, Y_valid[:, 3::2]))"
      ],
      "execution_count": null,
      "outputs": [
        {
          "output_type": "stream",
          "text": [
            "Epoch 1/20\n",
            "219/219 [==============================] - 4s 17ms/step - loss: 0.0681 - last_time_step_mse: 0.0601 - val_loss: 0.0477 - val_last_time_step_mse: 0.0396\n",
            "Epoch 2/20\n",
            "219/219 [==============================] - 3s 13ms/step - loss: 0.0414 - last_time_step_mse: 0.0340 - val_loss: 0.0367 - val_last_time_step_mse: 0.0285\n",
            "Epoch 3/20\n",
            "219/219 [==============================] - 3s 13ms/step - loss: 0.0338 - last_time_step_mse: 0.0257 - val_loss: 0.0307 - val_last_time_step_mse: 0.0218\n",
            "Epoch 4/20\n",
            "219/219 [==============================] - 3s 14ms/step - loss: 0.0282 - last_time_step_mse: 0.0184 - val_loss: 0.0259 - val_last_time_step_mse: 0.0152\n",
            "Epoch 5/20\n",
            "219/219 [==============================] - 3s 14ms/step - loss: 0.0249 - last_time_step_mse: 0.0143 - val_loss: 0.0246 - val_last_time_step_mse: 0.0141\n",
            "Epoch 6/20\n",
            "219/219 [==============================] - 3s 13ms/step - loss: 0.0234 - last_time_step_mse: 0.0125 - val_loss: 0.0227 - val_last_time_step_mse: 0.0115\n",
            "Epoch 7/20\n",
            "219/219 [==============================] - 3s 13ms/step - loss: 0.0226 - last_time_step_mse: 0.0117 - val_loss: 0.0225 - val_last_time_step_mse: 0.0116\n",
            "Epoch 8/20\n",
            "219/219 [==============================] - 3s 13ms/step - loss: 0.0220 - last_time_step_mse: 0.0111 - val_loss: 0.0216 - val_last_time_step_mse: 0.0105\n",
            "Epoch 9/20\n",
            "219/219 [==============================] - 3s 13ms/step - loss: 0.0216 - last_time_step_mse: 0.0108 - val_loss: 0.0217 - val_last_time_step_mse: 0.0109\n",
            "Epoch 10/20\n",
            "219/219 [==============================] - 3s 13ms/step - loss: 0.0213 - last_time_step_mse: 0.0106 - val_loss: 0.0210 - val_last_time_step_mse: 0.0102\n",
            "Epoch 11/20\n",
            "219/219 [==============================] - 3s 13ms/step - loss: 0.0210 - last_time_step_mse: 0.0102 - val_loss: 0.0208 - val_last_time_step_mse: 0.0100\n",
            "Epoch 12/20\n",
            "219/219 [==============================] - 3s 13ms/step - loss: 0.0208 - last_time_step_mse: 0.0102 - val_loss: 0.0208 - val_last_time_step_mse: 0.0102\n",
            "Epoch 13/20\n",
            "219/219 [==============================] - 3s 13ms/step - loss: 0.0205 - last_time_step_mse: 0.0098 - val_loss: 0.0206 - val_last_time_step_mse: 0.0101\n",
            "Epoch 14/20\n",
            "219/219 [==============================] - 3s 13ms/step - loss: 0.0204 - last_time_step_mse: 0.0099 - val_loss: 0.0204 - val_last_time_step_mse: 0.0099\n",
            "Epoch 15/20\n",
            "219/219 [==============================] - 3s 13ms/step - loss: 0.0202 - last_time_step_mse: 0.0097 - val_loss: 0.0199 - val_last_time_step_mse: 0.0093\n",
            "Epoch 16/20\n",
            "219/219 [==============================] - 3s 13ms/step - loss: 0.0200 - last_time_step_mse: 0.0097 - val_loss: 0.0201 - val_last_time_step_mse: 0.0095\n",
            "Epoch 17/20\n",
            "219/219 [==============================] - 3s 14ms/step - loss: 0.0196 - last_time_step_mse: 0.0093 - val_loss: 0.0197 - val_last_time_step_mse: 0.0091\n",
            "Epoch 18/20\n",
            "219/219 [==============================] - 3s 13ms/step - loss: 0.0194 - last_time_step_mse: 0.0090 - val_loss: 0.0192 - val_last_time_step_mse: 0.0086\n",
            "Epoch 19/20\n",
            "219/219 [==============================] - 3s 13ms/step - loss: 0.0190 - last_time_step_mse: 0.0087 - val_loss: 0.0188 - val_last_time_step_mse: 0.0084\n",
            "Epoch 20/20\n",
            "219/219 [==============================] - 3s 13ms/step - loss: 0.0186 - last_time_step_mse: 0.0083 - val_loss: 0.0184 - val_last_time_step_mse: 0.0080\n"
          ],
          "name": "stdout"
        }
      ]
    },
    {
      "cell_type": "markdown",
      "metadata": {
        "id": "2g2RJ6x8CtXq"
      },
      "source": [
        "If we evaluate this model, we will find that it is the best model so far. The convolutional layer really helps. In fact, it is actually possible to use only 1D convolutional layers and drop the recurrent layers entirely."
      ]
    },
    {
      "cell_type": "markdown",
      "metadata": {
        "id": "jBW8IYhtBWSy"
      },
      "source": [
        "## WaveNet <a name=\"3.4\"></a>"
      ]
    },
    {
      "cell_type": "markdown",
      "metadata": {
        "id": "GAkFrDUiBXa0"
      },
      "source": [
        "In a 2016 [paper](https://arxiv.org/abs/1609.03499), DeepMind researchers introduced an architecture called ***WaveNet***. They stacked **1D convolutional layers, doubling the dilation rate at every layer**. The first convolutional layer gets a glimpse of just two time steps at a time, while the next one sees four time steps (its receptive field is four time steps long), the next one sees eight time steps, and so on (see Figure 15-11). This way, the **lower layers learn short-term patterns, while the higher layers learn long-term patterns**. Thanks to the doubling dilation rate, the network **can process extremely large sequences very efficiently**.\n",
        "\n",
        "![texto alternativo](https://i.ibb.co/tBph50J/Wave-Net-architecture.png)\n",
        "\n",
        "- **Note**: **Dilated/Atrous Convolutions** are a type of convolution that **\"inflate\" the kernel by inserting holes between the kernel elements**. An additional parameter (dilation rate) indicates how much the kernel is widened. Dilated convolution allows us to **enlarge the field of view of filters to incorporate larger context** without increasing the number of parameters or the amount of computation.\n",
        "\n",
        "In the WaveNet paper, the authors actually stacked 10 convolutional layers with dilation rates of 1, 2, 4, 8, …, 256, 512, then they stacked another group of 10 identical layers (also with dilation rates 1, 2, 4, 8, …, 256, 512), then again another identical group of 10 layers. They justified this architecture by pointing out that a single stack of 10 convolutional layers with these dilation rates will act like a super-efficient convolutional layer with a kernel of size 1,024 (except way faster, more powerful, and using significantly fewer parameters), which is why they stacked 3 such blocks. They also left-padded the input sequences with a number of zeros equal to the dilation rate before every layer, to preserve the same sequence length throughout the network. \n",
        "\n",
        "Here is how to **implement a simplified WaveNet** to tackle the same sequences as earlier:"
      ]
    },
    {
      "cell_type": "code",
      "metadata": {
        "id": "ArLDtL3B75fW",
        "colab": {
          "base_uri": "https://localhost:8080/",
          "height": 745
        },
        "outputId": "6a64d24c-daee-4c3c-8dd7-294c65e11043"
      },
      "source": [
        "np.random.seed(42)\n",
        "tf.random.set_seed(42)\n",
        "\n",
        "model = keras.models.Sequential()\n",
        "model.add(keras.layers.InputLayer(input_shape=[None, 1]))\n",
        "for rate in (1, 2, 4, 8) * 2:\n",
        "    model.add(keras.layers.Conv1D(filters=20, kernel_size=2, padding=\"causal\",\n",
        "                                  activation=\"relu\", dilation_rate=rate))\n",
        "model.add(keras.layers.Conv1D(filters=10, kernel_size=1))\n",
        "model.compile(loss=\"mse\", optimizer=\"adam\", metrics=[last_time_step_mse])\n",
        "history = model.fit(X_train, Y_train, epochs=20,\n",
        "                    validation_data=(X_valid, Y_valid))"
      ],
      "execution_count": null,
      "outputs": [
        {
          "output_type": "stream",
          "text": [
            "Epoch 1/20\n",
            "219/219 [==============================] - 2s 10ms/step - loss: 0.0668 - last_time_step_mse: 0.0543 - val_loss: 0.0365 - val_last_time_step_mse: 0.0230\n",
            "Epoch 2/20\n",
            "219/219 [==============================] - 2s 7ms/step - loss: 0.0323 - last_time_step_mse: 0.0193 - val_loss: 0.0294 - val_last_time_step_mse: 0.0166\n",
            "Epoch 3/20\n",
            "219/219 [==============================] - 2s 7ms/step - loss: 0.0283 - last_time_step_mse: 0.0156 - val_loss: 0.0269 - val_last_time_step_mse: 0.0144\n",
            "Epoch 4/20\n",
            "219/219 [==============================] - 2s 7ms/step - loss: 0.0261 - last_time_step_mse: 0.0136 - val_loss: 0.0253 - val_last_time_step_mse: 0.0130\n",
            "Epoch 5/20\n",
            "219/219 [==============================] - 2s 8ms/step - loss: 0.0248 - last_time_step_mse: 0.0124 - val_loss: 0.0245 - val_last_time_step_mse: 0.0122\n",
            "Epoch 6/20\n",
            "219/219 [==============================] - 2s 7ms/step - loss: 0.0240 - last_time_step_mse: 0.0117 - val_loss: 0.0233 - val_last_time_step_mse: 0.0108\n",
            "Epoch 7/20\n",
            "219/219 [==============================] - 2s 8ms/step - loss: 0.0234 - last_time_step_mse: 0.0112 - val_loss: 0.0230 - val_last_time_step_mse: 0.0109\n",
            "Epoch 8/20\n",
            "219/219 [==============================] - 2s 7ms/step - loss: 0.0227 - last_time_step_mse: 0.0105 - val_loss: 0.0229 - val_last_time_step_mse: 0.0106\n",
            "Epoch 9/20\n",
            "219/219 [==============================] - 2s 8ms/step - loss: 0.0221 - last_time_step_mse: 0.0100 - val_loss: 0.0221 - val_last_time_step_mse: 0.0101\n",
            "Epoch 10/20\n",
            "219/219 [==============================] - 2s 8ms/step - loss: 0.0219 - last_time_step_mse: 0.0099 - val_loss: 0.0213 - val_last_time_step_mse: 0.0090\n",
            "Epoch 11/20\n",
            "219/219 [==============================] - 2s 8ms/step - loss: 0.0213 - last_time_step_mse: 0.0092 - val_loss: 0.0210 - val_last_time_step_mse: 0.0091\n",
            "Epoch 12/20\n",
            "219/219 [==============================] - 2s 8ms/step - loss: 0.0210 - last_time_step_mse: 0.0089 - val_loss: 0.0213 - val_last_time_step_mse: 0.0097\n",
            "Epoch 13/20\n",
            "219/219 [==============================] - 2s 8ms/step - loss: 0.0206 - last_time_step_mse: 0.0087 - val_loss: 0.0201 - val_last_time_step_mse: 0.0081\n",
            "Epoch 14/20\n",
            "219/219 [==============================] - 2s 8ms/step - loss: 0.0203 - last_time_step_mse: 0.0083 - val_loss: 0.0201 - val_last_time_step_mse: 0.0082\n",
            "Epoch 15/20\n",
            "219/219 [==============================] - 2s 8ms/step - loss: 0.0201 - last_time_step_mse: 0.0081 - val_loss: 0.0197 - val_last_time_step_mse: 0.0078\n",
            "Epoch 16/20\n",
            "219/219 [==============================] - 2s 8ms/step - loss: 0.0199 - last_time_step_mse: 0.0080 - val_loss: 0.0197 - val_last_time_step_mse: 0.0080\n",
            "Epoch 17/20\n",
            "219/219 [==============================] - 2s 8ms/step - loss: 0.0196 - last_time_step_mse: 0.0077 - val_loss: 0.0193 - val_last_time_step_mse: 0.0075\n",
            "Epoch 18/20\n",
            "219/219 [==============================] - 2s 8ms/step - loss: 0.0193 - last_time_step_mse: 0.0073 - val_loss: 0.0192 - val_last_time_step_mse: 0.0074\n",
            "Epoch 19/20\n",
            "219/219 [==============================] - 2s 8ms/step - loss: 0.0192 - last_time_step_mse: 0.0073 - val_loss: 0.0187 - val_last_time_step_mse: 0.0070\n",
            "Epoch 20/20\n",
            "219/219 [==============================] - 2s 8ms/step - loss: 0.0190 - last_time_step_mse: 0.0071 - val_loss: 0.0187 - val_last_time_step_mse: 0.0070\n"
          ],
          "name": "stdout"
        }
      ]
    },
    {
      "cell_type": "markdown",
      "metadata": {
        "id": "SPaz17OnBjfx"
      },
      "source": [
        "This `Sequential` model starts with an explicit input layer (this is simpler than trying to set `input_shape` only on the first layer), then continues with a 1D convolutional layer using \"`causal`\" padding: this ensures that the convolutional layer does not peek into the future when making predictions (it is equivalent to padding the inputs with the right amount of zeros on the left and using \"`valid`\" padding). We then add similar pairs of layers using growing dilation rates: 1, 2, 4, 8, and again 1, 2, 4, 8. Finally, we add the output layer: a convolutional layer with 10 filters of size 1 and without any activation function. Thanks to the padding layers, every convolutional layer outputs a sequence of the same length as the input sequences, so the targets we use during training can be the full sequences: no need to crop them or downsample them. The original WaveNet defined in the paper uses Gated Activation Units instead of ReLU and parametrized skip connections, plus it pads with zeros on the left to avoid getting shorter and shorter sequences.\n",
        "\n",
        "WaveNet achieved state-of-the-art performance on various audio tasks (hence the name of the architecture), including text-to-speech tasks, producing incredibly realistic voices across several languages. They also used the model to generate music, one audio sample at a time. This feat is all the more impressive when you realize that a single second of audio can contain tens of thousands of time steps, even LSTMs and GRUs cannot handle such long sequences."
      ]
    },
    {
      "cell_type": "markdown",
      "metadata": {
        "id": "v4oMXXgOmAW8"
      },
      "source": [
        "# References <a name=\"4\"></a>"
      ]
    },
    {
      "cell_type": "markdown",
      "metadata": {
        "id": "5PIkfH4nUSl-"
      },
      "source": [
        "- [Hands-On Machine Learning with Scikit-Learn, Keras, and TensorFlow](https://www.oreilly.com/library/view/hands-on-machine-learning/9781492032632/)\n",
        "\n",
        "- https://github.com/ageron/handson-ml2\n",
        "\n",
        "- [RNNs MIT lecture](https://www.youtube.com/watch?v=SEnXr6v2ifU)\n",
        "\n",
        "- [Understanding LSTM Networks](http://colah.github.io/posts/2015-08-Understanding-LSTMs/)"
      ]
    }
  ]
}