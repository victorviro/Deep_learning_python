{
  "nbformat": 4,
  "nbformat_minor": 0,
  "metadata": {
    "colab": {
      "name": "Tensorflow custom models and training.ipynb",
      "provenance": [],
      "collapsed_sections": [],
      "toc_visible": true,
      "authorship_tag": "ABX9TyP9eX/Ip9MXBx7VMVmuK4Lm",
      "include_colab_link": true
    },
    "kernelspec": {
      "name": "python3",
      "display_name": "Python 3"
    }
  },
  "cells": [
    {
      "cell_type": "markdown",
      "metadata": {
        "id": "view-in-github",
        "colab_type": "text"
      },
      "source": [
        "<a href=\"https://colab.research.google.com/github/victorviro/Deep_learning_python/blob/master/Tensorflow_custom_models_and_training.ipynb\" target=\"_parent\"><img src=\"https://colab.research.google.com/assets/colab-badge.svg\" alt=\"Open In Colab\"/></a>"
      ]
    },
    {
      "cell_type": "markdown",
      "metadata": {
        "id": "4jrqNaZ3s4J8"
      },
      "source": [
        "# Custom models and training in TensorFlow"
      ]
    },
    {
      "cell_type": "markdown",
      "metadata": {
        "id": "dUgSg-9WVMtd"
      },
      "source": [
        "# Table of contents"
      ]
    },
    {
      "cell_type": "markdown",
      "metadata": {
        "id": "m_erhQefI2df"
      },
      "source": [
        "1. [Introduction](#1)\n",
        "2. [Dataset](#2)\n",
        "3. [Custom loss functions](#3)\n",
        "    1. [Saving/Loading models with custom objects](#3.1)\n",
        "4. [Custom activation functions, initializers, regularizers and constraints](#4)\n",
        "5. [Custom metrics](#5)\n",
        "6. [Custom layers](#6)\n",
        "7. [Custom models](#7)\n",
        "8. [Custom training loops](#8)\n",
        "    1. [Speeding up our training steo with `tf.function`](#8.1)\n",
        "9. [References and further reading](#9)\n"
      ]
    },
    {
      "cell_type": "markdown",
      "metadata": {
        "id": "5eUAtuVlVM1s"
      },
      "source": [
        "# Introduction <a name=\"1\"></a>"
      ]
    },
    {
      "cell_type": "markdown",
      "metadata": {
        "id": "XXqi9uW1XdNC"
      },
      "source": [
        "When we want to train a model with TensorFlow, the **95% of cases we** will not likely **require** anything else than TensorFlow’s high-level API, **`tf.keras`**. In other notebooks we have built various neural network architectures, including regression and classification nets, deep nets, and self-normalizing nets, using all sorts of techniques, such as Batch Normalization, dropout, learning rate schedules, and more. We also took a quick tour of TensorFlow and we saw the basic operations around tensors and other data structures. **In this notebook** we dive deeper into TensorFlow and take a look at its **lower-level Python API**.  This will be **useful when we need extra control**, to write **custom loss functions, custom metrics, layers, models, initializers, regularizers**, weight constraints, and more. We may even need to fully **control the training loop** itself, for example, to apply special transformations or constraints to the gradients, or to use multiple optimizers for different parts of the network."
      ]
    },
    {
      "cell_type": "code",
      "metadata": {
        "id": "ABPOPzBRuMUf"
      },
      "source": [
        "import numpy as np\n",
        "from tensorflow import keras\n",
        "import tensorflow as tf"
      ],
      "execution_count": 1,
      "outputs": []
    },
    {
      "cell_type": "markdown",
      "metadata": {
        "id": "3l7lxxm7EBiL"
      },
      "source": [
        "# Dataset <a name=\"2\"></a>"
      ]
    },
    {
      "cell_type": "markdown",
      "metadata": {
        "id": "FlC1phkeB4VS"
      },
      "source": [
        "In this notebook, we will be using the [California housing dataset](https://scikit-learn.org/stable/datasets/real_world.html#california-housing-dataset)."
      ]
    },
    {
      "cell_type": "code",
      "metadata": {
        "id": "zYtznTIrJwx3",
        "colab": {
          "base_uri": "https://localhost:8080/"
        },
        "outputId": "0674ea8f-2faf-45e2-8960-4bf02eb0b487"
      },
      "source": [
        "# Load and prepare the California housing dataset\n",
        "from sklearn.datasets import fetch_california_housing\n",
        "from sklearn.model_selection import train_test_split\n",
        "from sklearn.preprocessing import StandardScaler\n",
        "\n",
        "housing = fetch_california_housing()\n",
        "X_train_full, X_test, y_train_full, y_test = train_test_split(\n",
        "    housing.data, housing.target.reshape(-1, 1), random_state=42)\n",
        "X_train, X_valid, y_train, y_valid = train_test_split(\n",
        "    X_train_full, y_train_full, random_state=42)\n",
        "\n",
        "scaler = StandardScaler()\n",
        "X_train_scaled = scaler.fit_transform(X_train)\n",
        "X_valid_scaled = scaler.transform(X_valid)\n",
        "X_test_scaled = scaler.transform(X_test)"
      ],
      "execution_count": 2,
      "outputs": [
        {
          "output_type": "stream",
          "text": [
            "Downloading Cal. housing from https://ndownloader.figshare.com/files/5976036 to /root/scikit_learn_data\n"
          ],
          "name": "stderr"
        }
      ]
    },
    {
      "cell_type": "markdown",
      "metadata": {
        "id": "0_b-hp0qbtix"
      },
      "source": [
        "# Custom loss functions <a name=\"3\"></a>"
      ]
    },
    {
      "cell_type": "markdown",
      "metadata": {
        "id": "hvmN77AIbut7"
      },
      "source": [
        "Suppose we want to train a regression model, but our training set is a bit noisy. Of course, we cleaned up our dataset by fixing the outliers, but it turns out to be insufficient. Which loss function should we use? The mean squared error might penalize large errors too much. We can use the Huber loss (introduced in this [notebook](https://nbviewer.jupyter.org/github/victorviro/Machine-Learning-Python/blob/master/ML_metrics_and_cost_functions.ipynb)). The Huber loss is available in tf.keras ([`keras.losses.Huber`](https://www.tensorflow.org/api_docs/python/tf/keras/losses/Huber)), but let’s pretend it’s not there. Let's create a function that takes the labels and predictions as arguments, and use TensorFlow operations to compute every instance’s loss:"
      ]
    },
    {
      "cell_type": "code",
      "metadata": {
        "id": "TyIbqFu7cL1N"
      },
      "source": [
        "def huber_fn(y_true, y_pred):\n",
        "    error = y_true - y_pred\n",
        "    is_small_error = tf.abs(error) < 1\n",
        "    squared_loss = tf.square(error) / 2\n",
        "    linear_loss = tf.abs(error) - 0.5\n",
        "    return tf.where(is_small_error, squared_loss, linear_loss)"
      ],
      "execution_count": 3,
      "outputs": []
    },
    {
      "cell_type": "code",
      "metadata": {
        "id": "BOI7GB4Tvq9d",
        "colab": {
          "base_uri": "https://localhost:8080/",
          "height": 296
        },
        "cellView": "form",
        "outputId": "4a65db65-759d-40bc-8194-ac19f59ed5ea"
      },
      "source": [
        "#@title\n",
        "import matplotlib.pyplot as plt\n",
        "import numpy as np\n",
        "plt.figure(figsize=(9, 4))\n",
        "z = np.linspace(-4, 4, 200)\n",
        "plt.plot(z, huber_fn(0, z), \"b-\", linewidth=2, label=\"huber($z$)\")\n",
        "plt.plot(z, z**2 / 2, \"b:\", linewidth=1, label=r\"$\\frac{1}{2}z^2$\")\n",
        "plt.plot([-1, -1], [0, huber_fn(0., -1.)], \"r--\")\n",
        "plt.plot([1, 1], [0, huber_fn(0., 1.)], \"r--\")\n",
        "plt.gca().axhline(y=0, color='k')\n",
        "plt.gca().axvline(x=0, color='k')\n",
        "plt.axis([-4, 4, 0, 4])\n",
        "plt.grid(True)\n",
        "plt.xlabel(\"$z$\")\n",
        "plt.legend(fontsize=14)\n",
        "plt.title(\"Huber loss\", fontsize=14)\n",
        "plt.show()"
      ],
      "execution_count": 4,
      "outputs": [
        {
          "output_type": "display_data",
          "data": {
            "image/png": "[encoded data removed]",
            "text/plain": [
              "<Figure size 648x288 with 1 Axes>"
            ]
          },
          "metadata": {
            "tags": [],
            "needs_background": "light"
          }
        }
      ]
    },
    {
      "cell_type": "markdown",
      "metadata": {
        "id": "kas2BJhGcbYS"
      },
      "source": [
        "**Note**: For better performance, we should use a **vectorized implementation**, as in this example. Moreover, if we want to benefit from TensorFlow’s graph features, we should **use only TensorFlow operations**.\n",
        "\n",
        "It is also preferable to **return a tensor containing one loss per instance**, rather than returning the mean loss. This way, Keras can apply class weights or sample weights when requested.\n",
        "\n",
        "\n",
        "Next, we can just use this loss when we compile the Keras model, then train our model:"
      ]
    },
    {
      "cell_type": "code",
      "metadata": {
        "id": "_2JYPbPbc3wK",
        "colab": {
          "base_uri": "https://localhost:8080/"
        },
        "outputId": "71751223-4ee5-4c72-edaf-201d33d33d0e"
      },
      "source": [
        "input_shape = X_train.shape[1:]\n",
        "model = keras.models.Sequential([\n",
        "    keras.layers.Dense(30, activation=\"relu\", input_shape=input_shape),\n",
        "    keras.layers.Dense(1),\n",
        "])\n",
        "\n",
        "model.compile(loss=huber_fn, optimizer=\"nadam\", metrics=[\"mae\"])\n",
        "model.fit(X_train_scaled, y_train, epochs=2,\n",
        "          validation_data=(X_valid_scaled, y_valid))"
      ],
      "execution_count": 5,
      "outputs": [
        {
          "output_type": "stream",
          "text": [
            "Epoch 1/2\n",
            "363/363 [==============================] - 2s 2ms/step - loss: 0.6360 - mae: 1.0092 - val_loss: 0.3114 - val_mae: 0.6276\n",
            "Epoch 2/2\n",
            "363/363 [==============================] - 1s 2ms/step - loss: 0.2318 - mae: 0.5307 - val_loss: 0.2226 - val_mae: 0.5062\n"
          ],
          "name": "stdout"
        },
        {
          "output_type": "execute_result",
          "data": {
            "text/plain": [
              "<tensorflow.python.keras.callbacks.History at 0x7fa6806e8cd0>"
            ]
          },
          "metadata": {
            "tags": []
          },
          "execution_count": 5
        }
      ]
    },
    {
      "cell_type": "markdown",
      "metadata": {
        "id": "UB8f746YdlG3"
      },
      "source": [
        "For each batch during training, Keras will call the `huber_fn()` function to compute the loss, and use it to perform a Gradient Descent step. Moreover, it will keep track of the total loss since the beginning of the epoch, and it will display the mean loss."
      ]
    },
    {
      "cell_type": "markdown",
      "metadata": {
        "id": "PnpnaNhjdHYJ"
      },
      "source": [
        "## Saving/Loading models that contain custom components <a name=\"3.1\"></a>"
      ]
    },
    {
      "cell_type": "markdown",
      "metadata": {
        "id": "A1JGecBNdLXU"
      },
      "source": [
        "Saving a model containing a custom loss function actually works fine, as Keras just saves the name of the function. However, whenever we load it, we need to provide a dictionary that maps the function name to the actual function. More generally, when we load a model containing custom objects, we need to map the names to the objects:"
      ]
    },
    {
      "cell_type": "code",
      "metadata": {
        "id": "tckqT8H6w4H_",
        "colab": {
          "base_uri": "https://localhost:8080/"
        },
        "outputId": "c0051ca6-35b8-4f02-bdbb-fea7c8a8ff84"
      },
      "source": [
        "model.save(\"my_model_with_a_custom_loss\")"
      ],
      "execution_count": 6,
      "outputs": [
        {
          "output_type": "stream",
          "text": [
            "INFO:tensorflow:Assets written to: my_model_with_a_custom_loss/assets\n"
          ],
          "name": "stdout"
        }
      ]
    },
    {
      "cell_type": "code",
      "metadata": {
        "id": "AyPpOl9ndQwV"
      },
      "source": [
        "model = keras.models.load_model(\"my_model_with_a_custom_loss\",\n",
        "                                custom_objects={\"huber_fn\": huber_fn})"
      ],
      "execution_count": 7,
      "outputs": []
    },
    {
      "cell_type": "code",
      "metadata": {
        "colab": {
          "base_uri": "https://localhost:8080/"
        },
        "id": "ZrV16V9Vlg0q",
        "outputId": "07dc22d3-4f6e-4a9a-f563-8dc39d43806f"
      },
      "source": [
        "model.fit(X_train_scaled, y_train, epochs=2,\n",
        "          validation_data=(X_valid_scaled, y_valid))"
      ],
      "execution_count": 8,
      "outputs": [
        {
          "output_type": "stream",
          "text": [
            "Epoch 1/2\n",
            "363/363 [==============================] - 1s 2ms/step - loss: 0.1900 - mae: 0.4693 - val_loss: 0.2033 - val_mae: 0.4709\n",
            "Epoch 2/2\n",
            "363/363 [==============================] - 1s 1ms/step - loss: 0.1756 - mae: 0.4471 - val_loss: 0.1893 - val_mae: 0.4551\n"
          ],
          "name": "stdout"
        },
        {
          "output_type": "execute_result",
          "data": {
            "text/plain": [
              "<tensorflow.python.keras.callbacks.History at 0x7fa6705b3bd0>"
            ]
          },
          "metadata": {
            "tags": []
          },
          "execution_count": 8
        }
      ]
    },
    {
      "cell_type": "markdown",
      "metadata": {
        "id": "dfb8_rbUdbAv"
      },
      "source": [
        "With the current implementation of the huber loss, any error between -1 and 1 is considered “small”. But what if we want a different threshold? One solution is to create a function that creates a configured loss function:"
      ]
    },
    {
      "cell_type": "code",
      "metadata": {
        "id": "YcTncK8Zddgb"
      },
      "source": [
        "def create_huber(threshold=1.0):\n",
        "    def huber_fn(y_true, y_pred):\n",
        "        error = y_true - y_pred\n",
        "        is_small_error = tf.abs(error) < threshold\n",
        "        squared_loss = tf.square(error) / 2\n",
        "        linear_loss = threshold * tf.abs(error) - threshold**2 / 2\n",
        "        return tf.where(is_small_error, squared_loss, linear_loss)\n",
        "    return huber_fn\n"
      ],
      "execution_count": 9,
      "outputs": []
    },
    {
      "cell_type": "code",
      "metadata": {
        "id": "_pchxAJWxDl5"
      },
      "source": [
        "model.compile(loss=create_huber(2.0), optimizer=\"nadam\", metrics=[\"mae\"])"
      ],
      "execution_count": 10,
      "outputs": []
    },
    {
      "cell_type": "code",
      "metadata": {
        "id": "djNyjg8NxE3w",
        "colab": {
          "base_uri": "https://localhost:8080/"
        },
        "outputId": "22485c5e-3bca-4c85-e0b6-c82cb7f9acc7"
      },
      "source": [
        "model.fit(X_train_scaled, y_train, epochs=2,\n",
        "          validation_data=(X_valid_scaled, y_valid))"
      ],
      "execution_count": 11,
      "outputs": [
        {
          "output_type": "stream",
          "text": [
            "Epoch 1/2\n",
            "363/363 [==============================] - 1s 2ms/step - loss: 0.1913 - mae: 0.4415 - val_loss: 0.2253 - val_mae: 0.4489\n",
            "Epoch 2/2\n",
            "363/363 [==============================] - 1s 1ms/step - loss: 0.1860 - mae: 0.4345 - val_loss: 0.2004 - val_mae: 0.4483\n"
          ],
          "name": "stdout"
        },
        {
          "output_type": "execute_result",
          "data": {
            "text/plain": [
              "<tensorflow.python.keras.callbacks.History at 0x7fa6702804d0>"
            ]
          },
          "metadata": {
            "tags": []
          },
          "execution_count": 11
        }
      ]
    },
    {
      "cell_type": "markdown",
      "metadata": {
        "id": "6Syo6l8ddsvF"
      },
      "source": [
        "Unfortunately, when we save the model, the threshold will not be saved. This means that we will have to specify the threshold value when loading the model (the name to use is \"`huber_fn`\", which is the name of the function we gave Keras, not the name of the function that created it):"
      ]
    },
    {
      "cell_type": "code",
      "metadata": {
        "id": "Nn_oUV1AxLuT",
        "colab": {
          "base_uri": "https://localhost:8080/"
        },
        "outputId": "372a0c28-da93-4cfb-8e8f-4cdfd9822e9b"
      },
      "source": [
        "model.save(\"my_model_with_a_custom_loss_threshold_2\")"
      ],
      "execution_count": 12,
      "outputs": [
        {
          "output_type": "stream",
          "text": [
            "INFO:tensorflow:Assets written to: my_model_with_a_custom_loss_threshold_2/assets\n"
          ],
          "name": "stdout"
        }
      ]
    },
    {
      "cell_type": "code",
      "metadata": {
        "id": "6mU4sMy-d0V5"
      },
      "source": [
        "model = keras.models.load_model(\"my_model_with_a_custom_loss_threshold_2\",\n",
        "                                custom_objects={\"huber_fn\": create_huber(2.0)})"
      ],
      "execution_count": 13,
      "outputs": []
    },
    {
      "cell_type": "code",
      "metadata": {
        "id": "r34NCHLwxN-I",
        "colab": {
          "base_uri": "https://localhost:8080/"
        },
        "outputId": "f0fbf995-f3e3-4c63-812c-68c532cbc8a7"
      },
      "source": [
        "model.fit(X_train_scaled, y_train, epochs=2,\n",
        "          validation_data=(X_valid_scaled, y_valid))"
      ],
      "execution_count": 14,
      "outputs": [
        {
          "output_type": "stream",
          "text": [
            "Epoch 1/2\n",
            "363/363 [==============================] - 1s 2ms/step - loss: 0.1824 - mae: 0.4317 - val_loss: 0.2031 - val_mae: 0.4350\n",
            "Epoch 2/2\n",
            "363/363 [==============================] - 1s 1ms/step - loss: 0.1795 - mae: 0.4263 - val_loss: 0.1837 - val_mae: 0.4216\n"
          ],
          "name": "stdout"
        },
        {
          "output_type": "execute_result",
          "data": {
            "text/plain": [
              "<tensorflow.python.keras.callbacks.History at 0x7fa6705b3a50>"
            ]
          },
          "metadata": {
            "tags": []
          },
          "execution_count": 14
        }
      ]
    },
    {
      "cell_type": "markdown",
      "metadata": {
        "id": "Vxb5-pFad5eY"
      },
      "source": [
        "We can solve this by creating a subclass of the `keras.losses.Loss` class, and implement its `get_config()` method:"
      ]
    },
    {
      "cell_type": "code",
      "metadata": {
        "id": "DxJR6AdUd_Xj"
      },
      "source": [
        "class HuberLoss(keras.losses.Loss):\n",
        "    def __init__(self, threshold=1.0, **kwargs):\n",
        "        self.threshold = threshold\n",
        "        self.name = \"HuberLoss\"\n",
        "        super().__init__(**kwargs)\n",
        "    def call(self, y_true, y_pred):\n",
        "        tf.name_scope(\"name\")\n",
        "        error = y_true - y_pred\n",
        "        is_small_error = tf.abs(error) < self.threshold\n",
        "        squared_loss = tf.square(error) / 2\n",
        "        linear_loss = self.threshold * tf.abs(error) - self.threshold**2 / 2\n",
        "        return tf.where(is_small_error, squared_loss, linear_loss)\n",
        "    def get_config(self):\n",
        "        base_config = super().get_config()\n",
        "        return {**base_config, \"threshold\": self.threshold}"
      ],
      "execution_count": 15,
      "outputs": []
    },
    {
      "cell_type": "markdown",
      "metadata": {
        "id": "1k9kLcXUfFsm"
      },
      "source": [
        "- The constructor accepts `**kwargs` and passes them to the parent constructor, which handles standard arguments of the ``keras.losses.Loss` class: the name of the loss and the reduction algorithm to use to aggregate the individual instance losses. By default, it is \"`sum_over_batch_size`\", which means that the loss will be the sum of the instance losses, possibly weighted by the sample weights, if any, and then divide the result by the batch size. Other possible values are `\"sum\"` and `None`.\n",
        "\n",
        "- The `call()` method takes the labels and predictions, computes all the instance losses, and returns them.\n",
        "\n",
        "- The `get_config()` method returns a dictionary mapping each hyperparameter name to its value. It first calls the parent class’s `get_config()` method, then adds the new arguments to this dictionary.\n",
        "\n",
        "We can then use any instance of this class when we compile the model:"
      ]
    },
    {
      "cell_type": "code",
      "metadata": {
        "id": "4Dd_bzPBxdtV"
      },
      "source": [
        "model = keras.models.Sequential([\n",
        "    keras.layers.Dense(30, activation=\"relu\", input_shape=input_shape),\n",
        "    keras.layers.Dense(1),\n",
        "])"
      ],
      "execution_count": 16,
      "outputs": []
    },
    {
      "cell_type": "code",
      "metadata": {
        "id": "HECxWDvUfyuT"
      },
      "source": [
        "model.compile(loss=HuberLoss(2.), optimizer=\"nadam\", metrics=[\"mae\"])"
      ],
      "execution_count": 17,
      "outputs": []
    },
    {
      "cell_type": "code",
      "metadata": {
        "id": "S-J4s-YTxjh0",
        "colab": {
          "base_uri": "https://localhost:8080/"
        },
        "outputId": "71903289-567d-483c-b0e6-c0b30264fa5d"
      },
      "source": [
        "model.fit(X_train_scaled, y_train, epochs=2,\n",
        "          validation_data=(X_valid_scaled, y_valid))"
      ],
      "execution_count": 18,
      "outputs": [
        {
          "output_type": "stream",
          "text": [
            "Epoch 1/2\n",
            "363/363 [==============================] - 1s 2ms/step - loss: 0.5518 - mae: 0.7794 - val_loss: 0.3422 - val_mae: 0.5804\n",
            "Epoch 2/2\n",
            "363/363 [==============================] - 1s 2ms/step - loss: 0.2517 - mae: 0.5193 - val_loss: 0.2300 - val_mae: 0.4817\n"
          ],
          "name": "stdout"
        },
        {
          "output_type": "execute_result",
          "data": {
            "text/plain": [
              "<tensorflow.python.keras.callbacks.History at 0x7fa66ceae390>"
            ]
          },
          "metadata": {
            "tags": []
          },
          "execution_count": 18
        }
      ]
    },
    {
      "cell_type": "markdown",
      "metadata": {
        "id": "dipUHNTHf0Cp"
      },
      "source": [
        "When we save the model, the threshold will be saved along with it, and when we load the model we just need to map the class name to the class itself:"
      ]
    },
    {
      "cell_type": "code",
      "metadata": {
        "id": "j9CxRJpBxmWs",
        "colab": {
          "base_uri": "https://localhost:8080/"
        },
        "outputId": "24bb0d20-7e89-41f8-b8da-daad0e0b38d3"
      },
      "source": [
        "model.save(\"my_model_with_a_custom_loss_class\")"
      ],
      "execution_count": 19,
      "outputs": [
        {
          "output_type": "stream",
          "text": [
            "INFO:tensorflow:Assets written to: my_model_with_a_custom_loss_class/assets\n"
          ],
          "name": "stdout"
        }
      ]
    },
    {
      "cell_type": "code",
      "metadata": {
        "id": "N0ADVtNQf4N_",
        "colab": {
          "base_uri": "https://localhost:8080/"
        },
        "outputId": "3fc2ec7a-4607-47a7-e0d9-b7f3ae6528cc"
      },
      "source": [
        "model = keras.models.load_model(\"my_model_with_a_custom_loss_class\",\n",
        "                                custom_objects={\"HuberLoss\": HuberLoss})\n",
        "print(model.loss.threshold)"
      ],
      "execution_count": 20,
      "outputs": [
        {
          "output_type": "stream",
          "text": [
            "2.0\n"
          ],
          "name": "stdout"
        }
      ]
    },
    {
      "cell_type": "code",
      "metadata": {
        "id": "ZVaXRvuzxsZm",
        "colab": {
          "base_uri": "https://localhost:8080/"
        },
        "outputId": "8a69301b-f5ca-4fac-e36e-a910645e882d"
      },
      "source": [
        "model.fit(X_train_scaled, y_train, epochs=2,\n",
        "          validation_data=(X_valid_scaled, y_valid))"
      ],
      "execution_count": 21,
      "outputs": [
        {
          "output_type": "stream",
          "text": [
            "Epoch 1/2\n",
            "363/363 [==============================] - 1s 2ms/step - loss: 0.2111 - mae: 0.4721 - val_loss: 0.2042 - val_mae: 0.4490\n",
            "Epoch 2/2\n",
            "363/363 [==============================] - 1s 2ms/step - loss: 0.1963 - mae: 0.4521 - val_loss: 0.1860 - val_mae: 0.4368\n"
          ],
          "name": "stdout"
        },
        {
          "output_type": "execute_result",
          "data": {
            "text/plain": [
              "<tensorflow.python.keras.callbacks.History at 0x7fa66ced4f90>"
            ]
          },
          "metadata": {
            "tags": []
          },
          "execution_count": 21
        }
      ]
    },
    {
      "cell_type": "markdown",
      "metadata": {
        "id": "KfO6fQalf8zg"
      },
      "source": [
        "When we save a model, Keras calls the loss instance’s `get_config()` method and saves the config. When we load the model, it calls the `from_config()` class method on the `HuberLoss` class: this method is implemented by the base class (`keras.losses.Loss`) and just creates an instance of the class, passing `**config` to the constructor.\n",
        "\n",
        "**Note**: The Keras API only specifies how to use subclassing to define layers, models, callbacks, and regularizers. If we build other components (such as losses, metrics, initializers or constraints) using subclassing, they may not be portable to other Keras implementations.\n",
        "\n",
        "More information about how to save and load custom objects and functions is available in the [TensorFlow guide](https://www.tensorflow.org/guide/keras/save_and_serialize#custom_objects)."
      ]
    },
    {
      "cell_type": "markdown",
      "metadata": {
        "id": "piQZq_OogSSf"
      },
      "source": [
        "# Custom activation functions, initializers, regularizers, and constraints <a name=\"4\"></a>"
      ]
    },
    {
      "cell_type": "markdown",
      "metadata": {
        "id": "WyKYr8CxgZDO"
      },
      "source": [
        "Most Keras functionalities, such as losses, regularizers, constraints, initializers, metrics, activation functions, and layers can be customized in very much the same way. Most of the time, we will just need to write a simple function, with the appropriate inputs and outputs. For example, here are examples of a custom activation function (equivalent to `keras.activations.softplus`), a custom Glorot initializer (equivalent to `keras.initializers.glorot_normal`), a custom $l_1$ regularizer (equivalent to `keras.regularizers.l1(0.01)`) and a custom constraint that ensures weights are all positive (equivalent to `keras.constraints.nonneg()`):"
      ]
    },
    {
      "cell_type": "code",
      "metadata": {
        "id": "ar19foEKx-F9"
      },
      "source": [
        "keras.backend.clear_session()\n",
        "np.random.seed(42)\n",
        "tf.random.set_seed(42)"
      ],
      "execution_count": 22,
      "outputs": []
    },
    {
      "cell_type": "code",
      "metadata": {
        "id": "_GnEhVGPg4nl"
      },
      "source": [
        "def my_softplus(z):\n",
        "    return tf.math.log(tf.exp(z) + 1.0)\n",
        "\n",
        "def my_glorot_initializer(shape, dtype=tf.float32):\n",
        "    stddev = tf.sqrt(2. / (shape[0] + shape[1]))\n",
        "    return tf.random.normal(shape, stddev=stddev, dtype=dtype)\n",
        "\n",
        "def my_l1_regularizer(weights):\n",
        "    return tf.reduce_sum(tf.abs(0.01 * weights))\n",
        "\n",
        "def my_positive_weights(weights):\n",
        "    return tf.where(weights < 0., tf.zeros_like(weights), weights)"
      ],
      "execution_count": 23,
      "outputs": []
    },
    {
      "cell_type": "markdown",
      "metadata": {
        "id": "Z42bwJVQhBQ4"
      },
      "source": [
        "As we can see, the arguments depend on the type of custom function. These custom functions can then be used normally, for example:"
      ]
    },
    {
      "cell_type": "code",
      "metadata": {
        "id": "xy9wRtDUhCpL"
      },
      "source": [
        "layer = keras.layers.Dense(30, activation=my_softplus,\n",
        "                           kernel_initializer=my_glorot_initializer,\n",
        "                           kernel_regularizer=my_l1_regularizer,\n",
        "                           kernel_constraint=my_positive_weights)"
      ],
      "execution_count": 24,
      "outputs": []
    },
    {
      "cell_type": "markdown",
      "metadata": {
        "id": "Dw03Sn7cyJak"
      },
      "source": [
        "- The activation function will be applied to the output of this `Dense` layer, and its result will be passed on to the next layer. \n",
        "\n",
        "- The layer’s weights will be initialized using the value returned by the initializer. \n",
        "\n",
        "- At each training step, the weights will be passed to the regularization function to compute the regularization loss, which will be added to the main loss to get the final loss used for training. \n",
        "\n",
        "- Finally, the constraint function will be called after each training step, and the layer’s weights will be replaced by the constrained weights."
      ]
    },
    {
      "cell_type": "code",
      "metadata": {
        "id": "CjEcZCEwyJ1i",
        "colab": {
          "base_uri": "https://localhost:8080/"
        },
        "outputId": "0cda5dfa-cda9-4e67-fb9b-e987a5462fc2"
      },
      "source": [
        "model = keras.models.Sequential([\n",
        "    keras.layers.Dense(30, activation=\"relu\", input_shape=input_shape),\n",
        "    keras.layers.Dense(1, activation=my_softplus,\n",
        "                       kernel_regularizer=my_l1_regularizer,\n",
        "                       kernel_constraint=my_positive_weights,\n",
        "                       kernel_initializer=my_glorot_initializer),\n",
        "])\n",
        "model.compile(loss=\"mse\", optimizer=\"nadam\", metrics=[\"mae\"])\n",
        "model.fit(X_train_scaled, y_train, epochs=2,\n",
        "          validation_data=(X_valid_scaled, y_valid))"
      ],
      "execution_count": 25,
      "outputs": [
        {
          "output_type": "stream",
          "text": [
            "Epoch 1/2\n",
            "363/363 [==============================] - 1s 2ms/step - loss: 1.2683 - mae: 0.7647 - val_loss: inf - val_mae: inf\n",
            "Epoch 2/2\n",
            "363/363 [==============================] - 1s 1ms/step - loss: 0.6426 - mae: 0.5444 - val_loss: inf - val_mae: inf\n"
          ],
          "name": "stdout"
        },
        {
          "output_type": "execute_result",
          "data": {
            "text/plain": [
              "<tensorflow.python.keras.callbacks.History at 0x7fa673c445d0>"
            ]
          },
          "metadata": {
            "tags": []
          },
          "execution_count": 25
        }
      ]
    },
    {
      "cell_type": "code",
      "metadata": {
        "id": "gvpXCzDMyTKc",
        "colab": {
          "base_uri": "https://localhost:8080/"
        },
        "outputId": "477917e7-4838-4ab2-ea1c-71e6f3d29c68"
      },
      "source": [
        "model.save(\"my_model_with_many_custom_parts\")"
      ],
      "execution_count": 26,
      "outputs": [
        {
          "output_type": "stream",
          "text": [
            "INFO:tensorflow:Assets written to: my_model_with_many_custom_parts/assets\n"
          ],
          "name": "stdout"
        }
      ]
    },
    {
      "cell_type": "code",
      "metadata": {
        "id": "JjBAqzmHyToy"
      },
      "source": [
        "model = keras.models.load_model(\n",
        "    \"my_model_with_many_custom_parts\",\n",
        "    custom_objects={\n",
        "       \"my_l1_regularizer\": my_l1_regularizer,\n",
        "       \"my_positive_weights\": my_positive_weights,\n",
        "       \"my_glorot_initializer\": my_glorot_initializer,\n",
        "       \"my_softplus\": my_softplus,\n",
        "    })"
      ],
      "execution_count": 27,
      "outputs": []
    },
    {
      "cell_type": "markdown",
      "metadata": {
        "id": "krqkUufZhYUx"
      },
      "source": [
        "**If a function has some hyperparameters that need to be saved** along with the model, then we will want to **subclass the appropriate class**, such as `keras.regularizers.Regularizer`, `keras.constraints.Constraint`, `keras.initializers.Initializer` or `keras.layers.Layer` (for any layer, including activation functions). For example, much like we did for the custom loss, here is a simple class for $l_1$ regularization, that saves its `factor` hyperparameter (this time we do not need to call the parent constructor or the `get_config()` method, as they are not defined by the parent class):"
      ]
    },
    {
      "cell_type": "code",
      "metadata": {
        "id": "h98vbTy8iDUA"
      },
      "source": [
        "class MyL1Regularizer(keras.regularizers.Regularizer):\n",
        "    def __init__(self, factor):\n",
        "        self.factor = factor\n",
        "    def __call__(self, weights):\n",
        "        return tf.reduce_sum(tf.abs(self.factor * weights))\n",
        "    def get_config(self):\n",
        "        return {\"factor\": self.factor}"
      ],
      "execution_count": 28,
      "outputs": []
    },
    {
      "cell_type": "markdown",
      "metadata": {
        "id": "kVMoEDXmiINf"
      },
      "source": [
        "Note that we must implement the `call()` method for losses, layers (including activation functions), and models, or the `__call__()` method for regularizers, initializers, and constraints. For metrics, things are a bit different, as we will see now."
      ]
    },
    {
      "cell_type": "code",
      "metadata": {
        "id": "e_QD6S5oyjmG",
        "colab": {
          "base_uri": "https://localhost:8080/"
        },
        "outputId": "9f214b49-4dad-4ec7-85a8-2a1ad29315dd"
      },
      "source": [
        "keras.backend.clear_session()\n",
        "\n",
        "model = keras.models.Sequential([\n",
        "    keras.layers.Dense(30, activation=\"relu\", input_shape=input_shape),\n",
        "    keras.layers.Dense(1, activation=my_softplus,\n",
        "                       kernel_regularizer=MyL1Regularizer(0.01),\n",
        "                       kernel_constraint=my_positive_weights,\n",
        "                       kernel_initializer=my_glorot_initializer),\n",
        "])\n",
        "model.compile(loss=\"mse\", optimizer=\"nadam\", metrics=[\"mae\"])\n",
        "model.fit(X_train_scaled, y_train, epochs=2,\n",
        "          validation_data=(X_valid_scaled, y_valid))"
      ],
      "execution_count": 29,
      "outputs": [
        {
          "output_type": "stream",
          "text": [
            "Epoch 1/2\n",
            "363/363 [==============================] - 1s 2ms/step - loss: 1.1123 - mae: 0.7253 - val_loss: inf - val_mae: inf\n",
            "Epoch 2/2\n",
            "363/363 [==============================] - 1s 2ms/step - loss: 0.6057 - mae: 0.5370 - val_loss: 2.3830 - val_mae: 0.5363\n"
          ],
          "name": "stdout"
        },
        {
          "output_type": "execute_result",
          "data": {
            "text/plain": [
              "<tensorflow.python.keras.callbacks.History at 0x7fa66e101490>"
            ]
          },
          "metadata": {
            "tags": []
          },
          "execution_count": 29
        }
      ]
    },
    {
      "cell_type": "code",
      "metadata": {
        "id": "GAn5IKMYywkC",
        "colab": {
          "base_uri": "https://localhost:8080/"
        },
        "outputId": "a833174e-6454-4107-ed6f-f905c9a41f4d"
      },
      "source": [
        "model.save(\"my_model_with_many_custom_parts\")"
      ],
      "execution_count": 30,
      "outputs": [
        {
          "output_type": "stream",
          "text": [
            "INFO:tensorflow:Assets written to: my_model_with_many_custom_parts/assets\n"
          ],
          "name": "stdout"
        }
      ]
    },
    {
      "cell_type": "code",
      "metadata": {
        "id": "T0LMN-gXyzKW"
      },
      "source": [
        "model = keras.models.load_model(\n",
        "    \"my_model_with_many_custom_parts\",\n",
        "    custom_objects={\n",
        "       \"MyL1Regularizer\": MyL1Regularizer,\n",
        "       \"my_positive_weights\": my_positive_weights,\n",
        "       \"my_glorot_initializer\": my_glorot_initializer,\n",
        "       \"my_softplus\": my_softplus,\n",
        "    })"
      ],
      "execution_count": 31,
      "outputs": []
    },
    {
      "cell_type": "markdown",
      "metadata": {
        "id": "x2wtP1qeiQQJ"
      },
      "source": [
        "# Custom metrics <a name=\"5\"></a>"
      ]
    },
    {
      "cell_type": "markdown",
      "metadata": {
        "id": "wXn6s4zGiRdq"
      },
      "source": [
        "Losses and metrics are conceptually not the same things: losses are used by Gradient Descent to train a model, so they must be differentiable (at least where they are evaluated) and their gradients should not be 0 everywhere. Plus, it’s okay if they are not easily interpretable by humans (e.g. cross-entropy). In contrast, metrics are used to evaluate a model, they must be more easily interpretable, and they can be non-differentiable or have 0 gradients everywhere (e.g., accuracy).\n",
        "\n",
        "That said, in most cases, defining a custom metric function is exactly the same as defining a custom loss function. In fact, we could even use the Huber loss function we created earlier as a metric (the Huber loss is seldom used as a metric, the MAE or MSE are preferred), it would work just fine (and persistence would also work the same way, in this case only saving the name of the function, \"`huber_fn`\" ):"
      ]
    },
    {
      "cell_type": "code",
      "metadata": {
        "id": "UZS_WO_VXGNK",
        "colab": {
          "base_uri": "https://localhost:8080/"
        },
        "outputId": "ad2a0f14-06ee-41d9-bfe5-2266ed866e62"
      },
      "source": [
        "model = keras.models.Sequential([\n",
        "    keras.layers.Dense(30, activation=\"relu\", input_shape=input_shape),\n",
        "    keras.layers.Dense(1),\n",
        "])\n",
        "\n",
        "model.compile(loss=\"mse\", optimizer=\"nadam\", metrics=[create_huber(2.0)])\n",
        "# model.compile(loss=create_huber(2.0), optimizer=\"nadam\", metrics=[create_huber(2.0)])\n",
        "\n",
        "history = model.fit(X_train_scaled, y_train, epochs=2)"
      ],
      "execution_count": 32,
      "outputs": [
        {
          "output_type": "stream",
          "text": [
            "Epoch 1/2\n",
            "363/363 [==============================] - 1s 1ms/step - loss: 2.0826 - huber_fn: 0.9243\n",
            "Epoch 2/2\n",
            "363/363 [==============================] - 0s 1ms/step - loss: 0.6068 - huber_fn: 0.2965\n"
          ],
          "name": "stdout"
        }
      ]
    },
    {
      "cell_type": "markdown",
      "metadata": {
        "id": "Ffk3I9nck3_J"
      },
      "source": [
        "For each batch during training, Keras will compute this metric and keep track of its mean since the beginning of the epoch. Most of the time, this is exactly what we want. But not always! \n",
        "\n",
        "Consider a binary classifier’s precision, for example. The precision is the number of true positives divided by the number of positive predictions (including both true positives and false positives). Suppose the model made 5 positive predictions in the first batch, 4 of which were correct: that’s 80% precision. Then suppose the model made 3 positive predictions in the second batch, but they were all incorrect: that’s 0% precision for the second batch. If we just compute the mean of these two precisions, we get 40%. But wait for a second, this is not the model’s precision over these two batches! Indeed, there were a total of 4 true positives (4 + 0) out of 8 positive predictions (5 + 3), so the overall precision is 50%, not 40%.\n",
        "\n",
        "What we need is an object that can keep track of the number of true positives and the number of false positives, and compute their ratio when requested. This is precisely what the `keras.metrics.Precision` class does:"
      ]
    },
    {
      "cell_type": "code",
      "metadata": {
        "id": "qf35Tj3zlRpn",
        "colab": {
          "base_uri": "https://localhost:8080/"
        },
        "outputId": "29842bd9-51d2-4f0a-8dd6-1c2a7760a421"
      },
      "source": [
        "precision = tf.keras.metrics.Precision()\n",
        "print(precision([0, 1, 1, 1, 0, 1, 0, 1], [1, 1, 0, 1, 0, 1, 0, 1]))\n",
        "print(precision([0, 1, 0, 0, 1, 0, 1, 1], [1, 0, 1, 1, 0, 0, 0, 0]))\n"
      ],
      "execution_count": 33,
      "outputs": [
        {
          "output_type": "stream",
          "text": [
            "tf.Tensor(0.8, shape=(), dtype=float32)\n",
            "tf.Tensor(0.5, shape=(), dtype=float32)\n"
          ],
          "name": "stdout"
        }
      ]
    },
    {
      "cell_type": "markdown",
      "metadata": {
        "id": "u7hsAIrFlnDg"
      },
      "source": [
        "In this example, we created a `Precision` object, then we used it as a function, passing it the labels and predictions for the first batch, then for the second batch (note that we could also have passed sample weights). We used the same number of true and false positives as in the example we just discussed. After the first batch, it returns the precision of 80%, then after the second batch, it returns 50% (which is the overall precision so far, not the second batch’s precision). This is called a streaming metric (or stateful metric), as it is gradually updated, batch after batch.\n",
        "\n",
        "At any point, we can call the `result()` method to get the current value of the metric. We can also look at its variables (tracking the number of true and false positives) using the `variables` attribute, and reset these variables using the `reset_states()` method:"
      ]
    },
    {
      "cell_type": "code",
      "metadata": {
        "id": "vScyDr4Unvhb",
        "colab": {
          "base_uri": "https://localhost:8080/"
        },
        "outputId": "0c636365-2fc1-4ce5-8377-50ec26a8667b"
      },
      "source": [
        "print(precision.result().numpy())\n",
        "print(precision.variables)\n",
        "precision.reset_states()"
      ],
      "execution_count": 34,
      "outputs": [
        {
          "output_type": "stream",
          "text": [
            "0.5\n",
            "[<tf.Variable 'true_positives:0' shape=(1,) dtype=float32, numpy=array([4.], dtype=float32)>, <tf.Variable 'false_positives:0' shape=(1,) dtype=float32, numpy=array([4.], dtype=float32)>]\n"
          ],
          "name": "stdout"
        }
      ]
    },
    {
      "cell_type": "markdown",
      "metadata": {
        "id": "ApEVawXon99J"
      },
      "source": [
        "If we need to create such a streaming metric, we can just create a subclass of the `keras.metrics.Metric` class. Here is a simple example that keeps track of the total Huber loss and the number of instances seen so far. When asked for the result, it returns the ratio, which is simply the mean Huber loss:"
      ]
    },
    {
      "cell_type": "code",
      "metadata": {
        "id": "2UpOIukIh_y_"
      },
      "source": [
        "class HuberMetric(keras.metrics.Metric):\n",
        "    def __init__(self, threshold=1.0, **kwargs):\n",
        "        super().__init__(**kwargs)\n",
        "        self.threshold = threshold\n",
        "        self.huber_fn = create_huber(threshold)\n",
        "        self.total = self.add_weight(\"total\", initializer=\"zeros\")\n",
        "        self.count = self.add_weight(\"count\", initializer=\"zeros\")\n",
        "    def update_state(self, y_true, y_pred, sample_weight=None):\n",
        "        metric = self.huber_fn(y_true, y_pred)\n",
        "        self.total.assign_add(tf.reduce_sum(metric))\n",
        "        self.count.assign_add(tf.cast(tf.size(y_true), tf.float32))\n",
        "    def result(self):\n",
        "        return self.total / self.count\n",
        "    def get_config(self):\n",
        "        base_config = super().get_config()\n",
        "        return {**base_config, \"threshold\": self.threshold}"
      ],
      "execution_count": 35,
      "outputs": []
    },
    {
      "cell_type": "markdown",
      "metadata": {
        "id": "FFV3_IaGoUYi"
      },
      "source": [
        "- The constructor uses the `add_weight()` method to create the variables needed to keep track of the metric’s state over multiple batches, in this case, the sum of all Huber losses (`total`) and the number of instances seen so far (`count`). We could just create variables manually if we preferred. Keras tracks any `tf.Variable` that is set as an attribute (and more generally, any \"trackable\" object, such as layers or models).\n",
        "\n",
        "- The `update_state()` method is called when we use an instance of this class as a function (as we did with the `Precision` object). It updates the variables given the labels and predictions for one batch (and sample weights, but in this case we just ignore them).\n",
        "\n",
        "- The `result()` method computes and returns the final result, in this case just the mean Huber metric over all instances. When we use the metric as a function, the `update_state()` method gets called first, then the `result()` method is called, and its output is returned.\n",
        "\n",
        "- We also implement the `get_config()` method to ensure the `threshold` gets saved along with the model.\n",
        "\n",
        "- The default implementation of the `reset_states()` method just resets all variables to 0.0 (but we can override it if needed).\n",
        "\n",
        "When we define a metric using a simple function, Keras automatically calls it for each batch, and it keeps track of the mean during each epoch, just like we did manually. So the only benefit of our `HuberMetric` class is that the `threshold` will be saved. But of course, some metrics, like precision, cannot simply be averaged over batches: in those cases, there’s no other option than to implement a streaming metric."
      ]
    },
    {
      "cell_type": "code",
      "metadata": {
        "id": "16hEc8xqaLCi"
      },
      "source": [
        "input_shape = X_train.shape[1:]\n",
        "model = keras.models.Sequential([\n",
        "    keras.layers.Dense(30, activation=\"relu\", input_shape=input_shape),\n",
        "    keras.layers.Dense(1),\n",
        "])"
      ],
      "execution_count": 36,
      "outputs": []
    },
    {
      "cell_type": "code",
      "metadata": {
        "id": "J1QeVNMOaN-Y",
        "colab": {
          "base_uri": "https://localhost:8080/"
        },
        "outputId": "ab47f00b-8acc-4080-dfbe-d569c0dd205f"
      },
      "source": [
        "model.compile(loss=create_huber(2.0), optimizer=\"nadam\", metrics=[HuberMetric(2.0)])\n",
        "\n",
        "history = model.fit(X_train_scaled.astype(np.float32), y_train.astype(np.float32),\n",
        "                    epochs=2)"
      ],
      "execution_count": 37,
      "outputs": [
        {
          "output_type": "stream",
          "text": [
            "Epoch 1/2\n",
            "363/363 [==============================] - 1s 1ms/step - loss: 0.7665 - huber_metric: 0.7665\n",
            "Epoch 2/2\n",
            "363/363 [==============================] - 0s 1ms/step - loss: 0.2811 - huber_metric: 0.2811\n"
          ],
          "name": "stdout"
        }
      ]
    },
    {
      "cell_type": "code",
      "metadata": {
        "id": "npOS0a_laPYF",
        "colab": {
          "base_uri": "https://localhost:8080/"
        },
        "outputId": "d2215ff4-5ee7-40f9-e5f0-ac931fb9dbff"
      },
      "source": [
        "model.save(\"my_model_with_a_custom_metric\")"
      ],
      "execution_count": 38,
      "outputs": [
        {
          "output_type": "stream",
          "text": [
            "INFO:tensorflow:Assets written to: my_model_with_a_custom_metric/assets\n"
          ],
          "name": "stdout"
        }
      ]
    },
    {
      "cell_type": "code",
      "metadata": {
        "id": "nwnjLnhrtpkH"
      },
      "source": [
        "model = keras.models.load_model(\"/content/my_model_with_a_custom_metric\",\n",
        "                               custom_objects={\"huber_fn\": create_huber(2.0),\n",
        "                                               \"HuberMetric\": HuberMetric})"
      ],
      "execution_count": 39,
      "outputs": []
    },
    {
      "cell_type": "code",
      "metadata": {
        "id": "qZOWTMCSt2Ii",
        "colab": {
          "base_uri": "https://localhost:8080/"
        },
        "outputId": "7de53a7b-9700-48e2-e6d1-0888669c731d"
      },
      "source": [
        "model.fit(X_train_scaled.astype(np.float32), y_train.astype(np.float32), epochs=2)"
      ],
      "execution_count": 40,
      "outputs": [
        {
          "output_type": "stream",
          "text": [
            "Epoch 1/2\n",
            "363/363 [==============================] - 1s 1ms/step - loss: 0.2220 - huber_metric: 0.2220\n",
            "Epoch 2/2\n",
            "363/363 [==============================] - 0s 1ms/step - loss: 0.2013 - huber_metric: 0.2013\n"
          ],
          "name": "stdout"
        },
        {
          "output_type": "execute_result",
          "data": {
            "text/plain": [
              "<tensorflow.python.keras.callbacks.History at 0x7fa66f8b1450>"
            ]
          },
          "metadata": {
            "tags": []
          },
          "execution_count": 40
        }
      ]
    },
    {
      "cell_type": "code",
      "metadata": {
        "id": "iHhatZr6t62q",
        "colab": {
          "base_uri": "https://localhost:8080/"
        },
        "outputId": "e50bb610-877a-44a3-d860-9271d6766df1"
      },
      "source": [
        "model.metrics[-1].threshold"
      ],
      "execution_count": 41,
      "outputs": [
        {
          "output_type": "execute_result",
          "data": {
            "text/plain": [
              "2.0"
            ]
          },
          "metadata": {
            "tags": []
          },
          "execution_count": 41
        }
      ]
    },
    {
      "cell_type": "markdown",
      "metadata": {
        "id": "W0sPbIzvvxhm"
      },
      "source": [
        "Alternatively, we could have created the class in this way, which also supports sample weights."
      ]
    },
    {
      "cell_type": "code",
      "metadata": {
        "id": "kTYB-2Aqv7J4"
      },
      "source": [
        "class HuberMetric(keras.metrics.Mean):\n",
        "    def __init__(self, threshold=1.0, name='HuberMetric', dtype=None):\n",
        "        self.threshold = threshold\n",
        "        self.huber_fn = create_huber(threshold)\n",
        "        super().__init__(name=name, dtype=dtype)\n",
        "    def update_state(self, y_true, y_pred, sample_weight=None):\n",
        "        metric = self.huber_fn(y_true, y_pred)\n",
        "        super(HuberMetric, self).update_state(metric, sample_weight)\n",
        "    def get_config(self):\n",
        "        base_config = super().get_config()\n",
        "        return {**base_config, \"threshold\": self.threshold}"
      ],
      "execution_count": 42,
      "outputs": []
    },
    {
      "cell_type": "markdown",
      "metadata": {
        "id": "D8RMLKUApHUt"
      },
      "source": [
        "# Custom layers <a name=\"6\"></a>"
      ]
    },
    {
      "cell_type": "markdown",
      "metadata": {
        "id": "SQ3ZNJN9pMMC"
      },
      "source": [
        "We may occasionally want to build an architecture that contains an exotic layer for which TensorFlow does not provide a default implementation. In this case, we will need to create a custom layer. Or sometimes we may simply want to build a very repetitive architecture, containing identical blocks of layers repeated many times, and it would be convenient to treat each block of layers as a single layer. For instance, in a ResNet50 model, we would have several ResNet blocks subclassing `Layer`, and a single `Model` encompassing the entire ResNet50 network.\n",
        "\n",
        "First, some layers have no weights, such as `keras.layers.Flatten` or `keras.layers.ReLU`. If we want to create a custom layer without any weights, the simplest option is to write a function and wrap it in a `keras.layers.Lambda layer`. For example, the following layer will apply the exponential function to its inputs:"
      ]
    },
    {
      "cell_type": "code",
      "metadata": {
        "id": "evZTX6gpmE-1",
        "colab": {
          "base_uri": "https://localhost:8080/"
        },
        "outputId": "db0fef1f-248b-4350-d186-8e057f456971"
      },
      "source": [
        "exponential_layer = keras.layers.Lambda(lambda x: tf.exp(x))\n",
        "exponential_layer([-1., 0., 1.])"
      ],
      "execution_count": 43,
      "outputs": [
        {
          "output_type": "execute_result",
          "data": {
            "text/plain": [
              "<tf.Tensor: shape=(3,), dtype=float32, numpy=array([0.36787945, 1.        , 2.7182817 ], dtype=float32)>"
            ]
          },
          "metadata": {
            "tags": []
          },
          "execution_count": 43
        }
      ]
    },
    {
      "cell_type": "markdown",
      "metadata": {
        "id": "QC6eFANQmb-4"
      },
      "source": [
        "This custom layer can then be used like any other layer, using the sequential API, the functional API, or the subclassing API. We can also use it as an activation function (or we could just use `activation=tf.exp`, or `activation=keras.activations.exponential`, or simply `activation=\"exponential\"` ). The exponential layer is sometimes used in the output layer of a regression model when the values to predict have very different scales (e.g., $0.001$, $10.$, $1000.$).\n",
        "\n",
        "To build a custom stateful layer (i.e., a layer with weights), we need to create a subclass of the `keras.layers.Layer` class. For example, the following class implements a simplified version of the Dense layer:"
      ]
    },
    {
      "cell_type": "code",
      "metadata": {
        "id": "9xuM5O-jm4ti"
      },
      "source": [
        "class MyDense(keras.layers.Layer):\n",
        "    def __init__(self, units, activation=None, **kwargs):\n",
        "        super().__init__(**kwargs)\n",
        "        self.units = units\n",
        "        self.activation = keras.activations.get(activation)\n",
        "\n",
        "    def build(self, batch_input_shape):\n",
        "        self.kernel = self.add_weight(\n",
        "            name=\"kernel\", \n",
        "            shape=[batch_input_shape[-1], self.units],\n",
        "            initializer=\"glorot_normal\", \n",
        "            trainable=True\n",
        "        )\n",
        "        self.bias = self.add_weight(\n",
        "            name=\"bias\", \n",
        "            shape=[self.units], \n",
        "            initializer=\"zeros\", \n",
        "            trainable=True\n",
        "        )\n",
        "\n",
        "    def call(self, X):\n",
        "        return self.activation(X @ self.kernel + self.bias)\n",
        "\n",
        "    def compute_output_shape(self, batch_input_shape):\n",
        "        return tf.TensorShape(batch_input_shape.as_list()[:-1] + [self.units])\n",
        "\n",
        "    def get_config(self):\n",
        "        base_config = super().get_config()\n",
        "        return {**base_config, \"units\": self.units,\n",
        "                \"activation\": keras.activations.serialize(self.activation)}"
      ],
      "execution_count": 44,
      "outputs": []
    },
    {
      "cell_type": "markdown",
      "metadata": {
        "id": "DduKzvv9u0cJ"
      },
      "source": [
        "- The constructor takes all the hyperparameters as arguments (in this example just `units` and `activation`), and it also takes a `**kwargs` argument. It calls the parent constructor, passing it the `kwargs`: this takes care of standard arguments such as `input_shape`, `trainable`, `name`, and so on. Then it saves the hyperparameters as attributes, converting the `activation` argument to the appropriate activation function using the `keras.activations.get()` function (it accepts functions, standard strings like `\"relu\"` or `\"selu\"` , or simply `None`) (this function is specific to `tf.keras`, we could use `keras.activations.Activation` instead).\n",
        "\n",
        "- The `build()` method’s role is to create the layer’s variables, by calling the `add_weight()` method for each weight. The `build()` method is called the first time the layer is called. At that point, Keras will know the shape of this layer’s inputs, and it will pass it to the `build()` method (the Keras API calls this argument `input_shape`, but since it also includes the batch dimension, we prefer to call it `batch_input_shape`), which is often necessary to create some of the weights. For example, we need to know the number of neurons in the previous layer in order to create the connection weights matrix (i.e., the `\"kernel\"`): this corresponds to the size of the last dimension of the inputs.\n",
        "\n",
        "- The `call()` method actually performs the desired operations. In this case, we compute the matrix multiplication of the inputs `X` and the layer’s kernel, we add the bias vector, we apply the activation function to the result, and this gives us the output of the layer.\n",
        "\n",
        "- The `compute_output_shape()` method simply returns the shape of this layer’s outputs. In this case, it is the same shape as the inputs, except the last dimension is replaced with the number of neurons in the layer. Note that in `tf.keras`, shapes are instances of the `tf.TensorShape` class, which we can convert to Python lists using `as_list()`.\n",
        "\n",
        "- The `get_config()` method is just like earlier. Note that we save the activation function’s full configuration by calling `keras.activations.serialize()` . \n",
        "\n",
        "We can now use a `MyDense` layer just like any other layer!"
      ]
    },
    {
      "cell_type": "code",
      "metadata": {
        "id": "oCnQxV_0m7UQ",
        "colab": {
          "base_uri": "https://localhost:8080/"
        },
        "outputId": "5ea65f8f-12bb-463f-b243-66ca22eba4cc"
      },
      "source": [
        "model = keras.models.Sequential([\n",
        "    MyDense(30, activation=\"relu\", input_shape=input_shape),\n",
        "    MyDense(1)\n",
        "])\n",
        "\n",
        "model.compile(loss=\"mse\", optimizer=\"nadam\")\n",
        "model.fit(X_train_scaled, y_train, epochs=2,\n",
        "          validation_data=(X_valid_scaled, y_valid))\n",
        "model.evaluate(X_test_scaled, y_test)"
      ],
      "execution_count": 45,
      "outputs": [
        {
          "output_type": "stream",
          "text": [
            "Epoch 1/2\n",
            "363/363 [==============================] - 1s 2ms/step - loss: 1.1882 - val_loss: 2.1264\n",
            "Epoch 2/2\n",
            "363/363 [==============================] - 0s 1ms/step - loss: 0.5879 - val_loss: 0.9615\n",
            "162/162 [==============================] - 0s 811us/step - loss: 0.4988\n"
          ],
          "name": "stdout"
        },
        {
          "output_type": "execute_result",
          "data": {
            "text/plain": [
              "0.4987967908382416"
            ]
          },
          "metadata": {
            "tags": []
          },
          "execution_count": 45
        }
      ]
    },
    {
      "cell_type": "markdown",
      "metadata": {
        "id": "GgXyrvHcwkHR"
      },
      "source": [
        "**Note**: We can generally omit the `compute_output_shape()` method, as `tf.keras` automatically infers the output shape, except when the layer is dynamic.\n",
        "\n",
        "To create a layer with multiple inputs (e.g., `Concatenate`), the argument to the `call()` method should be a tuple containing all the inputs, and similarly, the argument to the `compute_output_shape()` method should be a tuple containing each input’s batch shape. To create a layer with multiple outputs, the `call()` method should return the list of outputs, and the `compute_output_shape()` should return the list of batch output shapes (one per output). For example, the following toy layer takes two inputs and returns two outputs:"
      ]
    },
    {
      "cell_type": "code",
      "metadata": {
        "id": "nbONCkpKyP4t"
      },
      "source": [
        "class MyMultiLayer(keras.layers.Layer):\n",
        "    def call(self, X):\n",
        "        X1, X2 = X\n",
        "        return X1 + X2, X1 * X2\n",
        "\n",
        "    def compute_output_shape(self, batch_input_shape):\n",
        "        batch_input_shape1, batch_input_shape2 = batch_input_shape\n",
        "        return [batch_input_shape1, batch_input_shape2]"
      ],
      "execution_count": 46,
      "outputs": []
    },
    {
      "cell_type": "markdown",
      "metadata": {
        "id": "JoenicroxD3N"
      },
      "source": [
        "This layer may now be used like any other layer, but of course only using the functional and subclassing APIs, not the sequential API (which only accepts layers with one input and one output)."
      ]
    },
    {
      "cell_type": "code",
      "metadata": {
        "id": "I-tP7r7qxESA"
      },
      "source": [
        "inputs1 = keras.layers.Input(shape=[2])\n",
        "inputs2 = keras.layers.Input(shape=[2])\n",
        "outputs1, outputs2 = MyMultiLayer()((inputs1, inputs2))"
      ],
      "execution_count": 47,
      "outputs": []
    },
    {
      "cell_type": "markdown",
      "metadata": {
        "id": "Fb3vmfNuxKVR"
      },
      "source": [
        "If our layer needs to have a different behavior during training and during testing (e.g., if it uses `Dropout` or `BatchNormalization` layers), then we must add a `training` argument to the `call()` method and use this argument to decide what to do. For example, let’s create a layer that adds Gaussian noise during training (for regularization), but does nothing during testing (Keras actually has a layer that does the same thing: `keras.layers.GaussianNoise`):"
      ]
    },
    {
      "cell_type": "code",
      "metadata": {
        "id": "O6agXABQxUTG"
      },
      "source": [
        "class AddGaussianNoise(keras.layers.Layer):\n",
        "    def __init__(self, stddev, **kwargs):\n",
        "        super().__init__(**kwargs)\n",
        "        self.stddev = stddev\n",
        "\n",
        "    def call(self, X, training=None):\n",
        "        if training:\n",
        "            noise = tf.random.normal(tf.shape(X), stddev=self.stddev)\n",
        "            return X + noise\n",
        "        else:\n",
        "            return X\n",
        "\n",
        "    def compute_output_shape(self, batch_input_shape):\n",
        "        return batch_input_shape"
      ],
      "execution_count": 48,
      "outputs": []
    },
    {
      "cell_type": "code",
      "metadata": {
        "id": "Otrq5AGnxY8V",
        "colab": {
          "base_uri": "https://localhost:8080/"
        },
        "outputId": "f16c3b38-d047-4779-a3d8-effef7e77ac8"
      },
      "source": [
        "model.compile(loss=\"mse\", optimizer=\"nadam\")\n",
        "model.fit(X_train_scaled, y_train, epochs=2,\n",
        "          validation_data=(X_valid_scaled, y_valid))\n",
        "model.evaluate(X_test_scaled, y_test)"
      ],
      "execution_count": 49,
      "outputs": [
        {
          "output_type": "stream",
          "text": [
            "Epoch 1/2\n",
            "363/363 [==============================] - 1s 2ms/step - loss: 0.4809 - val_loss: 1.4488\n",
            "Epoch 2/2\n",
            "363/363 [==============================] - 1s 2ms/step - loss: 0.4220 - val_loss: 0.8684\n",
            "162/162 [==============================] - 0s 853us/step - loss: 0.3980\n"
          ],
          "name": "stdout"
        },
        {
          "output_type": "execute_result",
          "data": {
            "text/plain": [
              "0.39801305532455444"
            ]
          },
          "metadata": {
            "tags": []
          },
          "execution_count": 49
        }
      ]
    },
    {
      "cell_type": "markdown",
      "metadata": {
        "id": "sEf-7KCIy0TP"
      },
      "source": [
        "More information about building custom layers is available [here](https://www.tensorflow.org/guide/keras/custom_layers_and_models)."
      ]
    },
    {
      "cell_type": "markdown",
      "metadata": {
        "id": "mZ1guxUopMVm"
      },
      "source": [
        "# Custom models <a name=\"7\"></a>"
      ]
    },
    {
      "cell_type": "markdown",
      "metadata": {
        "id": "JBV3gfYvpPtx"
      },
      "source": [
        "We already looked at custom model classes when we discussed the subclassing API (see [notebook](https://nbviewer.jupyter.org/github/victorviro/Deep_learning_python/blob/master/Keras_Functional_API.ipynb#The-Subclassing-API)). It is actually quite straightforward, just subclass the `keras.models.Model` class, create layers and variables in the constructor, and implement the `call()` method to do whatever you want the model to do. For example, suppose we want to build the model represented in the next figure:\n",
        "\n",
        "![](https://i.ibb.co/NTvMVbt/custom-model.png)\n",
        "\n",
        "The inputs go through a first dense layer, then through a residual block composed of two dense layers and an addition operation (a residual block adds its inputs to its outputs), then through this same residual block 3 more times, then through a second residual block, and the final result goes through a dense output layer. This model does not make much sense, it’s just an example to illustrate the fact that we can easily build any kind of model we want, even containing loops and skip connections. To implement this model, it is best to first create a `ResidualBlock` layer, since we are going to create a couple of identical blocks (and we might want to reuse it in another model):"
      ]
    },
    {
      "cell_type": "code",
      "metadata": {
        "id": "BSC3sWwLp2zu"
      },
      "source": [
        "class ResidualBlock(keras.layers.Layer):\n",
        "    def __init__(self, n_layers, n_neurons, **kwargs):\n",
        "        super().__init__(**kwargs)\n",
        "        self.hidden = [keras.layers.Dense(n_neurons, activation=\"relu\")\n",
        "                       for _ in range(n_layers)]\n",
        "\n",
        "    def call(self, inputs):\n",
        "        Z = inputs\n",
        "        for layer in self.hidden:\n",
        "            Z = layer(Z)\n",
        "        return inputs + Z"
      ],
      "execution_count": 50,
      "outputs": []
    },
    {
      "cell_type": "markdown",
      "metadata": {
        "id": "QBuOdK1Ep4sn"
      },
      "source": [
        "This layer is a bit special since it contains other layers. This is handled transparently by Keras: it automatically detects that the hidden attribute contains trackable objects (layers in this case), so their variables are automatically added to this layer’s list of variables. Next, let’s use the subclassing API to define the model itself:"
      ]
    },
    {
      "cell_type": "code",
      "metadata": {
        "id": "JTztNal4qCIf"
      },
      "source": [
        "class ResidualRegressor(keras.models.Model):\n",
        "    def __init__(self, output_dim, **kwargs):\n",
        "        super().__init__(**kwargs)\n",
        "        self.hidden1 = keras.layers.Dense(30, activation=\"relu\")\n",
        "        self.block1 = ResidualBlock(2, 30)\n",
        "        self.block2 = ResidualBlock(2, 30)\n",
        "        self.out = keras.layers.Dense(output_dim)\n",
        "\n",
        "    def call(self, inputs):\n",
        "        Z = self.hidden1(inputs)\n",
        "        for _ in range(1 + 3):\n",
        "            Z = self.block1(Z)\n",
        "        Z = self.block2(Z)\n",
        "        return self.out(Z)"
      ],
      "execution_count": 51,
      "outputs": []
    },
    {
      "cell_type": "markdown",
      "metadata": {
        "id": "VOI749ZXqNLm"
      },
      "source": [
        "We create the layers in the constructor and use them in the `call()` method. This model can then be used like any other model (compile it, fit it, evaluate it, and use it to make predictions). If we also want to be able to save the model using the `save()` method, and load it using the `keras.models.load_model()` function, we must implement the `get_config()` method (as we did earlier) in both the `ResidualBlock` class and the `ResidualRegressor` class. Alternatively, we can just save and load the weights using the `save_weights()` and `load_weights()` methods.\n",
        "\n",
        "The `Model` class is actually a subclass of the `Layer` class, so models can be defined and used exactly like layers. But a model also has some extra functionalities, including of course its `compile()`, `fit()`, `evaluate()` and `predict()` methods (and a few variants, such as `train_on_batch()` or `fit_generator()`), plus the `get_layers()` method (which can return any of the model’s layers by name or by index), and the `save()` method (and support for `keras.models.load_model()` and `keras.models.clone_model()`). So if models provide more functionalities than layers, why not just define every layer as a model? Well, technically we could, but it is probably cleaner to distinguish the internal components of our model (layers or reusable blocks of layers) from the model itself. The former should subclass the `Layer` class, while the latter should subclass the `Model` class."
      ]
    },
    {
      "cell_type": "code",
      "metadata": {
        "id": "6btFM0DDqDyB",
        "colab": {
          "base_uri": "https://localhost:8080/"
        },
        "outputId": "a2a84a52-7078-4296-ddf9-16ca78148e46"
      },
      "source": [
        "keras.backend.clear_session()\n",
        "np.random.seed(42)\n",
        "tf.random.set_seed(42)\n",
        "\n",
        "X_new_scaled = X_test_scaled\n",
        "\n",
        "model = ResidualRegressor(1)\n",
        "model.compile(loss=\"mse\", optimizer=\"nadam\")\n",
        "history = model.fit(X_train_scaled, y_train, epochs=3)\n",
        "score = model.evaluate(X_test_scaled, y_test)\n",
        "y_pred = model.predict(X_new_scaled)"
      ],
      "execution_count": 52,
      "outputs": [
        {
          "output_type": "stream",
          "text": [
            "Epoch 1/3\n",
            "363/363 [==============================] - 2s 2ms/step - loss: 0.6565\n",
            "Epoch 2/3\n",
            "363/363 [==============================] - 1s 2ms/step - loss: 0.4053\n",
            "Epoch 3/3\n",
            "363/363 [==============================] - 1s 2ms/step - loss: 0.4049\n",
            "162/162 [==============================] - 0s 1ms/step - loss: 0.3433\n"
          ],
          "name": "stdout"
        }
      ]
    },
    {
      "cell_type": "markdown",
      "metadata": {
        "id": "3HtIqCTc0UUf"
      },
      "source": [
        "We could have defined the model using the sequential API instead:"
      ]
    },
    {
      "cell_type": "code",
      "metadata": {
        "id": "Zy9WUv6U0We3"
      },
      "source": [
        "block1 = ResidualBlock(2, 30)\n",
        "model = keras.models.Sequential([\n",
        "    keras.layers.Dense(30, activation=\"elu\", kernel_initializer=\"he_normal\"),\n",
        "    block1, block1, block1, block1,\n",
        "    ResidualBlock(2, 30),\n",
        "    keras.layers.Dense(1)\n",
        "])"
      ],
      "execution_count": 53,
      "outputs": []
    },
    {
      "cell_type": "markdown",
      "metadata": {
        "id": "p6kvQOT1pPqc"
      },
      "source": [
        "With that, we can quite naturally and concisely build almost any model that we want, either using the sequential API, the functional API, the subclassing API, or even a mix of these. More information about building custom models is available [here](https://www.tensorflow.org/guide/keras/custom_layers_and_models#the_model_class)."
      ]
    },
    {
      "cell_type": "markdown",
      "metadata": {
        "id": "SZv-DGHfpYfX"
      },
      "source": [
        "# Custom training loops <a name=\"8\"></a> "
      ]
    },
    {
      "cell_type": "markdown",
      "metadata": {
        "id": "oeja-KT4pYbJ"
      },
      "source": [
        "In some rare cases, the `fit()` method may not be flexible enough for what we need to do. For example, if we want to use two different optimizers. Since the `fit()` method only uses one optimizer (the one that we specify when compiling the model), implementing this requires writing our own custom loop.\n",
        "\n",
        "We may also like to write our own custom training loops simply to feel more confident that it does precisely what we intended it to do. However, writing a custom training loop will make our code longer, more error-prone, and harder to maintain. Unless we really need the extra flexibility, we should prefer using the `fit()` method rather than implementing our own training loop.\n",
        "\n",
        "First, let’s build a simple model. No need to compile it, since we will handle the training loop manually:"
      ]
    },
    {
      "cell_type": "code",
      "metadata": {
        "id": "ChWIRdO7s_X4"
      },
      "source": [
        "keras.backend.clear_session()\n",
        "np.random.seed(42)\n",
        "tf.random.set_seed(42)\n",
        "\n",
        "l2_reg = keras.regularizers.l2(0.05)\n",
        "model = keras.models.Sequential([\n",
        "    keras.layers.Dense(30, activation=\"relu\", kernel_regularizer=l2_reg),\n",
        "    keras.layers.Dense(1, kernel_regularizer=l2_reg)\n",
        "])"
      ],
      "execution_count": 54,
      "outputs": []
    },
    {
      "cell_type": "markdown",
      "metadata": {
        "id": "iMME6pUVtDMy"
      },
      "source": [
        "Next, let's prepare the datasets for training and validation."
      ]
    },
    {
      "cell_type": "code",
      "metadata": {
        "id": "uZOlCpvCtDkT"
      },
      "source": [
        "batch_size = 32\n",
        "# Prepare the training dataset\n",
        "train_dataset = tf.data.Dataset.from_tensor_slices((X_train_scaled, y_train))\n",
        "train_dataset = train_dataset.shuffle(buffer_size=1024).batch(batch_size)\n",
        "# Prepare the validation dataset\n",
        "val_dataset = tf.data.Dataset.from_tensor_slices((X_valid_scaled, y_valid))\n",
        "val_dataset = val_dataset.batch(batch_size)"
      ],
      "execution_count": 55,
      "outputs": []
    },
    {
      "cell_type": "markdown",
      "metadata": {
        "id": "PMK0tK_AtGlK"
      },
      "source": [
        "Let’s define some hyperparameters, choose the optimizer, the loss function, and the metrics (just the MAE in this example):"
      ]
    },
    {
      "cell_type": "code",
      "metadata": {
        "id": "YJ5h0UrstTxZ"
      },
      "source": [
        "n_epochs = 2\n",
        "n_steps = len(X_train) // batch_size\n",
        "progress_bar_values_names = ['loss', 'mse']\n",
        "optimizer = keras.optimizers.Nadam(learning_rate=0.01)\n",
        "loss_fn = keras.losses.MeanSquaredError()\n",
        "train_metric = keras.metrics.MeanAbsoluteError()\n",
        "val_metric = keras.metrics.MeanAbsoluteError()"
      ],
      "execution_count": 56,
      "outputs": []
    },
    {
      "cell_type": "markdown",
      "metadata": {
        "id": "nxvStbACsrZ3"
      },
      "source": [
        "And now we are ready to build the custom loop:"
      ]
    },
    {
      "cell_type": "code",
      "metadata": {
        "colab": {
          "base_uri": "https://localhost:8080/"
        },
        "id": "aP39p10Xx-wR",
        "outputId": "5b08ecaf-5b07-470c-da99-0b11c828fdcc"
      },
      "source": [
        "for epoch in range(1, n_epochs + 1):\n",
        "    print(f\"Epoch {epoch}/{n_epochs}\")\n",
        "    progbar = tf.keras.utils.Progbar(\n",
        "        target=n_steps, \n",
        "        stateful_metrics=progress_bar_values_names\n",
        "    )\n",
        "    for step, (x_batch_train, y_batch_train) in enumerate(train_dataset):\n",
        "        # Open a GradientTape to record the ops run during the forward pass\n",
        "        with tf.GradientTape() as tape:\n",
        "            y_pred = model(x_batch_train, training=True)\n",
        "            # Compute the loss for this minibatch\n",
        "            main_loss = loss_fn(y_batch_train, y_pred)\n",
        "            loss = tf.add_n([main_loss] + model.losses)\n",
        "\n",
        "        # Compute gradients of the trainable variables with respect to the loss\n",
        "        gradients = tape.gradient(loss, model.trainable_weights)\n",
        "        # Gradient descent step to update the weights to minimize the loss\n",
        "        optimizer.apply_gradients(zip(gradients, model.trainable_weights))\n",
        "        # Update training metric\n",
        "        train_metric.update_state(y_batch_train, y_pred)\n",
        "        values = [('loss', loss), ('mse', train_metric.result())]\n",
        "        progbar.update(step, values)\n",
        "    # Display metrics at the end of each epoch\n",
        "    train_mae = train_metric.result()\n",
        "    print(f\"Training mse over epoch: {float(train_mae):.4f}\")\n",
        "    # Reset training metric at the end of each epoch\n",
        "    train_metric.reset_states()\n",
        "\n",
        "    # Run a validation loop at the end of each epoch\n",
        "    for x_batch_val, y_batch_val in val_dataset:\n",
        "        y_pred_val = model(x_batch_val, training=False)\n",
        "        # Update val metric\n",
        "        val_metric.update_state(y_batch_val, y_pred_val)\n",
        "    val_mae = val_metric.result()\n",
        "    val_metric.reset_states()\n",
        "    print(f\"Validation mse: {float(val_mae):.4f}\")"
      ],
      "execution_count": 57,
      "outputs": [
        {
          "output_type": "stream",
          "text": [
            "Epoch 1/2\n",
            "362/362 [==============================] - 4s 12ms/step - loss: 0.5262 - mse: 0.5764\n",
            "Training mse over epoch: 0.5764\n",
            "Validation mse: 0.5220\n",
            "Epoch 2/2\n",
            "362/362 [==============================] - 4s 11ms/step - loss: 0.3898 - mse: 0.5093\n",
            "Training mse over epoch: 0.5093\n",
            "Validation mse: 0.4736\n"
          ],
          "name": "stdout"
        }
      ]
    },
    {
      "cell_type": "markdown",
      "metadata": {
        "id": "1TL5Xk5rG77W"
      },
      "source": [
        "- We create two nested loops: one for the epochs, the other for the batches within an epoch. We use `tf.keras.utils.Progbar` to display a progress bar during each epoch. \n",
        "\n",
        "- Inside the `tf.GradientTape()` block, we make a prediction for one batch (using the model as a function), and we compute the loss: it is equal to the main loss (mse) plus the other losses (in this model, there is one regularization loss per layer). The `tf.add_n()` sums multiple tensors of the same shape and data type.\n",
        "\n",
        "- Next, we ask the tape to compute the gradient of the loss with regards to each trainable variable, and we apply them to the optimizer to perform a Gradient Descent step. An explanation about how TensorFlow's autodiff works is available in the notebook [Tensorflow's autodifferentiation](https://nbviewer.jupyter.org/github/victorviro/Deep_learning_python/blob/master/TensorFlow%E2%80%99s_autodifferentiation.ipynb). If we want to apply any other transformation to the gradients, we can simply do so before calling the `apply_gradients()` method.\n",
        "\n",
        "- Next, we update the training metrics (over the current step of the epoch), and we updated the progress bar.\n",
        "\n",
        "- At the end of each epoch, we print the metric value in the training dataset, and we reset its state. We also compute the metric in the validation dataset and we print it.\n",
        "\n",
        "As we can see, there are a lot of things we need to get right, it is easy to make a mistake. But on the bright side, we get full control.\n",
        "\n",
        "**Note**: If we add weight constraints to your model (e.g., by setting `kernel_constraint` or `bias_constraint` when creating a layer), we should update the training loop to apply these constraints just after `apply_gradients()`:\n",
        "\n",
        "```\n",
        "for variable in model.variables:\n",
        "    if variable.constraint is not None:\n",
        "        variable.assign(variable.constraint(variable))\n",
        "```"
      ]
    },
    {
      "cell_type": "markdown",
      "metadata": {
        "id": "Y7_ZFOdVHBaM"
      },
      "source": [
        "## Speeding-up our training step with `tf.function` <a name=\"8.1\"></a> "
      ]
    },
    {
      "cell_type": "markdown",
      "metadata": {
        "id": "d9YuqD2u9tJ2"
      },
      "source": [
        "The default runtime in TensorFlow 2.0 is eager execution. This is great for debugging, but **graph compilation has a performance advantage** (more information about eager and graph modes in TensorFlow is available in this [notebook](https://nbviewer.jupyter.org/github/victorviro/Deep_learning_python/blob/master/TensorFlow_Eager_vs_Graph_execution.ipynb)). \n",
        "\n",
        "We can compile into a static graph any function that takes tensors as input. Just we have to add a `@tf.function` decorator on it. So, let's create a function that performs the training step and decorate it:"
      ]
    },
    {
      "cell_type": "code",
      "metadata": {
        "id": "m-cH1xDV_qeD"
      },
      "source": [
        "@tf.function\n",
        "def train_step(x, y):\n",
        "    with tf.GradientTape() as tape:\n",
        "        y_pred = model(x, training=True)\n",
        "        main_loss = loss_fn(y, y_pred)\n",
        "        loss = tf.add_n([main_loss] + model.losses)\n",
        "    gradients = tape.gradient(loss, model.trainable_weights)\n",
        "    optimizer.apply_gradients(zip(gradients, model.trainable_weights))\n",
        "    train_metric.update_state(y, y_pred)\n",
        "    return loss"
      ],
      "execution_count": 58,
      "outputs": []
    },
    {
      "cell_type": "markdown",
      "metadata": {
        "id": "AYgN0Qzc-4mP"
      },
      "source": [
        "Now, let's re-run our training loop with this compiled training step:"
      ]
    },
    {
      "cell_type": "code",
      "metadata": {
        "id": "vAAmn1zQALHg",
        "colab": {
          "base_uri": "https://localhost:8080/"
        },
        "outputId": "b4d025e9-02e1-456c-8b99-97fa3ddb08ed"
      },
      "source": [
        "for epoch in range(1, n_epochs + 1):\n",
        "    print(f\"Epoch {epoch}/{n_epochs}\")\n",
        "    progbar = tf.keras.utils.Progbar(\n",
        "        target=n_steps, \n",
        "        stateful_metrics=progress_bar_values_names\n",
        "    )\n",
        "    for step, (x_batch_train, y_batch_train) in enumerate(train_dataset):\n",
        "        loss = train_step(x_batch_train, y_batch_train)\n",
        "        values = [('loss', loss), ('mse', train_metric.result())]\n",
        "        progbar.update(step, values)\n",
        "    \n",
        "    train_mae = train_metric.result()\n",
        "    print(f\"Training mse over epoch: {float(train_mae):.4f}\")\n",
        "    train_metric.reset_states()\n",
        "\n",
        "    for x_batch_val, y_batch_val in val_dataset:\n",
        "        y_pred_val = model(x_batch_val, training=False)\n",
        "        val_metric.update_state(y_batch_val, y_pred_val)\n",
        "    val_mae = val_metric.result()\n",
        "    val_metric.reset_states()\n",
        "    print(f\"Validation mse: {float(val_mae):.4f}\")"
      ],
      "execution_count": 59,
      "outputs": [
        {
          "output_type": "stream",
          "text": [
            "Epoch 1/2\n",
            "362/362 [==============================] - 1s 3ms/step - loss: 0.7104 - mse: 0.5096\n",
            "Training mse over epoch: 0.5096\n",
            "Validation mse: 0.4891\n",
            "Epoch 2/2\n",
            "362/362 [==============================] - 1s 1ms/step - loss: 0.5323 - mse: 0.5094\n",
            "Training mse over epoch: 0.5094\n",
            "Validation mse: 0.4897\n"
          ],
          "name": "stdout"
        }
      ]
    },
    {
      "cell_type": "markdown",
      "metadata": {
        "id": "29Ca0kky0G19"
      },
      "source": [
        "# References and further reading <a name=\"9\"></a>"
      ]
    },
    {
      "cell_type": "markdown",
      "metadata": {
        "id": "db_xVvoP0JHq"
      },
      "source": [
        "- [TensorFlow: Making new Layers and Models via subclassing](https://www.tensorflow.org/guide/keras/custom_layers_and_models)\n",
        "\n",
        "- [TensorFlow: Save and load Keras models](https://www.tensorflow.org/guide/keras/save_and_serialize)\n",
        "\n",
        "- [TensorFlow: Writing a training loop from scratch](https://www.tensorflow.org/guide/keras/writing_a_training_loop_from_scratch/)\n",
        "\n",
        "- [Hands-On Machine Learning with Scikit-Learn, Keras, and TensorFlow](https://www.oreilly.com/library/view/hands-on-machine-learning/9781492032632/)"
      ]
    }
  ]
}