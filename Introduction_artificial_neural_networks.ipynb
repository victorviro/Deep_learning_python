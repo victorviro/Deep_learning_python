{
  "nbformat": 4,
  "nbformat_minor": 0,
  "metadata": {
    "colab": {
      "name": "Introduction_artificial_neural_networks.ipynb",
      "provenance": [],
      "collapsed_sections": [],
      "toc_visible": true,
      "authorship_tag": "ABX9TyO/jqEVoYLgmp4VG+RpP1OX",
      "include_colab_link": true
    },
    "kernelspec": {
      "name": "python3",
      "display_name": "Python 3"
    }
  },
  "cells": [
    {
      "cell_type": "markdown",
      "metadata": {
        "id": "view-in-github",
        "colab_type": "text"
      },
      "source": [
        "<a href=\"https://colab.research.google.com/github/victorviro/Deep_learning_python/blob/master/Introduction_artificial_neural_networks.ipynb\" target=\"_parent\"><img src=\"https://colab.research.google.com/assets/colab-badge.svg\" alt=\"Open In Colab\"/></a>"
      ]
    },
    {
      "cell_type": "markdown",
      "metadata": {
        "id": "_cctRvJDdbt2",
        "colab_type": "text"
      },
      "source": [
        "# Introduction to artificial neural networks with Keras\n"
      ]
    },
    {
      "cell_type": "markdown",
      "metadata": {
        "id": "nu4EkJgZ4pd7",
        "colab_type": "text"
      },
      "source": [
        "An ANN (*artificial neural network*) is a Machine Learning model inspired by the networks of biological neurons found in our brains. However, ANNs have gradually become quite different from their biological cousins.\n",
        "\n",
        "ANNs are at the very core of Deep Learning. They are versatile, powerful, and scalable, making them ideal to tackle large and highly complex Machine Learning tasks such as classifying billions of images (e.g., Google Images), powering speech recognition services (e.g., Apple’s Siri), recommending the best videos to watch to hundreds of millions of users every day (e.g., YouTube), or learning to beat the world champion at the game of Go (DeepMind’s AlphaGo).\n",
        "\n",
        "The first part of this article introduces artificial neural networks, starting with a quick tour of the very first ANN architectures and leading up to Multilayer Perceptrons (MLPs), which are heavily used today. In the second part, we will look at how to implement neural networks using the popular Keras API. This is a beautifully designed and simple high-level API for building, training, evaluating, and running neural networks."
      ]
    },
    {
      "cell_type": "markdown",
      "metadata": {
        "id": "YuSTP31WCo_C",
        "colab_type": "text"
      },
      "source": [
        "ANNs were first introduced back in 1943 by the neurophysiologist Warren McCulloch and the mathematician Walter Pitts. Their work presented a simplified computational model of how biological neurons might work together in animal brains to perform complex computations using propositional logic. This was the first artificial neural network architecture.\n",
        "\n",
        "The early successes of ANNs led to the belief that we would soon be conversing with truly intelligent machines. When it became clear in the 1960s that this promise would go unfulfilled (at least for quite a while) ANNs entered a long winter. In the early 1980s, new architectures were invented and better training techniques were developed, sparking a revival of interest. But progress was slow, and by the 1990s other powerful Machine Learning techniques were invented, such as Support Vector Machines. These techniques seemed to offer better results and stronger theoretical foundations than ANNs, so once again the study of neural networks was put on hold.\n",
        "\n",
        "\n",
        "We are now in another wave of interest in ANNs. There are a few good reasons to believe that this time is different and that the renewed interest in ANNs will have a much more profound impact on our lives:\n",
        "\n",
        "- There is now a huge quantity of data available to train neural networks, and ANNs frequently outperform other ML techniques on very large and complex problems.\n",
        "\n",
        "- The tremendous increase in computing power since the 1990s now makes it possible to train large neural networks in a reasonable amount of time. This is in part due to Moore’s law (the number of components in integrated circuits has doubled about every 2 years over the last 50 years), but also thanks to the gaming industry, which has stimulated the production of powerful GPU cards by the millions. Moreover, cloud platforms have made this power accessible to everyone.\n",
        "\n",
        "- The training algorithms have been improved.\n",
        "\n",
        "\n",
        "- ANNs seem to have entered a virtuous circle of funding and progress. Amazing products based on ANNs regularly make the headline news, which pulls more and more attention and funding toward them, resulting in more and more progress and even more amazing products."
      ]
    },
    {
      "cell_type": "markdown",
      "metadata": {
        "id": "FFlRhU8QCpDX",
        "colab_type": "text"
      },
      "source": [
        "## Logical Computations with Neurons"
      ]
    },
    {
      "cell_type": "markdown",
      "metadata": {
        "id": "ifVo6JAOHVGU",
        "colab_type": "text"
      },
      "source": [
        "McCulloch and Pitts proposed a very simple model of the biological neuron, which later became known as an *artificial neuron*: it has one or more binary (on/off) inputs and one binary output. The artificial neuron activates its output when more than a certain number of its inputs are active. In their paper, they showed that even with such a simplified model it is possible to build a network of artificial neurons that computes any logical proposition you want. To see how such a network works, let’s build a few ANNs that perform various logical computations (see Figure 10-3), assuming that a neuron is activated when at least two of its inputs are active.\n",
        "\n",
        "![](https://i.ibb.co/bPMYwPy/logical-anns.png)\n",
        "\n",
        "- The first network on the left is the identity function: if neuron A is activated, then neuron C gets activated as well (since it receives two input signals from neuron A); but if neuron A is off, then neuron C is off as well.\n",
        "\n",
        "- The second network performs a logical AND: neuron C is activated only when both neurons A and B are activated (a single input signal is not enough to activate neuron C).\n",
        "\n",
        "- The third network performs a logical OR: neuron C gets activated if either neuron A or neuron B is activated (or both).\n",
        "\n",
        "- Finally, if we suppose that an input connection can inhibit the neuron’s activity (which is the case with biological neurons), then the fourth network computes a slightly more complex logical proposition: neuron C is activated only if neuron A is active and neuron B is off. If neuron A is active all the time, then you get a logical NOT: neuron C is active when neuron B is off, and vice versa.\n",
        "\n",
        "You can imagine how these networks can be combined to compute complex logical expressions.\n",
        "\n"
      ]
    },
    {
      "cell_type": "markdown",
      "metadata": {
        "id": "6RxYjF_hIDXv",
        "colab_type": "text"
      },
      "source": [
        "## The Perceptron\n",
        "\n"
      ]
    },
    {
      "cell_type": "markdown",
      "metadata": {
        "id": "VMEIMzoIIZ-o",
        "colab_type": "text"
      },
      "source": [
        "The *Perceptron* is one of the simplest ANN architectures, invented in 1957 by Frank Rosenblatt. It is based on a slightly different artificial neuron (see Figure 10-4) called a *threshold logic unit* (TLU), or sometimes a *linear threshold unit* (LTU). The inputs and output are numbers (instead of binary on/off values), and each input connection is associated with a weight. The TLU computes a weighted sum of its inputs $z=w_1x_1+...+w_nx_n=\\boldsymbol{x}^T\\boldsymbol{w}$, then applies a step function to that sum and outputs the result: $h_w(\\boldsymbol{x})=\\text{step}(z)$, where $z=\\boldsymbol{x}^T\\boldsymbol{w}$.\n",
        "\n",
        "![texto alternativo](https://i.ibb.co/z2Bd7Zg/tlu.png)\n",
        "\n",
        "The most common step function used in Perceptrons is the Heaviside step function.\n",
        "\n",
        "\n",
        "$$\n",
        "\\text{heaviside}(z)=\\begin{cases}\n",
        "              0 & \\text{if }z< 0,\\\\\n",
        "              1 & \\text{if }z \\geq 0.\n",
        "\\end{cases}\n",
        "$$\n",
        "\n",
        "Sometimes the sign function is used instead.\n",
        "\n",
        "$$\n",
        "\\text{sgn}(z)=\\begin{cases}\n",
        "              -1&\\text{if }z< 0,\\\\\n",
        "               0&\\text{if }z=0,\\\\\n",
        "               1&\\text{if }z> 0.\n",
        "\\end{cases}\n",
        "$$\n",
        "\n",
        "A single TLU can be used for simple linear binary classification. It computes a linear combination of the inputs, and if the result exceeds a threshold, it outputs the positive class. Otherwise it outputs the negative class (just like a Logistic Regression or linear SVM classifier).\n",
        "\n",
        "A Perceptron is simply composed of a single layer of TLUs, with each TLU connected to all the inputs. When all the neurons in a layer are connected to every neuron in the previous layer (i.e., its input neurons), the layer is called a *fully connected layer*, or a *dense layer*. The inputs of the Perceptron are fed to special passthrough neurons called *input neurons*: they output whatever input they are fed. All the input neurons form the *input layer*. Moreover, an extra bias feature is generally added ($x_0 = 1$): it is typically represented using a special type of neuron called a *bias neuron*, which outputs 1 all the time. A Perceptron with two inputs and three outputs is represented in Figure 10-5. This Perceptron can classify instances simultaneously into three different binary classes, which makes it a multioutput classifier.\n",
        "\n",
        "![texto alternativo](https://i.ibb.co/dBGW8cf/perceptron.png)\n",
        "\n",
        "Thanks to the magic of linear algebra, the next equation makes it possible to efficiently compute the outputs of a layer of artificial neurons for several instances at once.\n",
        "\n",
        "$$h_{\\boldsymbol{W,b}}(\\boldsymbol{X})=\\phi(\\boldsymbol{XW}+\\boldsymbol{b})$$\n",
        "\n",
        "- $\\boldsymbol{X}$ represents the matrix of input features. It has one row per instance and one column per feature.\n",
        "\n",
        "- The weight matrix $\\boldsymbol{W}$ contains all the connection weights except for the ones from the bias neuron. It has one row per input neuron and one column per artificial neuron in the layer.\n",
        "\n",
        "- The bias vector $\\boldsymbol{b}$ contains all the connection weights between the bias neuron and the artificial neurons. It has one bias term per artificial neuron.\n",
        "\n",
        "- The function $\\phi$ is called the *activation function*: when the artificial neurons are TLUs, it is a step function (but there are other activation functions).\n",
        "\n",
        "So, how is Perceptron trained? Perceptrons are trained using a variant of the Hebb’s rule that takes into account the error made by the network when it makes a prediction. More specifically, the Perceptron is fed one training instance at a time, and for each instance it makes its predictions. For every output neuron that produced a wrong prediction, it reinforces the connection weights from the inputs that would have contributed to the correct prediction. The\n",
        "rule is shown in the next equation.\n",
        "\n",
        "$$w_{i,j}^{\\text{next step}}=w_{i,j} +\\eta(y_j-\\hat{y}_j)x_i$$\n",
        "\n",
        "- $w_{i,j}$ is the connection weight between the $i^{\\text{th}}$ input neuron and the $j^{\\text{th}}$ output neuron.\n",
        "\n",
        "- $x_i$ is the $i^{\\text{th}}$ input value of the current training instance.\n",
        "\n",
        "- $y_j$ is the output of the $j^{\\text{th}}$ th output neuron for the current training instance.\n",
        "\n",
        "- $y_j$ is the target output of the $j^{\\text{th}}$ th output neuron for the current training instance.\n",
        "\n",
        "- $\\eta$ is the learning rate.\n",
        "\n",
        "The decision boundary of each output neuron is linear, so Perceptrons are incapable of learning complex patterns (just like Logistic Regression classifiers). However, if the training instances are linearly separable, Rosenblatt demonstrated that this algorithm would converge to a solution.\n",
        "\n",
        "\n",
        "\n"
      ]
    },
    {
      "cell_type": "markdown",
      "metadata": {
        "id": "yYyRTffBS9tN",
        "colab_type": "text"
      },
      "source": [
        "Scikit-Learn provides a `Perceptron` class that implements a single TLU network. It can be used pretty much as you would expect, for example, on the [iris dataset](https://en.wikipedia.org/wiki/Iris_flower_data_set):"
      ]
    },
    {
      "cell_type": "code",
      "metadata": {
        "id": "MXF4Xf71TRa_",
        "colab_type": "code",
        "colab": {
          "base_uri": "https://localhost:8080/",
          "height": 35
        },
        "outputId": "7ef58630-c26f-4f8e-f33d-e37f9982d095"
      },
      "source": [
        "import numpy as np\n",
        "from sklearn.datasets import load_iris\n",
        "from sklearn.linear_model import Perceptron\n",
        "\n",
        "iris = load_iris()\n",
        "X = iris.data[:, (2, 3)]  # petal length, petal width\n",
        "y = (iris.target == 0).astype(np.int)\n",
        "\n",
        "per_clf = Perceptron(random_state=42)\n",
        "per_clf.fit(X, y)\n",
        "\n",
        "y_pred = per_clf.predict([[2, 0.5]])\n",
        "y_pred"
      ],
      "execution_count": null,
      "outputs": [
        {
          "output_type": "execute_result",
          "data": {
            "text/plain": [
              "array([1])"
            ]
          },
          "metadata": {
            "tags": []
          },
          "execution_count": 5
        }
      ]
    },
    {
      "cell_type": "markdown",
      "metadata": {
        "id": "gJbrkNx7Tihe",
        "colab_type": "text"
      },
      "source": [
        "\n",
        "You may have noticed the fact that the Perceptron learning algorithm strongly resembles Stochastic Gradient Descent. In fact, Scikit-Learn’s `Perceptron` class is equivalent to using an `SGDClassifier` with the following hyperparameters: `loss=\"perceptron\"`, `learning_rate=\"constant\"`, `eta0=1` (the learning rate), and `penalty=None` (no regularization).\n",
        "\n",
        "Let's see the decision boundaries of the model. "
      ]
    },
    {
      "cell_type": "code",
      "metadata": {
        "id": "hHwEa5f-UMMW",
        "colab_type": "code",
        "cellView": "form",
        "colab": {
          "base_uri": "https://localhost:8080/",
          "height": 396
        },
        "outputId": "83e4fba7-ba49-4804-85a9-2ddc1f95697d"
      },
      "source": [
        "#@title\n",
        "import matplotlib.pyplot as plt\n",
        "\n",
        "a = -per_clf.coef_[0][0] / per_clf.coef_[0][1]\n",
        "b = -per_clf.intercept_ / per_clf.coef_[0][1]\n",
        "\n",
        "axes = [0, 5, 0, 2]\n",
        "\n",
        "x0, x1 = np.meshgrid(\n",
        "        np.linspace(axes[0], axes[1], 500).reshape(-1, 1),\n",
        "        np.linspace(axes[2], axes[3], 200).reshape(-1, 1),\n",
        "    )\n",
        "X_new = np.c_[x0.ravel(), x1.ravel()]\n",
        "y_predict = per_clf.predict(X_new)\n",
        "zz = y_predict.reshape(x0.shape)\n",
        "\n",
        "plt.figure(figsize=(12, 6))\n",
        "plt.plot(X[y==0, 0], X[y==0, 1], \"bs\", label=\"Not Iris-Setosa\")\n",
        "plt.plot(X[y==1, 0], X[y==1, 1], \"yo\", label=\"Iris-Setosa\")\n",
        "\n",
        "plt.plot([axes[0], axes[1]], [a * axes[0] + b, a * axes[1] + b], \"k-\", linewidth=3)\n",
        "from matplotlib.colors import ListedColormap\n",
        "custom_cmap = ListedColormap(['#9898ff', '#fafab0'])\n",
        "\n",
        "plt.contourf(x0, x1, zz, cmap=custom_cmap)\n",
        "plt.xlabel(\"Petal length\", fontsize=14)\n",
        "plt.ylabel(\"Petal width\", fontsize=14)\n",
        "plt.legend(loc=\"lower right\", fontsize=14)\n",
        "plt.axis(axes)\n",
        "plt.show()"
      ],
      "execution_count": null,
      "outputs": [
        {
          "output_type": "display_data",
          "data": {
            "image/png": "[encoded data removed]",
            "text/plain": [
              "<Figure size 864x432 with 1 Axes>"
            ]
          },
          "metadata": {
            "tags": [],
            "needs_background": "light"
          }
        }
      ]
    },
    {
      "cell_type": "markdown",
      "metadata": {
        "id": "4-VVUwsUR1l3",
        "colab_type": "text"
      },
      "source": [
        "Note that contrary to Logistic Regression classifiers, Perceptrons do not output a class probability; rather, they make predictions based on a hard threshold. This is one reason to prefer Logistic Regression over Perceptrons.\n",
        "\n",
        "There are other weaknesses of Perceptrons, they are incapable of solving some trivial problems (e.g., the Exclusive OR (XOR) classification problem; see the left side of Figure 10-6). This is true of any other linear classification model (such as Logistic Regression classifiers). \n",
        "\n",
        "![texto alternativo](https://i.ibb.co/xLwBXSz/xor-problem.png)\n",
        "\n",
        "It turns out that some of the limitations of Perceptrons can be eliminated by stacking multiple Perceptrons. The resulting ANN is called a *Multilayer Perceptron* (MLP). An MLP can solve the XOR problem, as you can verify by computing the output of the MLP represented on the right side of Figure 10-6: with inputs (0, 0) or (1, 1), the network outputs 0, and with inputs (0, 1) or (1, 0) it outputs 1. All connections have a weight equal to 1, except the four connections where the weight is shown."
      ]
    },
    {
      "cell_type": "markdown",
      "metadata": {
        "id": "Hy9n9ou54ptY",
        "colab_type": "text"
      },
      "source": [
        "## Multi-layer Perceptron and Backpropagation"
      ]
    },
    {
      "cell_type": "markdown",
      "metadata": {
        "id": "hFFMDpggdmmL",
        "colab_type": "text"
      },
      "source": [
        "An MLP is composed of one input layer, one or more hidden layers of artificial neurons (particularly TLUs or threshold logic units) and one final layer of TLUs called the output layer. Every layer except the output layer includes a bias neuron and is fully connected to the next layer.\n",
        "\n",
        "\n",
        "\n",
        "![texto alternativo](https://www.oreilly.com/library/view/getting-started-with/9781786468574/graphics/B05474_04_05.jpg)\n",
        "\n",
        "The signal flows only in one direction (from the inputs to the outputs), so this architecture is an example of a feedforward neural network.\n",
        "\n",
        "When an ANN contains a lot of hidden layers is known as a *deep neural network* and these networks are the base of the study of Deep learning, and more generally models containing deep stacks of computations.\n",
        "\n",
        "The interest for these networks begun in 1986 when the backpropagation training algorithm was introduced. \n",
        "\n",
        "\n"
      ]
    },
    {
      "cell_type": "markdown",
      "metadata": {
        "id": "__NuADijs_wM",
        "colab_type": "text"
      },
      "source": [
        "In short, it is simply Gradient Descent (introduced in this [notebook](https://github.com/victorviro/ML_algorithms_python/blob/master/Introduction_gradient_descent_algorithm.ipynb)) using an efficient technique for computing the gradients automatically: in just two passes through the network (one forward, one backward), the backpropagation algorithm is able to compute the gradient of the network’s error with regards to every single model parameter. In other words, it can find out how each connection weight and each bias term should be tweaked in order to reduce the error. Once it has these gradients, it just performs a regular Gradient Descent step, and the whole process is repeated until the network converges to the solution.\n",
        "\n",
        "**Note**: Automatically computing gradients is called *automatic differentiation*, or [*autodiff*](https://github.com/victorviro/Deep_learning_python/blob/master/TensorFlow%E2%80%99s_autodifferentiation.ipynb).\n",
        "\n",
        "\n",
        "Let's see this algorithm in detail.\n",
        "\n",
        "\n",
        "- It handles one mini-batch at a time (for example containing 32 instances each), this is, it goes through to the full training set multiple times. Each pass is an *epoch*.\n",
        "\n",
        "\n",
        "- Each mini-batch is passed to the input layer, which sends it to the first hidden layer. Then computes the output of all the neurons in this layer and passes the result on to the next layer. This process is repeated until getting the output of the last layer. This is the *forward pass*. It is like making a prediction, except all intermediate results are preserved for the backward pass.\n",
        "\n",
        "\n",
        "- Next, the algorithm measures the network's output error, it uses a loss function that compares the desired output and the actual output of the network and returns some measure of the error.\n",
        "\n",
        "- Then it computes how much each output connection contributed to the error.\n",
        "This is done analytically by simply applying the [*chain rule*](https://en.wikipedia.org/wiki/Chain_rule).\n",
        "\n",
        "- The algorithm then measures how much of these error contributions came from\n",
        "each connection in the layer below, again using the chain rule—and so on until\n",
        "the algorithm reaches the input layer. This reverse pass ((backward pass)) efficiently measures the error gradient across all the connection weights in the network by propagating the error gradient backward through the network (hence the name of the algorithm).\n",
        "\n",
        "- Finally the algorithm tweaks the weights of the connections in the network to reduce the error (Gradient Descent step).\n",
        "\n",
        "![texto alternativo](https://i.stack.imgur.com/7Ui1C.png)\n",
        "\n",
        "**Note**: It is important to initialize all the hidden layer's connection weights randomly in a deep neural network (check this [video](https://www.youtube.com/watch?v=6by6Xas_Kho&list=PLkDaE6sCZn6Ec-XTbcX1uRg2_u4xOEky0&index=35)). Although, several initialization techniques have been developed to avoid different problems when training deep neural networks (check this [notebook](https://github.com/victorviro/Deep_learning_python/blob/master/Vanishing_Exploding_gradients_problem_DNNs.ipynb)).\n",
        "\n",
        "\n",
        "\n",
        "\n"
      ]
    },
    {
      "cell_type": "markdown",
      "metadata": {
        "id": "4h7QNFBxgevz",
        "colab_type": "text"
      },
      "source": [
        "### Backpropagation"
      ]
    },
    {
      "cell_type": "markdown",
      "metadata": {
        "id": "ne-aVADY_s4H",
        "colab_type": "text"
      },
      "source": [
        "Let's begin with a notation which lets us refer to weights in the network in an unambiguous way. We'll use $w^{l}_{jk}$ to denote the weight for the connection from the $k^{\\text{th}}$ neuron in the $(l-1)^{\\text{th}}$ layer to the $j^{\\text{th}}$ neuron in the $l^{\\text{th}}$ layer. So, for example, the diagram below shows $w^3_{24}$, which is the weight from the fourth neuron in the second layer to the second neuron in the third layer. \n",
        "\n",
        "![texto alternativo](https://i.ibb.co/jDCxLbF/weight-NN.png)\n",
        "\n",
        "We use a similar notation for the network's biases and activations. Explicitly, we use $b^l_j$ for the bias of the $j^{\\text{th}}$ neuron in the $l^{\\text{th}}$ layer. And we use $a^l_j$ for the activation of the $j^{\\text{th}}$ neuron in the $l^{\\text{th}}$ layer.\n",
        "\n",
        "With these notations, the activation $a^l_j$ of the $j^{\\text{th}}$ neuron in the $l^{\\text{th}}$ layer is related to the activations in the $(l-1)^{\\text{th}}$ layer by the equation\n",
        "\n",
        "\n",
        "$$a^l_j=\\sigma(\\sum_{k}w^l_{jk}a^{l-1}_k+b^l_j)$$\n",
        "\n",
        "where the sum is over all neurons $k$ in the $(l-1)^{\\text{th}}$ layer. To rewrite this expression in a matrix form we define a *weight matrix* $w^l$ for each layer, $l$. The entries of the weight matrix $w^l$ are just the weights connecting to the $l^{\\text{th}}$ layer of neurons, that is, the entry in the $j^{\\text{th}}$ row and $k^{\\text{th}}$ column is $w^{l}_{jk}$. Similarly, for each layer $l$ we define a bias vector, $b^l$. The components of the bias vector are just the values $b^l_j$, one component for each neuron in the $l^{\\text{th}}$ layer. And finally, we define an activation vector $a^l$ whose components are the activations $a^l_j$.\n",
        "\n",
        "To vectorize a function such as $\\sigma$, the idea is that we want to apply the function to every element in a vector $v$. We use the obvious notation $\\sigma(v)$ to denote this kind of elementwise application of a function. That is, the components of $\\sigma(v)$ are just $\\sigma(v)_j=\\sigma(v_j)$.\n",
        "\n",
        "With these notations, the previous equation can be rewritten in the  vectorized form\n",
        "\n",
        "$$a^l_j=\\sigma(z^l)=\\sigma(w^la^{l-1}+b^l)$$\n",
        "\n",
        "We just apply the weight matrix to the activations, then add the bias vector, and finally apply the $\\sigma$ function. The quantity $z^l$ is called the *weighted input* to the neurons in layer $l$. It's also worth noting that $z^l$ has components $z^l_j=\\sum_{k}w^l_{jk}a^{l-1}_k+b^l_j$, that is, $z^l_j$ is just the weighted input to the activation function for neuron $j$ in layer $l$.\n",
        "\n",
        "\n",
        "\n"
      ]
    },
    {
      "cell_type": "markdown",
      "metadata": {
        "id": "v0Umvs76G1TP",
        "colab_type": "text"
      },
      "source": [
        "#### Getting equations of backpropagation"
      ]
    },
    {
      "cell_type": "markdown",
      "metadata": {
        "id": "ei_ebCu9G1iz",
        "colab_type": "text"
      },
      "source": [
        "Backpropagation is about understanding how changing the weights and biases in a network changes the cost function. Ultimately, this means computing the partial derivatives $\\frac{\\partial C}{\\partial w^l_{jk}}$ and $\\frac{\\partial C}{\\partial b^l_j}$. But to compute those, we first introduce an intermediate quantity, $\\delta^l_j$, which we call the *error* in the $j^{\\text{th}}$ neuron in the $l^{\\text{th}}$ layer. Backpropagation will give us a procedure to compute the error $\\delta^l_j$, and then will relate $\\delta^l_j$ to $\\frac{\\partial C}{\\partial w^l_{jk}}$ and $\\frac{\\partial C}{\\partial b^l_j}$.\n",
        "\n",
        "We define the error $\\delta^l_j$ of neuron $j$ in layer $l$ by\n",
        "\n",
        "$$\\delta^l_j=\\frac{\\partial C}{\\partial z^l_j}$$\n",
        "\n",
        "we use $\\delta^l$ to denote the vector of errors associated with layer $l$.\n",
        "\n",
        "We can compute the error of neuron $j$ in the last layer (output layer) $L$, \n",
        "\n",
        "\n",
        "$$\\delta^L_j=\\frac{\\partial C}{\\partial z^L_j}$$\n",
        "\n",
        "As the cost function $C$ depends on the activation on the last layer $a^L_j=\\sigma(z^L)$ , which itself depends on the variable $z^L_j$, we can apply the [chain rule](https://en.wikipedia.org/wiki/Chain_rule) and re-express the partial derivative above in terms of partial derivatives with respect to the output activations,\n",
        "\n",
        "$$\\delta^L_j=\\sum_k \\frac{\\partial C}{\\partial a^L_k}\\frac{\\partial a^L_k}{\\partial z^L_j}$$\n",
        "\n",
        "where the sum is over all neurons $k$ in the output layer. Of course, the output activation $a^L_k$ of the $k^{\\text{th}}$ neuron depends only on the weighted input $z^L_k$ for the $j^{\\text{th}}$ neuron when $k=j$. And so $\\frac{\\partial a^L_k}{\\partial z^L_j}$ vanishes when $k\\neq j$. As a result we can simplify the previous equation to\n",
        "\n",
        "\n",
        "$$\\delta^L_j=\\frac{\\partial C}{\\partial z^L_j}=\\frac{\\partial C}{\\partial a^L_j}\\frac{\\partial a^L_j}{\\partial z^L_j}=\\frac{\\partial C}{\\partial a^L_j}\\sigma^{\\prime}(z^L_j) \\mspace{36mu} (\\text{BP1})$$\n",
        "\n",
        "\n",
        "\n",
        "\n",
        "\n",
        "The first term on the right, $\\frac{\\partial C}{\\partial a^L_j}$, just measures how fast the cost is changing as a function of the $j^{\\text{th}}$ output activation. If, for example, $C$ doesn't depend much on a particular output neuron, $j$, then $\\delta^L_j$ will be small, which is what we'd expect. The second term on the right, $\\sigma^{\\prime}(z^L_j)$, measures how fast the activation function $\\sigma$ is changing at $z^L_j$."
      ]
    },
    {
      "cell_type": "markdown",
      "metadata": {
        "id": "1goVmFLrjr0q",
        "colab_type": "text"
      },
      "source": [
        "The exact form of $\\frac{\\partial C}{\\partial a^L_j}$ will, of course, depend on the form of the cost function. However, provided the cost function is known there should be little trouble computing $\\frac{\\partial C}{\\partial a^L_j}$. For example, if we're using the quadratic cost function (common when using least-squares techniques) then $C=\\frac{1}{2}\\sum_j(y_j-a^L_j)^2$, and so $\\frac{\\partial C}{\\partial a^L_j}=(a^L_j-y_j)$.\n",
        "\n",
        "The previous equation (BP1) is a componentwise expression for $\\delta^L$. It's a perfect expression, but we can rewrite it in a matrix-based form. \n",
        "\n",
        "$$\\delta^L=\\nabla_a C \\circ \\sigma^{\\prime}(z^L)\\mspace{36mu} (BP1a)$$\n",
        "\n",
        "Here, $\\nabla_a C$ is a vector whose components are the partial derivatives $\\frac{\\partial C}{\\partial a^L_j}$, \n",
        "$\\nabla_a C = (\\frac{\\partial C}{\\partial a^L_1} \\frac{\\partial C}{\\partial a^L_2}...)$. \n",
        "You can think of $\\nabla_a C$ as expressing the rate of change of $C$ regard to the output activations. Equations $(BP1a)$ and $(BP1)$ are equivalent, and we'll use $(BP1)$ interchangeably to refer to both equations. As an example, in the case of the quadratic cost we have $\\nabla_a C=(a^L-y)$, and so the fully matrix-based form becomes $\\delta^L=(a^L-y) \\circ \\sigma^{\\prime}(z^L)$. The [Hadarmad product](https://en.wikipedia.org/wiki/Hadamard_product_(matrices)) is represented as $\\circ$.\n",
        "\n",
        "To compute the error $\\delta^{l}$ in terms of the error in the next layer, $\\delta^{l+1}$: \n",
        "\n",
        "\n",
        "$$\\delta^l=((w^{l+1})^T \\delta^{l+1}) \\circ \\sigma^{\\prime}(z^L) \\mspace{36mu} (BP2)$$\n",
        "\n",
        "\n",
        "where $(w^{l+1})^T$ is the transpose of the weight matrix $w^{l+1}$ for the $(l+1)^{\\text{th}}$ layer. Suppose we know the error $\\delta^{l+1}$ at the $(l+1)^{\\text{th}}$ layer. When we apply the transpose weight matrix, $(w^{l+1})^T$, we can think intuitively of this as moving the error backward through the network, giving us some sort of measure of the error at the output of the $l^{\\text{th}}$ layer. We then take the Hadamard product $\\circ \\sigma^{\\prime}(z^L_j)$. This moves the error backward through the activation function in layer $l$, giving us the error $\\delta^l$ in the weighted input to layer $l$.\n",
        "\n",
        "\n",
        "By combining $(BP2)$ with $(BP1)$ we can compute the error $\\delta^l$ for any layer in the network. We start by using $(BP1)$ to compute $\\delta^L$, then apply Equation $(BP2)$ to compute $\\delta^{L-1}$, then Equation $(BP2)$ again to compute $\\delta^{L-2}$, and so on, all the way back through the network.\n",
        "\n",
        "To prove the equation $(BP2)$, we rewrite $\\delta^{l}_j=\\frac{\\partial C}{\\partial z^{l}_j}$ in terms of $\\delta^{l+1}_k=\\frac{\\partial C}{\\partial z^{l+1}_k}$ using the chain rule,\n",
        "\n",
        "$$\\delta^{l}_j=\\frac{\\partial C}{\\partial z^{l}_j}=\\sum_k \\frac{\\partial C}{\\partial z^{l+1}_k}\\frac{\\partial z^{l+1}_k}{\\partial z^l_j}=\\sum_k \\delta^{l+1}_k \\frac{\\partial z^{l+1}_k}{\\partial z^l_j}$$\n",
        "\n",
        "To evaluate the second term on the last line, note that\n",
        "\n",
        "$$z^{l+1}_k=\\sum_{j}w^{l+1}_{kj}a^{l}_j+b^{l+1}_k = \\sum_{j}w^{l+1}_{kj}\\sigma(z_j^l)+b^{l+1}_k \\implies \\frac{\\partial z^{l+1}_k}{\\partial z^l_j}=w^{l+1}_{kj}\\sigma^{\\prime}(z_j^l)$$\n",
        "\n",
        "Therefore, \n",
        "\n",
        "$$\\delta^{l}_j=\\sum_k \\delta^{l+1}_k \\frac{\\partial z^{l+1}_k}{\\partial z^l_j}=\\sum_k w^{l+1}_{kj}\\delta^{l+1}_k \\sigma^{\\prime}(z_j^l)$$\n",
        "\n",
        "This is just $(BP2)$ written in component form.\n",
        "\n"
      ]
    },
    {
      "cell_type": "markdown",
      "metadata": {
        "id": "uQ_MjoO_Bwzb",
        "colab_type": "text"
      },
      "source": [
        "The equation for the rate of change of the cost regard to any bias in the network is:\n",
        "\n",
        "$$\\frac{\\partial C}{\\partial b^l_j}=\\delta_j^l \\mspace{36mu} (BP3)$$\n",
        "\n",
        "\n",
        "That is, the error $\\delta_j^l$ is exactly equal to the rate of change $\\frac{\\partial C}{\\partial b^L_j}$. Since $(BP1)$ and $(BP2)$ have already told us how to compute $\\delta_j^l$, we can rewrite $(BP3)$ as\n",
        "\n",
        "$$\\frac{\\partial C}{\\partial b}=\\delta^l$$\n",
        "\n",
        "where it is understood that $\\delta$ is being evaluated at the same neuron as the bias $b$.\n",
        "\n",
        "\n",
        "The equation for the rate of change of the cost with respect to any weight in the network is:\n",
        "\n",
        "$$\\frac{\\partial C}{\\partial w^l_{jk}}=a_k^{l-1} \\delta_j^l \\mspace{36mu} (BP4)$$\n",
        "\n",
        "This tells us how to compute the partial derivatives $\\frac{\\partial C}{\\partial w^l_{jk}}$ in terms of the quantities $\\delta^l$ and $a^{l−1}$, which we already know how to compute. The equation can be rewritten in a less index-heavy notation as\n",
        "\n",
        "$$\\frac{\\partial C}{\\partial w}=a_{\\text{in}} \\delta_{\\text{out}}$$\n",
        "\n",
        "where it's understood that $a_{\\text{in}}$ is the activation of the neuron input to the weight $w$, and $\\delta_{\\text{out}}$ is the error of the neuron output from the weight $w$.\n",
        "\n",
        "A nice consequence of the last equation is that when the activation $a_{\\text{in}}$ is small, $a_{\\text{in}}\\approx0$, the gradient term $\\frac{\\partial C}{\\partial w}$ will also tend to be small. In this case, we'll say the weight *learns slowly*, meaning that it's not changing much during gradient descent. In other words, one consequence of $(BP4)$ is that weights output from low-activation neurons learn slowly.\n",
        "\n",
        "The equations $(BP3)$ and $(BP4)$ can be proven using the chain rule similar to the proofs of the two equations above.\n",
        "\n",
        "There are other insights along these lines which can be obtained from $(BP1)$-$(BP4)$. Let's start by looking at the output layer. Consider the term $\\sigma^{\\prime}(z_j^L)$ in $(BP1)$. In the next section we'll see that the $\\sigma$ function becomes very flat when $\\sigma(z_j^L)$ is approximately 0 or 1. When this occurs we will have $\\sigma^{\\prime}(z_j^L)\\approx=0$. And so the lesson is that a weight in the final layer will learn slowly if the output neuron is either low activation ($\\approx$0) or high activation ($\\approx$1). In this case, it's common to say the output neuron has *saturated* and, as a result, the weight has stopped learning (or is learning slowly). Similar remarks hold also for the biases of output neuron. We can obtain similar insights for earlier layers.\n",
        "\n",
        "Summing up, we've learnt that a weight will learn slowly if either the input neuron is low-activation, or if the output neuron has saturated, i.e., is either high- or low-activation.\n",
        "\n",
        "The four fundamental equations turn out to hold for any activation function, not just the standard sigmoid function (we don't use any special properties of $\\sigma$).\n",
        "\n",
        "\n"
      ]
    },
    {
      "cell_type": "markdown",
      "metadata": {
        "id": "FDL9bIfCC1_3",
        "colab_type": "text"
      },
      "source": [
        "#### Summary: the equations of backpropagation"
      ]
    },
    {
      "cell_type": "markdown",
      "metadata": {
        "id": "DukMi4neHD1s",
        "colab_type": "text"
      },
      "source": [
        "\n",
        "\n",
        "\n",
        "\\begin{cases}\n",
        "\\delta^L=\\nabla_a C \\circ \\sigma^{\\prime}(z^L)\\mspace{90mu} (BP1)\\\\\\\\\n",
        "\\delta^l=((w^{l+1})^T \\delta^{l+1}) \\circ \\sigma^{\\prime}(z^l) \\mspace{36mu} (BP2)\\\\\\\\\n",
        "\\frac{\\partial C}{\\partial b^l_j}=\\delta_j^l \\mspace{177mu} (BP3)\\\\\\\\\n",
        "\\frac{\\partial C}{\\partial w^l_{jk}}=a_k^{l-1} \\delta_j^l \\mspace{137mu} (BP4)\n",
        "\\end{cases}\n",
        "\n",
        "\n",
        "\n",
        "\n"
      ]
    },
    {
      "cell_type": "markdown",
      "metadata": {
        "id": "i8IQ3dI8_cqW",
        "colab_type": "text"
      },
      "source": [
        "#### Backpropagation algorithm\n"
      ]
    },
    {
      "cell_type": "markdown",
      "metadata": {
        "id": "bHnfIkEW_hx_",
        "colab_type": "text"
      },
      "source": [
        "The backpropagation equations provide us with a way of computing the gradient of the cost function. Let's explicitly write this out in the form of an algorithm:\n",
        "\n",
        "1. **Input** x: Set the corresponding activation $a^1$ for the input layer.\n",
        "\n",
        "2. **Feedforward**: For each $l=2,...,L$ compute \n",
        "$z^l=w^la^{l-1}+b^l$ and $a^l=\\sigma(z^l)$.\n",
        "\n",
        "3. **Output error** $\\delta^L$: Compute the vector $\\delta^L=\\nabla_a C \\circ \\sigma^{\\prime}(z^L)$.\n",
        "\n",
        "4. **Backpropagate the error**: For each $l=L-1,L-2,...,2$ compute $\\delta^l=((w^{l+1})^T \\delta^{l+1}) \\circ \\sigma^{\\prime}(z^l_j)$.\n",
        "\n",
        "5. **Output**: The gradient of the cost function is given by $\\frac{\\partial C}{\\partial w^l_{jk}}=a_k^{l-1} \\delta_j^l$ and $\\frac{\\partial C}{\\partial b^l_j}=\\delta_j^l $.\n",
        "\n",
        "\n",
        "Examining the algorithm you can see why it's called *backpropagation*. We compute the error vectors $\\delta^l$ backward, starting from the final layer. It may seem peculiar that we're going through the network backward. But if you think about the proof of backpropagation, the backward movement is a consequence of the fact that the cost is a function of outputs from the network. To understand how the cost varies with earlier weights and biases we need to repeatedly apply the chain rule, working backward through the layers to obtain usable expressions."
      ]
    },
    {
      "cell_type": "markdown",
      "metadata": {
        "id": "yWfB8ManBkGi",
        "colab_type": "text"
      },
      "source": [
        "#### Backpropagation algorithm with mini-batch gradient descent"
      ]
    },
    {
      "cell_type": "markdown",
      "metadata": {
        "id": "IyKoWPQ2Bnbo",
        "colab_type": "text"
      },
      "source": [
        "As I've described it above, the backpropagation algorithm computes the gradient of the cost function for a single training example, $C=C_x$. In practice, it's common to combine backpropagation with a learning algorithm such as stochastic gradient descent, in which we compute the gradient for many training examples. In particular, given a mini-batch of $m$ training examples, the following algorithm applies a gradient descent learning step based on that mini-batch:\n",
        "\n",
        "1. **Input a set of training examples**.\n",
        "\n",
        "2. **For each training example** $x$: Set the corresponding input activation $a^{x,1}$, and perform the following steps:\n",
        "\n",
        " - **Feedforward**: For each $l=2,3,...,L$ compute $z^{x,l}=w^la^{x,l-1}+b^l$ and $a^{x,l}=\\sigma(z^{x,l})$.\n",
        "\n",
        " - **Output error** $\\delta^{x,L}$: Compute the vector $\\delta^{x,L}=\\nabla_a C_x \\circ \\sigma^{\\prime}(z^{x,L})$.\n",
        "\n",
        " - **Backpropagate the error**: For each $l=L-1,L-2,...,2$ compute $\\delta^{x,l}=((w^{l+1})^T \\delta^{x,l+1}) \\circ \\sigma^{\\prime}(z^{x,l})$.\n",
        "\n",
        "3. **Gradient descent**: For each $l=L,L-1,...,2$ update the weights according to the rule \n",
        "$w^l \\to w^l - \\frac{\\eta}{m}\\sum_x\\delta^{x,l}(a^{x,l-1})^T$, and the biases according to the rule \n",
        "$b^l \\to b^l - \\frac{\\eta}{m}\\sum_x\\delta^{x,l}$\n",
        ".\n",
        "\n",
        "Of course, to implement mini-batch gradient descent in practice you also need an outer loop generating mini-batches of training examples, and an outer loop stepping through multiple epochs of training. I've omitted those for simplicity (check this [video](https://www.youtube.com/watch?v=4qJaSmvhxi8&list=PLkDaE6sCZn6Hn0vK8co82zjQtt3T2Nkqc&index=15))."
      ]
    },
    {
      "cell_type": "markdown",
      "metadata": {
        "id": "0gJMAOL3go_g",
        "colab_type": "text"
      },
      "source": [
        "### Activation functions"
      ]
    },
    {
      "cell_type": "markdown",
      "metadata": {
        "id": "M-bx_j3H_sEP",
        "colab_type": "text"
      },
      "source": [
        "The authors of this algorithm replaced the step function with the logistic (sigmoid) function $\\sigma(z)=\\frac{1}{1+e^{-z}}$. This was essential because the step function contains only flat segments, so there is no gradient to work with (Gradient Descent cannot move on a flat surface), while the logistic function has a well-defined nonzero derivative, allowing Gradient Descent to make progress at every step. Backpropagation works well with other activation functions as well, like hyperbolic tangent function, Relu...\n",
        "\n",
        "\n",
        "\n",
        "- The *hyperbolic tangent* function: $\\text{tanh}(z)= 2\\sigma(2z)–1$.\n",
        "Just like the logistic function, this activation function is S-shaped, continuous, and differentiable, but its output value ranges from –1 to 1 (instead of 0 to 1 in the case of the logistic function). That range tends to make each layer’s output more or less centered around 0 at the beginning of training, which often helps speed up convergence.\n",
        "\n",
        "- The *Rectified Linear Unit* (ReLU) function: $\\text{ReLU}(z)=\\text{max}(0,z)$\n",
        "The ReLU function is continuous but unfortunately not differentiable at z = 0 (the slope changes abruptly, which can make Gradient Descent bounce around), and its derivative is 0 for z < 0. In practice, however, it works very well and has the advantage of being fast to compute. Most importantly, the fact that it does not have a maximum output value helps reduce some issues during Gradient Descent.\n",
        "\n",
        "These popular activation functions and their derivatives are represented in the next figure."
      ]
    },
    {
      "cell_type": "code",
      "metadata": {
        "id": "NDC3_oHqa04n",
        "colab_type": "code",
        "cellView": "form",
        "colab": {
          "base_uri": "https://localhost:8080/",
          "height": 391
        },
        "outputId": "aff23ad2-142f-473e-80c3-ea7678a17d3b"
      },
      "source": [
        "#@title\n",
        "import numpy as np\n",
        "\n",
        "def sigmoid(z):\n",
        "    return 1 / (1 + np.exp(-z))\n",
        "\n",
        "def relu(z):\n",
        "    return np.maximum(0, z)\n",
        "\n",
        "def derivative(f, z, eps=0.000001):\n",
        "    return (f(z + eps) - f(z - eps))/(2 * eps)\n",
        "\n",
        "z = np.linspace(-5, 5, 200)\n",
        "\n",
        "plt.figure(figsize=(15,6))\n",
        "\n",
        "plt.subplot(121)\n",
        "plt.plot(z, np.sign(z), \"r-\", linewidth=1, label=\"Step\")\n",
        "plt.plot(z, sigmoid(z), \"g--\", linewidth=2, label=\"Sigmoid\")\n",
        "plt.plot(z, np.tanh(z), \"b-\", linewidth=2, label=\"Tanh\")\n",
        "plt.plot(z, relu(z), \"m-.\", linewidth=2, label=\"ReLU\")\n",
        "plt.grid(True)\n",
        "plt.legend(loc=\"center right\", fontsize=14)\n",
        "plt.title(\"Activation functions\", fontsize=14)\n",
        "plt.axis([-5, 5, -1.2, 1.2])\n",
        "\n",
        "plt.subplot(122)\n",
        "plt.plot(z, derivative(np.sign, z), \"r-\", linewidth=1, label=\"Step\")\n",
        "plt.plot(0, 0, \"ro\", markersize=5)\n",
        "plt.plot(0, 0, \"rx\", markersize=10)\n",
        "plt.plot(z, derivative(sigmoid, z), \"g--\", linewidth=2, label=\"Sigmoid\")\n",
        "plt.plot(z, derivative(np.tanh, z), \"b-\", linewidth=2, label=\"Tanh\")\n",
        "plt.plot(z, derivative(relu, z), \"m-.\", linewidth=2, label=\"ReLU\")\n",
        "plt.grid(True)\n",
        "plt.title(\"Derivatives\", fontsize=14)\n",
        "plt.axis([-5, 5, -0.2, 1.2])\n",
        "plt.show()"
      ],
      "execution_count": null,
      "outputs": [
        {
          "output_type": "display_data",
          "data": {
            "image/png": "[encoded data removed]",
            "text/plain": [
              "<Figure size 1080x432 with 2 Axes>"
            ]
          },
          "metadata": {
            "tags": [],
            "needs_background": "light"
          }
        }
      ]
    },
    {
      "cell_type": "markdown",
      "metadata": {
        "id": "DgRB1nggbRzg",
        "colab_type": "text"
      },
      "source": [
        "There are other activation functions (check this [notebook](https://github.com/victorviro/Deep_learning_python/blob/master/Vanishing_Exploding_gradients_problem_DNNs.ipynb)).\n",
        "\n",
        "But why do we need activation functions between layers?. If you apply chain rule on several linear transformations you will get a linear transformation. So if you don’t have some nonlinearity between layers, then even a deep stack of layers is equivalent to a single layer, and you can’t solve very complex problems with that. The purpose of the activation function is to introduce non-linearity into the network (check this [video](https://www.youtube.com/watch?v=NkOv_k7r6no&list=PLkDaE6sCZn6Ec-XTbcX1uRg2_u4xOEky0&index=31)).\n",
        "\n",
        "\n"
      ]
    },
    {
      "cell_type": "markdown",
      "metadata": {
        "id": "uZII9rUndcHc",
        "colab_type": "text"
      },
      "source": [
        "### Regression MLPs\n",
        "\n",
        "MLPs can be used for regression tasks. For univariate regression (predict a single value) you need a single output neuron (the predicted value). For multivariate regression (predict multiple values at once), you need one output neuron per output dimension.\n",
        "\n",
        "In general, when building an MLP for regression it is not usually used activation function for the output neurons (they are free to output any range of values). However, if you want that outputs will always be positive, you can use the ReLU activation function, or softplus (a smooth variant of ReLU) in the output layer. Finally, if you want that the predictions will fall within a given range of values you can use the logistic function or hyperbolic tangent, and scale the labels to the adequate range (0 to 1 for the logistic function, or -1 to 1 for the hyperbolic tangent.).\n",
        "\n",
        "The loss function typically is the mean squared error, but there are others like mean absolute error or Huber loss (a good choice if the training set has a lot of outliers).\n"
      ]
    },
    {
      "cell_type": "markdown",
      "metadata": {
        "id": "Jga8m59p9PjJ",
        "colab_type": "text"
      },
      "source": [
        "### Clasification MLPs\n",
        "\n",
        "\n",
        "MLPs can be used for classification tasks. For binary classification, you need a single output neuron using the logistic activation function (the predicted value will be a number between 0 and 1, which you can interpret as the estimated probability of the positive class).\n",
        "\n",
        "For multi-label binary classification, for example, predicts whether the incoming email is spam or no-spam, and simultaneously predicts whether it is an urgent or non-urgent email. In this case, you would need two output neurons, both using the logistic function: the first output will be the probability estimated that the email is spam and the second the probability estimated that the email is urgent. Generally, you can use one output neuron for each positive class.\n",
        "\n",
        "For multiclass classification, this is when target variable can belong only to a single class, out of 3 or more possible classes (for example classes 0 through 9 for digit image classification), you need to have one output neuron per class and you can use the softmax activation function for the whole output layer (softmax activation function ensure that all estimated probabilities are between 0 and 1).\n",
        "\n",
        "Multiclass classification should not be confused with multi-label classification, where multiple labels are to be predicted for each instance.\n",
        "\n",
        "Regarding the loss function, we are predicting probability distributions, the cross-entropy is generally a good option."
      ]
    },
    {
      "cell_type": "markdown",
      "metadata": {
        "id": "ahxS3gRPAz0J",
        "colab_type": "text"
      },
      "source": [
        "# Image classifier: MNIST fashion dataset\n",
        "\n",
        "![texto alternativo](https://camo.githubusercontent.com/a2e4e2eb7beebba0496cdf0bd08761636b6ecddd/68747470733a2f2f692e6779617a6f2e636f6d2f30666237313934393761386236366164393938643132333561663237643930312e706e67)\n",
        "\n",
        "The images represent fashion items."
      ]
    },
    {
      "cell_type": "code",
      "metadata": {
        "id": "z4Dj3bs5Uva4",
        "colab_type": "code",
        "colab": {}
      },
      "source": [
        "import pandas as pd\n",
        "import matplotlib.pyplot as plt\n",
        "import numpy as np\n",
        "import seaborn as sns\n",
        "from sklearn.metrics import classification_report, confusion_matrix\n",
        "from sklearn.model_selection import train_test_split\n",
        "import keras"
      ],
      "execution_count": null,
      "outputs": []
    },
    {
      "cell_type": "markdown",
      "metadata": {
        "id": "mWaBM__peQtW",
        "colab_type": "text"
      },
      "source": [
        "The dataset is already split into a training set and a test set."
      ]
    },
    {
      "cell_type": "code",
      "metadata": {
        "id": "le3Lrps5dchz",
        "colab_type": "code",
        "colab": {}
      },
      "source": [
        "\n",
        "fashion_mnist = keras.datasets.fashion_mnist\n",
        "(X_train_full, y_train_full), (X_test, y_test) = fashion_mnist.load_data()"
      ],
      "execution_count": null,
      "outputs": []
    },
    {
      "cell_type": "code",
      "metadata": {
        "id": "VcQAyTkmE-_u",
        "colab_type": "code",
        "colab": {
          "base_uri": "https://localhost:8080/",
          "height": 34
        },
        "outputId": "c41b9cc7-0b1c-4806-bea5-b14d17a9a5d5"
      },
      "source": [
        "print(X_train_full.shape)"
      ],
      "execution_count": null,
      "outputs": [
        {
          "output_type": "stream",
          "text": [
            "(60000, 28, 28)\n"
          ],
          "name": "stdout"
        }
      ]
    },
    {
      "cell_type": "markdown",
      "metadata": {
        "id": "yvkeIOXNEvFp",
        "colab_type": "text"
      },
      "source": [
        "Every image is represented as a $28 \\times 28$ array.\n",
        "\n",
        "Since we are going to train the neural network using Gradient Descent, we must scale the input feature. We just scale the pixel intensity down to the 0-1 range by dividing them by 255.0."
      ]
    },
    {
      "cell_type": "code",
      "metadata": {
        "id": "xKR836EmdckV",
        "colab_type": "code",
        "colab": {}
      },
      "source": [
        "X_train_full = X_train_full / 255.0"
      ],
      "execution_count": null,
      "outputs": []
    },
    {
      "cell_type": "markdown",
      "metadata": {
        "id": "ZFiALH-nFqj9",
        "colab_type": "text"
      },
      "source": [
        "\n",
        "Each image is mapped to a single label. Since the class names are not included with the dataset, store them here to use later when plotting the images. Each label is an integer between 0 and 9."
      ]
    },
    {
      "cell_type": "code",
      "metadata": {
        "id": "oBTAMAuYdcm0",
        "colab_type": "code",
        "colab": {
          "base_uri": "https://localhost:8080/",
          "height": 34
        },
        "outputId": "ecaa7897-4b27-44eb-bbae-d037eb07a8b6"
      },
      "source": [
        "class_names = [\"T-shirt/top\", \"Trouser\", \"Pullover\", \"Dress\", \"Coat\",\n",
        "               \"Sandal\", \"Shirt\", \"Sneaker\", \"Bag\", \"Ankle boot\"]\n",
        "\n",
        "# let's see what class represent the first image\n",
        "class_names[y_train_full[0]]"
      ],
      "execution_count": null,
      "outputs": [
        {
          "output_type": "execute_result",
          "data": {
            "text/plain": [
              "'Ankle boot'"
            ]
          },
          "metadata": {
            "tags": []
          },
          "execution_count": 8
        }
      ]
    },
    {
      "cell_type": "markdown",
      "metadata": {
        "id": "_gp3yyYbGWdq",
        "colab_type": "text"
      },
      "source": [
        "### Creating a model using Sequential API\n",
        "Now let’s build the neural network. It is a classification MLP with two hidden layers."
      ]
    },
    {
      "cell_type": "code",
      "metadata": {
        "id": "haSCK_lFdcpt",
        "colab_type": "code",
        "colab": {}
      },
      "source": [
        "model = keras.models.Sequential([\n",
        "    keras.layers.Flatten(input_shape=[28,28]),\n",
        "    keras.layers.Dense(300, activation=\"relu\"),\n",
        "    keras.layers.Dense(100, activation=\"relu\"),\n",
        "    keras.layers.Dense(10, activation=\"softmax\"),\n",
        "])\n",
        "\n"
      ],
      "execution_count": null,
      "outputs": []
    },
    {
      "cell_type": "markdown",
      "metadata": {
        "id": "UmMRbXJQUo5M",
        "colab_type": "text"
      },
      "source": [
        "- The first line creates a  `Sequential` model. This is the simplest kind of Keras model, for neural networks that are just composed of a single stack of layers, connected sequentially. This is called the sequential API.\n",
        "\n",
        "- Next, pass a list of layers to the model. The first layer is a `Flatten` layer used to convert each input image into a 1D array: if it receives input data X, it computes  `X.reshape(-1, 1)`. This layer does not have any parameters, it is just to do some simple preprocessing. Since it is the first layer, you should specify the `input_shape`: this does not include the batch size, only the shape of the instances. Alternatively, you could add a `keras.layers.InputLayer` as the first layer, setting `input_shape=[28,28]`.\n",
        "\n",
        "\n",
        "- Next, we add a `Dense` hidden layer with 300 neurons. It will use the ReLU activation function. Each `Dense` layer manages its weight matrix, containing all the connection weights between the neurons and their inputs. It also manages a vector of bias terms (one per neuron).\n",
        "\n",
        "- Next a second  `Dense` hidden layer with 100 neurons, also using the ReLU activation function. \n",
        "\n",
        "- Finally, a `Dense` output layer with 10 neurons (one per class), using the softmax activation function (because the classes are exclusive)."
      ]
    },
    {
      "cell_type": "markdown",
      "metadata": {
        "id": "D76fmQPCYx9P",
        "colab_type": "text"
      },
      "source": [
        "The model’s `summary()`  method displays all the model’s layers, including each layer’s name, its output shape, and its number of parameters. The summary ends with the total number of parameters, trainable and non-trainable parameters."
      ]
    },
    {
      "cell_type": "code",
      "metadata": {
        "id": "PtK_xPzbdcxM",
        "colab_type": "code",
        "colab": {
          "base_uri": "https://localhost:8080/",
          "height": 289
        },
        "outputId": "bbe9c417-b7d8-4d77-b152-4580117ec35d"
      },
      "source": [
        "model.summary()"
      ],
      "execution_count": null,
      "outputs": [
        {
          "output_type": "stream",
          "text": [
            "Model: \"sequential_1\"\n",
            "_________________________________________________________________\n",
            "Layer (type)                 Output Shape              Param #   \n",
            "=================================================================\n",
            "flatten_1 (Flatten)          (None, 784)               0         \n",
            "_________________________________________________________________\n",
            "dense_1 (Dense)              (None, 300)               235500    \n",
            "_________________________________________________________________\n",
            "dense_2 (Dense)              (None, 100)               30100     \n",
            "_________________________________________________________________\n",
            "dense_3 (Dense)              (None, 10)                1010      \n",
            "=================================================================\n",
            "Total params: 266,610\n",
            "Trainable params: 266,610\n",
            "Non-trainable params: 0\n",
            "_________________________________________________________________\n"
          ],
          "name": "stdout"
        }
      ]
    },
    {
      "cell_type": "markdown",
      "metadata": {
        "id": "vFGTSdzlZ0ea",
        "colab_type": "text"
      },
      "source": [
        "Note that `Dense` layers often have a  lot of parameters. For example, the first hidden layer has 784 × 300 connection weights, plus 300 bias terms, which reaches to 235,500 parameters! This gives the model flexibility to fit the training data, but also the model runs the risk of overfitting, especially when you do not have a lot of training data.\n",
        "\n",
        "You can easily get a model's list of layers or all the parameters of a specific layer (for a `dense` layer includes both the connection weight and the bias)."
      ]
    },
    {
      "cell_type": "code",
      "metadata": {
        "id": "XJFdmQhNdczz",
        "colab_type": "code",
        "colab": {
          "base_uri": "https://localhost:8080/",
          "height": 224
        },
        "outputId": "2b29f426-f09d-4a80-88e3-e80ef700b5ae"
      },
      "source": [
        "print(model.layers)\n",
        "dense_3 = model.layers[1]\n",
        "weigth, biases = dense_3.get_weights()\n",
        "print(weigth[0:5], biases[0:5])\n"
      ],
      "execution_count": null,
      "outputs": [
        {
          "output_type": "stream",
          "text": [
            "[<keras.layers.core.Flatten object at 0x7f4f19daaef0>, <keras.layers.core.Dense object at 0x7f4f19d5e358>, <keras.layers.core.Dense object at 0x7f4f19d5e518>, <keras.layers.core.Dense object at 0x7f4f19d5e6a0>]\n",
            "[[ 0.04244809 -0.05748133 -0.01977593 ... -0.0676564  -0.03755167\n",
            "  -0.02860935]\n",
            " [-0.04539248  0.0595447   0.05326509 ...  0.00992513  0.04343438\n",
            "   0.00664838]\n",
            " [-0.0273506  -0.05136524 -0.0524012  ... -0.00647464  0.06729431\n",
            "   0.01314767]\n",
            " [-0.0544026  -0.05908169 -0.01876298 ... -0.0523887  -0.06404144\n",
            "  -0.0731694 ]\n",
            " [-0.00905193  0.05344109  0.06759121 ...  0.01436885  0.02503876\n",
            "   0.03102849]] [0. 0. 0. 0. 0.]\n"
          ],
          "name": "stdout"
        }
      ]
    },
    {
      "cell_type": "markdown",
      "metadata": {
        "id": "t2OaMkEwv3ig",
        "colab_type": "text"
      },
      "source": [
        "Notice that the `Dense` layer initialized the connection weights randomly, and biases were initialized to zeros. You can use another initialization method.\n",
        "\n",
        "The shape of the weight matrix depends on the number of inputs. It is recommended to specify the `input_saphe` when creating the first layer in a `Sequential` model.\n"
      ]
    },
    {
      "cell_type": "markdown",
      "metadata": {
        "id": "TrGQrHWPG_Ci",
        "colab_type": "text"
      },
      "source": [
        "### Compiling the model\n",
        "\n",
        "We call compile method to specify the loss function and the optimizer to use. You can specify extra metrics."
      ]
    },
    {
      "cell_type": "code",
      "metadata": {
        "id": "YawwgW4jG6g8",
        "colab_type": "code",
        "colab": {}
      },
      "source": [
        "model.compile(loss=\"sparse_categorical_crossentropy\",\n",
        "              optimizer=\"sgd\",\n",
        "              metrics=[\"accuracy\"])"
      ],
      "execution_count": null,
      "outputs": []
    },
    {
      "cell_type": "markdown",
      "metadata": {
        "id": "dumP9hJkxZCl",
        "colab_type": "text"
      },
      "source": [
        "We use the \"`sparse_categorical_crossentropy`\" loss because we have sparse labels (i.e., for each instance, there is just a target class index, from 0 to 9 in this case), and the classes are exclusive. If instead we had one target probability per class for each instance (such as one-hot vectors, e.g. `[0., 0., 0., 1., 0., 0., 0., 0., 0., 0.]` to represent class 3), then we would need to use the \"`categorical_crossentropy`\" loss instead. If we were doing binary classification (with one or more binary labels), then we would use the \"`sigmoid`\" (i.e., logistic) activation function in the output layer instead of the \"`softmax`\" activation function, and we would use the \"`binary_crossentropy`\" loss.\n",
        "\n",
        "**Note**: If you want to convert sparse labels (i.e., class indices) to one-hot vector labels, use the `keras.utils.to_categorical()` function. You can also use the `np.argmax()` function with `axis=1`.\n",
        "\n",
        "\n",
        "The optimizer \"`sgd`\" will train the model using simple Stochastic Gradient Descent. Specifically, it will perform the backpropagation algorithm described earlier. There are other efficient optimizers (to improve the gradient descent part). We use the measure \"`accuracy`\" during training and evaluation for our classification model."
      ]
    },
    {
      "cell_type": "code",
      "metadata": {
        "id": "OoIZg-WqG67h",
        "colab_type": "code",
        "colab": {}
      },
      "source": [
        "# Split the data\n",
        "X_train, X_valid, y_train, y_valid = train_test_split(X_train_full, y_train_full, test_size=0.1, shuffle= True)"
      ],
      "execution_count": null,
      "outputs": []
    },
    {
      "cell_type": "markdown",
      "metadata": {
        "id": "5FmBcI0pHSa6",
        "colab_type": "text"
      },
      "source": [
        "### Training and evaluating the model\n",
        "\n",
        "For this we simply need to call its `fit()` method:"
      ]
    },
    {
      "cell_type": "code",
      "metadata": {
        "id": "fLwo-Z5sG6-p",
        "colab_type": "code",
        "colab": {
          "base_uri": "https://localhost:8080/",
          "height": 714
        },
        "outputId": "4573e8fd-0b0a-4f01-9f5e-eb5aaaa4006b"
      },
      "source": [
        "history = model.fit(X_train, y_train, epochs=20 , validation_data = (X_valid, y_valid))"
      ],
      "execution_count": null,
      "outputs": [
        {
          "output_type": "stream",
          "text": [
            "Train on 54000 samples, validate on 6000 samples\n",
            "Epoch 1/20\n",
            "54000/54000 [==============================] - 7s 120us/step - loss: 0.7131 - accuracy: 0.7662 - val_loss: 0.5079 - val_accuracy: 0.8267\n",
            "Epoch 2/20\n",
            "54000/54000 [==============================] - 6s 115us/step - loss: 0.4884 - accuracy: 0.8306 - val_loss: 0.4556 - val_accuracy: 0.8433\n",
            "Epoch 3/20\n",
            "54000/54000 [==============================] - 6s 114us/step - loss: 0.4445 - accuracy: 0.8449 - val_loss: 0.4280 - val_accuracy: 0.8492\n",
            "Epoch 4/20\n",
            "54000/54000 [==============================] - 6s 115us/step - loss: 0.4159 - accuracy: 0.8558 - val_loss: 0.4483 - val_accuracy: 0.8447\n",
            "Epoch 5/20\n",
            "54000/54000 [==============================] - 6s 115us/step - loss: 0.3962 - accuracy: 0.8609 - val_loss: 0.4020 - val_accuracy: 0.8577\n",
            "Epoch 6/20\n",
            "54000/54000 [==============================] - 6s 116us/step - loss: 0.3798 - accuracy: 0.8673 - val_loss: 0.3858 - val_accuracy: 0.8657\n",
            "Epoch 7/20\n",
            "54000/54000 [==============================] - 6s 116us/step - loss: 0.3680 - accuracy: 0.8702 - val_loss: 0.3909 - val_accuracy: 0.8622\n",
            "Epoch 8/20\n",
            "54000/54000 [==============================] - 6s 115us/step - loss: 0.3554 - accuracy: 0.8749 - val_loss: 0.3847 - val_accuracy: 0.8637\n",
            "Epoch 9/20\n",
            "54000/54000 [==============================] - 6s 116us/step - loss: 0.3440 - accuracy: 0.8786 - val_loss: 0.3508 - val_accuracy: 0.8735\n",
            "Epoch 10/20\n",
            "54000/54000 [==============================] - 6s 115us/step - loss: 0.3343 - accuracy: 0.8806 - val_loss: 0.3482 - val_accuracy: 0.8745\n",
            "Epoch 11/20\n",
            "54000/54000 [==============================] - 7s 124us/step - loss: 0.3263 - accuracy: 0.8853 - val_loss: 0.3572 - val_accuracy: 0.8728\n",
            "Epoch 12/20\n",
            "54000/54000 [==============================] - 6s 117us/step - loss: 0.3191 - accuracy: 0.8859 - val_loss: 0.3488 - val_accuracy: 0.8723\n",
            "Epoch 13/20\n",
            "54000/54000 [==============================] - 6s 114us/step - loss: 0.3116 - accuracy: 0.8888 - val_loss: 0.3419 - val_accuracy: 0.8768\n",
            "Epoch 14/20\n",
            "54000/54000 [==============================] - 6s 114us/step - loss: 0.3052 - accuracy: 0.8897 - val_loss: 0.3444 - val_accuracy: 0.8732\n",
            "Epoch 15/20\n",
            "54000/54000 [==============================] - 6s 115us/step - loss: 0.2981 - accuracy: 0.8922 - val_loss: 0.3324 - val_accuracy: 0.8800\n",
            "Epoch 16/20\n",
            "54000/54000 [==============================] - 6s 114us/step - loss: 0.2923 - accuracy: 0.8963 - val_loss: 0.3202 - val_accuracy: 0.8833\n",
            "Epoch 17/20\n",
            "54000/54000 [==============================] - 6s 115us/step - loss: 0.2860 - accuracy: 0.8978 - val_loss: 0.3129 - val_accuracy: 0.8878\n",
            "Epoch 18/20\n",
            "54000/54000 [==============================] - 6s 114us/step - loss: 0.2804 - accuracy: 0.8985 - val_loss: 0.3286 - val_accuracy: 0.8782\n",
            "Epoch 19/20\n",
            "54000/54000 [==============================] - 6s 115us/step - loss: 0.2765 - accuracy: 0.9008 - val_loss: 0.3589 - val_accuracy: 0.8685\n",
            "Epoch 20/20\n",
            "54000/54000 [==============================] - 6s 114us/step - loss: 0.2717 - accuracy: 0.9032 - val_loss: 0.3136 - val_accuracy: 0.8848\n"
          ],
          "name": "stdout"
        }
      ]
    },
    {
      "cell_type": "markdown",
      "metadata": {
        "id": "oeVj0g-czJZB",
        "colab_type": "text"
      },
      "source": [
        "We pass it the input features (`X_train`) and the target classes (`y_train`), as well as the number of epochs to train (or else it would default to just 1, which would not be enough to converge to a good solution). We also pass a validation set (this is optional). Keras will measure the loss and the extra metrics on this set at the end of each epoch, which is very useful to see how well the model performs. If the performance on the training set is much better than on the validation set, your model is probably overfitting the training set (or there is a bug, such as a data mismatch between the training set and the validation set).\n",
        "\n",
        "At each epoch during training, Keras displays the number of instances processes, the mean training time per sample, the loss and accuracy both on the training and validation sets"
      ]
    },
    {
      "cell_type": "markdown",
      "metadata": {
        "id": "R953dkr73_R4",
        "colab_type": "text"
      },
      "source": [
        "If the training set was unbalanced, with some classes being overrepresented and others underrepresented can be useful to set the `class_weight` argument when calling the `fit()` method (giving larger weight to underrepresented classes and a lower weight to overrepresented classes).\n",
        "\n",
        "The `fit()` method returns a `History` object which contains the training parameters, list of epochs, and a dictionary which contains the loss and extra metrics it measured at the end of each epoch on both training and validation set.\n",
        "\n",
        "We can use these measures to plot the learning curves."
      ]
    },
    {
      "cell_type": "code",
      "metadata": {
        "id": "bMrCRHI2G6cP",
        "colab_type": "code",
        "colab": {
          "base_uri": "https://localhost:8080/",
          "height": 395
        },
        "outputId": "2240d411-ab4e-4623-fe44-a2bc758a0a2d"
      },
      "source": [
        "pd.DataFrame(history.history).plot(figsize=(10,6))\n",
        "plt.grid(True)\n",
        "plt.gca().set_ylim(0,1)\n",
        "plt.show"
      ],
      "execution_count": null,
      "outputs": [
        {
          "output_type": "execute_result",
          "data": {
            "text/plain": [
              "<function matplotlib.pyplot.show>"
            ]
          },
          "metadata": {
            "tags": []
          },
          "execution_count": 15
        },
        {
          "output_type": "display_data",
          "data": {
            "image/png": "[encoded data removed]",
            "text/plain": [
              "<Figure size 720x432 with 1 Axes>"
            ]
          },
          "metadata": {
            "tags": [],
            "needs_background": "light"
          }
        }
      ]
    },
    {
      "cell_type": "markdown",
      "metadata": {
        "id": "UT5kn2P92Lfv",
        "colab_type": "text"
      },
      "source": [
        "We see that both the training and validation accuracy increase during training, while loss decrease. The validation curves are quite close to the training curves, which means that there is not too much overfitting.\n",
        "\n",
        "If you are not satisfied with the performance of the model, you can tune the model's hyperparameter and train the model again. You can modify the number of neurons per layer, the number of layers, the types of activation functions for each hidden layer, the number of epochs, the batch size (by default it is 32)...\n",
        "\n",
        "We can evaluate the model on the test set to estimate the generalization error."
      ]
    },
    {
      "cell_type": "code",
      "metadata": {
        "id": "WpaCTu7GG6aj",
        "colab_type": "code",
        "colab": {
          "base_uri": "https://localhost:8080/",
          "height": 51
        },
        "outputId": "7e9e8315-8c3c-4fbf-868c-c79c3e95bec8"
      },
      "source": [
        "test_loss, test_acc = model.evaluate(X_test,  y_test, verbose=2)\n",
        "\n",
        "print('\\nTest accuracy:', test_acc)"
      ],
      "execution_count": null,
      "outputs": [
        {
          "output_type": "stream",
          "text": [
            "\n",
            "Test accuracy: 0.8467000126838684\n"
          ],
          "name": "stdout"
        }
      ]
    },
    {
      "cell_type": "markdown",
      "metadata": {
        "id": "-yDu8Pcgh_AW",
        "colab_type": "text"
      },
      "source": [
        "It is common to get slightly lower performance on the test set than on the validation set, because the hyperparameters are tuned on the validation set, not the test set (however, in this example, we did not do any hyperparameter tuning, so the lower accuracy is just bad luck). Remember to resist the temptation to tweak the hyperparameters on the test set, or else your estimate of the generalization error will be too optimistic."
      ]
    },
    {
      "cell_type": "markdown",
      "metadata": {
        "id": "OOhRMou2PPKI",
        "colab_type": "text"
      },
      "source": [
        "We can get the [confusion matrix](https://en.wikipedia.org/wiki/Confusion_matrix) and other measures of the model.\n"
      ]
    },
    {
      "cell_type": "code",
      "metadata": {
        "id": "AixN-RZKU7uB",
        "colab_type": "code",
        "colab": {
          "base_uri": "https://localhost:8080/",
          "height": 500
        },
        "outputId": "f9bcea2a-eb70-4d62-ea0e-6b6a77ee13bb"
      },
      "source": [
        "# Predict the values from the test dataset\n",
        "Y_pred = model.predict(X_test)\n",
        "# Convert predictions classes to one hot vectors \n",
        "Y_pred_classes = np.argmax(Y_pred, axis = 1) \n",
        "# compute the confusion matrix\n",
        "confusion_mtx = confusion_matrix(y_test, Y_pred_classes) \n",
        "# plot the confusion matrix\n",
        "plt.figure(figsize=(10,8))\n",
        "sns.heatmap(confusion_mtx, annot=True, fmt=\"d\")"
      ],
      "execution_count": null,
      "outputs": [
        {
          "output_type": "execute_result",
          "data": {
            "text/plain": [
              "<matplotlib.axes._subplots.AxesSubplot at 0x7f4f102cd550>"
            ]
          },
          "metadata": {
            "tags": []
          },
          "execution_count": 17
        },
        {
          "output_type": "display_data",
          "data": {
            "image/png": "[encoded data removed]",
            "text/plain": [
              "<Figure size 720x576 with 2 Axes>"
            ]
          },
          "metadata": {
            "tags": [],
            "needs_background": "light"
          }
        }
      ]
    },
    {
      "cell_type": "code",
      "metadata": {
        "id": "rFPlxIFl9bKW",
        "colab_type": "code",
        "colab": {
          "base_uri": "https://localhost:8080/",
          "height": 357
        },
        "outputId": "aa2a676d-08be-4c16-94f6-aeae30671dda"
      },
      "source": [
        "# Evaluate the network using the test set\n",
        "print(\"[INFO] evaluating network...\")\n",
        "predictions = model.predict(X_test)\n",
        "print(predictions.argmax(axis=1))\n",
        "print(y_test)\n",
        "print(classification_report(y_test,predictions.argmax(axis=1)))"
      ],
      "execution_count": null,
      "outputs": [
        {
          "output_type": "stream",
          "text": [
            "[INFO] evaluating network...\n",
            "[9 2 1 ... 8 1 5]\n",
            "[9 2 1 ... 8 1 5]\n",
            "              precision    recall  f1-score   support\n",
            "\n",
            "           0       0.76      0.91      0.83      1000\n",
            "           1       0.95      0.98      0.96      1000\n",
            "           2       0.82      0.66      0.73      1000\n",
            "           3       0.94      0.80      0.86      1000\n",
            "           4       0.63      0.93      0.75      1000\n",
            "           5       0.98      0.92      0.95      1000\n",
            "           6       0.84      0.47      0.60      1000\n",
            "           7       0.96      0.83      0.89      1000\n",
            "           8       0.90      0.98      0.94      1000\n",
            "           9       0.83      0.99      0.91      1000\n",
            "\n",
            "    accuracy                           0.85     10000\n",
            "   macro avg       0.86      0.85      0.84     10000\n",
            "weighted avg       0.86      0.85      0.84     10000\n",
            "\n"
          ],
          "name": "stdout"
        }
      ]
    },
    {
      "cell_type": "markdown",
      "metadata": {
        "id": "Ndrw0qKzPaOY",
        "colab_type": "text"
      },
      "source": [
        "We can use the model to make predictions on new instances (we will just use the first 3 instances of the test set)."
      ]
    },
    {
      "cell_type": "code",
      "metadata": {
        "id": "hYMP1-P7PiUS",
        "colab_type": "code",
        "colab": {
          "base_uri": "https://localhost:8080/",
          "height": 68
        },
        "outputId": "22e937af-26fb-4a5e-8356-9513f7836c86"
      },
      "source": [
        "y_proba_predictions = model.predict(X_test[:3])\n",
        "print(y_proba_predictions)"
      ],
      "execution_count": null,
      "outputs": [
        {
          "output_type": "stream",
          "text": [
            "[[0. 0. 0. 0. 0. 0. 0. 0. 0. 1.]\n",
            " [0. 0. 1. 0. 0. 0. 0. 0. 0. 0.]\n",
            " [0. 1. 0. 0. 0. 0. 0. 0. 0. 0.]]\n"
          ],
          "name": "stdout"
        }
      ]
    },
    {
      "cell_type": "markdown",
      "metadata": {
        "id": "jJiAdRfiQhUm",
        "colab_type": "text"
      },
      "source": [
        "For each instance the model estimates one probability per class, from class 0 to 9. \n",
        "\n",
        "We can also get the class with the highest estimated probability. "
      ]
    },
    {
      "cell_type": "code",
      "metadata": {
        "id": "VssuXCk19bHj",
        "colab_type": "code",
        "colab": {
          "base_uri": "https://localhost:8080/",
          "height": 51
        },
        "outputId": "3bf1c42e-f11f-40ba-f5fa-b9e14a642be2"
      },
      "source": [
        "y_predictions = model.predict_classes(X_test[:3])\n",
        "print(y_predictions)\n",
        "print(y_test[:3])"
      ],
      "execution_count": null,
      "outputs": [
        {
          "output_type": "stream",
          "text": [
            "[9 2 1]\n",
            "[9 2 1]\n"
          ],
          "name": "stdout"
        }
      ]
    },
    {
      "cell_type": "markdown",
      "metadata": {
        "id": "GHhF3I7kRomp",
        "colab_type": "text"
      },
      "source": [
        "The three first images on the test set are correctly predicted.\n",
        "\n",
        "Despite our model performs reasonably well, there are other sorts of neural networks like Convolutional Neural Networks (CNN) which generally performs better when we want to feed the network with data from images ([notebook introduction to CNN](https://github.com/victorviro/Deep_learning_python/blob/master/Introduction_to_CNNs.ipynb))."
      ]
    },
    {
      "cell_type": "markdown",
      "metadata": {
        "id": "C5oiv5xwcXaa",
        "colab_type": "text"
      },
      "source": [
        "# References"
      ]
    },
    {
      "cell_type": "markdown",
      "metadata": {
        "id": "fqQ1FhxPGmb1",
        "colab_type": "text"
      },
      "source": [
        "\n",
        "- [Hands-On Machine Learning with Scikit-Learn, Keras, and TensorFlow](https://www.oreilly.com/library/view/hands-on-machine-learning/9781492032632/)\n",
        "\n",
        "\n",
        "- [Tensorflow tutorial](https://www.tensorflow.org/tutorials/keras/classification)\n",
        "\n",
        "- [Course Neural Networks and Deep Learning deeplearning.ai.](https://www.youtube.com/watch?v=CS4cs9xVecg&list=PLkDaE6sCZn6Ec-XTbcX1uRg2_u4xOEky0)\n",
        "\n",
        "\n",
        "- https://github.com/ageron/handson-ml2\n",
        "\n",
        "- http://neuralnetworksanddeeplearning.com/chap2.html"
      ]
    }
  ]
}