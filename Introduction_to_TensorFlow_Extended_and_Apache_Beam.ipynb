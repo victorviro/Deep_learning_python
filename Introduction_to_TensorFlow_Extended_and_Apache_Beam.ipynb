{
  "nbformat": 4,
  "nbformat_minor": 0,
  "metadata": {
    "colab": {
      "name": "Introduction to TensorFlow Extended and Apache Beam.ipynb",
      "provenance": [],
      "collapsed_sections": [],
      "toc_visible": true,
      "mount_file_id": "1g1Bp1Fur_-IIfv0qmoGlpWfh9IcbhFAP",
      "authorship_tag": "ABX9TyNzK2cm5cox/g/0R60TOFTm",
      "include_colab_link": true
    },
    "kernelspec": {
      "name": "python3",
      "display_name": "Python 3"
    }
  },
  "cells": [
    {
      "cell_type": "markdown",
      "metadata": {
        "id": "view-in-github",
        "colab_type": "text"
      },
      "source": [
        "<a href=\"https://colab.research.google.com/github/victorviro/Deep_learning_python/blob/master/Introduction_to_TensorFlow_Extended_and_Apache_Beam.ipynb\" target=\"_parent\"><img src=\"https://colab.research.google.com/assets/colab-badge.svg\" alt=\"Open In Colab\"/></a>"
      ]
    },
    {
      "cell_type": "markdown",
      "metadata": {
        "id": "JdDk-sPbJS_-"
      },
      "source": [
        "## Introduction"
      ]
    },
    {
      "cell_type": "markdown",
      "metadata": {
        "id": "QcW5_OjLJVE9"
      },
      "source": [
        "In the previous [notebook](https://github.com/victorviro/Deep_learning_python/blob/master/Introduction_to_Machine_Learning_pipelines.ipynb), we introduced the concept of machine learning pipelines and discussed the components that make up a pipeline. In this notebook, we introduce [TensorFlow Extended (TFX)](https://www.tensorflow.org/tfx). The TFX library supplies all the components we will need for our machine learning pipelines. We define our pipeline tasks using TFX, and they can then be executed with a pipeline orchestrator such as Airflow or Kubeflow Pipelines.\n",
        "\n",
        "We will guide through the installation of TFX, explaining basic concepts and terminologys. In later notebooks, we take an in-depth look at the individual components that make up our pipelines. We also introduce Apache Beam in this notebook. [Beam](https://github.com/apache/beam) is an open source tool for defining and executing data-processing jobs. It has two uses in TFX pipelines: first, it runs under the hood of many TFX components to carry out processing steps like data validation or data preprocessing. Second, it can be used as a pipeline orchestrator. We introduce Beam here because it will help us understand TFX components, and it is essential if we wish to write custom components."
      ]
    },
    {
      "cell_type": "markdown",
      "metadata": {
        "id": "YTVg6YwkKLLB"
      },
      "source": [
        "## What Is TFX?"
      ]
    },
    {
      "cell_type": "markdown",
      "metadata": {
        "id": "gXaEpnM4KKCf"
      },
      "source": [
        "\n",
        "Machine learning pipelines can become very complicated and consume a lot of overhead to manage task dependencies. At the same time, machine learning pipelines can include a variety of tasks, including tasks for data validation, preprocessing, model training, and any post-training tasks. As we discussed in the previous notebook, the connections between tasks are often brittle and cause the pipelines to fail. These connections are also known as the glue code from the publication [“Hidden Technical Debt in Machine Learning Systems”](https://papers.nips.cc/paper/2015/file/86df7dcfd896fcaf2674f757a2463eba-Paper.pdf). Having brittle connections ultimately means that production models will be updated infrequently, and data scientists and machine learning engineers loathe updating stale models. Pipelines also require well-managed distributed processing, which is why TFX leverages Apache Beam. This is especially true for large workloads.\n",
        "\n",
        "Google faced the same problem internally and decided to develop a platform to simplify the pipeline definitions and to minimize the amount of task code to write. The open source version of Google’s internal ML pipeline framework is TFX.\n",
        "\n",
        "Figure 2-2 shows the general pipeline architecture with TFX. Pipeline orchestration tools are the foundation for executing our tasks. Besides the orchestration tools, we need a data store to keep track of the intermediate pipeline results. The individual components communicate with the data store to receive their inputs, and they return the results to the data store. These results can then be inputs to following tasks. TFX provides the layer that combines all of these tools, and it provides the individual components for the major pipeline tasks.\n",
        "\n",
        "![](https://i.ibb.co/KLQJSmC/ML-pipeline-architecture.png)"
      ]
    },
    {
      "cell_type": "markdown",
      "metadata": {
        "id": "dc3kwak1LPas"
      },
      "source": [
        "Initially, Google released some of the pipeline functionality as open source TensorFlow libraries (e.g., TensorFlow Serving) under the umbrella of TFX libraries. In 2019, Google then published the open source glue code containing all the required pipeline components to tie the libraries together and to automatically create pipeline definitions for orchestration tools like Apache Airflow, Apache Beam, and Kubeflow Pipelines.\n",
        "\n",
        "TFX provides a variety of pipeline components that cover a good number of use cases. At the time of writing, the following components were available:\n",
        "\n",
        "- Data ingestion with `ExampleGen`.\n",
        "\n",
        "- Data validation with `StatisticsGen`, `SchemaGen`, and the `ExampleValidator`.\n",
        "\n",
        "- Data preprocessing with `Transform`.\n",
        "\n",
        "- Model training with `Trainer`.\n",
        "\n",
        "- Checking for previously trained models with `ResolverNode`.\n",
        "\n",
        "- Model analysis and validation with `Evaluator`.\n",
        "\n",
        "- Model deployments with `Pusher`.\n",
        "\n",
        "Figure 2-3 shows how the components of the pipeline and the libraries fit together.\n",
        "\n",
        "![](https://i.ibb.co/nnbDRm0/TFX-components.png)\n",
        "\n",
        "We will discuss the components and libraries in greater detail in the following notebooks. \n",
        "\n",
        "**Note**: At the time of writing this notebook, a stable 1.X version of TFX hasn’t been released. The TFX API mentioned in this and the following chapters might be subject to future updates. To the best of our knowledge, all the examples in these notebooks will work with TFX version 0.24.1."
      ]
    },
    {
      "cell_type": "markdown",
      "metadata": {
        "id": "DkQgMAFTNHX3"
      },
      "source": [
        "## Installing TFX"
      ]
    },
    {
      "cell_type": "markdown",
      "metadata": {
        "id": "OU5VuINhNMk-"
      },
      "source": [
        "TFX can easily be installed by running the following Python installer command:"
      ]
    },
    {
      "cell_type": "code",
      "metadata": {
        "id": "hHtoU6OGNT5y"
      },
      "source": [
        "!pip install tfx"
      ],
      "execution_count": null,
      "outputs": []
    },
    {
      "cell_type": "code",
      "metadata": {
        "id": "lay_pP8x5v75"
      },
      "source": [
        "import tfx\n",
        "import tensorflow as tf"
      ],
      "execution_count": 1,
      "outputs": []
    },
    {
      "cell_type": "code",
      "metadata": {
        "id": "v_MYUMlq5iQ6",
        "outputId": "ccdbb0ab-f8cd-4f55-d822-0093da0f9b1e",
        "colab": {
          "base_uri": "https://localhost:8080/"
        }
      },
      "source": [
        "print('TensorFlow version: {}'.format(tf.__version__))\n",
        "print('TFX version: {}'.format(tfx.__version__))"
      ],
      "execution_count": 2,
      "outputs": [
        {
          "output_type": "stream",
          "text": [
            "TensorFlow version: 2.3.0\n",
            "TFX version: 0.24.1\n"
          ],
          "name": "stdout"
        }
      ]
    },
    {
      "cell_type": "markdown",
      "metadata": {
        "id": "gQmIKQK0NYaL"
      },
      "source": [
        "The `tfx` package comes with a variety of dependencies that will be installed automatically. It installs not only the individual TFX Python packages (e.g., TensorFlow Data Validation), but also their dependencies like Apache Beam.\n",
        "\n",
        "**Note**: If you are using Google Colab, the first time that you run the cell above, you must restart the runtime (Runtime > Restart runtime ...). This is because of the way that Colab loads packages.\n",
        "\n",
        "After installing TFX, we can import the individual Python packages. We recommend taking this approach if we want to use the individual TFX packages (e.g., we want to validate a dataset using TensorFlow Data Validation):"
      ]
    },
    {
      "cell_type": "code",
      "metadata": {
        "id": "Sxusp4cpNOA6"
      },
      "source": [
        "import tensorflow_data_validation as tfdv\n",
        "import tensorflow_transform as tft\n",
        "import tensorflow_transform.beam as tft_beam"
      ],
      "execution_count": 3,
      "outputs": []
    },
    {
      "cell_type": "markdown",
      "metadata": {
        "id": "dEzKYeszNwLg"
      },
      "source": [
        "Alternatively, we can import the corresponding TFX component (if using the components in the context of a pipeline):"
      ]
    },
    {
      "cell_type": "code",
      "metadata": {
        "id": "W8eyM3yFNzkP"
      },
      "source": [
        "from tfx.components import ExampleValidator\n",
        "from tfx.components import Evaluator\n",
        "from tfx.components import Transform"
      ],
      "execution_count": 4,
      "outputs": []
    },
    {
      "cell_type": "markdown",
      "metadata": {
        "id": "Jh7kS-0PN1lR"
      },
      "source": [
        "## Overview of TFX Components"
      ]
    },
    {
      "cell_type": "markdown",
      "metadata": {
        "id": "l6vQx0OUN2mm"
      },
      "source": [
        "A component handles a more complex process than just the execution of a single task. All machine learning pipeline components read from a channel to get input artifacts from the metadata store. The data is then loaded from the path provided by the metadata store and processed. The output of the component, the processed data, is then provided to the next pipeline components. The generic internals of a component are always:\n",
        "\n",
        "- Receive some input\n",
        "\n",
        "- Perform an action\n",
        "\n",
        "- Store the final result\n",
        "\n",
        "In TFX terms, the three internal parts of the component are called the *driver*, *executor*, and *publisher*. The driver handles the querying of the metadata store. The executor performs the actions of the components. And the publisher manages the saving of the output metadata in the MetadataStore. The driver and the publisher aren’t moving any data. Instead, they read and write references from the MetadataStore. Figure 2-4 shows the structure of a TFX component.\n",
        "\n",
        "![](https://i.ibb.co/S7GcMb2/TFX-component-overview.png)\n",
        "\n",
        "The inputs and outputs of the components are called *artifacts*. Examples of artifacts include raw input data, preprocessed data, and trained models. Each artifact is associated with metadata stored in the MetadataStore. The artifact metadata consists of an artifact type as well as artifact properties. This artifact setup guarantees that the components can exchange data effectively. TFX currently provides ten different types of artifacts, which we review in the following notebooks.\n",
        "\n"
      ]
    },
    {
      "cell_type": "markdown",
      "metadata": {
        "id": "oZ6_3WC6PGWn"
      },
      "source": [
        "## What Is ML Metadata?"
      ]
    },
    {
      "cell_type": "markdown",
      "metadata": {
        "id": "aWTmUNecPEqC"
      },
      "source": [
        "The components of TFX \"communicate\" through *metadata*; instead of passing artifacts directly between the pipeline components, the components consume and publish references to pipeline artifacts. An artifact could be, for example, a raw dataset, a transform graph, or an exported model. Therefore, the metadata is the backbone of our TFX pipelines. One advantage of passing the metadata between components instead of the direct artifacts is that the information can be centrally stored.\n",
        "\n",
        "In practice, the workflow goes as follows: when we execute a component, it uses the [ML Metadata (MLMD)](https://www.tensorflow.org/tfx/guide/mlmd) API to save the metadata corresponding to the run. For example, the component driver receives the reference for a raw dataset from the metadata store. After the component execution, the component publisher will store the references of the component outputs in the metadata store. MLMD saves the metadata consistently to a MetadataStore, based on a storage backend. Currently, MLMD supports three types of backends:\n",
        "\n",
        "- In-memory database (via SQLite)\n",
        "\n",
        "- SQLite\n",
        "\n",
        "- MySQL\n",
        "\n",
        "Because the TFX components are so consistently tracked, ML Metadata provides a variety of useful functions. For example, we can compare two artifacts from the same component (we'll see this in a following notebook when we'll discuss model validation). In this particular case, TFX compares the model analysis results from a current run with the results from the previous run. This checks whether the more recently trained model has a better accuracy or loss compared to the previous model. The metadata can also be used to determine all the artifacts that have been based on another, previously created artifact. This creates a kind of audit trail for our machine learning pipelines.\n",
        "\n",
        "Figure 2-5 shows that each component interacts with the MetadataStore, and the MetadataStore stores the metadata on the provided database backend.\n",
        "\n",
        "![](https://i.ibb.co/KFWMGb7/store-metadata-MLMD.png)\n"
      ]
    },
    {
      "cell_type": "markdown",
      "metadata": {
        "id": "K9wzc3Hp9Y1L"
      },
      "source": [
        "## Download example data"
      ]
    },
    {
      "cell_type": "markdown",
      "metadata": {
        "id": "MFs1Qc7P9fJf"
      },
      "source": [
        "We download the example dataset for use in our TFX pipeline. The dataset we're using is the [Taxi Trips dataset](https://data.cityofchicago.org/Transportation/Taxi-Trips/wrvz-psew) released by the City of Chicago. The columns in this dataset are:\n",
        "\n",
        "<table>\n",
        "<tr><td>pickup_community_area</td><td>fare</td><td>trip_start_month</td></tr>\n",
        "<tr><td>trip_start_hour</td><td>trip_start_day</td><td>trip_start_timestamp</td></tr>\n",
        "<tr><td>pickup_latitude</td><td>pickup_longitude</td><td>dropoff_latitude</td></tr>\n",
        "<tr><td>dropoff_longitude</td><td>trip_miles</td><td>pickup_census_tract</td></tr>\n",
        "<tr><td>dropoff_census_tract</td><td>payment_type</td><td>company</td></tr>\n",
        "<tr><td>trip_seconds</td><td>dropoff_community_area</td><td>tips</td></tr>\n",
        "</table>"
      ]
    },
    {
      "cell_type": "code",
      "metadata": {
        "id": "6QOVSRiw-AXb",
        "outputId": "17d3b79c-1ada-43a4-fb91-3ffe2ea859d3",
        "colab": {
          "base_uri": "https://localhost:8080/"
        }
      },
      "source": [
        "import os\n",
        "import urllib.request\n",
        "\n",
        "data_root = 'tfx_data/'\n",
        "if not os.path.exists(data_root):\n",
        "    os.makedirs(data_root)\n",
        "DATA_PATH = 'https://raw.githubusercontent.com/tensorflow/tfx/master/tfx/examples/chicago_taxi_pipeline/data/simple/data.csv'\n",
        "data_filepath = os.path.join(data_root, \"data.csv\")\n",
        "urllib.request.urlretrieve(DATA_PATH, data_filepath)"
      ],
      "execution_count": 5,
      "outputs": [
        {
          "output_type": "execute_result",
          "data": {
            "text/plain": [
              "('tfx_data/data.csv', <http.client.HTTPMessage at 0x7ff4029dbbe0>)"
            ]
          },
          "metadata": {
            "tags": []
          },
          "execution_count": 5
        }
      ]
    },
    {
      "cell_type": "markdown",
      "metadata": {
        "id": "SlgfkRpQ9_wj"
      },
      "source": [
        "Let's take a quick look at the CSV file."
      ]
    },
    {
      "cell_type": "code",
      "metadata": {
        "id": "gHq4N7Uf-ROZ",
        "outputId": "7ba4c523-4578-4509-e27e-0619b93e706b",
        "colab": {
          "base_uri": "https://localhost:8080/"
        }
      },
      "source": [
        "!head {data_filepath}"
      ],
      "execution_count": 6,
      "outputs": [
        {
          "output_type": "stream",
          "text": [
            "pickup_community_area,fare,trip_start_month,trip_start_hour,trip_start_day,trip_start_timestamp,pickup_latitude,pickup_longitude,dropoff_latitude,dropoff_longitude,trip_miles,pickup_census_tract,dropoff_census_tract,payment_type,company,trip_seconds,dropoff_community_area,tips\n",
            ",12.45,5,19,6,1400269500,,,,,0.0,,,Credit Card,Chicago Elite Cab Corp. (Chicago Carriag,0,,0.0\n",
            ",0,3,19,5,1362683700,,,,,0,,,Unknown,Chicago Elite Cab Corp.,300,,0\n",
            "60,27.05,10,2,3,1380593700,41.836150155,-87.648787952,,,12.6,,,Cash,Taxi Affiliation Services,1380,,0.0\n",
            "10,5.85,10,1,2,1382319000,41.985015101,-87.804532006,,,0.0,,,Cash,Taxi Affiliation Services,180,,0.0\n",
            "14,16.65,5,7,5,1369897200,41.968069,-87.721559063,,,0.0,,,Cash,Dispatch Taxi Affiliation,1080,,0.0\n",
            "13,16.45,11,12,3,1446554700,41.983636307,-87.723583185,,,6.9,,,Cash,,780,,0.0\n",
            "16,32.05,12,1,1,1417916700,41.953582125,-87.72345239,,,15.4,,,Cash,,1200,,0.0\n",
            "30,38.45,10,10,5,1444301100,41.839086906,-87.714003807,,,14.6,,,Cash,,2580,,0.0\n",
            "11,14.65,1,1,3,1358213400,41.978829526,-87.771166703,,,5.81,,,Cash,,1080,,0.0\n"
          ],
          "name": "stdout"
        }
      ]
    },
    {
      "cell_type": "markdown",
      "metadata": {
        "id": "lV05Gab4P2GJ"
      },
      "source": [
        "## Interactive Pipelines"
      ]
    },
    {
      "cell_type": "markdown",
      "metadata": {
        "id": "debsb3rrP4-h"
      },
      "source": [
        "Designing and implementing machine learning pipelines can be frustrating at times. It is sometimes challenging to debug components within a pipeline, for example. This is why the TFX functionality around interactive pipelines is beneficial. In fact, in the following notebooks, we will implement a machine learning pipeline step by step and demonstrate its implementations through an interactive pipeline. The pipeline runs in a Jupyter Notebook, and the component's artifacts can be immediately reviewed. Once we have confirmed the full functionality of our pipeline, we will discuss how we can convert our interactive pipeline to a production-ready pipeline, for example, for execution on Apache Airflow.\n",
        "\n",
        "Any interactive pipeline is programmed in the context of a Jupyter Notebook or a Google Colab session. In contrast to the orchestration tools we will discuss, interactive pipelines are orchestrated and executed by the user.\n",
        "\n",
        "We can start an interactive pipeline by importing the required packages:"
      ]
    },
    {
      "cell_type": "code",
      "metadata": {
        "id": "3YmN-Oc5NKem"
      },
      "source": [
        "import tensorflow as tf\n",
        "from tfx.orchestration.experimental.interactive.interactive_context import \\\n",
        "    InteractiveContext"
      ],
      "execution_count": 7,
      "outputs": []
    },
    {
      "cell_type": "markdown",
      "metadata": {
        "id": "XmPq9CctQL8r"
      },
      "source": [
        "Once the requirements are imported, we can create a context object. The context object handles component execution and displays the component’s artifacts. At this point, the `InteractiveContext` also sets up a simple in-memory ML MetadataStore:"
      ]
    },
    {
      "cell_type": "code",
      "metadata": {
        "id": "deK41wb4a_QD",
        "outputId": "f41757b5-9a8b-4fbd-92b8-f6336fad905d",
        "colab": {
          "base_uri": "https://localhost:8080/"
        }
      },
      "source": [
        "context = InteractiveContext()"
      ],
      "execution_count": 8,
      "outputs": [
        {
          "output_type": "stream",
          "text": [
            "WARNING:absl:InteractiveContext pipeline_root argument not provided: using temporary directory /tmp/tfx-interactive-2020-11-10T13_53_38.267895-fflybx1k as root for pipeline outputs.\n",
            "WARNING:absl:InteractiveContext metadata_connection_config not provided: using SQLite ML Metadata database at /tmp/tfx-interactive-2020-11-10T13_53_38.267895-fflybx1k/metadata.sqlite.\n"
          ],
          "name": "stderr"
        }
      ]
    },
    {
      "cell_type": "markdown",
      "metadata": {
        "id": "edRcW7E0JTHq"
      },
      "source": [
        "After setting up our pipeline component(s) (e.g., `StatisticsGen`), we can then execute each component object through the run function of the context object, as shown in the following example:"
      ]
    },
    {
      "cell_type": "code",
      "metadata": {
        "id": "pU2P6onu3fX8",
        "outputId": "747315d8-24bf-46c1-8730-03395fe353f3",
        "colab": {
          "base_uri": "https://localhost:8080/",
          "height": 287
        }
      },
      "source": [
        "from tfx.utils.dsl_utils import external_input\n",
        "from tfx.components.example_gen.csv_example_gen.component import CsvExampleGen\n",
        "\n",
        "example_gen = CsvExampleGen(input=external_input(data_root))\n",
        "context.run(example_gen)"
      ],
      "execution_count": 9,
      "outputs": [
        {
          "output_type": "stream",
          "text": [
            "WARNING:tensorflow:From <ipython-input-9-eda87e2c5157>:4: external_input (from tfx.utils.dsl_utils) is deprecated and will be removed in a future version.\n",
            "Instructions for updating:\n",
            "external_input is deprecated, directly pass the uri to ExampleGen.\n"
          ],
          "name": "stdout"
        },
        {
          "output_type": "stream",
          "text": [
            "WARNING:absl:The \"input\" argument to the CsvExampleGen component has been deprecated by \"input_base\". Please update your usage as support for this argument will be removed soon.\n",
            "WARNING:apache_beam.runners.interactive.interactive_environment:Dependencies required for Interactive Beam PCollection visualization are not available, please use: `pip install apache-beam[interactive]` to install necessary dependencies to enable all data visualization features.\n"
          ],
          "name": "stderr"
        },
        {
          "output_type": "display_data",
          "data": {
            "application/javascript": [
              "\n",
              "        if (typeof window.interactive_beam_jquery == 'undefined') {\n",
              "          var jqueryScript = document.createElement('script');\n",
              "          jqueryScript.src = 'https://code.jquery.com/jquery-3.4.1.slim.min.js';\n",
              "          jqueryScript.type = 'text/javascript';\n",
              "          jqueryScript.onload = function() {\n",
              "            var datatableScript = document.createElement('script');\n",
              "            datatableScript.src = 'https://cdn.datatables.net/1.10.20/js/jquery.dataTables.min.js';\n",
              "            datatableScript.type = 'text/javascript';\n",
              "            datatableScript.onload = function() {\n",
              "              window.interactive_beam_jquery = jQuery.noConflict(true);\n",
              "              window.interactive_beam_jquery(document).ready(function($){\n",
              "                \n",
              "              });\n",
              "            }\n",
              "            document.head.appendChild(datatableScript);\n",
              "          };\n",
              "          document.head.appendChild(jqueryScript);\n",
              "        } else {\n",
              "          window.interactive_beam_jquery(document).ready(function($){\n",
              "            \n",
              "          });\n",
              "        }"
            ]
          },
          "metadata": {
            "tags": []
          }
        },
        {
          "output_type": "display_data",
          "data": {
            "application/javascript": [
              "\n",
              "        var import_html = () => {\n",
              "          ['https://raw.githubusercontent.com/PAIR-code/facets/1.0.0/facets-dist/facets-jupyter.html'].forEach(href => {\n",
              "            var link = document.createElement('link');\n",
              "            link.rel = 'import'\n",
              "            link.href = href;\n",
              "            document.head.appendChild(link);\n",
              "          });\n",
              "        }\n",
              "        if ('import' in document.createElement('link')) {\n",
              "          import_html();\n",
              "        } else {\n",
              "          var webcomponentScript = document.createElement('script');\n",
              "          webcomponentScript.src = 'https://cdnjs.cloudflare.com/ajax/libs/webcomponentsjs/1.3.3/webcomponents-lite.js';\n",
              "          webcomponentScript.type = 'text/javascript';\n",
              "          webcomponentScript.onload = function(){\n",
              "            import_html();\n",
              "          };\n",
              "          document.head.appendChild(webcomponentScript);\n",
              "        }"
            ]
          },
          "metadata": {
            "tags": []
          }
        },
        {
          "output_type": "stream",
          "text": [
            "WARNING:apache_beam.io.tfrecordio:Couldn't find python-snappy so the implementation of _TFRecordUtil._masked_crc32c is not as fast as it could be.\n"
          ],
          "name": "stderr"
        },
        {
          "output_type": "execute_result",
          "data": {
            "text/html": [
              "<style>\n",
              ".tfx-object.expanded {\n",
              "  padding: 4px 8px 4px 8px;\n",
              "  background: white;\n",
              "  border: 1px solid #bbbbbb;\n",
              "  box-shadow: 4px 4px 2px rgba(0,0,0,0.05);\n",
              "}\n",
              ".tfx-object, .tfx-object * {\n",
              "  font-size: 11pt;\n",
              "}\n",
              ".tfx-object > .title {\n",
              "  cursor: pointer;\n",
              "}\n",
              ".tfx-object .expansion-marker {\n",
              "  color: #999999;\n",
              "}\n",
              ".tfx-object.expanded > .title > .expansion-marker:before {\n",
              "  content: '▼';\n",
              "}\n",
              ".tfx-object.collapsed > .title > .expansion-marker:before {\n",
              "  content: '▶';\n",
              "}\n",
              ".tfx-object .class-name {\n",
              "  font-weight: bold;\n",
              "}\n",
              ".tfx-object .deemphasize {\n",
              "  opacity: 0.5;\n",
              "}\n",
              ".tfx-object.collapsed > table.attr-table {\n",
              "  display: none;\n",
              "}\n",
              ".tfx-object.expanded > table.attr-table {\n",
              "  display: block;\n",
              "}\n",
              ".tfx-object table.attr-table {\n",
              "  border: 2px solid white;\n",
              "  margin-top: 5px;\n",
              "}\n",
              ".tfx-object table.attr-table td.attr-name {\n",
              "  vertical-align: top;\n",
              "  font-weight: bold;\n",
              "}\n",
              ".tfx-object table.attr-table td.attrvalue {\n",
              "  text-align: left;\n",
              "}\n",
              "</style>\n",
              "<script>\n",
              "function toggleTfxObject(element) {\n",
              "  var objElement = element.parentElement;\n",
              "  if (objElement.classList.contains('collapsed')) {\n",
              "    objElement.classList.remove('collapsed');\n",
              "    objElement.classList.add('expanded');\n",
              "  } else {\n",
              "    objElement.classList.add('collapsed');\n",
              "    objElement.classList.remove('expanded');\n",
              "  }\n",
              "}\n",
              "</script>\n",
              "<div class=\"tfx-object expanded\"><div class = \"title\" onclick=\"toggleTfxObject(this)\"><span class=\"expansion-marker\"></span><span class=\"class-name\">ExecutionResult</span><span class=\"deemphasize\"> at 0x7ff417e30c88</span></div><table class=\"attr-table\"><tr><td class=\"attr-name\">.execution_id</td><td class = \"attrvalue\">1</td></tr><tr><td class=\"attr-name\">.component</td><td class = \"attrvalue\"><style>\n",
              ".tfx-object.expanded {\n",
              "  padding: 4px 8px 4px 8px;\n",
              "  background: white;\n",
              "  border: 1px solid #bbbbbb;\n",
              "  box-shadow: 4px 4px 2px rgba(0,0,0,0.05);\n",
              "}\n",
              ".tfx-object, .tfx-object * {\n",
              "  font-size: 11pt;\n",
              "}\n",
              ".tfx-object > .title {\n",
              "  cursor: pointer;\n",
              "}\n",
              ".tfx-object .expansion-marker {\n",
              "  color: #999999;\n",
              "}\n",
              ".tfx-object.expanded > .title > .expansion-marker:before {\n",
              "  content: '▼';\n",
              "}\n",
              ".tfx-object.collapsed > .title > .expansion-marker:before {\n",
              "  content: '▶';\n",
              "}\n",
              ".tfx-object .class-name {\n",
              "  font-weight: bold;\n",
              "}\n",
              ".tfx-object .deemphasize {\n",
              "  opacity: 0.5;\n",
              "}\n",
              ".tfx-object.collapsed > table.attr-table {\n",
              "  display: none;\n",
              "}\n",
              ".tfx-object.expanded > table.attr-table {\n",
              "  display: block;\n",
              "}\n",
              ".tfx-object table.attr-table {\n",
              "  border: 2px solid white;\n",
              "  margin-top: 5px;\n",
              "}\n",
              ".tfx-object table.attr-table td.attr-name {\n",
              "  vertical-align: top;\n",
              "  font-weight: bold;\n",
              "}\n",
              ".tfx-object table.attr-table td.attrvalue {\n",
              "  text-align: left;\n",
              "}\n",
              "</style>\n",
              "<script>\n",
              "function toggleTfxObject(element) {\n",
              "  var objElement = element.parentElement;\n",
              "  if (objElement.classList.contains('collapsed')) {\n",
              "    objElement.classList.remove('collapsed');\n",
              "    objElement.classList.add('expanded');\n",
              "  } else {\n",
              "    objElement.classList.add('collapsed');\n",
              "    objElement.classList.remove('expanded');\n",
              "  }\n",
              "}\n",
              "</script>\n",
              "<div class=\"tfx-object collapsed\"><div class = \"title\" onclick=\"toggleTfxObject(this)\"><span class=\"expansion-marker\"></span><span class=\"class-name\">CsvExampleGen</span><span class=\"deemphasize\"> at 0x7ff401bf5080</span></div><table class=\"attr-table\"><tr><td class=\"attr-name\">.inputs</td><td class = \"attrvalue\">{}</td></tr><tr><td class=\"attr-name\">.outputs</td><td class = \"attrvalue\"><table class=\"attr-table\"><tr><td class=\"attr-name\">['examples']</td><td class = \"attrvalue\"><style>\n",
              ".tfx-object.expanded {\n",
              "  padding: 4px 8px 4px 8px;\n",
              "  background: white;\n",
              "  border: 1px solid #bbbbbb;\n",
              "  box-shadow: 4px 4px 2px rgba(0,0,0,0.05);\n",
              "}\n",
              ".tfx-object, .tfx-object * {\n",
              "  font-size: 11pt;\n",
              "}\n",
              ".tfx-object > .title {\n",
              "  cursor: pointer;\n",
              "}\n",
              ".tfx-object .expansion-marker {\n",
              "  color: #999999;\n",
              "}\n",
              ".tfx-object.expanded > .title > .expansion-marker:before {\n",
              "  content: '▼';\n",
              "}\n",
              ".tfx-object.collapsed > .title > .expansion-marker:before {\n",
              "  content: '▶';\n",
              "}\n",
              ".tfx-object .class-name {\n",
              "  font-weight: bold;\n",
              "}\n",
              ".tfx-object .deemphasize {\n",
              "  opacity: 0.5;\n",
              "}\n",
              ".tfx-object.collapsed > table.attr-table {\n",
              "  display: none;\n",
              "}\n",
              ".tfx-object.expanded > table.attr-table {\n",
              "  display: block;\n",
              "}\n",
              ".tfx-object table.attr-table {\n",
              "  border: 2px solid white;\n",
              "  margin-top: 5px;\n",
              "}\n",
              ".tfx-object table.attr-table td.attr-name {\n",
              "  vertical-align: top;\n",
              "  font-weight: bold;\n",
              "}\n",
              ".tfx-object table.attr-table td.attrvalue {\n",
              "  text-align: left;\n",
              "}\n",
              "</style>\n",
              "<script>\n",
              "function toggleTfxObject(element) {\n",
              "  var objElement = element.parentElement;\n",
              "  if (objElement.classList.contains('collapsed')) {\n",
              "    objElement.classList.remove('collapsed');\n",
              "    objElement.classList.add('expanded');\n",
              "  } else {\n",
              "    objElement.classList.add('collapsed');\n",
              "    objElement.classList.remove('expanded');\n",
              "  }\n",
              "}\n",
              "</script>\n",
              "<div class=\"tfx-object collapsed\"><div class = \"title\" onclick=\"toggleTfxObject(this)\"><span class=\"expansion-marker\"></span><span class=\"class-name\">Channel</span> of type <span class=\"class-name\">'Examples'</span> (1 artifact)<span class=\"deemphasize\"> at 0x7ff401bf5358</span></div><table class=\"attr-table\"><tr><td class=\"attr-name\">.type_name</td><td class = \"attrvalue\">Examples</td></tr><tr><td class=\"attr-name\">._artifacts</td><td class = \"attrvalue\"><table class=\"attr-table\"><tr><td class=\"attr-name\">[0]</td><td class = \"attrvalue\"><style>\n",
              ".tfx-object.expanded {\n",
              "  padding: 4px 8px 4px 8px;\n",
              "  background: white;\n",
              "  border: 1px solid #bbbbbb;\n",
              "  box-shadow: 4px 4px 2px rgba(0,0,0,0.05);\n",
              "}\n",
              ".tfx-object, .tfx-object * {\n",
              "  font-size: 11pt;\n",
              "}\n",
              ".tfx-object > .title {\n",
              "  cursor: pointer;\n",
              "}\n",
              ".tfx-object .expansion-marker {\n",
              "  color: #999999;\n",
              "}\n",
              ".tfx-object.expanded > .title > .expansion-marker:before {\n",
              "  content: '▼';\n",
              "}\n",
              ".tfx-object.collapsed > .title > .expansion-marker:before {\n",
              "  content: '▶';\n",
              "}\n",
              ".tfx-object .class-name {\n",
              "  font-weight: bold;\n",
              "}\n",
              ".tfx-object .deemphasize {\n",
              "  opacity: 0.5;\n",
              "}\n",
              ".tfx-object.collapsed > table.attr-table {\n",
              "  display: none;\n",
              "}\n",
              ".tfx-object.expanded > table.attr-table {\n",
              "  display: block;\n",
              "}\n",
              ".tfx-object table.attr-table {\n",
              "  border: 2px solid white;\n",
              "  margin-top: 5px;\n",
              "}\n",
              ".tfx-object table.attr-table td.attr-name {\n",
              "  vertical-align: top;\n",
              "  font-weight: bold;\n",
              "}\n",
              ".tfx-object table.attr-table td.attrvalue {\n",
              "  text-align: left;\n",
              "}\n",
              "</style>\n",
              "<script>\n",
              "function toggleTfxObject(element) {\n",
              "  var objElement = element.parentElement;\n",
              "  if (objElement.classList.contains('collapsed')) {\n",
              "    objElement.classList.remove('collapsed');\n",
              "    objElement.classList.add('expanded');\n",
              "  } else {\n",
              "    objElement.classList.add('collapsed');\n",
              "    objElement.classList.remove('expanded');\n",
              "  }\n",
              "}\n",
              "</script>\n",
              "<div class=\"tfx-object collapsed\"><div class = \"title\" onclick=\"toggleTfxObject(this)\"><span class=\"expansion-marker\"></span><span class=\"class-name\">Artifact</span> of type <span class=\"class-name\">'Examples'</span> (uri: /tmp/tfx-interactive-2020-11-10T13_53_38.267895-fflybx1k/CsvExampleGen/examples/1)<span class=\"deemphasize\"> at 0x7ff401bf52b0</span></div><table class=\"attr-table\"><tr><td class=\"attr-name\">.type</td><td class = \"attrvalue\">&lt;class &#x27;tfx.types.standard_artifacts.Examples&#x27;&gt;</td></tr><tr><td class=\"attr-name\">.uri</td><td class = \"attrvalue\">/tmp/tfx-interactive-2020-11-10T13_53_38.267895-fflybx1k/CsvExampleGen/examples/1</td></tr><tr><td class=\"attr-name\">.span</td><td class = \"attrvalue\">0</td></tr><tr><td class=\"attr-name\">.split_names</td><td class = \"attrvalue\">[&quot;train&quot;, &quot;eval&quot;]</td></tr><tr><td class=\"attr-name\">.version</td><td class = \"attrvalue\">0</td></tr></table></div></td></tr></table></td></tr></table></div></td></tr></table></td></tr><tr><td class=\"attr-name\">.exec_properties</td><td class = \"attrvalue\"><table class=\"attr-table\"><tr><td class=\"attr-name\">['input_base']</td><td class = \"attrvalue\">tfx_data/</td></tr><tr><td class=\"attr-name\">['input_config']</td><td class = \"attrvalue\">{\n",
              "  &quot;splits&quot;: [\n",
              "    {\n",
              "      &quot;name&quot;: &quot;single_split&quot;,\n",
              "      &quot;pattern&quot;: &quot;*&quot;\n",
              "    }\n",
              "  ]\n",
              "}</td></tr><tr><td class=\"attr-name\">['output_config']</td><td class = \"attrvalue\">{\n",
              "  &quot;split_config&quot;: {\n",
              "    &quot;splits&quot;: [\n",
              "      {\n",
              "        &quot;hash_buckets&quot;: 2,\n",
              "        &quot;name&quot;: &quot;train&quot;\n",
              "      },\n",
              "      {\n",
              "        &quot;hash_buckets&quot;: 1,\n",
              "        &quot;name&quot;: &quot;eval&quot;\n",
              "      }\n",
              "    ]\n",
              "  }\n",
              "}</td></tr><tr><td class=\"attr-name\">['output_data_format']</td><td class = \"attrvalue\">6</td></tr><tr><td class=\"attr-name\">['custom_config']</td><td class = \"attrvalue\">None</td></tr><tr><td class=\"attr-name\">['span']</td><td class = \"attrvalue\">0</td></tr><tr><td class=\"attr-name\">['version']</td><td class = \"attrvalue\">None</td></tr><tr><td class=\"attr-name\">['input_fingerprint']</td><td class = \"attrvalue\">split:single_split,num_files:1,total_bytes:1922812,xor_checksum:1605016385,sum_checksum:1605016385</td></tr><tr><td class=\"attr-name\">['_beam_pipeline_args']</td><td class = \"attrvalue\">[]</td></tr></table></td></tr></table></div></td></tr><tr><td class=\"attr-name\">.component.inputs</td><td class = \"attrvalue\">{}</td></tr><tr><td class=\"attr-name\">.component.outputs</td><td class = \"attrvalue\"><table class=\"attr-table\"><tr><td class=\"attr-name\">['examples']</td><td class = \"attrvalue\"><style>\n",
              ".tfx-object.expanded {\n",
              "  padding: 4px 8px 4px 8px;\n",
              "  background: white;\n",
              "  border: 1px solid #bbbbbb;\n",
              "  box-shadow: 4px 4px 2px rgba(0,0,0,0.05);\n",
              "}\n",
              ".tfx-object, .tfx-object * {\n",
              "  font-size: 11pt;\n",
              "}\n",
              ".tfx-object > .title {\n",
              "  cursor: pointer;\n",
              "}\n",
              ".tfx-object .expansion-marker {\n",
              "  color: #999999;\n",
              "}\n",
              ".tfx-object.expanded > .title > .expansion-marker:before {\n",
              "  content: '▼';\n",
              "}\n",
              ".tfx-object.collapsed > .title > .expansion-marker:before {\n",
              "  content: '▶';\n",
              "}\n",
              ".tfx-object .class-name {\n",
              "  font-weight: bold;\n",
              "}\n",
              ".tfx-object .deemphasize {\n",
              "  opacity: 0.5;\n",
              "}\n",
              ".tfx-object.collapsed > table.attr-table {\n",
              "  display: none;\n",
              "}\n",
              ".tfx-object.expanded > table.attr-table {\n",
              "  display: block;\n",
              "}\n",
              ".tfx-object table.attr-table {\n",
              "  border: 2px solid white;\n",
              "  margin-top: 5px;\n",
              "}\n",
              ".tfx-object table.attr-table td.attr-name {\n",
              "  vertical-align: top;\n",
              "  font-weight: bold;\n",
              "}\n",
              ".tfx-object table.attr-table td.attrvalue {\n",
              "  text-align: left;\n",
              "}\n",
              "</style>\n",
              "<script>\n",
              "function toggleTfxObject(element) {\n",
              "  var objElement = element.parentElement;\n",
              "  if (objElement.classList.contains('collapsed')) {\n",
              "    objElement.classList.remove('collapsed');\n",
              "    objElement.classList.add('expanded');\n",
              "  } else {\n",
              "    objElement.classList.add('collapsed');\n",
              "    objElement.classList.remove('expanded');\n",
              "  }\n",
              "}\n",
              "</script>\n",
              "<div class=\"tfx-object collapsed\"><div class = \"title\" onclick=\"toggleTfxObject(this)\"><span class=\"expansion-marker\"></span><span class=\"class-name\">Channel</span> of type <span class=\"class-name\">'Examples'</span> (1 artifact)<span class=\"deemphasize\"> at 0x7ff401bf5358</span></div><table class=\"attr-table\"><tr><td class=\"attr-name\">.type_name</td><td class = \"attrvalue\">Examples</td></tr><tr><td class=\"attr-name\">._artifacts</td><td class = \"attrvalue\"><table class=\"attr-table\"><tr><td class=\"attr-name\">[0]</td><td class = \"attrvalue\"><style>\n",
              ".tfx-object.expanded {\n",
              "  padding: 4px 8px 4px 8px;\n",
              "  background: white;\n",
              "  border: 1px solid #bbbbbb;\n",
              "  box-shadow: 4px 4px 2px rgba(0,0,0,0.05);\n",
              "}\n",
              ".tfx-object, .tfx-object * {\n",
              "  font-size: 11pt;\n",
              "}\n",
              ".tfx-object > .title {\n",
              "  cursor: pointer;\n",
              "}\n",
              ".tfx-object .expansion-marker {\n",
              "  color: #999999;\n",
              "}\n",
              ".tfx-object.expanded > .title > .expansion-marker:before {\n",
              "  content: '▼';\n",
              "}\n",
              ".tfx-object.collapsed > .title > .expansion-marker:before {\n",
              "  content: '▶';\n",
              "}\n",
              ".tfx-object .class-name {\n",
              "  font-weight: bold;\n",
              "}\n",
              ".tfx-object .deemphasize {\n",
              "  opacity: 0.5;\n",
              "}\n",
              ".tfx-object.collapsed > table.attr-table {\n",
              "  display: none;\n",
              "}\n",
              ".tfx-object.expanded > table.attr-table {\n",
              "  display: block;\n",
              "}\n",
              ".tfx-object table.attr-table {\n",
              "  border: 2px solid white;\n",
              "  margin-top: 5px;\n",
              "}\n",
              ".tfx-object table.attr-table td.attr-name {\n",
              "  vertical-align: top;\n",
              "  font-weight: bold;\n",
              "}\n",
              ".tfx-object table.attr-table td.attrvalue {\n",
              "  text-align: left;\n",
              "}\n",
              "</style>\n",
              "<script>\n",
              "function toggleTfxObject(element) {\n",
              "  var objElement = element.parentElement;\n",
              "  if (objElement.classList.contains('collapsed')) {\n",
              "    objElement.classList.remove('collapsed');\n",
              "    objElement.classList.add('expanded');\n",
              "  } else {\n",
              "    objElement.classList.add('collapsed');\n",
              "    objElement.classList.remove('expanded');\n",
              "  }\n",
              "}\n",
              "</script>\n",
              "<div class=\"tfx-object collapsed\"><div class = \"title\" onclick=\"toggleTfxObject(this)\"><span class=\"expansion-marker\"></span><span class=\"class-name\">Artifact</span> of type <span class=\"class-name\">'Examples'</span> (uri: /tmp/tfx-interactive-2020-11-10T13_53_38.267895-fflybx1k/CsvExampleGen/examples/1)<span class=\"deemphasize\"> at 0x7ff401bf52b0</span></div><table class=\"attr-table\"><tr><td class=\"attr-name\">.type</td><td class = \"attrvalue\">&lt;class &#x27;tfx.types.standard_artifacts.Examples&#x27;&gt;</td></tr><tr><td class=\"attr-name\">.uri</td><td class = \"attrvalue\">/tmp/tfx-interactive-2020-11-10T13_53_38.267895-fflybx1k/CsvExampleGen/examples/1</td></tr><tr><td class=\"attr-name\">.span</td><td class = \"attrvalue\">0</td></tr><tr><td class=\"attr-name\">.split_names</td><td class = \"attrvalue\">[&quot;train&quot;, &quot;eval&quot;]</td></tr><tr><td class=\"attr-name\">.version</td><td class = \"attrvalue\">0</td></tr></table></div></td></tr></table></td></tr></table></div></td></tr></table></td></tr></table></div>"
            ],
            "text/plain": [
              "ExecutionResult(\n",
              "    component_id: CsvExampleGen\n",
              "    execution_id: 1\n",
              "    outputs:\n",
              "        examples: Channel(\n",
              "            type_name: Examples\n",
              "            artifacts: [Artifact(artifact: id: 1\n",
              "        type_id: 5\n",
              "        uri: \"/tmp/tfx-interactive-2020-11-10T13_53_38.267895-fflybx1k/CsvExampleGen/examples/1\"\n",
              "        properties {\n",
              "          key: \"split_names\"\n",
              "          value {\n",
              "            string_value: \"[\\\"train\\\", \\\"eval\\\"]\"\n",
              "          }\n",
              "        }\n",
              "        custom_properties {\n",
              "          key: \"input_fingerprint\"\n",
              "          value {\n",
              "            string_value: \"split:single_split,num_files:1,total_bytes:1922812,xor_checksum:1605016385,sum_checksum:1605016385\"\n",
              "          }\n",
              "        }\n",
              "        custom_properties {\n",
              "          key: \"payload_format\"\n",
              "          value {\n",
              "            string_value: \"FORMAT_TF_EXAMPLE\"\n",
              "          }\n",
              "        }\n",
              "        custom_properties {\n",
              "          key: \"span\"\n",
              "          value {\n",
              "            string_value: \"0\"\n",
              "          }\n",
              "        }\n",
              "        custom_properties {\n",
              "          key: \"state\"\n",
              "          value {\n",
              "            string_value: \"published\"\n",
              "          }\n",
              "        }\n",
              "        , artifact_type: id: 5\n",
              "        name: \"Examples\"\n",
              "        properties {\n",
              "          key: \"span\"\n",
              "          value: INT\n",
              "        }\n",
              "        properties {\n",
              "          key: \"split_names\"\n",
              "          value: STRING\n",
              "        }\n",
              "        properties {\n",
              "          key: \"version\"\n",
              "          value: INT\n",
              "        }\n",
              "        )]\n",
              "        ))"
            ]
          },
          "metadata": {
            "tags": []
          },
          "execution_count": 9
        }
      ]
    },
    {
      "cell_type": "code",
      "metadata": {
        "id": "OeZUbIL9bImA",
        "outputId": "886bd177-3f5b-4fc6-98d9-92cf6379e18c",
        "colab": {
          "base_uri": "https://localhost:8080/",
          "height": 173
        }
      },
      "source": [
        "from tfx.components import StatisticsGen\n",
        "\n",
        "statistics_gen = StatisticsGen(\n",
        "    examples=example_gen.outputs['examples'])\n",
        "context.run(statistics_gen)"
      ],
      "execution_count": 10,
      "outputs": [
        {
          "output_type": "execute_result",
          "data": {
            "text/html": [
              "<style>\n",
              ".tfx-object.expanded {\n",
              "  padding: 4px 8px 4px 8px;\n",
              "  background: white;\n",
              "  border: 1px solid #bbbbbb;\n",
              "  box-shadow: 4px 4px 2px rgba(0,0,0,0.05);\n",
              "}\n",
              ".tfx-object, .tfx-object * {\n",
              "  font-size: 11pt;\n",
              "}\n",
              ".tfx-object > .title {\n",
              "  cursor: pointer;\n",
              "}\n",
              ".tfx-object .expansion-marker {\n",
              "  color: #999999;\n",
              "}\n",
              ".tfx-object.expanded > .title > .expansion-marker:before {\n",
              "  content: '▼';\n",
              "}\n",
              ".tfx-object.collapsed > .title > .expansion-marker:before {\n",
              "  content: '▶';\n",
              "}\n",
              ".tfx-object .class-name {\n",
              "  font-weight: bold;\n",
              "}\n",
              ".tfx-object .deemphasize {\n",
              "  opacity: 0.5;\n",
              "}\n",
              ".tfx-object.collapsed > table.attr-table {\n",
              "  display: none;\n",
              "}\n",
              ".tfx-object.expanded > table.attr-table {\n",
              "  display: block;\n",
              "}\n",
              ".tfx-object table.attr-table {\n",
              "  border: 2px solid white;\n",
              "  margin-top: 5px;\n",
              "}\n",
              ".tfx-object table.attr-table td.attr-name {\n",
              "  vertical-align: top;\n",
              "  font-weight: bold;\n",
              "}\n",
              ".tfx-object table.attr-table td.attrvalue {\n",
              "  text-align: left;\n",
              "}\n",
              "</style>\n",
              "<script>\n",
              "function toggleTfxObject(element) {\n",
              "  var objElement = element.parentElement;\n",
              "  if (objElement.classList.contains('collapsed')) {\n",
              "    objElement.classList.remove('collapsed');\n",
              "    objElement.classList.add('expanded');\n",
              "  } else {\n",
              "    objElement.classList.add('collapsed');\n",
              "    objElement.classList.remove('expanded');\n",
              "  }\n",
              "}\n",
              "</script>\n",
              "<div class=\"tfx-object expanded\"><div class = \"title\" onclick=\"toggleTfxObject(this)\"><span class=\"expansion-marker\"></span><span class=\"class-name\">ExecutionResult</span><span class=\"deemphasize\"> at 0x7ff40094ca58</span></div><table class=\"attr-table\"><tr><td class=\"attr-name\">.execution_id</td><td class = \"attrvalue\">2</td></tr><tr><td class=\"attr-name\">.component</td><td class = \"attrvalue\"><style>\n",
              ".tfx-object.expanded {\n",
              "  padding: 4px 8px 4px 8px;\n",
              "  background: white;\n",
              "  border: 1px solid #bbbbbb;\n",
              "  box-shadow: 4px 4px 2px rgba(0,0,0,0.05);\n",
              "}\n",
              ".tfx-object, .tfx-object * {\n",
              "  font-size: 11pt;\n",
              "}\n",
              ".tfx-object > .title {\n",
              "  cursor: pointer;\n",
              "}\n",
              ".tfx-object .expansion-marker {\n",
              "  color: #999999;\n",
              "}\n",
              ".tfx-object.expanded > .title > .expansion-marker:before {\n",
              "  content: '▼';\n",
              "}\n",
              ".tfx-object.collapsed > .title > .expansion-marker:before {\n",
              "  content: '▶';\n",
              "}\n",
              ".tfx-object .class-name {\n",
              "  font-weight: bold;\n",
              "}\n",
              ".tfx-object .deemphasize {\n",
              "  opacity: 0.5;\n",
              "}\n",
              ".tfx-object.collapsed > table.attr-table {\n",
              "  display: none;\n",
              "}\n",
              ".tfx-object.expanded > table.attr-table {\n",
              "  display: block;\n",
              "}\n",
              ".tfx-object table.attr-table {\n",
              "  border: 2px solid white;\n",
              "  margin-top: 5px;\n",
              "}\n",
              ".tfx-object table.attr-table td.attr-name {\n",
              "  vertical-align: top;\n",
              "  font-weight: bold;\n",
              "}\n",
              ".tfx-object table.attr-table td.attrvalue {\n",
              "  text-align: left;\n",
              "}\n",
              "</style>\n",
              "<script>\n",
              "function toggleTfxObject(element) {\n",
              "  var objElement = element.parentElement;\n",
              "  if (objElement.classList.contains('collapsed')) {\n",
              "    objElement.classList.remove('collapsed');\n",
              "    objElement.classList.add('expanded');\n",
              "  } else {\n",
              "    objElement.classList.add('collapsed');\n",
              "    objElement.classList.remove('expanded');\n",
              "  }\n",
              "}\n",
              "</script>\n",
              "<div class=\"tfx-object collapsed\"><div class = \"title\" onclick=\"toggleTfxObject(this)\"><span class=\"expansion-marker\"></span><span class=\"class-name\">StatisticsGen</span><span class=\"deemphasize\"> at 0x7ff40ab676d8</span></div><table class=\"attr-table\"><tr><td class=\"attr-name\">.inputs</td><td class = \"attrvalue\"><table class=\"attr-table\"><tr><td class=\"attr-name\">['examples']</td><td class = \"attrvalue\"><style>\n",
              ".tfx-object.expanded {\n",
              "  padding: 4px 8px 4px 8px;\n",
              "  background: white;\n",
              "  border: 1px solid #bbbbbb;\n",
              "  box-shadow: 4px 4px 2px rgba(0,0,0,0.05);\n",
              "}\n",
              ".tfx-object, .tfx-object * {\n",
              "  font-size: 11pt;\n",
              "}\n",
              ".tfx-object > .title {\n",
              "  cursor: pointer;\n",
              "}\n",
              ".tfx-object .expansion-marker {\n",
              "  color: #999999;\n",
              "}\n",
              ".tfx-object.expanded > .title > .expansion-marker:before {\n",
              "  content: '▼';\n",
              "}\n",
              ".tfx-object.collapsed > .title > .expansion-marker:before {\n",
              "  content: '▶';\n",
              "}\n",
              ".tfx-object .class-name {\n",
              "  font-weight: bold;\n",
              "}\n",
              ".tfx-object .deemphasize {\n",
              "  opacity: 0.5;\n",
              "}\n",
              ".tfx-object.collapsed > table.attr-table {\n",
              "  display: none;\n",
              "}\n",
              ".tfx-object.expanded > table.attr-table {\n",
              "  display: block;\n",
              "}\n",
              ".tfx-object table.attr-table {\n",
              "  border: 2px solid white;\n",
              "  margin-top: 5px;\n",
              "}\n",
              ".tfx-object table.attr-table td.attr-name {\n",
              "  vertical-align: top;\n",
              "  font-weight: bold;\n",
              "}\n",
              ".tfx-object table.attr-table td.attrvalue {\n",
              "  text-align: left;\n",
              "}\n",
              "</style>\n",
              "<script>\n",
              "function toggleTfxObject(element) {\n",
              "  var objElement = element.parentElement;\n",
              "  if (objElement.classList.contains('collapsed')) {\n",
              "    objElement.classList.remove('collapsed');\n",
              "    objElement.classList.add('expanded');\n",
              "  } else {\n",
              "    objElement.classList.add('collapsed');\n",
              "    objElement.classList.remove('expanded');\n",
              "  }\n",
              "}\n",
              "</script>\n",
              "<div class=\"tfx-object collapsed\"><div class = \"title\" onclick=\"toggleTfxObject(this)\"><span class=\"expansion-marker\"></span><span class=\"class-name\">Channel</span> of type <span class=\"class-name\">'Examples'</span> (1 artifact)<span class=\"deemphasize\"> at 0x7ff401bf5358</span></div><table class=\"attr-table\"><tr><td class=\"attr-name\">.type_name</td><td class = \"attrvalue\">Examples</td></tr><tr><td class=\"attr-name\">._artifacts</td><td class = \"attrvalue\"><table class=\"attr-table\"><tr><td class=\"attr-name\">[0]</td><td class = \"attrvalue\"><style>\n",
              ".tfx-object.expanded {\n",
              "  padding: 4px 8px 4px 8px;\n",
              "  background: white;\n",
              "  border: 1px solid #bbbbbb;\n",
              "  box-shadow: 4px 4px 2px rgba(0,0,0,0.05);\n",
              "}\n",
              ".tfx-object, .tfx-object * {\n",
              "  font-size: 11pt;\n",
              "}\n",
              ".tfx-object > .title {\n",
              "  cursor: pointer;\n",
              "}\n",
              ".tfx-object .expansion-marker {\n",
              "  color: #999999;\n",
              "}\n",
              ".tfx-object.expanded > .title > .expansion-marker:before {\n",
              "  content: '▼';\n",
              "}\n",
              ".tfx-object.collapsed > .title > .expansion-marker:before {\n",
              "  content: '▶';\n",
              "}\n",
              ".tfx-object .class-name {\n",
              "  font-weight: bold;\n",
              "}\n",
              ".tfx-object .deemphasize {\n",
              "  opacity: 0.5;\n",
              "}\n",
              ".tfx-object.collapsed > table.attr-table {\n",
              "  display: none;\n",
              "}\n",
              ".tfx-object.expanded > table.attr-table {\n",
              "  display: block;\n",
              "}\n",
              ".tfx-object table.attr-table {\n",
              "  border: 2px solid white;\n",
              "  margin-top: 5px;\n",
              "}\n",
              ".tfx-object table.attr-table td.attr-name {\n",
              "  vertical-align: top;\n",
              "  font-weight: bold;\n",
              "}\n",
              ".tfx-object table.attr-table td.attrvalue {\n",
              "  text-align: left;\n",
              "}\n",
              "</style>\n",
              "<script>\n",
              "function toggleTfxObject(element) {\n",
              "  var objElement = element.parentElement;\n",
              "  if (objElement.classList.contains('collapsed')) {\n",
              "    objElement.classList.remove('collapsed');\n",
              "    objElement.classList.add('expanded');\n",
              "  } else {\n",
              "    objElement.classList.add('collapsed');\n",
              "    objElement.classList.remove('expanded');\n",
              "  }\n",
              "}\n",
              "</script>\n",
              "<div class=\"tfx-object collapsed\"><div class = \"title\" onclick=\"toggleTfxObject(this)\"><span class=\"expansion-marker\"></span><span class=\"class-name\">Artifact</span> of type <span class=\"class-name\">'Examples'</span> (uri: /tmp/tfx-interactive-2020-11-10T13_53_38.267895-fflybx1k/CsvExampleGen/examples/1)<span class=\"deemphasize\"> at 0x7ff401bf52b0</span></div><table class=\"attr-table\"><tr><td class=\"attr-name\">.type</td><td class = \"attrvalue\">&lt;class &#x27;tfx.types.standard_artifacts.Examples&#x27;&gt;</td></tr><tr><td class=\"attr-name\">.uri</td><td class = \"attrvalue\">/tmp/tfx-interactive-2020-11-10T13_53_38.267895-fflybx1k/CsvExampleGen/examples/1</td></tr><tr><td class=\"attr-name\">.span</td><td class = \"attrvalue\">0</td></tr><tr><td class=\"attr-name\">.split_names</td><td class = \"attrvalue\">[&quot;train&quot;, &quot;eval&quot;]</td></tr><tr><td class=\"attr-name\">.version</td><td class = \"attrvalue\">0</td></tr></table></div></td></tr></table></td></tr></table></div></td></tr></table></td></tr><tr><td class=\"attr-name\">.outputs</td><td class = \"attrvalue\"><table class=\"attr-table\"><tr><td class=\"attr-name\">['statistics']</td><td class = \"attrvalue\"><style>\n",
              ".tfx-object.expanded {\n",
              "  padding: 4px 8px 4px 8px;\n",
              "  background: white;\n",
              "  border: 1px solid #bbbbbb;\n",
              "  box-shadow: 4px 4px 2px rgba(0,0,0,0.05);\n",
              "}\n",
              ".tfx-object, .tfx-object * {\n",
              "  font-size: 11pt;\n",
              "}\n",
              ".tfx-object > .title {\n",
              "  cursor: pointer;\n",
              "}\n",
              ".tfx-object .expansion-marker {\n",
              "  color: #999999;\n",
              "}\n",
              ".tfx-object.expanded > .title > .expansion-marker:before {\n",
              "  content: '▼';\n",
              "}\n",
              ".tfx-object.collapsed > .title > .expansion-marker:before {\n",
              "  content: '▶';\n",
              "}\n",
              ".tfx-object .class-name {\n",
              "  font-weight: bold;\n",
              "}\n",
              ".tfx-object .deemphasize {\n",
              "  opacity: 0.5;\n",
              "}\n",
              ".tfx-object.collapsed > table.attr-table {\n",
              "  display: none;\n",
              "}\n",
              ".tfx-object.expanded > table.attr-table {\n",
              "  display: block;\n",
              "}\n",
              ".tfx-object table.attr-table {\n",
              "  border: 2px solid white;\n",
              "  margin-top: 5px;\n",
              "}\n",
              ".tfx-object table.attr-table td.attr-name {\n",
              "  vertical-align: top;\n",
              "  font-weight: bold;\n",
              "}\n",
              ".tfx-object table.attr-table td.attrvalue {\n",
              "  text-align: left;\n",
              "}\n",
              "</style>\n",
              "<script>\n",
              "function toggleTfxObject(element) {\n",
              "  var objElement = element.parentElement;\n",
              "  if (objElement.classList.contains('collapsed')) {\n",
              "    objElement.classList.remove('collapsed');\n",
              "    objElement.classList.add('expanded');\n",
              "  } else {\n",
              "    objElement.classList.add('collapsed');\n",
              "    objElement.classList.remove('expanded');\n",
              "  }\n",
              "}\n",
              "</script>\n",
              "<div class=\"tfx-object collapsed\"><div class = \"title\" onclick=\"toggleTfxObject(this)\"><span class=\"expansion-marker\"></span><span class=\"class-name\">Channel</span> of type <span class=\"class-name\">'ExampleStatistics'</span> (1 artifact)<span class=\"deemphasize\"> at 0x7ff40b130c50</span></div><table class=\"attr-table\"><tr><td class=\"attr-name\">.type_name</td><td class = \"attrvalue\">ExampleStatistics</td></tr><tr><td class=\"attr-name\">._artifacts</td><td class = \"attrvalue\"><table class=\"attr-table\"><tr><td class=\"attr-name\">[0]</td><td class = \"attrvalue\"><style>\n",
              ".tfx-object.expanded {\n",
              "  padding: 4px 8px 4px 8px;\n",
              "  background: white;\n",
              "  border: 1px solid #bbbbbb;\n",
              "  box-shadow: 4px 4px 2px rgba(0,0,0,0.05);\n",
              "}\n",
              ".tfx-object, .tfx-object * {\n",
              "  font-size: 11pt;\n",
              "}\n",
              ".tfx-object > .title {\n",
              "  cursor: pointer;\n",
              "}\n",
              ".tfx-object .expansion-marker {\n",
              "  color: #999999;\n",
              "}\n",
              ".tfx-object.expanded > .title > .expansion-marker:before {\n",
              "  content: '▼';\n",
              "}\n",
              ".tfx-object.collapsed > .title > .expansion-marker:before {\n",
              "  content: '▶';\n",
              "}\n",
              ".tfx-object .class-name {\n",
              "  font-weight: bold;\n",
              "}\n",
              ".tfx-object .deemphasize {\n",
              "  opacity: 0.5;\n",
              "}\n",
              ".tfx-object.collapsed > table.attr-table {\n",
              "  display: none;\n",
              "}\n",
              ".tfx-object.expanded > table.attr-table {\n",
              "  display: block;\n",
              "}\n",
              ".tfx-object table.attr-table {\n",
              "  border: 2px solid white;\n",
              "  margin-top: 5px;\n",
              "}\n",
              ".tfx-object table.attr-table td.attr-name {\n",
              "  vertical-align: top;\n",
              "  font-weight: bold;\n",
              "}\n",
              ".tfx-object table.attr-table td.attrvalue {\n",
              "  text-align: left;\n",
              "}\n",
              "</style>\n",
              "<script>\n",
              "function toggleTfxObject(element) {\n",
              "  var objElement = element.parentElement;\n",
              "  if (objElement.classList.contains('collapsed')) {\n",
              "    objElement.classList.remove('collapsed');\n",
              "    objElement.classList.add('expanded');\n",
              "  } else {\n",
              "    objElement.classList.add('collapsed');\n",
              "    objElement.classList.remove('expanded');\n",
              "  }\n",
              "}\n",
              "</script>\n",
              "<div class=\"tfx-object collapsed\"><div class = \"title\" onclick=\"toggleTfxObject(this)\"><span class=\"expansion-marker\"></span><span class=\"class-name\">Artifact</span> of type <span class=\"class-name\">'ExampleStatistics'</span> (uri: /tmp/tfx-interactive-2020-11-10T13_53_38.267895-fflybx1k/StatisticsGen/statistics/2)<span class=\"deemphasize\"> at 0x7ff4005e5cf8</span></div><table class=\"attr-table\"><tr><td class=\"attr-name\">.type</td><td class = \"attrvalue\">&lt;class &#x27;tfx.types.standard_artifacts.ExampleStatistics&#x27;&gt;</td></tr><tr><td class=\"attr-name\">.uri</td><td class = \"attrvalue\">/tmp/tfx-interactive-2020-11-10T13_53_38.267895-fflybx1k/StatisticsGen/statistics/2</td></tr><tr><td class=\"attr-name\">.span</td><td class = \"attrvalue\">0</td></tr><tr><td class=\"attr-name\">.split_names</td><td class = \"attrvalue\">[&quot;train&quot;, &quot;eval&quot;]</td></tr></table></div></td></tr></table></td></tr></table></div></td></tr></table></td></tr><tr><td class=\"attr-name\">.exec_properties</td><td class = \"attrvalue\"><table class=\"attr-table\"><tr><td class=\"attr-name\">['stats_options_json']</td><td class = \"attrvalue\">None</td></tr><tr><td class=\"attr-name\">['exclude_splits']</td><td class = \"attrvalue\">[]</td></tr></table></td></tr></table></div></td></tr><tr><td class=\"attr-name\">.component.inputs</td><td class = \"attrvalue\"><table class=\"attr-table\"><tr><td class=\"attr-name\">['examples']</td><td class = \"attrvalue\"><style>\n",
              ".tfx-object.expanded {\n",
              "  padding: 4px 8px 4px 8px;\n",
              "  background: white;\n",
              "  border: 1px solid #bbbbbb;\n",
              "  box-shadow: 4px 4px 2px rgba(0,0,0,0.05);\n",
              "}\n",
              ".tfx-object, .tfx-object * {\n",
              "  font-size: 11pt;\n",
              "}\n",
              ".tfx-object > .title {\n",
              "  cursor: pointer;\n",
              "}\n",
              ".tfx-object .expansion-marker {\n",
              "  color: #999999;\n",
              "}\n",
              ".tfx-object.expanded > .title > .expansion-marker:before {\n",
              "  content: '▼';\n",
              "}\n",
              ".tfx-object.collapsed > .title > .expansion-marker:before {\n",
              "  content: '▶';\n",
              "}\n",
              ".tfx-object .class-name {\n",
              "  font-weight: bold;\n",
              "}\n",
              ".tfx-object .deemphasize {\n",
              "  opacity: 0.5;\n",
              "}\n",
              ".tfx-object.collapsed > table.attr-table {\n",
              "  display: none;\n",
              "}\n",
              ".tfx-object.expanded > table.attr-table {\n",
              "  display: block;\n",
              "}\n",
              ".tfx-object table.attr-table {\n",
              "  border: 2px solid white;\n",
              "  margin-top: 5px;\n",
              "}\n",
              ".tfx-object table.attr-table td.attr-name {\n",
              "  vertical-align: top;\n",
              "  font-weight: bold;\n",
              "}\n",
              ".tfx-object table.attr-table td.attrvalue {\n",
              "  text-align: left;\n",
              "}\n",
              "</style>\n",
              "<script>\n",
              "function toggleTfxObject(element) {\n",
              "  var objElement = element.parentElement;\n",
              "  if (objElement.classList.contains('collapsed')) {\n",
              "    objElement.classList.remove('collapsed');\n",
              "    objElement.classList.add('expanded');\n",
              "  } else {\n",
              "    objElement.classList.add('collapsed');\n",
              "    objElement.classList.remove('expanded');\n",
              "  }\n",
              "}\n",
              "</script>\n",
              "<div class=\"tfx-object collapsed\"><div class = \"title\" onclick=\"toggleTfxObject(this)\"><span class=\"expansion-marker\"></span><span class=\"class-name\">Channel</span> of type <span class=\"class-name\">'Examples'</span> (1 artifact)<span class=\"deemphasize\"> at 0x7ff401bf5358</span></div><table class=\"attr-table\"><tr><td class=\"attr-name\">.type_name</td><td class = \"attrvalue\">Examples</td></tr><tr><td class=\"attr-name\">._artifacts</td><td class = \"attrvalue\"><table class=\"attr-table\"><tr><td class=\"attr-name\">[0]</td><td class = \"attrvalue\"><style>\n",
              ".tfx-object.expanded {\n",
              "  padding: 4px 8px 4px 8px;\n",
              "  background: white;\n",
              "  border: 1px solid #bbbbbb;\n",
              "  box-shadow: 4px 4px 2px rgba(0,0,0,0.05);\n",
              "}\n",
              ".tfx-object, .tfx-object * {\n",
              "  font-size: 11pt;\n",
              "}\n",
              ".tfx-object > .title {\n",
              "  cursor: pointer;\n",
              "}\n",
              ".tfx-object .expansion-marker {\n",
              "  color: #999999;\n",
              "}\n",
              ".tfx-object.expanded > .title > .expansion-marker:before {\n",
              "  content: '▼';\n",
              "}\n",
              ".tfx-object.collapsed > .title > .expansion-marker:before {\n",
              "  content: '▶';\n",
              "}\n",
              ".tfx-object .class-name {\n",
              "  font-weight: bold;\n",
              "}\n",
              ".tfx-object .deemphasize {\n",
              "  opacity: 0.5;\n",
              "}\n",
              ".tfx-object.collapsed > table.attr-table {\n",
              "  display: none;\n",
              "}\n",
              ".tfx-object.expanded > table.attr-table {\n",
              "  display: block;\n",
              "}\n",
              ".tfx-object table.attr-table {\n",
              "  border: 2px solid white;\n",
              "  margin-top: 5px;\n",
              "}\n",
              ".tfx-object table.attr-table td.attr-name {\n",
              "  vertical-align: top;\n",
              "  font-weight: bold;\n",
              "}\n",
              ".tfx-object table.attr-table td.attrvalue {\n",
              "  text-align: left;\n",
              "}\n",
              "</style>\n",
              "<script>\n",
              "function toggleTfxObject(element) {\n",
              "  var objElement = element.parentElement;\n",
              "  if (objElement.classList.contains('collapsed')) {\n",
              "    objElement.classList.remove('collapsed');\n",
              "    objElement.classList.add('expanded');\n",
              "  } else {\n",
              "    objElement.classList.add('collapsed');\n",
              "    objElement.classList.remove('expanded');\n",
              "  }\n",
              "}\n",
              "</script>\n",
              "<div class=\"tfx-object collapsed\"><div class = \"title\" onclick=\"toggleTfxObject(this)\"><span class=\"expansion-marker\"></span><span class=\"class-name\">Artifact</span> of type <span class=\"class-name\">'Examples'</span> (uri: /tmp/tfx-interactive-2020-11-10T13_53_38.267895-fflybx1k/CsvExampleGen/examples/1)<span class=\"deemphasize\"> at 0x7ff401bf52b0</span></div><table class=\"attr-table\"><tr><td class=\"attr-name\">.type</td><td class = \"attrvalue\">&lt;class &#x27;tfx.types.standard_artifacts.Examples&#x27;&gt;</td></tr><tr><td class=\"attr-name\">.uri</td><td class = \"attrvalue\">/tmp/tfx-interactive-2020-11-10T13_53_38.267895-fflybx1k/CsvExampleGen/examples/1</td></tr><tr><td class=\"attr-name\">.span</td><td class = \"attrvalue\">0</td></tr><tr><td class=\"attr-name\">.split_names</td><td class = \"attrvalue\">[&quot;train&quot;, &quot;eval&quot;]</td></tr><tr><td class=\"attr-name\">.version</td><td class = \"attrvalue\">0</td></tr></table></div></td></tr></table></td></tr></table></div></td></tr></table></td></tr><tr><td class=\"attr-name\">.component.outputs</td><td class = \"attrvalue\"><table class=\"attr-table\"><tr><td class=\"attr-name\">['statistics']</td><td class = \"attrvalue\"><style>\n",
              ".tfx-object.expanded {\n",
              "  padding: 4px 8px 4px 8px;\n",
              "  background: white;\n",
              "  border: 1px solid #bbbbbb;\n",
              "  box-shadow: 4px 4px 2px rgba(0,0,0,0.05);\n",
              "}\n",
              ".tfx-object, .tfx-object * {\n",
              "  font-size: 11pt;\n",
              "}\n",
              ".tfx-object > .title {\n",
              "  cursor: pointer;\n",
              "}\n",
              ".tfx-object .expansion-marker {\n",
              "  color: #999999;\n",
              "}\n",
              ".tfx-object.expanded > .title > .expansion-marker:before {\n",
              "  content: '▼';\n",
              "}\n",
              ".tfx-object.collapsed > .title > .expansion-marker:before {\n",
              "  content: '▶';\n",
              "}\n",
              ".tfx-object .class-name {\n",
              "  font-weight: bold;\n",
              "}\n",
              ".tfx-object .deemphasize {\n",
              "  opacity: 0.5;\n",
              "}\n",
              ".tfx-object.collapsed > table.attr-table {\n",
              "  display: none;\n",
              "}\n",
              ".tfx-object.expanded > table.attr-table {\n",
              "  display: block;\n",
              "}\n",
              ".tfx-object table.attr-table {\n",
              "  border: 2px solid white;\n",
              "  margin-top: 5px;\n",
              "}\n",
              ".tfx-object table.attr-table td.attr-name {\n",
              "  vertical-align: top;\n",
              "  font-weight: bold;\n",
              "}\n",
              ".tfx-object table.attr-table td.attrvalue {\n",
              "  text-align: left;\n",
              "}\n",
              "</style>\n",
              "<script>\n",
              "function toggleTfxObject(element) {\n",
              "  var objElement = element.parentElement;\n",
              "  if (objElement.classList.contains('collapsed')) {\n",
              "    objElement.classList.remove('collapsed');\n",
              "    objElement.classList.add('expanded');\n",
              "  } else {\n",
              "    objElement.classList.add('collapsed');\n",
              "    objElement.classList.remove('expanded');\n",
              "  }\n",
              "}\n",
              "</script>\n",
              "<div class=\"tfx-object collapsed\"><div class = \"title\" onclick=\"toggleTfxObject(this)\"><span class=\"expansion-marker\"></span><span class=\"class-name\">Channel</span> of type <span class=\"class-name\">'ExampleStatistics'</span> (1 artifact)<span class=\"deemphasize\"> at 0x7ff40b130c50</span></div><table class=\"attr-table\"><tr><td class=\"attr-name\">.type_name</td><td class = \"attrvalue\">ExampleStatistics</td></tr><tr><td class=\"attr-name\">._artifacts</td><td class = \"attrvalue\"><table class=\"attr-table\"><tr><td class=\"attr-name\">[0]</td><td class = \"attrvalue\"><style>\n",
              ".tfx-object.expanded {\n",
              "  padding: 4px 8px 4px 8px;\n",
              "  background: white;\n",
              "  border: 1px solid #bbbbbb;\n",
              "  box-shadow: 4px 4px 2px rgba(0,0,0,0.05);\n",
              "}\n",
              ".tfx-object, .tfx-object * {\n",
              "  font-size: 11pt;\n",
              "}\n",
              ".tfx-object > .title {\n",
              "  cursor: pointer;\n",
              "}\n",
              ".tfx-object .expansion-marker {\n",
              "  color: #999999;\n",
              "}\n",
              ".tfx-object.expanded > .title > .expansion-marker:before {\n",
              "  content: '▼';\n",
              "}\n",
              ".tfx-object.collapsed > .title > .expansion-marker:before {\n",
              "  content: '▶';\n",
              "}\n",
              ".tfx-object .class-name {\n",
              "  font-weight: bold;\n",
              "}\n",
              ".tfx-object .deemphasize {\n",
              "  opacity: 0.5;\n",
              "}\n",
              ".tfx-object.collapsed > table.attr-table {\n",
              "  display: none;\n",
              "}\n",
              ".tfx-object.expanded > table.attr-table {\n",
              "  display: block;\n",
              "}\n",
              ".tfx-object table.attr-table {\n",
              "  border: 2px solid white;\n",
              "  margin-top: 5px;\n",
              "}\n",
              ".tfx-object table.attr-table td.attr-name {\n",
              "  vertical-align: top;\n",
              "  font-weight: bold;\n",
              "}\n",
              ".tfx-object table.attr-table td.attrvalue {\n",
              "  text-align: left;\n",
              "}\n",
              "</style>\n",
              "<script>\n",
              "function toggleTfxObject(element) {\n",
              "  var objElement = element.parentElement;\n",
              "  if (objElement.classList.contains('collapsed')) {\n",
              "    objElement.classList.remove('collapsed');\n",
              "    objElement.classList.add('expanded');\n",
              "  } else {\n",
              "    objElement.classList.add('collapsed');\n",
              "    objElement.classList.remove('expanded');\n",
              "  }\n",
              "}\n",
              "</script>\n",
              "<div class=\"tfx-object collapsed\"><div class = \"title\" onclick=\"toggleTfxObject(this)\"><span class=\"expansion-marker\"></span><span class=\"class-name\">Artifact</span> of type <span class=\"class-name\">'ExampleStatistics'</span> (uri: /tmp/tfx-interactive-2020-11-10T13_53_38.267895-fflybx1k/StatisticsGen/statistics/2)<span class=\"deemphasize\"> at 0x7ff4005e5cf8</span></div><table class=\"attr-table\"><tr><td class=\"attr-name\">.type</td><td class = \"attrvalue\">&lt;class &#x27;tfx.types.standard_artifacts.ExampleStatistics&#x27;&gt;</td></tr><tr><td class=\"attr-name\">.uri</td><td class = \"attrvalue\">/tmp/tfx-interactive-2020-11-10T13_53_38.267895-fflybx1k/StatisticsGen/statistics/2</td></tr><tr><td class=\"attr-name\">.span</td><td class = \"attrvalue\">0</td></tr><tr><td class=\"attr-name\">.split_names</td><td class = \"attrvalue\">[&quot;train&quot;, &quot;eval&quot;]</td></tr></table></div></td></tr></table></td></tr></table></div></td></tr></table></td></tr></table></div>"
            ],
            "text/plain": [
              "ExecutionResult(\n",
              "    component_id: StatisticsGen\n",
              "    execution_id: 2\n",
              "    outputs:\n",
              "        statistics: Channel(\n",
              "            type_name: ExampleStatistics\n",
              "            artifacts: [Artifact(artifact: id: 2\n",
              "        type_id: 7\n",
              "        uri: \"/tmp/tfx-interactive-2020-11-10T13_53_38.267895-fflybx1k/StatisticsGen/statistics/2\"\n",
              "        properties {\n",
              "          key: \"split_names\"\n",
              "          value {\n",
              "            string_value: \"[\\\"train\\\", \\\"eval\\\"]\"\n",
              "          }\n",
              "        }\n",
              "        custom_properties {\n",
              "          key: \"name\"\n",
              "          value {\n",
              "            string_value: \"statistics\"\n",
              "          }\n",
              "        }\n",
              "        custom_properties {\n",
              "          key: \"producer_component\"\n",
              "          value {\n",
              "            string_value: \"StatisticsGen\"\n",
              "          }\n",
              "        }\n",
              "        custom_properties {\n",
              "          key: \"state\"\n",
              "          value {\n",
              "            string_value: \"published\"\n",
              "          }\n",
              "        }\n",
              "        , artifact_type: id: 7\n",
              "        name: \"ExampleStatistics\"\n",
              "        properties {\n",
              "          key: \"span\"\n",
              "          value: INT\n",
              "        }\n",
              "        properties {\n",
              "          key: \"split_names\"\n",
              "          value: STRING\n",
              "        }\n",
              "        )]\n",
              "        ))"
            ]
          },
          "metadata": {
            "tags": []
          },
          "execution_count": 10
        }
      ]
    },
    {
      "cell_type": "markdown",
      "metadata": {
        "id": "uSPBBvM_JTQS"
      },
      "source": [
        "The component itself receives the outputs of the previous component (in our case, the data ingestion component `ExampleGen`) as an instantiation argument. After executing the component’s tasks, the component automatically writes the metadata of the output artifact to the metadata store. The output of some components can be displayed in our notebook. The immediate availability of the results and the visualizations is very convenient. For example, we can use the `StatisticsGen` component to inspect the features of the dataset:"
      ]
    },
    {
      "cell_type": "code",
      "metadata": {
        "id": "ASJEISsMbVxO",
        "outputId": "1bc9c236-4f99-4c97-dad5-89260b913fee",
        "colab": {
          "base_uri": "https://localhost:8080/",
          "height": 1000
        }
      },
      "source": [
        "context.show(statistics_gen.outputs['statistics'])"
      ],
      "execution_count": 11,
      "outputs": [
        {
          "output_type": "display_data",
          "data": {
            "text/html": [
              "<b>Artifact at /tmp/tfx-interactive-2020-11-10T13_53_38.267895-fflybx1k/StatisticsGen/statistics/2</b><br/><br/>"
            ],
            "text/plain": [
              "<IPython.core.display.HTML object>"
            ]
          },
          "metadata": {
            "tags": []
          }
        },
        {
          "output_type": "display_data",
          "data": {
            "text/html": [
              "<div><b>'train' split:</b></div><br/>"
            ],
            "text/plain": [
              "<IPython.core.display.HTML object>"
            ]
          },
          "metadata": {
            "tags": []
          }
        },
        {
          "output_type": "stream",
          "text": [
            "WARNING:tensorflow:From /usr/local/lib/python3.6/dist-packages/tensorflow_data_validation/utils/stats_util.py:229: tf_record_iterator (from tensorflow.python.lib.io.tf_record) is deprecated and will be removed in a future version.\n",
            "Instructions for updating:\n",
            "Use eager execution and: \n",
            "`tf.data.TFRecordDataset(path)`\n"
          ],
          "name": "stdout"
        },
        {
          "output_type": "display_data",
          "data": {
            "text/html": [
              "<iframe id='facets-iframe' width=\"100%\" height=\"500px\"></iframe>\n",
              "        <script>\n",
              "        facets_iframe = document.getElementById('facets-iframe');\n",
              "        facets_html = '<script src=\"https://cdnjs.cloudflare.com/ajax/libs/webcomponentsjs/1.3.3/webcomponents-lite.js\"><\\/script><link rel=\"import\" href=\"https://raw.githubusercontent.com/PAIR-code/facets/master/facets-dist/facets-jupyter.html\"><facets-overview proto-input=\"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\"></facets-overview>';\n",
              "        facets_iframe.srcdoc = facets_html;\n",
              "         facets_iframe.id = \"\";\n",
              "         setTimeout(() => {\n",
              "           facets_iframe.setAttribute('height', facets_iframe.contentWindow.document.body.offsetHeight + 'px')\n",
              "         }, 1500)\n",
              "         </script>"
            ],
            "text/plain": [
              "<IPython.core.display.HTML object>"
            ]
          },
          "metadata": {
            "tags": []
          }
        },
        {
          "output_type": "display_data",
          "data": {
            "text/html": [
              "<div><b>'eval' split:</b></div><br/>"
            ],
            "text/plain": [
              "<IPython.core.display.HTML object>"
            ]
          },
          "metadata": {
            "tags": []
          }
        },
        {
          "output_type": "display_data",
          "data": {
            "text/html": [
              "<iframe id='facets-iframe' width=\"100%\" height=\"500px\"></iframe>\n",
              "        <script>\n",
              "        facets_iframe = document.getElementById('facets-iframe');\n",
              "        facets_html = '<script src=\"https://cdnjs.cloudflare.com/ajax/libs/webcomponentsjs/1.3.3/webcomponents-lite.js\"><\\/script><link rel=\"import\" href=\"https://raw.githubusercontent.com/PAIR-code/facets/master/facets-dist/facets-jupyter.html\"><facets-overview proto-input=\"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\"></facets-overview>';\n",
              "        facets_iframe.srcdoc = facets_html;\n",
              "         facets_iframe.id = \"\";\n",
              "         setTimeout(() => {\n",
              "           facets_iframe.setAttribute('height', facets_iframe.contentWindow.document.body.offsetHeight + 'px')\n",
              "         }, 1500)\n",
              "         </script>"
            ],
            "text/plain": [
              "<IPython.core.display.HTML object>"
            ]
          },
          "metadata": {
            "tags": []
          }
        }
      ]
    },
    {
      "cell_type": "markdown",
      "metadata": {
        "id": "QAxNvaQDJTOc"
      },
      "source": [
        "After running the previous context function, we can see a visual overview of the statistics of the dataset in our notebook.\n",
        "\n",
        "Sometimes it can be advantageous to inspect the output artifacts of a component programmatically. After a component object has been executed, we can access the artifact properties, as shown in the following example. The properties depend on the specific artifact:"
      ]
    },
    {
      "cell_type": "code",
      "metadata": {
        "id": "eJOKivxxbd1V",
        "outputId": "082c8d24-ae38-40b4-f33b-6f2055c14f38",
        "colab": {
          "base_uri": "https://localhost:8080/"
        }
      },
      "source": [
        "for artifact in statistics_gen.outputs['statistics'].get():\n",
        "    print(artifact.uri)"
      ],
      "execution_count": 12,
      "outputs": [
        {
          "output_type": "stream",
          "text": [
            "/tmp/tfx-interactive-2020-11-10T13_53_38.267895-fflybx1k/StatisticsGen/statistics/2\n"
          ],
          "name": "stdout"
        }
      ]
    },
    {
      "cell_type": "markdown",
      "metadata": {
        "id": "lxMkGFfhbjJe"
      },
      "source": [
        "Throughout the following notebooks, we will show how each component can be run in an interactive context and we will show the full pipeline and how it can be orchestrated by both Airflow and Kubeflow."
      ]
    },
    {
      "cell_type": "markdown",
      "metadata": {
        "id": "lNI1oEUoboQL"
      },
      "source": [
        "## Alternatives to TFX"
      ]
    },
    {
      "cell_type": "markdown",
      "metadata": {
        "id": "V8jzoGeubqTF"
      },
      "source": [
        "Before we take a deep dive into TFX components in the following notebooks, let’s take a moment to look at alternatives to TFX. The orchestration of machine learning pipelines has been a significant engineering challenge in the last few years, and it should come as no surprise that many major Silicon Valley companies have developed their own pipeline frameworks. In the following table, we can find a small selection of frameworks:\n",
        "\n",
        "- AirBnb: [AeroSolve](https://github.com/airbnb/aerosolve)\n",
        "\n",
        "- Stripe: [Railyard](https://stripe.com/blog/railyard-training-models)\n",
        "\n",
        "- Spotify: [Luigi](https://github.com/spotify/luigi)\n",
        "\n",
        "- Uber: [Michelangelo](https://eng.uber.com/michelangelo-machine-learning-platform/)\n",
        "\n",
        "- Netflix: [Metaflow](https://metaflow.org/)\n",
        "\n",
        "Since the frameworks originated from corporations, they were designed with specific engineering stacks in mind. For example, AirBnB’s AeroSolve focuses on Java-based inference code, and Spotify’s Luigi focuses on efficient orchestration. TFX is no different in this regard. At this point, TFX architectures and data structures assume that we are using TensorFlow (or Keras) as our machine learning framework. Some TFX components can be used in combination with other machine learning frameworks. For example, data can be analyzed with TensorFlow Data Validation and later consumed by a scikit-learn model. However, the TFX framework is closely tied to TensorFlow or Keras models. We believe TFX is a stable and mature framework that will ultimately be adopted by a broader base of machine learning engineers."
      ]
    },
    {
      "cell_type": "markdown",
      "metadata": {
        "id": "yNj5ZG4HcdYy"
      },
      "source": [
        "## Introduction to Apache Beam"
      ]
    },
    {
      "cell_type": "markdown",
      "metadata": {
        "id": "T8OfB8tBcfWZ"
      },
      "source": [
        "A variety of TFX components and libraries (e.g., TensorFlow Transform) rely on Apache Beam to process pipeline data efficiently. Because of the importance for the TFX ecosystem, we would like to provide a brief introduction into how Apache Beam works behind the scenes of the TFX components. In a later notebook, we will then discuss how to use Apache Beam for a second purpose: as a pipeline orchestrator tool.\n",
        "\n",
        "Apache Beam offers us an open source, vendor-agnostic way to describe data processing steps that then can be executed on various environments. Since it is incredibly versatile, Apache Beam can be used to describe batch processes, streaming operations, and data pipelines. In fact, TFX relies on Apache Beam and uses it under the hood for a variety of components (e.g., TensorFlow Transform or TensorFlow Data Validation). We will discuss the specific use of Apache Beam in the TFX ecosystem when we talk about TensorFlow Data Validation and TensorFlow Transform in later notebooks.\n",
        "\n",
        "While Apache Beam abstracts away the data processing logic from its supporting runtime tools, it can be executed on multiple distributed processing runtime environments. This means that we can run the same data pipeline on Apache Spark or Google Cloud Dataflow without a single change in the pipeline description. Also, Apache Beam was not just developed to describe batch processes but to support streaming operations seamlessly."
      ]
    },
    {
      "cell_type": "markdown",
      "metadata": {
        "id": "EsITb0AGc2-L"
      },
      "source": [
        "#### Setup"
      ]
    },
    {
      "cell_type": "markdown",
      "metadata": {
        "id": "g6j088k5c4UJ"
      },
      "source": [
        "The installation of Apache Beam is straightforward. We can install the latest version with:"
      ]
    },
    {
      "cell_type": "code",
      "metadata": {
        "id": "s7jrdNKAc529"
      },
      "source": [
        "#!pip install apache-beam"
      ],
      "execution_count": null,
      "outputs": []
    },
    {
      "cell_type": "markdown",
      "metadata": {
        "id": "uZ2igAO6c_Jo"
      },
      "source": [
        "If we plan to use Apache Beam in the context of Google Cloud Platform—for example, if we want to process data from Google BigQuery or run our data pipelines on Google Cloud Dataflow (as described in (“Processing Large Datasets with GCP”)), we should install Apache Beam as follows:"
      ]
    },
    {
      "cell_type": "code",
      "metadata": {
        "id": "1Kiu4pP4dNBT"
      },
      "source": [
        "#!pip install 'apache-beam[gcp]'"
      ],
      "execution_count": null,
      "outputs": []
    },
    {
      "cell_type": "markdown",
      "metadata": {
        "id": "ifPho5hfdMYL"
      },
      "source": [
        "If we plan to use Apache Beam in the context of Amazon Web Services (AWS) (e.g., if we want to load data from S3 buckets), we should install Apache Beam as follows:"
      ]
    },
    {
      "cell_type": "code",
      "metadata": {
        "id": "mSWPzmzedUa7"
      },
      "source": [
        "#!pip install 'apache-beam[boto]'"
      ],
      "execution_count": null,
      "outputs": []
    },
    {
      "cell_type": "markdown",
      "metadata": {
        "id": "qPVQ1Q_YJTMK"
      },
      "source": [
        "If we install TFX with the Python package manager pip, Apache Beam will be automatically installed."
      ]
    },
    {
      "cell_type": "markdown",
      "metadata": {
        "id": "fcgmD3qvdYhp"
      },
      "source": [
        "#### Basic Data Pipeline"
      ]
    },
    {
      "cell_type": "markdown",
      "metadata": {
        "id": "c5aIblQ6dZXl"
      },
      "source": [
        "Apache Beam’s abstraction is based on two concepts: collections and transformations. On the one hand, Beam’s collections describe operations where data is being read or written from or to a given file or stream. On the other hand, Beam’s transformations describe ways to manipulate the data. All collections and transformations are executed in the context of a pipeline (expressed in Python through the context manager command `with`). When we define our collections or transformations in our following example, no data is actually being loaded or transformed. This only happens when the pipeline is executed in the context of a runtime environment (e.g., Apache Beam’s DirectRunner, Apache Spark, Apache Flink, or Google Cloud Dataflow)."
      ]
    },
    {
      "cell_type": "markdown",
      "metadata": {
        "id": "QUtqSd1qdv_F"
      },
      "source": [
        "### Basic collection example"
      ]
    },
    {
      "cell_type": "markdown",
      "metadata": {
        "id": "QAwdXQZldysI"
      },
      "source": [
        "Data pipelines usually start and end with data being read or written, which is handled in Apache Beam through collections, often called `PCollections`. The collections are then transformed, and the final result can be expressed as a collection again and written to a filesystem.\n",
        "\n",
        "The following example shows how to read a text file and return all lines:"
      ]
    },
    {
      "cell_type": "code",
      "metadata": {
        "id": "zjEyyAxUd50h",
        "outputId": "3b5eb645-54cf-44e5-a7be-3cf6082022a9",
        "colab": {
          "base_uri": "https://localhost:8080/"
        }
      },
      "source": [
        "import apache_beam as beam\n",
        "\n",
        "input_file = \"gs://dataflow-samples/shakespeare/kinglear.txt\"\n",
        "output_file = \"/content/output.txt\"\n",
        "\n",
        "# Use the context manager to define the pipeline\n",
        "with beam.Pipeline() as p: \n",
        "\n",
        "    # Read the text into a PCollection\n",
        "    lines = p | beam.io.ReadFromText(input_file) "
      ],
      "execution_count": 13,
      "outputs": [
        {
          "output_type": "stream",
          "text": [
            "WARNING:apache_beam.internal.gcp.auth:Unable to find default credentials to use: The Application Default Credentials are not available. They are available if running in Google Compute Engine. Otherwise, the environment variable GOOGLE_APPLICATION_CREDENTIALS must be defined pointing to a file defining the credentials. See https://developers.google.com/accounts/docs/application-default-credentials for more information.\n",
            "Connecting anonymously.\n"
          ],
          "name": "stderr"
        }
      ]
    },
    {
      "cell_type": "markdown",
      "metadata": {
        "id": "TfCVB3Qed_XU"
      },
      "source": [
        "Similar to the `ReadFromText` operation, Apache Beam provides functions to write collections to a text file (e.g., `WriteToText`) (see [apache_beam.io.textio module](https://beam.apache.org/releases/pydoc/2.2.0/apache_beam.io.textio.html)). The write operation is usually performed after all transformations have been executed:\n",
        "\n",
        "```\n",
        "with beam.Pipeline() as p:\n",
        "    lines = p | beam.io.ReadFromText(input_file)\n",
        "    ...\n",
        "    # Write the output to the file `output_file`\n",
        "    output | beam.io.WriteToText(output_file)\n",
        "```"
      ]
    },
    {
      "cell_type": "markdown",
      "metadata": {
        "id": "MPyVYg3leSvK"
      },
      "source": [
        "### Basic transformation example"
      ]
    },
    {
      "cell_type": "markdown",
      "metadata": {
        "id": "5KeOn6LBeTs6"
      },
      "source": [
        "In Apache Beam, data is manipulated through transformations. As we see in this example and in a later notebook, the transformations can be chained by using the pipe operator `|.` If we chain multiple transformations of the same type, we have to provide a name for the operation, noted by the string identifier between the pipe operator and the right-angle brackets. In the following example, we apply all transformations sequentially on our lines extracted from the text file:"
      ]
    },
    {
      "cell_type": "code",
      "metadata": {
        "id": "wwS9sAVZeeBR"
      },
      "source": [
        "counts = (\n",
        "    lines\n",
        "    | 'Split' >> beam.FlatMap(lambda x: re.findall(r'[A-Za-z\\']+', x))\n",
        "    | 'PairWithOne' >> beam.Map(lambda x: (x, 1))\n",
        "    | 'GroupAndSum' >> beam.CombinePerKey(sum))"
      ],
      "execution_count": 15,
      "outputs": []
    },
    {
      "cell_type": "markdown",
      "metadata": {
        "id": "PqHTxctJegC4"
      },
      "source": [
        "Let’s walk through this code in detail. As an example, we’ll take the phrases *“Hello, how do you do?”* and *“I am well, thank you”*.\n",
        "\n",
        "The `Split` transformation uses `re.findall` to split each line into a list of tokens, giving the result:\n",
        "\n",
        "```\n",
        "[\"Hello\", \"how\", \"do\", \"you\", \"do\"]\n",
        "[\"I\", \"am\", \"well\", \"thank\", \"you\"]\n",
        "```"
      ]
    },
    {
      "cell_type": "markdown",
      "metadata": {
        "id": "-PIyvjiHerQl"
      },
      "source": [
        "`beam.FlatMap` maps the result into a PCollection:\n",
        "\n",
        "```\n",
        "\"Hello\" \"how\" \"do\" \"you\" \"do\" \"I\" \"am\" \"well\" \"thank\" \"you\"\n",
        "```\n",
        "\n",
        "Next, the `PairWithOne` transformation uses `beam.Map` to create a tuple out of every token and the count (1 for each result):\n",
        "\n",
        "```\n",
        "(\"Hello\", 1) (\"how\", 1) (\"do\", 1) (\"you\", 1) (\"do\", 1) (\"I\", 1) (\"am\", 1)\n",
        "(\"well\", 1) (\"thank\", 1) (\"you\", 1)\n",
        "```\n",
        "\n",
        "Finally, the `GroupAndSum` transformation sums up all individual tuples for each token:\n",
        "\n",
        "```\n",
        "(\"Hello\", 1) (\"how\", 1) (\"do\", 2) (\"you\", 2) (\"I\", 1) (\"am\", 1) (\"well\", 1)\n",
        "(\"thank\", 1)\n",
        "```\n",
        "\n",
        "We can also apply Python functions as part of a transformation. The following example shows how the function `format_result` can be applied to earlier produced summation results. The function converts the resulting tuples into a string that then can be written to a text file:"
      ]
    },
    {
      "cell_type": "code",
      "metadata": {
        "id": "tqRWyjdbfBox"
      },
      "source": [
        "def format_result(word_count):\n",
        "    \"\"\"Convert tuples (token, count) into a string\"\"\"\n",
        "    (word, count) = word_count\n",
        "    return \"{}: {}\".format(word, count)\n",
        "\n",
        "output = counts | 'Format' >> beam.Map(format_result)"
      ],
      "execution_count": 16,
      "outputs": []
    },
    {
      "cell_type": "markdown",
      "metadata": {
        "id": "szpyE5P-fDBU"
      },
      "source": [
        "Apache Beam provides a variety of predefined transformations. However, if our preferred operation isn’t available, we can write our own transformations by using the `Map` operators. Just keep in mind that the operations should be able to run in a distributed way to fully take advantage of the capabilities of the runtime environments."
      ]
    },
    {
      "cell_type": "markdown",
      "metadata": {
        "id": "QGmD2Sz6fJgV"
      },
      "source": [
        "### Putting it all together"
      ]
    },
    {
      "cell_type": "markdown",
      "metadata": {
        "id": "AGe17ydofKTd"
      },
      "source": [
        "After discussing the individual concepts of Apache Beam’s pipelines, let’s put them all together in one example. The previous snippets and following examples are a modified version of the [Apache Beam introduction](https://beam.apache.org/get-started/wordcount-example/). For readability, the example has been reduced to the bare minimum Apache Beam code:"
      ]
    },
    {
      "cell_type": "code",
      "metadata": {
        "id": "t5fZcTVtfR1N"
      },
      "source": [
        "import re\n",
        "\n",
        "import apache_beam as beam\n",
        "from apache_beam.io import ReadFromText\n",
        "from apache_beam.io import WriteToText\n",
        "from apache_beam.options.pipeline_options import PipelineOptions\n",
        "from apache_beam.options.pipeline_options import SetupOptions\n",
        "\n",
        "# The text is stored in a Google Cloud Storage bucket\n",
        "input_file = \"gs://dataflow-samples/shakespeare/kinglear.txt\" \n",
        "output_file = \"/tmp/output.txt\"\n",
        "\n",
        "# Define pipeline options object\n",
        "pipeline_options = PipelineOptions()\n",
        "\n",
        "# Set up the Apache Beam pipeline\n",
        "with beam.Pipeline(options=pipeline_options) as p: \n",
        "    # Read the text file or file pattern into a PCollection\n",
        "    lines = p | ReadFromText(input_file) \n",
        "\n",
        "    # Perform the transformations on the collection\n",
        "    # Count the occurrences of each word.\n",
        "    counts = ( \n",
        "        lines\n",
        "        | 'Split' >> beam.FlatMap(lambda x: re.findall(r'[A-Za-z\\']+', x))\n",
        "        | 'PairWithOne' >> beam.Map(lambda x: (x, 1))\n",
        "        | 'GroupAndSum' >> beam.CombinePerKey(sum))\n",
        "\n",
        "    # Format the counts into a PCollection of strings\n",
        "    def format_result(word_count):\n",
        "        (word, count) = word_count\n",
        "        return \"{}: {}\".format(word, count)\n",
        "\n",
        "    output = counts | 'Format' >> beam.Map(format_result)\n",
        "\n",
        "    # Write the output using a \"Write\" transform that has side effects\n",
        "    output | WriteToText(output_file)"
      ],
      "execution_count": 17,
      "outputs": []
    },
    {
      "cell_type": "markdown",
      "metadata": {
        "id": "FzBzkwFUfjpK"
      },
      "source": [
        "The example pipeline downloads Shakespeare’s *King Lear* and performs the token count pipeline on the entire corpus. The results are then written to the text file located at `/tmp/output.txt`."
      ]
    },
    {
      "cell_type": "markdown",
      "metadata": {
        "id": "AGXGMsM-f5Ae"
      },
      "source": [
        "### Executing our basic pipeline"
      ]
    },
    {
      "cell_type": "markdown",
      "metadata": {
        "id": "lRhdlx8Tf5-V"
      },
      "source": [
        "As an example, we can run the pipeline with Apache Beam’s DirectRunner by executing the following command (assuming that the previous example code was saved as `basic_pipeline.py`). If we want to execute this pipeline on different Apache Beam runners like Apache Spark or Apache Flink, we will need to set the pipeline configurations through the `pipeline_options` object:\n",
        "\n",
        "```\n",
        "python basic_pipeline.py\n",
        "```\n",
        "\n",
        "The results of the transformations can be found in the designated text file:"
      ]
    },
    {
      "cell_type": "code",
      "metadata": {
        "id": "eDsiw95MEXW8",
        "outputId": "98c0b2e3-82fb-4134-a2d7-11889780d815",
        "colab": {
          "base_uri": "https://localhost:8080/"
        }
      },
      "source": [
        "! head /tmp/output.txt*"
      ],
      "execution_count": 18,
      "outputs": [
        {
          "output_type": "stream",
          "text": [
            "KING: 243\n",
            "LEAR: 236\n",
            "DRAMATIS: 1\n",
            "PERSONAE: 1\n",
            "king: 65\n",
            "of: 447\n",
            "Britain: 2\n",
            "OF: 15\n",
            "FRANCE: 10\n",
            "DUKE: 3\n"
          ],
          "name": "stdout"
        }
      ]
    },
    {
      "cell_type": "markdown",
      "metadata": {
        "id": "aMyKkBLbgL6F"
      },
      "source": [
        "## Summary"
      ]
    },
    {
      "cell_type": "markdown",
      "metadata": {
        "id": "UFyPIs8dgK2T"
      },
      "source": [
        "In this notebook, we presented a high-level overview of TFX and discussed the importance of a metadata store as well as the general internals of a TFX component. We also introduced Apache Beam and showed how to carry out a simple data transformation using Beam.\n",
        "\n",
        "Everything we discussed in this notebook will be useful to us as we read through the next notebooks on the pipeline components and the pipeline orchestration. The first step is to get our data into the pipeline, and we will cover this in the next notebook.\n"
      ]
    },
    {
      "cell_type": "markdown",
      "metadata": {
        "id": "Yeo18_82JTFI"
      },
      "source": [
        "# References"
      ]
    },
    {
      "cell_type": "markdown",
      "metadata": {
        "id": "L5DwBganbnzj"
      },
      "source": [
        "- [Building Machine Learning Pipelines](https://learning.oreilly.com/library/view/building-machine-learning/9781492053187/)\n",
        "\n",
        "- [TensorFlow in Production tutorials](https://www.tensorflow.org/tfx/tutorials)\n",
        "\n",
        "- [TFX Estimator Component Tutorial](https://www.tensorflow.org/tfx/tutorials/tfx/components)\n",
        "\n",
        "- [Understanding TFX Pipelines](https://www.tensorflow.org/tfx/guide/understanding_tfx_pipelines)\n",
        "\n",
        "- [From Research to Production with TFX Pipelines and ML Metadata](https://blog.tensorflow.org/2019/05/research-to-production-with-tfx-ml.html)\n",
        "\n",
        "- [Introducing the TFX interactive notebook](https://blog.tensorflow.org/2019/11/introducing-tfx-interactive-notebook.html)\n",
        "\n",
        "- [TensorFlow Extended (TFX): Real World Machine Learning in Production](https://blog.tensorflow.org/2019/06/tensorflow-extended-tfx-real-world_26.html)\n",
        "\n",
        "- [Towards ML Engineering: A Brief History Of TensorFlow Extended (TFX)](https://blog.tensorflow.org/2020/09/brief-history-of-tensorflow-extended-tfx.html)\n",
        "\n",
        "- [TensorFlow Extended (TFX): Using Apache Beam for large scale data processing](https://blog.tensorflow.org/2020/03/tensorflow-extended-tfx-using-apache-beam-large-scale-data-processing.html)"
      ]
    }
  ]
}