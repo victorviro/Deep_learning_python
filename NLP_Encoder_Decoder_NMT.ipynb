{
  "nbformat": 4,
  "nbformat_minor": 0,
  "metadata": {
    "colab": {
      "name": "NLP Encoder-Decoder NMT.ipynb",
      "provenance": [],
      "collapsed_sections": [],
      "toc_visible": true,
      "authorship_tag": "ABX9TyPTRIMMRztK26VZw9WZ43IX",
      "include_colab_link": true
    },
    "kernelspec": {
      "name": "python3",
      "display_name": "Python 3"
    },
    "accelerator": "GPU"
  },
  "cells": [
    {
      "cell_type": "markdown",
      "metadata": {
        "id": "view-in-github",
        "colab_type": "text"
      },
      "source": [
        "<a href=\"https://colab.research.google.com/github/victorviro/Deep_learning_python/blob/master/NLP_Encoder_Decoder_NMT.ipynb\" target=\"_parent\"><img src=\"https://colab.research.google.com/assets/colab-badge.svg\" alt=\"Open In Colab\"/></a>"
      ]
    },
    {
      "cell_type": "markdown",
      "metadata": {
        "id": "CobKtwDLDfum",
        "colab_type": "text"
      },
      "source": [
        "Let’s look at an important NLP task: *neural machine translation* (NMT), using a pure Encoder-Decoder model."
      ]
    },
    {
      "cell_type": "markdown",
      "metadata": {
        "id": "MKv4Mdn5DhTz",
        "colab_type": "text"
      },
      "source": [
        "## An Encoder–Decoder Network for Neural Machine Translation"
      ]
    },
    {
      "cell_type": "markdown",
      "metadata": {
        "id": "wczI66RRDk1E",
        "colab_type": "text"
      },
      "source": [
        "Let’s take a look at a simple [neural machine translation model](https://arxiv.org/abs/1409.3215) that will translate English sentences to French (see Figure 16-3).\n",
        "\n",
        "![texto alternativo](https://i.ibb.co/9mx5s5B/machine-learning-model.png)\n",
        "\n",
        "This two-step model, called an Encoder-Decoder, works much better than trying to translate on the fly with a single sequence-to-sequence RNN, since the last words of a sentence can affect the first words of the translation, so we need to wait until we have \"heard\" the whole sentence before translating it (see notebook [Introduction to RNNs](https://github.com/victorviro/Deep_learning_python/blob/master/Introduction_to_RNNs.ipynb)).\n",
        "\n",
        "In short, the English sentences are fed to the encoder, and the decoder outputs the French translations. Note that the French translations are also used as inputs to the decoder, but shifted back by one step. In other words, the decoder is given as input the word that it *should* have output at the previous step (regardless of what it actually output). For the very first word, it is given the start-of-sequence (SOS) token. The decoder is expected to end the sentence with an end-of-sequence (EOS) token.\n",
        "\n",
        "Note that the English sentences are reversed before they are fed to the encoder. For example, \"I drink milk\" is reversed to \"milk drink I\". This ensures that the beginning of the English sentence will be fed last to the encoder, which is useful because that’s generally the first thing that the decoder needs to translate.\n",
        "\n",
        "Each word is initially represented by its ID (e.g., 288 for the word \"milk\"). Next, an `embedding` layer returns the word embedding. These word embeddings are what is actually fed to the encoder and the decoder.\n",
        "\n"
      ]
    },
    {
      "cell_type": "markdown",
      "metadata": {
        "id": "XdfEZDLMDtF9",
        "colab_type": "text"
      },
      "source": [
        "At each step, the decoder outputs a score for each word in the output vocabulary (i.e., French), and then the softmax layer turns these scores into probabilities. For example, at the first step the word \"Je\" may have a probability of 20%, \"Tu\" may have a probability of 1%, and so on. The word with the highest probability is output. This is very much like a regular classification task, so we can train the model using the \"`sparse_categorical_crossentropy`\" loss.\n",
        "\n",
        "\n",
        "At inference time (after training), we will not have the target sentence to feed to the decoder. Instead, we simply feed the decoder the word that it output at the previous step, as shown in Figure 16-4 (this will require an embedding lookup that is not shown in the diagram).\n",
        "\n",
        "\n",
        "![texto alternativo](https://i.ibb.co/S3ZCXjp/m-t-2.png)"
      ]
    },
    {
      "cell_type": "markdown",
      "metadata": {
        "id": "tT_1CEfDDwKF",
        "colab_type": "text"
      },
      "source": [
        "There are a few more details to handle if we implement this model:\n",
        "\n",
        "- So far we have assumed that all input sequences (to the encoder and to the decoder) have a constant length. But obviously, sentence lengths vary. Since regular tensors have fixed shapes, they can only contain sentences of the same length. We can use masking to handle this, as we will do later. However, if the sentences have very different lengths, we can’t just crop them (because we want full translations, not cropped translations). Instead, we can group sentences into buckets of similar lengths (e.g., a bucket for the 1- to 6-word sentences, another for the 7- to 12-word sentences, and so on), using padding for the shorter sequences to ensure all sentences in a bucket have the same length (check out the [`tf.data.experimental.bucket_by_sequence_length()`](https://www.tensorflow.org/api_docs/python/tf/data/experimental/bucket_by_sequence_length) function for this). For example, \"I drink milk\" becomes \"`<pad> <pad> <pad>` milk drink I\".\n",
        "\n",
        "- We want to ignore any output past the EOS token, so these tokens should not contribute to the loss (they must be masked out). For example, if the model outputs \"Je bois du lait `<eos>` oui\", the loss for the last word should be ignored.\n",
        "\n",
        "- When the output vocabulary is large (which is usually the case here), outputting a probability for each possible word would be terribly slow. If the target vocabulary contains, say, 50,000 French words, then the decoder would output 50,000-dimensional vectors, and then computing the softmax function over such a large vector would be very computationally intensive. To avoid this, one solution is to look only at the logits output by the model for the correct word and for a random sample of incorrect words, then compute an approximation of the loss based only on these logits. This *sampled softmax* technique was [introduced](https://arxiv.org/abs/1412.2007) in 2015. In TensorFlow, we can use the [`tf.nn.sampled_softmax_loss()`](https://www.tensorflow.org/api_docs/python/tf/nn/sampled_softmax_loss) function for this during training and use the normal softmax function at inference time (sampled softmax cannot be used at inference time because it requires knowing the target)."
      ]
    },
    {
      "cell_type": "markdown",
      "metadata": {
        "id": "8t374vJ1D4_N",
        "colab_type": "text"
      },
      "source": [
        "The [TensorFlow Addons](https://www.tensorflow.org/addons) project includes many sequence-to-sequence tools to let us easily build production-ready Encoder–Decoders as we will show later."
      ]
    },
    {
      "cell_type": "markdown",
      "metadata": {
        "id": "ugM71xmKJj1Y",
        "colab_type": "text"
      },
      "source": [
        "## Building a NMT model with Keras \n"
      ]
    },
    {
      "cell_type": "markdown",
      "metadata": {
        "id": "UXiJw_WTJ2Zm",
        "colab_type": "text"
      },
      "source": [
        "We are going to build a neural machine translation using an encoder-decoder network for translating English sentences into Spanish sentences. "
      ]
    },
    {
      "cell_type": "code",
      "metadata": {
        "id": "6VlThjL93H_7",
        "colab_type": "code",
        "colab": {
          "base_uri": "https://localhost:8080/",
          "height": 67
        },
        "outputId": "e457fd92-9cee-400a-aedf-2d5368bc0b1a"
      },
      "source": [
        "import numpy as np\n",
        "import tensorflow as tf\n",
        "from tensorflow import keras\n",
        "import nltk\n",
        "nltk.download('punkt')"
      ],
      "execution_count": null,
      "outputs": [
        {
          "output_type": "stream",
          "text": [
            "[nltk_data] Downloading package punkt to /root/nltk_data...\n",
            "[nltk_data]   Unzipping tokenizers/punkt.zip.\n"
          ],
          "name": "stdout"
        },
        {
          "output_type": "execute_result",
          "data": {
            "text/plain": [
              "True"
            ]
          },
          "metadata": {
            "tags": []
          },
          "execution_count": 1
        }
      ]
    },
    {
      "cell_type": "markdown",
      "metadata": {
        "id": "S478L3NGO51r",
        "colab_type": "text"
      },
      "source": [
        "### Load dataset"
      ]
    },
    {
      "cell_type": "code",
      "metadata": {
        "id": "ROH9dCXPO7fy",
        "colab_type": "code",
        "colab": {
          "base_uri": "https://localhost:8080/",
          "height": 67
        },
        "outputId": "87644a5e-d228-4289-b2b7-42f7bc44ccef"
      },
      "source": [
        "# download data\n",
        "!wget --quiet http://www.manythings.org/anki/spa-eng.zip\n",
        "!unzip spa-eng.zip"
      ],
      "execution_count": null,
      "outputs": [
        {
          "output_type": "stream",
          "text": [
            "Archive:  spa-eng.zip\n",
            "  inflating: _about.txt              \n",
            "  inflating: spa.txt                 \n"
          ],
          "name": "stdout"
        }
      ]
    },
    {
      "cell_type": "code",
      "metadata": {
        "id": "hfzHdoPPi2Hm",
        "colab_type": "code",
        "colab": {}
      },
      "source": [
        "def load_dataset(filename):\n",
        "    with open(filename, mode=\"r\", encoding=\"utf-8\") as fp:\n",
        "        return fp.read().split(\"\\n\")"
      ],
      "execution_count": null,
      "outputs": []
    },
    {
      "cell_type": "code",
      "metadata": {
        "id": "jsgW4auHUMuM",
        "colab_type": "code",
        "colab": {
          "base_uri": "https://localhost:8080/",
          "height": 70
        },
        "outputId": "04203aa1-28b1-4dc2-8b3e-6cf11ebc0df0"
      },
      "source": [
        "# Path to the data txt file on disk.\n",
        "data_path = '/content/spa.txt'\n",
        "dataset_lines = load_dataset(data_path)\n",
        "print(dataset_lines[0:10])\n",
        "print(len(dataset_lines))"
      ],
      "execution_count": null,
      "outputs": [
        {
          "output_type": "stream",
          "text": [
            "['Go.\\tVe.\\tCC-BY 2.0 (France) Attribution: tatoeba.org #2877272 (CM) & #4986655 (cueyayotl)', 'Go.\\tVete.\\tCC-BY 2.0 (France) Attribution: tatoeba.org #2877272 (CM) & #4986656 (cueyayotl)', 'Go.\\tVaya.\\tCC-BY 2.0 (France) Attribution: tatoeba.org #2877272 (CM) & #4986657 (cueyayotl)', 'Go.\\tVáyase.\\tCC-BY 2.0 (France) Attribution: tatoeba.org #2877272 (CM) & #6586271 (arh)', 'Hi.\\tHola.\\tCC-BY 2.0 (France) Attribution: tatoeba.org #538123 (CM) & #431975 (Leono)', 'Run!\\t¡Corre!\\tCC-BY 2.0 (France) Attribution: tatoeba.org #906328 (papabear) & #1685404 (Elenitigormiti)', 'Run!\\t¡Corran!\\tCC-BY 2.0 (France) Attribution: tatoeba.org #906328 (papabear) & #5213896 (cueyayotl)', 'Run!\\t¡Corra!\\tCC-BY 2.0 (France) Attribution: tatoeba.org #906328 (papabear) & #8005613 (Seael)', 'Run!\\t¡Corred!\\tCC-BY 2.0 (France) Attribution: tatoeba.org #906328 (papabear) & #8005615 (Seael)', 'Run.\\tCorred.\\tCC-BY 2.0 (France) Attribution: tatoeba.org #4008918 (JSakuragi) & #6681472 (arh)']\n",
            "124548\n"
          ],
          "name": "stdout"
        }
      ]
    },
    {
      "cell_type": "markdown",
      "metadata": {
        "id": "HLtPztDGPKkq",
        "colab_type": "text"
      },
      "source": [
        "### Data preprocessing"
      ]
    },
    {
      "cell_type": "markdown",
      "metadata": {
        "id": "jQJzYxWLPMjC",
        "colab_type": "text"
      },
      "source": [
        "Our dataset is a Spanish-English translation dataset. It contains 124547 pairs of English to Spanish phrases, one pair per line with a tab separating the language. This dataset needs preprocessing before we can work on it. We will also add start-of-sentence and end-of-sentence words so that the model knows when to start and stop predicting."
      ]
    },
    {
      "cell_type": "code",
      "metadata": {
        "id": "NxtphOUIjRcY",
        "colab_type": "code",
        "colab": {
          "base_uri": "https://localhost:8080/",
          "height": 87
        },
        "outputId": "f1094268-28eb-46a8-aff1-a0b635a6daa1"
      },
      "source": [
        "num_samples = 10000  # Number of samples to train on\n",
        "input_sentences, target_sentences = [], []\n",
        "# We define the start of sentence and the end of sentence words\n",
        "SOS, EOS = \"\\t\", \"\\n\" \n",
        "\n",
        "for line in dataset_lines[: min(num_samples, len(dataset_lines) - 1)]:\n",
        "    # Get the input and target sentence and discard metadata\n",
        "    input_sentence, target_sentence, _ = line.split(\"\\t\")\n",
        "    # Split the sentences list into words lists\n",
        "    input_sentence_tokenized = nltk.word_tokenize(input_sentence)\n",
        "    target_sentence_tokenized = nltk.word_tokenize(target_sentence)\n",
        "    # Add the SOS and EOS words in the target sentence\n",
        "    target_sentence_tokenized.insert(0,SOS)\n",
        "    target_sentence_tokenized.insert(len(target_sentence_tokenized), EOS)\n",
        "    input_sentences.append(input_sentence_tokenized)\n",
        "    target_sentences.append(target_sentence_tokenized)\n",
        "\n",
        "print(f'Input sentences: {input_sentences[0:10]}\\n')\n",
        "print(f'Target sentences: {target_sentences[0:10]}')"
      ],
      "execution_count": null,
      "outputs": [
        {
          "output_type": "stream",
          "text": [
            "Input sentences: [['Go', '.'], ['Go', '.'], ['Go', '.'], ['Go', '.'], ['Hi', '.'], ['Run', '!'], ['Run', '!'], ['Run', '!'], ['Run', '!'], ['Run', '.']]\n",
            "\n",
            "Target sentences: [['\\t', 'Ve', '.', '\\n'], ['\\t', 'Vete', '.', '\\n'], ['\\t', 'Vaya', '.', '\\n'], ['\\t', 'Váyase', '.', '\\n'], ['\\t', 'Hola', '.', '\\n'], ['\\t', '¡Corre', '!', '\\n'], ['\\t', '¡Corran', '!', '\\n'], ['\\t', '¡Corra', '!', '\\n'], ['\\t', '¡Corred', '!', '\\n'], ['\\t', 'Corred', '.', '\\n']]\n"
          ],
          "name": "stdout"
        }
      ]
    },
    {
      "cell_type": "markdown",
      "metadata": {
        "id": "Cb7NMcfbPwnH",
        "colab_type": "text"
      },
      "source": [
        "We encode every word of all English sentences as an integer. We use Keras’s Tokenizer class. First, we need to fit a tokenizer to the text: it will find all the word used in the sentences and map each of them to a different character ID, from 1 to the number of distinct characters (it does not start at 0, so we can use that value for masking). We also do the same for the Spanish sentences:"
      ]
    },
    {
      "cell_type": "code",
      "metadata": {
        "id": "u0SQeEElPy5A",
        "colab_type": "code",
        "colab": {}
      },
      "source": [
        "tokenizer_input = keras.preprocessing.text.Tokenizer(lower=True)\n",
        "tokenizer_input.fit_on_texts(input_sentences)\n",
        "\n",
        "tokenizer_target = keras.preprocessing.text.Tokenizer(lower=True)\n",
        "tokenizer_target.fit_on_texts(target_sentences)"
      ],
      "execution_count": null,
      "outputs": []
    },
    {
      "cell_type": "markdown",
      "metadata": {
        "id": "Y7yD-O9fkcaB",
        "colab_type": "text"
      },
      "source": [
        "We get the vocabulary size of both English and Spanish sentences."
      ]
    },
    {
      "cell_type": "code",
      "metadata": {
        "id": "YyKcvIzTQA73",
        "colab_type": "code",
        "colab": {
          "base_uri": "https://localhost:8080/",
          "height": 50
        },
        "outputId": "40d2f4cb-eff8-4e9d-f685-45a7f938ba30"
      },
      "source": [
        "input_word_id_dict = tokenizer_input.word_index\n",
        "input_word_id_dict['PAD'] = 0\n",
        "#print(f'input_word_id_dict: {input_word_id_dict}')\n",
        "input_id_word_dict = {v:k for k, v in input_word_id_dict.items()}\n",
        "num_encoder_tokens = len(input_word_id_dict)\n",
        "print(f'Number of distinct words in English sentences: {num_encoder_tokens}')\n",
        "\n",
        "target_word_id_dict = tokenizer_target.word_index\n",
        "target_word_id_dict['PAD'] = 0\n",
        "#print(f'target_word_id_dict: {target_word_id_dict}')\n",
        "target_id_word_dict = {v:k for k, v in target_word_id_dict.items()}\n",
        "num_decoder_tokens = len(target_word_id_dict)\n",
        "print(f'Number of distinct words in Spanish sentences: {num_decoder_tokens}')"
      ],
      "execution_count": null,
      "outputs": [
        {
          "output_type": "stream",
          "text": [
            "Number of distinct words in English sentences: 2308\n",
            "Number of distinct words in Spanish sentences: 5003\n"
          ],
          "name": "stdout"
        }
      ]
    },
    {
      "cell_type": "markdown",
      "metadata": {
        "id": "3gJM6kh-Qgbn",
        "colab_type": "text"
      },
      "source": [
        "Let’s encode both the full English and Spanish sentences so each word is represented by its ID."
      ]
    },
    {
      "cell_type": "code",
      "metadata": {
        "id": "i_ffkjXxkoo2",
        "colab_type": "code",
        "colab": {
          "base_uri": "https://localhost:8080/",
          "height": 70
        },
        "outputId": "bc01060c-44b6-4611-f43b-436e9f624bcf"
      },
      "source": [
        "input_sentences_encoded = tokenizer_input.texts_to_sequences(input_sentences)\n",
        "print(input_sentences_encoded[0:10])\n",
        "target_sentences_encoded = tokenizer_target.texts_to_sequences(target_sentences)\n",
        "print(target_sentences_encoded[0:10])"
      ],
      "execution_count": null,
      "outputs": [
        {
          "output_type": "stream",
          "text": [
            "[[23, 1], [23, 1], [23, 1], [23, 1], [292, 1], [170, 18], [170, 18], [170, 18], [170, 18], [170, 1]]\n",
            "[[1, 71, 3, 2], [1, 238, 3, 2], [1, 281, 3, 2], [1, 488, 3, 2], [1, 432, 3, 2], [1, 2270, 10, 2], [1, 2271, 10, 2], [1, 2272, 10, 2], [1, 2273, 10, 2], [1, 2274, 3, 2]]\n"
          ],
          "name": "stdout"
        }
      ]
    },
    {
      "cell_type": "markdown",
      "metadata": {
        "id": "l2aQOB8moGJ5",
        "colab_type": "text"
      },
      "source": [
        "We only need the start of the sequence tag in the decoder's input and the end of the sequence tag in the decoder's target."
      ]
    },
    {
      "cell_type": "code",
      "metadata": {
        "id": "ryDvUlFXobQ6",
        "colab_type": "code",
        "colab": {
          "base_uri": "https://localhost:8080/",
          "height": 54
        },
        "outputId": "9b93be9b-02e0-4198-bee6-eb3eea5a0bf6"
      },
      "source": [
        "input_sentences_decoder = [sentence_encoded[:-1] for sentence_encoded in target_sentences_encoded]\n",
        "print(input_sentences_decoder[0:10])"
      ],
      "execution_count": null,
      "outputs": [
        {
          "output_type": "stream",
          "text": [
            "[[1, 71, 3], [1, 238, 3], [1, 281, 3], [1, 488, 3], [1, 432, 3], [1, 2270, 10], [1, 2271, 10], [1, 2272, 10], [1, 2273, 10], [1, 2274, 3]]\n"
          ],
          "name": "stdout"
        }
      ]
    },
    {
      "cell_type": "code",
      "metadata": {
        "id": "LVxt3W6Toc5o",
        "colab_type": "code",
        "colab": {
          "base_uri": "https://localhost:8080/",
          "height": 54
        },
        "outputId": "8ad61978-1cb9-4eb4-8b1c-7b9f78c0ce4c"
      },
      "source": [
        "target_sentences_decoder = [sentence_encoded[1:] for sentence_encoded in target_sentences_encoded]\n",
        "print(target_sentences_decoder[0:10])"
      ],
      "execution_count": null,
      "outputs": [
        {
          "output_type": "stream",
          "text": [
            "[[71, 3, 2], [238, 3, 2], [281, 3, 2], [488, 3, 2], [432, 3, 2], [2270, 10, 2], [2271, 10, 2], [2272, 10, 2], [2273, 10, 2], [2274, 3, 2]]\n"
          ],
          "name": "stdout"
        }
      ]
    },
    {
      "cell_type": "markdown",
      "metadata": {
        "id": "sD-dPnToohKJ",
        "colab_type": "text"
      },
      "source": [
        "We get the maximum number of words in a English sentence. We do the same for Spanish sentences."
      ]
    },
    {
      "cell_type": "code",
      "metadata": {
        "id": "JbnTlm7xoixE",
        "colab_type": "code",
        "colab": {
          "base_uri": "https://localhost:8080/",
          "height": 50
        },
        "outputId": "afd550ae-6688-46ad-e14a-e3e8f535ae13"
      },
      "source": [
        "max_encoder_seq_length = max([len(sentence_as_int) for sentence_as_int in input_sentences_encoded])\n",
        "print(max_encoder_seq_length)\n",
        "max_decoder_seq_length = max([len(sentence_as_int) for sentence_as_int in input_sentences_decoder])\n",
        "print(max_decoder_seq_length)"
      ],
      "execution_count": null,
      "outputs": [
        {
          "output_type": "stream",
          "text": [
            "6\n",
            "10\n"
          ],
          "name": "stdout"
        }
      ]
    },
    {
      "cell_type": "markdown",
      "metadata": {
        "id": "0sK7lyrGonyQ",
        "colab_type": "text"
      },
      "source": [
        "We are going to vectorize the words using word embedding when defining the model. Lets pad the English sentences encoded:"
      ]
    },
    {
      "cell_type": "code",
      "metadata": {
        "id": "-VLT7UD7op0k",
        "colab_type": "code",
        "colab": {
          "base_uri": "https://localhost:8080/",
          "height": 202
        },
        "outputId": "73ae4a07-03bc-45d3-f04c-ccceca062df4"
      },
      "source": [
        "padded_input_sentences_encoded = tf.keras.preprocessing.sequence.pad_sequences(\n",
        "    input_sentences_encoded, padding=\"post\")\n",
        "print(padded_input_sentences_encoded[0:10])\n",
        "print(padded_input_sentences_encoded.shape)"
      ],
      "execution_count": null,
      "outputs": [
        {
          "output_type": "stream",
          "text": [
            "[[ 23   1   0   0   0   0]\n",
            " [ 23   1   0   0   0   0]\n",
            " [ 23   1   0   0   0   0]\n",
            " [ 23   1   0   0   0   0]\n",
            " [292   1   0   0   0   0]\n",
            " [170  18   0   0   0   0]\n",
            " [170  18   0   0   0   0]\n",
            " [170  18   0   0   0   0]\n",
            " [170  18   0   0   0   0]\n",
            " [170   1   0   0   0   0]]\n",
            "(10000, 6)\n"
          ],
          "name": "stdout"
        }
      ]
    },
    {
      "cell_type": "markdown",
      "metadata": {
        "id": "1BkdwEjEotLg",
        "colab_type": "text"
      },
      "source": [
        "This matrix will be the input data for the encoder."
      ]
    },
    {
      "cell_type": "code",
      "metadata": {
        "id": "n9YezjbKou-9",
        "colab_type": "code",
        "colab": {}
      },
      "source": [
        "encoder_input_data = padded_input_sentences_encoded"
      ],
      "execution_count": null,
      "outputs": []
    },
    {
      "cell_type": "markdown",
      "metadata": {
        "id": "-wnvraayo1ms",
        "colab_type": "text"
      },
      "source": [
        "Let's pad the decoder's input and the decoder's target."
      ]
    },
    {
      "cell_type": "code",
      "metadata": {
        "id": "e17Ruq0xo8tc",
        "colab_type": "code",
        "colab": {
          "base_uri": "https://localhost:8080/",
          "height": 202
        },
        "outputId": "4791576a-cb8a-4431-ac18-94633b0abd5a"
      },
      "source": [
        "padded_target_sentences_decoder = tf.keras.preprocessing.sequence.pad_sequences(\n",
        "    target_sentences_decoder, padding=\"post\")\n",
        "print(padded_target_sentences_decoder[0:10])\n",
        "print(padded_target_sentences_decoder.shape)"
      ],
      "execution_count": null,
      "outputs": [
        {
          "output_type": "stream",
          "text": [
            "[[  71    3    2    0    0    0    0    0    0    0]\n",
            " [ 238    3    2    0    0    0    0    0    0    0]\n",
            " [ 281    3    2    0    0    0    0    0    0    0]\n",
            " [ 488    3    2    0    0    0    0    0    0    0]\n",
            " [ 432    3    2    0    0    0    0    0    0    0]\n",
            " [2270   10    2    0    0    0    0    0    0    0]\n",
            " [2271   10    2    0    0    0    0    0    0    0]\n",
            " [2272   10    2    0    0    0    0    0    0    0]\n",
            " [2273   10    2    0    0    0    0    0    0    0]\n",
            " [2274    3    2    0    0    0    0    0    0    0]]\n",
            "(10000, 10)\n"
          ],
          "name": "stdout"
        }
      ]
    },
    {
      "cell_type": "code",
      "metadata": {
        "id": "xZnu037Do_0D",
        "colab_type": "code",
        "colab": {}
      },
      "source": [
        "decoder_target_data = padded_target_sentences_decoder"
      ],
      "execution_count": null,
      "outputs": []
    },
    {
      "cell_type": "code",
      "metadata": {
        "id": "Q7SyB3FUpAPF",
        "colab_type": "code",
        "colab": {
          "base_uri": "https://localhost:8080/",
          "height": 202
        },
        "outputId": "feb54c78-463b-4bc1-f841-5c91c3d2ab64"
      },
      "source": [
        "padded_input_sentences_decoder = tf.keras.preprocessing.sequence.pad_sequences(\n",
        "    input_sentences_decoder, padding=\"post\")\n",
        "print(padded_input_sentences_decoder[0:10])\n",
        "print(padded_input_sentences_decoder.shape)"
      ],
      "execution_count": null,
      "outputs": [
        {
          "output_type": "stream",
          "text": [
            "[[   1   71    3    0    0    0    0    0    0    0]\n",
            " [   1  238    3    0    0    0    0    0    0    0]\n",
            " [   1  281    3    0    0    0    0    0    0    0]\n",
            " [   1  488    3    0    0    0    0    0    0    0]\n",
            " [   1  432    3    0    0    0    0    0    0    0]\n",
            " [   1 2270   10    0    0    0    0    0    0    0]\n",
            " [   1 2271   10    0    0    0    0    0    0    0]\n",
            " [   1 2272   10    0    0    0    0    0    0    0]\n",
            " [   1 2273   10    0    0    0    0    0    0    0]\n",
            " [   1 2274    3    0    0    0    0    0    0    0]]\n",
            "(10000, 10)\n"
          ],
          "name": "stdout"
        }
      ]
    },
    {
      "cell_type": "code",
      "metadata": {
        "id": "Zv09jHe6owyr",
        "colab_type": "code",
        "colab": {}
      },
      "source": [
        "decoder_input_data = padded_input_sentences_decoder"
      ],
      "execution_count": null,
      "outputs": []
    },
    {
      "cell_type": "code",
      "metadata": {
        "id": "2CyWKUGhpDS0",
        "colab_type": "code",
        "colab": {
          "base_uri": "https://localhost:8080/",
          "height": 67
        },
        "outputId": "292092ca-822a-4a85-f4cd-913e3cf307ea"
      },
      "source": [
        "print(encoder_input_data.shape)\n",
        "print(decoder_input_data.shape)\n",
        "print(decoder_target_data.shape)"
      ],
      "execution_count": null,
      "outputs": [
        {
          "output_type": "stream",
          "text": [
            "(10000, 6)\n",
            "(10000, 10)\n",
            "(10000, 10)\n"
          ],
          "name": "stdout"
        }
      ]
    },
    {
      "cell_type": "markdown",
      "metadata": {
        "id": "L_JTXjjupdmS",
        "colab_type": "text"
      },
      "source": [
        "### Build the model"
      ]
    },
    {
      "cell_type": "code",
      "metadata": {
        "id": "r8xv5MG9pjjJ",
        "colab_type": "code",
        "colab": {}
      },
      "source": [
        "import tensorflow_addons as tfa\n",
        "from keras.layers import Input, Embedding, LSTM, Dense, LSTMCell\n",
        "from keras.models import Model\n",
        "from keras.utils.vis_utils import plot_model\n",
        "\n",
        "rnn_units = 256  # Number of recurrent units in the LSTM layer.\n",
        "dim_embedding = 128"
      ],
      "execution_count": null,
      "outputs": []
    },
    {
      "cell_type": "markdown",
      "metadata": {
        "id": "T0ckaiQpprMq",
        "colab_type": "text"
      },
      "source": [
        "As we discussed, the model is divided into two sub-models: the encoder responsible for outputting a fixed-length encoding of the input English sequence, and the decoder responsible for predicting the output sequence, one word per output time step.\n",
        "\n",
        "The first step is to define the encoder. The input to the encoder is a sequence of words, each encoded as embedding vectors with a length of `dim_embedding`."
      ]
    },
    {
      "cell_type": "code",
      "metadata": {
        "id": "LKrCniRYp2UW",
        "colab_type": "code",
        "colab": {}
      },
      "source": [
        "encoder_inputs = Input(shape=[None], dtype=np.int32)\n",
        "encoder_embeddings = Embedding(num_encoder_tokens,\n",
        "                               dim_embedding)(encoder_inputs)"
      ],
      "execution_count": null,
      "outputs": []
    },
    {
      "cell_type": "markdown",
      "metadata": {
        "id": "k0rM4V1Ep41o",
        "colab_type": "text"
      },
      "source": [
        "We set `return_state=True` when creating the `LSTM` layer so that we can get its final hidden state and pass it to the decoder. Since we are using an LSTM cell, it actually returns two hidden states (short term and long term)."
      ]
    },
    {
      "cell_type": "code",
      "metadata": {
        "id": "ACF_SW3Jp9b8",
        "colab_type": "code",
        "colab": {}
      },
      "source": [
        "encoder = LSTM(rnn_units, return_state=True)\n",
        "encoder_outputs, state_h, state_c = encoder(encoder_embeddings)\n",
        "# We discard encoder_outputs and only keep the states.\n",
        "encoder_states = [state_h, state_c]"
      ],
      "execution_count": null,
      "outputs": []
    },
    {
      "cell_type": "markdown",
      "metadata": {
        "id": "pfevzoCEqD5Z",
        "colab_type": "text"
      },
      "source": [
        "Next, we define the decoder. The decoder input is defined as a sequence of Spanish words encoded to embedding vectors with a length of `dim_embedding`."
      ]
    },
    {
      "cell_type": "code",
      "metadata": {
        "id": "MGrvtalbqYHb",
        "colab_type": "code",
        "colab": {}
      },
      "source": [
        "decoder_inputs = Input(shape=(None,))\n",
        "decoder_embeddings = Embedding(num_decoder_tokens,\n",
        "                               dim_embedding)(decoder_inputs)"
      ],
      "execution_count": null,
      "outputs": []
    },
    {
      "cell_type": "markdown",
      "metadata": {
        "id": "vz5W0GOLq7DC",
        "colab_type": "text"
      },
      "source": [
        "The LSTM layer is defined to both return sequences and states. The final hidden and cell states are ignored and only the output sequence of hidden states is referenced.\n",
        "\n",
        "The final hidden and cell state from the encoder is used to initialize the state of the decoder. This means every time that the encoder model encodes an input sequence, the final internal states of the encoder model are used as the starting point for outputting the first word in the output sequence. This also means that the encoder and decoder LSTM layers must have the same number of cells, in this case, `rnn_units`.\n",
        "\n",
        "A `Dense` output layer is used to predict each word. This Dense is used to produce each word in the output sequence in a one-shot manner, rather than recursively, at least during training. This is because the entire target sequence required for input to the model is known during training."
      ]
    },
    {
      "cell_type": "code",
      "metadata": {
        "id": "H6631rR9rG0f",
        "colab_type": "code",
        "colab": {}
      },
      "source": [
        "sampler = tfa.seq2seq.sampler.TrainingSampler()\n",
        "\n",
        "decoder_cell = LSTMCell(rnn_units)\n",
        "output_layer = Dense(num_decoder_tokens)\n",
        "decoder = tfa.seq2seq.basic_decoder.BasicDecoder(decoder_cell, sampler,\n",
        "                                                 output_layer=output_layer)\n",
        "final_outputs, state_h_dec, state_c_dec = decoder(\n",
        "    decoder_embeddings, initial_state=encoder_states)\n",
        "Y_proba = tf.nn.softmax(final_outputs.rnn_output)\n",
        "\n"
      ],
      "execution_count": null,
      "outputs": []
    },
    {
      "cell_type": "markdown",
      "metadata": {
        "id": "FL-fIKc_Q2En",
        "colab_type": "text"
      },
      "source": [
        "The `TrainingSampler` is one of several samplers available in TensorFlow Addons: their role is to tell the decoder at each step what it should pretend the previous output was. During inference, this should be the embedding of the token that was actually output. During training, it should be the embedding of the previous target token: this is why we used the TrainingSampler. "
      ]
    },
    {
      "cell_type": "markdown",
      "metadata": {
        "id": "tWkMkzc_x5WX",
        "colab_type": "text"
      },
      "source": [
        "Finally, the model is defined with inputs for the encoder and the decoder and the output target sequence."
      ]
    },
    {
      "cell_type": "code",
      "metadata": {
        "id": "ClduWeJCx5iU",
        "colab_type": "code",
        "colab": {}
      },
      "source": [
        "model = Model(\n",
        "    inputs=[encoder_inputs, decoder_inputs],\n",
        "    outputs=[Y_proba])"
      ],
      "execution_count": null,
      "outputs": []
    },
    {
      "cell_type": "code",
      "metadata": {
        "id": "gX-hEreiq6Cp",
        "colab_type": "code",
        "colab": {
          "base_uri": "https://localhost:8080/",
          "height": 318
        },
        "outputId": "6374b46b-aa34-4ee5-8a9c-0e6b00179589"
      },
      "source": [
        "# plot the model\n",
        "plot_model(model, to_file='model.png', show_shapes=True)"
      ],
      "execution_count": null,
      "outputs": [
        {
          "output_type": "execute_result",
          "data": {
            "image/png": "[encoded data removed]",
            "text/plain": [
              "<IPython.core.display.Image object>"
            ]
          },
          "metadata": {
            "tags": []
          },
          "execution_count": 25
        }
      ]
    },
    {
      "cell_type": "markdown",
      "metadata": {
        "id": "3clOewOWrx_T",
        "colab_type": "text"
      },
      "source": [
        "Note, as it is not noted by the output shape information, the decoder uses the final hidden and cell states of the encoder LSTM as the initial state for the decoder. Also note that the decoder LSTM only passes the sequence of hidden states to the Dense for output, not the final hidden and cell states as suggested by the output shape information."
      ]
    },
    {
      "cell_type": "markdown",
      "metadata": {
        "id": "9FuKIkxYriVW",
        "colab_type": "text"
      },
      "source": [
        "### Train the model"
      ]
    },
    {
      "cell_type": "code",
      "metadata": {
        "id": "sygbUDlwrkH5",
        "colab_type": "code",
        "colab": {}
      },
      "source": [
        "model.compile(loss=\"sparse_categorical_crossentropy\", optimizer=\"adam\", metrics=[\"accuracy\"])"
      ],
      "execution_count": null,
      "outputs": []
    },
    {
      "cell_type": "code",
      "metadata": {
        "id": "KtqTx2B2uAxx",
        "colab_type": "code",
        "colab": {}
      },
      "source": [
        "batch_size = 32\n",
        "epochs = 30"
      ],
      "execution_count": null,
      "outputs": []
    },
    {
      "cell_type": "code",
      "metadata": {
        "id": "1DunglnkrnFZ",
        "colab_type": "code",
        "colab": {
          "base_uri": "https://localhost:8080/",
          "height": 1000
        },
        "outputId": "472bcf8c-37b6-44ac-fb0b-c4f05c22836d"
      },
      "source": [
        "history = model.fit([encoder_input_data, decoder_input_data],\n",
        "                    decoder_target_data,\n",
        "                    batch_size=batch_size,\n",
        "                    epochs=epochs,\n",
        "                    validation_split=0.2)"
      ],
      "execution_count": null,
      "outputs": [
        {
          "output_type": "stream",
          "text": [
            "Epoch 1/30\n",
            "250/250 [==============================] - 8s 31ms/step - loss: 2.6784 - accuracy: 0.6344 - val_loss: 2.4096 - val_accuracy: 0.6685\n",
            "Epoch 2/30\n",
            "250/250 [==============================] - 7s 28ms/step - loss: 1.8670 - accuracy: 0.7214 - val_loss: 2.2416 - val_accuracy: 0.6828\n",
            "Epoch 3/30\n",
            "250/250 [==============================] - 7s 29ms/step - loss: 1.6781 - accuracy: 0.7402 - val_loss: 2.0932 - val_accuracy: 0.7042\n",
            "Epoch 4/30\n",
            "250/250 [==============================] - 7s 29ms/step - loss: 1.5078 - accuracy: 0.7598 - val_loss: 2.0324 - val_accuracy: 0.7142\n",
            "Epoch 5/30\n",
            "250/250 [==============================] - 7s 28ms/step - loss: 1.3672 - accuracy: 0.7741 - val_loss: 1.9684 - val_accuracy: 0.7272\n",
            "Epoch 6/30\n",
            "250/250 [==============================] - 7s 28ms/step - loss: 1.2392 - accuracy: 0.7863 - val_loss: 1.9195 - val_accuracy: 0.7351\n",
            "Epoch 7/30\n",
            "250/250 [==============================] - 7s 28ms/step - loss: 1.1221 - accuracy: 0.7976 - val_loss: 1.9096 - val_accuracy: 0.7383\n",
            "Epoch 8/30\n",
            "250/250 [==============================] - 7s 28ms/step - loss: 1.0196 - accuracy: 0.8079 - val_loss: 1.8683 - val_accuracy: 0.7465\n",
            "Epoch 9/30\n",
            "250/250 [==============================] - 7s 29ms/step - loss: 0.9255 - accuracy: 0.8174 - val_loss: 1.8659 - val_accuracy: 0.7505\n",
            "Epoch 10/30\n",
            "250/250 [==============================] - 7s 28ms/step - loss: 0.8427 - accuracy: 0.8257 - val_loss: 1.8613 - val_accuracy: 0.7541\n",
            "Epoch 11/30\n",
            "250/250 [==============================] - 7s 28ms/step - loss: 0.7690 - accuracy: 0.8349 - val_loss: 1.8549 - val_accuracy: 0.7578\n",
            "Epoch 12/30\n",
            "250/250 [==============================] - 7s 28ms/step - loss: 0.7020 - accuracy: 0.8439 - val_loss: 1.8895 - val_accuracy: 0.7577\n",
            "Epoch 13/30\n",
            "250/250 [==============================] - 7s 28ms/step - loss: 0.6424 - accuracy: 0.8529 - val_loss: 1.8772 - val_accuracy: 0.7618\n",
            "Epoch 14/30\n",
            "250/250 [==============================] - 7s 29ms/step - loss: 0.5867 - accuracy: 0.8625 - val_loss: 1.8960 - val_accuracy: 0.7623\n",
            "Epoch 15/30\n",
            "250/250 [==============================] - 7s 28ms/step - loss: 0.5368 - accuracy: 0.8703 - val_loss: 1.8924 - val_accuracy: 0.7635\n",
            "Epoch 16/30\n",
            "250/250 [==============================] - 7s 28ms/step - loss: 0.4917 - accuracy: 0.8795 - val_loss: 1.9044 - val_accuracy: 0.7651\n",
            "Epoch 17/30\n",
            "250/250 [==============================] - 7s 28ms/step - loss: 0.4524 - accuracy: 0.8869 - val_loss: 1.9093 - val_accuracy: 0.7656\n",
            "Epoch 18/30\n",
            "250/250 [==============================] - 7s 28ms/step - loss: 0.4154 - accuracy: 0.8930 - val_loss: 1.9161 - val_accuracy: 0.7656\n",
            "Epoch 19/30\n",
            "250/250 [==============================] - 7s 28ms/step - loss: 0.3814 - accuracy: 0.9010 - val_loss: 1.9436 - val_accuracy: 0.7657\n",
            "Epoch 20/30\n",
            "250/250 [==============================] - 7s 28ms/step - loss: 0.3516 - accuracy: 0.9071 - val_loss: 1.9477 - val_accuracy: 0.7688\n",
            "Epoch 21/30\n",
            "250/250 [==============================] - 7s 28ms/step - loss: 0.3235 - accuracy: 0.9140 - val_loss: 1.9666 - val_accuracy: 0.7670\n",
            "Epoch 22/30\n",
            "250/250 [==============================] - 7s 28ms/step - loss: 0.2995 - accuracy: 0.9187 - val_loss: 1.9923 - val_accuracy: 0.7676\n",
            "Epoch 23/30\n",
            "250/250 [==============================] - 7s 28ms/step - loss: 0.2768 - accuracy: 0.9233 - val_loss: 1.9932 - val_accuracy: 0.7666\n",
            "Epoch 24/30\n",
            "250/250 [==============================] - 7s 28ms/step - loss: 0.2576 - accuracy: 0.9276 - val_loss: 2.0148 - val_accuracy: 0.7689\n",
            "Epoch 25/30\n",
            "250/250 [==============================] - 7s 28ms/step - loss: 0.2386 - accuracy: 0.9319 - val_loss: 2.0306 - val_accuracy: 0.7678\n",
            "Epoch 26/30\n",
            "250/250 [==============================] - 7s 29ms/step - loss: 0.2230 - accuracy: 0.9354 - val_loss: 2.0380 - val_accuracy: 0.7681\n",
            "Epoch 27/30\n",
            "250/250 [==============================] - 7s 28ms/step - loss: 0.2089 - accuracy: 0.9384 - val_loss: 2.0524 - val_accuracy: 0.7675\n",
            "Epoch 28/30\n",
            "250/250 [==============================] - 7s 28ms/step - loss: 0.1956 - accuracy: 0.9414 - val_loss: 2.0701 - val_accuracy: 0.7690\n",
            "Epoch 29/30\n",
            "250/250 [==============================] - 7s 28ms/step - loss: 0.1836 - accuracy: 0.9445 - val_loss: 2.0950 - val_accuracy: 0.7674\n",
            "Epoch 30/30\n",
            "250/250 [==============================] - 7s 28ms/step - loss: 0.1733 - accuracy: 0.9465 - val_loss: 2.0979 - val_accuracy: 0.7691\n"
          ],
          "name": "stdout"
        }
      ]
    },
    {
      "cell_type": "markdown",
      "metadata": {
        "id": "xZrcsH6OrtN-",
        "colab_type": "text"
      },
      "source": [
        "### Inference"
      ]
    },
    {
      "cell_type": "markdown",
      "metadata": {
        "id": "RgfmJ-Fmr2_J",
        "colab_type": "text"
      },
      "source": [
        "Once the defined model is fit, it can be used to make predictions. Specifically, output a Spanish translation for an English source text.\n",
        "\n",
        "The model defined for training has learned weights for this operation, but the structure of the model is not designed to be called recursively to generate one word at a time.\n",
        "\n",
        "Instead, new models are required for the prediction step, specifically a model for encoding English input sequences of words and a model that takes the sequence of Spanish words generated so far and the encoding as input and predicts the next word in the sequence.\n",
        "\n",
        "Defining the inference models requires reference to elements of the model used for training in the example. Alternatively, one could define a new model with the same shapes and load the weights from the file.\n",
        "\n",
        "The encoder model is defined as taking the input layer from the encoder in the trained model (´encoder_inputs´) and outputting the hidden and cell state tensors (`encoder_states`)."
      ]
    },
    {
      "cell_type": "code",
      "metadata": {
        "id": "wP4L2GsnsLEY",
        "colab_type": "code",
        "colab": {}
      },
      "source": [
        "#Define an input sequence and process it.\n",
        "encoder_inputs = model.input[0]  # input_1\n",
        "encoder_outputs, state_h_enc, state_c_enc = model.layers[4].output  # lstm_1\n",
        "encoder_states = [state_h_enc, state_c_enc]\n",
        "\n",
        "# We discard encoder_outputs and only keep the states.\n",
        "encoder_model = keras.Model(encoder_inputs, encoder_states)"
      ],
      "execution_count": null,
      "outputs": []
    },
    {
      "cell_type": "code",
      "metadata": {
        "id": "0vE4tAlIsaq2",
        "colab_type": "code",
        "colab": {
          "base_uri": "https://localhost:8080/",
          "height": 312
        },
        "outputId": "63c86362-59f6-4fad-83eb-ab489adf8974"
      },
      "source": [
        "plot_model(encoder_model, to_file='encoder_model_inf.png', show_shapes=True)"
      ],
      "execution_count": null,
      "outputs": [
        {
          "output_type": "execute_result",
          "data": {
            "image/png": "[encoded data removed]",
            "text/plain": [
              "<IPython.core.display.Image object>"
            ]
          },
          "metadata": {
            "tags": []
          },
          "execution_count": 30
        }
      ]
    },
    {
      "cell_type": "markdown",
      "metadata": {
        "id": "hvcPFtgrsgYI",
        "colab_type": "text"
      },
      "source": [
        "The decoder is more elaborate.\n",
        "\n",
        "The decoder requires the hidden and cell states from the encoder as the initial state of the newly defined encoder model. Because the decoder is a separate standalone model, these states will be provided as input to the model, and therefore must first be defined as inputs."
      ]
    },
    {
      "cell_type": "code",
      "metadata": {
        "id": "Lo917JQlsluP",
        "colab_type": "code",
        "colab": {}
      },
      "source": [
        "decoder_state_input_h = keras.Input(shape=(rnn_units,), name=\"input_3\")\n",
        "decoder_state_input_c = keras.Input(shape=(rnn_units,), name=\"input_4\")\n",
        "decoder_states_inputs = [decoder_state_input_h, decoder_state_input_c]"
      ],
      "execution_count": null,
      "outputs": []
    },
    {
      "cell_type": "markdown",
      "metadata": {
        "id": "CBfniYwjsqyG",
        "colab_type": "text"
      },
      "source": [
        "They can then be specified for use as the initial state of the decoder LSTM layer."
      ]
    },
    {
      "cell_type": "code",
      "metadata": {
        "id": "pTTSi9w4stQa",
        "colab_type": "code",
        "colab": {}
      },
      "source": [
        "decoder_lstm = model.layers[5]# lstm_2\n",
        "decoder_emb = keras.Input(shape=(max_decoder_seq_length, dim_embedding), name=\"emb_2\")\n",
        "\n",
        "final_outputs, decoder_states, sequence_lengths = decoder_lstm(\n",
        "    decoder_emb, initial_state=decoder_states_inputs)"
      ],
      "execution_count": null,
      "outputs": []
    },
    {
      "cell_type": "markdown",
      "metadata": {
        "id": "oEnU725vs3eV",
        "colab_type": "text"
      },
      "source": [
        "Both the encoder and decoder will be called recursively for each word that is to be generated in the translated sequence.\n",
        "\n",
        "On the first call, the hidden and cell states from the encoder will be used to initialize the decoder LSTM layer, provided as input to the model directly.\n",
        "\n",
        "On subsequent recursive calls to the decoder, the last hidden and cell state must be provided to the model. These state values are already within the decoder; nevertheless, we must re-initialize the state on each call given the way that the model was defined to take the final states from the encoder on the first call.\n",
        "\n",
        "Therefore, the decoder must output the hidden and cell states along with the predicted word on each call, so that these states can be assigned to a variable and used on each subsequent recursive call for a given input sequence of English text to be translated."
      ]
    },
    {
      "cell_type": "code",
      "metadata": {
        "id": "GlN16ctitDPk",
        "colab_type": "code",
        "colab": {}
      },
      "source": [
        "decoder_dense = model.layers[6] #  dense_1\n",
        "Y_probas = decoder_dense(final_outputs.rnn_output) \n",
        "\n",
        "decoder_model = keras.Model(\n",
        "    [decoder_emb] + decoder_states_inputs, [Y_probas] + decoder_states\n",
        ")"
      ],
      "execution_count": null,
      "outputs": []
    },
    {
      "cell_type": "code",
      "metadata": {
        "id": "LgyCdwahtK_U",
        "colab_type": "code",
        "colab": {
          "base_uri": "https://localhost:8080/",
          "height": 242
        },
        "outputId": "05d33346-a1fa-425f-c900-b784c2c66e36"
      },
      "source": [
        "plot_model(decoder_model, to_file='decoder_model_inf.png', show_shapes=True)"
      ],
      "execution_count": null,
      "outputs": [
        {
          "output_type": "execute_result",
          "data": {
            "image/png": "[encoded data removed]",
            "text/plain": [
              "<IPython.core.display.Image object>"
            ]
          },
          "metadata": {
            "tags": []
          },
          "execution_count": 34
        }
      ]
    },
    {
      "cell_type": "code",
      "metadata": {
        "id": "xHiJ3sDRtXCX",
        "colab_type": "code",
        "colab": {}
      },
      "source": [
        ""
      ],
      "execution_count": null,
      "outputs": []
    },
    {
      "cell_type": "code",
      "metadata": {
        "id": "8X4kL6WctZZ-",
        "colab_type": "code",
        "colab": {}
      },
      "source": [
        "embedding_decoder = model.layers[3].get_weights()[0]\n",
        "def decode_sequence(input_seq):\n",
        "    # Encode the input as state vectors.\n",
        "    states_value = encoder_model.predict(input_seq)\n",
        "\n",
        "    # Generate empty target sequence of length 1.\n",
        "    target_seq = np.zeros((1, 1, num_decoder_tokens))\n",
        "    # Populate the first word of target sequence with the SOS word.\n",
        "    target_seq[0, 0, target_word_id_dict[\"\\t\"]] = 1.0\n",
        "\n",
        "    # Sampling loop for a batch of sequences\n",
        "    # (to simplify, here we assume a batch of size 1).\n",
        "    stop_condition = False\n",
        "    decoded_sentence = \"\"\n",
        "    while not stop_condition:\n",
        "        word_emb = tf.matmul(target_seq, embedding_decoder)\n",
        "        output_tokens, h, c = decoder_model.predict([word_emb] + states_value)\n",
        "\n",
        "        # Sample a token\n",
        "        sampled_token_id = np.argmax(output_tokens[0, -1, :])\n",
        "        sampled_word = target_id_word_dict[sampled_token_id]\n",
        "        decoded_sentence += sampled_word+' '\n",
        "\n",
        "        # Exit condition: either hit max length or find stop character.\n",
        "        if sampled_word == \"\\n\" or len(decoded_sentence) > max_decoder_seq_length:\n",
        "            stop_condition = True\n",
        "\n",
        "        # Update the target sequence (of length 1).\n",
        "        target_seq = np.zeros((1, 1, num_decoder_tokens))\n",
        "        target_seq[0, 0, sampled_token_id] = 1.0\n",
        "\n",
        "        # Update states\n",
        "        states_value = [h, c]\n",
        "    return decoded_sentence"
      ],
      "execution_count": null,
      "outputs": []
    },
    {
      "cell_type": "code",
      "metadata": {
        "id": "HwFdyXbQtb6Q",
        "colab_type": "code",
        "colab": {
          "base_uri": "https://localhost:8080/",
          "height": 1000
        },
        "outputId": "f83ba512-51d4-44dd-a0b2-3a59b51e7e12"
      },
      "source": [
        "for seq_index in range(1,1000,20):\n",
        "    # Take one sequence (part of the training set) for trying out decoding.\n",
        "    input_seq = encoder_input_data[seq_index : seq_index + 1]\n",
        "    decoded_sentence = decode_sequence(input_seq)\n",
        "    print(f'Input sentence: {\" \".join(word for word in input_sentences[seq_index])}')\n",
        "    print(f'Decoded sentence: {decoded_sentence}\\n')"
      ],
      "execution_count": null,
      "outputs": [
        {
          "output_type": "stream",
          "text": [
            "Input sentence: Go .\n",
            "Decoded sentence: váyase . \n",
            " \n",
            "\n",
            "Input sentence: Stop !\n",
            "Decoded sentence: ¡para ! \n",
            " \n",
            "\n",
            "Input sentence: Shoot !\n",
            "Decoded sentence: ¡dispare ! \n",
            "\n",
            "Input sentence: Go now .\n",
            "Decoded sentence: vayan ya . \n",
            "\n",
            "Input sentence: I sang .\n",
            "Decoded sentence: canté . \n",
            " \n",
            "\n",
            "Input sentence: Really ?\n",
            "Decoded sentence: ¿en serio ? \n",
            "\n",
            "Input sentence: Be kind .\n",
            "Decoded sentence: sean gentiles \n",
            "\n",
            "Input sentence: Get out .\n",
            "Decoded sentence: salid . \n",
            " \n",
            "\n",
            "Input sentence: Hang on !\n",
            "Decoded sentence: ¡espera un \n",
            "\n",
            "Input sentence: Hold it .\n",
            "Decoded sentence: sostenedla \n",
            "\n",
            "Input sentence: I 'm Tom .\n",
            "Decoded sentence: soy tom . \n",
            " \n",
            "\n",
            "Input sentence: Push it .\n",
            "Decoded sentence: empújadla . \n",
            "\n",
            "Input sentence: Tom ate .\n",
            "Decoded sentence: tom comió . \n",
            "\n",
            "Input sentence: You run .\n",
            "Decoded sentence: corre . \n",
            " \n",
            "\n",
            "Input sentence: Cheer up .\n",
            "Decoded sentence: venga . \n",
            " \n",
            "\n",
            "Input sentence: Get lost !\n",
            "Decoded sentence: ¡vete de aquí \n",
            "\n",
            "Input sentence: Have fun .\n",
            "Decoded sentence: pásala bien \n",
            "\n",
            "Input sentence: I agreed .\n",
            "Decoded sentence: accedí . \n",
            " \n",
            "\n",
            "Input sentence: I resign .\n",
            "Decoded sentence: renuncio . \n",
            "\n",
            "Input sentence: I 'm done .\n",
            "Decoded sentence: estoy acabado \n",
            "\n",
            "Input sentence: I 'm rich .\n",
            "Decoded sentence: soy rico . \n",
            "\n",
            "Input sentence: It 's red .\n",
            "Decoded sentence: es rojo . \n",
            " \n",
            "\n",
            "Input sentence: She runs .\n",
            "Decoded sentence: ella corre \n",
            "\n",
            "Input sentence: Tom died .\n",
            "Decoded sentence: tom ha muerto \n",
            "\n",
            "Input sentence: Try this .\n",
            "Decoded sentence: prueben esto \n",
            "\n",
            "Input sentence: Who died ?\n",
            "Decoded sentence: ¿quién murió \n",
            "\n",
            "Input sentence: After you .\n",
            "Decoded sentence: después de \n",
            "\n",
            "Input sentence: Catch him .\n",
            "Decoded sentence: captúrenlo \n",
            "\n",
            "Input sentence: Do n't cry .\n",
            "Decoded sentence: no llores . \n",
            "\n",
            "Input sentence: Forget me .\n",
            "Decoded sentence: olvídenme . \n",
            "\n",
            "Input sentence: He smiled .\n",
            "Decoded sentence: sonrió . \n",
            " \n",
            "\n",
            "Input sentence: I can fly .\n",
            "Decoded sentence: puedo volar \n",
            "\n",
            "Input sentence: I hate it .\n",
            "Decoded sentence: me la seca \n",
            "\n",
            "Input sentence: I saw him .\n",
            "Decoded sentence: lo vi . \n",
            " \n",
            "\n",
            "Input sentence: I 'm a man .\n",
            "Decoded sentence: soy un hombre \n",
            "\n",
            "Input sentence: I 'm first .\n",
            "Decoded sentence: estoy en el \n",
            "\n",
            "Input sentence: Is Tom in ?\n",
            "Decoded sentence: ¿está tom ? \n",
            "\n",
            "Input sentence: It 's dark .\n",
            "Decoded sentence: está oscuro \n",
            "\n",
            "Input sentence: It 's time .\n",
            "Decoded sentence: es el momento \n",
            "\n",
            "Input sentence: Keep warm .\n",
            "Decoded sentence: mantenete abrigado \n",
            "\n",
            "Input sentence: Look away .\n",
            "Decoded sentence: mira para otro \n",
            "\n",
            "Input sentence: Of course !\n",
            "Decoded sentence: ¡por supuesto \n",
            "\n",
            "Input sentence: Seize him !\n",
            "Decoded sentence: ¡a por él ! \n",
            "\n",
            "Input sentence: Sign this .\n",
            "Decoded sentence: firma esto \n",
            "\n",
            "Input sentence: Stop here .\n",
            "Decoded sentence: deténganse \n",
            "\n",
            "Input sentence: Thank you .\n",
            "Decoded sentence: gracias . \n",
            " \n",
            "\n",
            "Input sentence: Tom is OK .\n",
            "Decoded sentence: tom está bien \n",
            "\n",
            "Input sentence: Tom 's sad .\n",
            "Decoded sentence: tom está triste \n",
            "\n",
            "Input sentence: We saw it .\n",
            "Decoded sentence: lo vimos . \n",
            "\n",
            "Input sentence: You drive .\n",
            "Decoded sentence: tú maneja . \n",
            "\n"
          ],
          "name": "stdout"
        }
      ]
    },
    {
      "cell_type": "markdown",
      "metadata": {
        "id": "dktNupCrGbvC",
        "colab_type": "text"
      },
      "source": [
        "We get some nice results but note that we are decoding samples taken from the training test. In the test set, the results are not so good.\n",
        "\n",
        "The accuracy can be improved by implementing the beam search algorithm or using bidirectional RNNs or we can also implement an attention mechanism as we will see in the next notebooks.\n"
      ]
    },
    {
      "cell_type": "markdown",
      "metadata": {
        "id": "WadVxD6JF4Rm",
        "colab_type": "text"
      },
      "source": [
        "### Machine translation as a conditional lenguage model"
      ]
    },
    {
      "cell_type": "markdown",
      "metadata": {
        "id": "6dTsOKO9F-b0",
        "colab_type": "text"
      },
      "source": [
        "This model can be seen as a conditional language model with regard to a usual language model (see notebook [Character-level language model](https://github.com/victorviro/Deep_learning_python/blob/master/Char_RNN_with_Keras.ipynb)).\n",
        "![](https://i.ibb.co/XFjRJ1X/lenguage-model-NMT.png)\n",
        "For a further explanation see this [video](https://youtu.be/Er2ucMxjdHE?list=PLkDaE6sCZn6F6wUI9tvS_Gw1vaFAx6rd6).\n"
      ]
    },
    {
      "cell_type": "markdown",
      "metadata": {
        "id": "SwOEmWs0Oayt",
        "colab_type": "text"
      },
      "source": [
        "# References"
      ]
    },
    {
      "cell_type": "markdown",
      "metadata": {
        "id": "p9ZE0BINOdKQ",
        "colab_type": "text"
      },
      "source": [
        "\n",
        "- [Sequence to Sequence Learning with Neural Networks](https://arxiv.org/abs/1409.3215)\n",
        "\n",
        "- [Learning Phrase Representations using RNN Encoder-Decoder for Statistical Machine Translation](https://arxiv.org/abs/1406.1078)\n",
        "\n",
        "- [Tensorflow tuturial seq2seq NMT](https://www.tensorflow.org/tutorials/text/nmt_with_attention)\n",
        "\n",
        "- [Sequence to sequence learning in Keras](https://blog.keras.io/a-ten-minute-introduction-to-sequence-to-sequence-learning-in-keras.html)\n",
        "\n",
        "- [Tensorflow Addons tutorial seq2seq](https://www.tensorflow.org/addons/tutorials/networks_seq2seq_nmt)\n",
        "\n",
        "\n",
        "- [Sequence to Sequence Coursera](https://youtu.be/_i3aqgKVNQI?list=PLkDaE6sCZn6F6wUI9tvS_Gw1vaFAx6rd6)\n",
        "\n",
        "\n",
        " - https://github.com/ageron/handson-ml2\n",
        "\n"
      ]
    }
  ]
}